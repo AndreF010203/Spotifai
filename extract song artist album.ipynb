{
 "cells": [
  {
   "cell_type": "code",
   "execution_count": 1,
   "metadata": {
    "collapsed": true
   },
   "outputs": [],
   "source": [
    "from numpy import *\n",
    "from scipy import *"
   ]
  },
  {
   "cell_type": "code",
   "execution_count": 6,
   "metadata": {
    "collapsed": true
   },
   "outputs": [],
   "source": [
    "songs_artist_album = genfromtxt('tracks_final.csv', skip_header=1, usecols=(0, 1, 3))"
   ]
  },
  {
   "cell_type": "code",
   "execution_count": 7,
   "metadata": {},
   "outputs": [
    {
     "data": {
      "text/plain": [
       "array([[  2.97291400e+06,   1.44000000e+02,   4.90000000e+01],\n",
       "       [  2.75023900e+06,   2.46000000e+02,   1.00000000e+00],\n",
       "       [  1.55072900e+06,   1.44000000e+02,   5.54000000e+02],\n",
       "       ..., \n",
       "       [  2.58445500e+06,   2.79380000e+04,              nan],\n",
       "       [  2.29970600e+06,   3.73892000e+05,              nan],\n",
       "       [  2.73998500e+06,   5.67363000e+05,              nan]])"
      ]
     },
     "execution_count": 7,
     "metadata": {},
     "output_type": "execute_result"
    }
   ],
   "source": [
    "songs_artist_album"
   ]
  },
  {
   "cell_type": "code",
   "execution_count": null,
   "metadata": {
    "collapsed": true
   },
   "outputs": [],
   "source": []
  }
 ],
 "metadata": {
  "kernelspec": {
   "display_name": "Python 3",
   "language": "python",
   "name": "python3"
  },
  "language_info": {
   "codemirror_mode": {
    "name": "ipython",
    "version": 3
   },
   "file_extension": ".py",
   "mimetype": "text/x-python",
   "name": "python",
   "nbconvert_exporter": "python",
   "pygments_lexer": "ipython3",
   "version": "3.6.2"
  }
 },
 "nbformat": 4,
 "nbformat_minor": 2
}
