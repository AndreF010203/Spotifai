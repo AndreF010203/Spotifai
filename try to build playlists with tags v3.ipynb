{
 "cells": [
  {
   "cell_type": "code",
   "execution_count": 1,
   "metadata": {
    "collapsed": true
   },
   "outputs": [],
   "source": [
    "from numpy import *\n",
    "from scipy import *"
   ]
  },
  {
   "cell_type": "code",
   "execution_count": 2,
   "metadata": {
    "collapsed": false
   },
   "outputs": [
    {
     "data": {
      "text/plain": [
       "array([[2972914,   54087,    1757,    1718,  116712,  189631],\n",
       "       [2750239,  189631,    3424,  177424,   46208,  205245],\n",
       "       [1550729,   54087,  109806,   46869,  183258,   54337],\n",
       "       ..., \n",
       "       [2584455,       0,       0,       0,       0,       0],\n",
       "       [2299706,       0,       0,       0,       0,       0],\n",
       "       [2739985,       0,       0,       0,       0,       0]], dtype=int32)"
      ]
     },
     "execution_count": 2,
     "metadata": {},
     "output_type": "execute_result"
    }
   ],
   "source": [
    "tracks_with_tags=load(\"tracks_with_tags.npy\")\n",
    "tracks_with_tags\n"
   ]
  },
  {
   "cell_type": "code",
   "execution_count": 10,
   "metadata": {
    "collapsed": true
   },
   "outputs": [],
   "source": [
    "tag_indexed_byidtrack = zeros((amax(tracks_with_tags[:,0])+1, 5))\n",
    "\n",
    "transfer = lambda x, y: where(tracks_with_tags[:,0]==x)\n",
    "    \n",
    "for x in tracks_with_tags[:,0]:\n",
    "    i = where(tracks_with_tags[:,0]==x)\n",
    "    tag_indexed_byidtrack[x] = tracks_with_tags[i,1:]\n",
    "\n",
    "\n"
   ]
  },
  {
   "cell_type": "code",
   "execution_count": 12,
   "metadata": {
    "collapsed": false
   },
   "outputs": [
    {
     "data": {
      "text/plain": [
       "(5018275, 5)"
      ]
     },
     "execution_count": 12,
     "metadata": {},
     "output_type": "execute_result"
    }
   ],
   "source": [
    "tag_indexed_byidtrack.shape"
   ]
  },
  {
   "cell_type": "code",
   "execution_count": 16,
   "metadata": {
    "collapsed": false
   },
   "outputs": [
    {
     "data": {
      "text/plain": [
       "array([  54087.,  109806.,   46869.,  183258.,   54337.])"
      ]
     },
     "execution_count": 16,
     "metadata": {},
     "output_type": "execute_result"
    }
   ],
   "source": [
    "tag_indexed_byidtrack[1550729]"
   ]
  },
  {
   "cell_type": "markdown",
   "metadata": {},
   "source": [
    "Ho creato un array che contiene tutti i tag delle canzoni con index l'id: \n",
    "tag_indexed_byidtrack[id] = [tags]\n",
    "\n",
    "sveltirà di molto i calcoli successivi"
   ]
  },
  {
   "cell_type": "code",
   "execution_count": 4,
   "metadata": {
    "collapsed": false
   },
   "outputs": [
    {
     "data": {
      "text/plain": [
       "array([[10024884,  2879006,  1532328, ...,        0,        0,        0],\n",
       "       [10624787,  2090319,  2152295, ...,        0,        0,        0],\n",
       "       [ 4891851,  2621486,  2895498, ...,        0,        0,        0],\n",
       "       ..., \n",
       "       [11369546,   416692,  1587449, ...,        0,        0,        0],\n",
       "       [ 7939535,  2788577,  3090083, ...,        0,        0,        0],\n",
       "       [  297021,  2789282,  2154608, ...,        0,        0,        0]])"
      ]
     },
     "execution_count": 4,
     "metadata": {},
     "output_type": "execute_result"
    }
   ],
   "source": [
    "playlists_with_tracks=load(\"playlists_with_tracks.npy\")\n",
    "playlists_with_tracks"
   ]
  },
  {
   "cell_type": "code",
   "execution_count": 18,
   "metadata": {
    "collapsed": false
   },
   "outputs": [
    {
     "data": {
      "text/plain": [
       "array([[2879006, 1532328, 3027673, ...,       0,       0,       0],\n",
       "       [2090319, 2152295, 3230559, ...,       0,       0,       0],\n",
       "       [2621486, 2895498, 1369381, ...,       0,       0,       0],\n",
       "       ..., \n",
       "       [ 416692, 1587449, 1057389, ...,       0,       0,       0],\n",
       "       [2788577, 3090083, 1609308, ...,       0,       0,       0],\n",
       "       [2789282, 2154608,  973448, ...,       0,       0,       0]])"
      ]
     },
     "execution_count": 18,
     "metadata": {},
     "output_type": "execute_result"
    }
   ],
   "source": [
    "tracklist_by_playlist = delete(playlists_with_tracks, 0, 1)\n",
    "tracklist_by_playlist"
   ]
  },
  {
   "cell_type": "code",
   "execution_count": 116,
   "metadata": {
    "collapsed": false
   },
   "outputs": [
    {
     "data": {
      "text/plain": [
       "192"
      ]
     },
     "execution_count": 116,
     "metadata": {},
     "output_type": "execute_result"
    }
   ],
   "source": [
    "maxNumTracks=tracklist_by_playlist.shape[1]\n",
    "maxNumTracks"
   ]
  },
  {
   "cell_type": "code",
   "execution_count": 154,
   "metadata": {
    "collapsed": true
   },
   "outputs": [],
   "source": [
    "highestTag=276614 # trovato ciclando sui tag\n",
    "maxSize=highestTag+1"
   ]
  },
  {
   "cell_type": "code",
   "execution_count": 171,
   "metadata": {
    "collapsed": false
   },
   "outputs": [],
   "source": [
    "for tracks in tracklist_by_playlist:\n",
    "    tracks=trim_zeros(tracks)\n",
    "    alltags=[]\n",
    "    for t in tracks:\n",
    "        tags = tag_indexed_byidtrack[t]\n",
    "        alltags+=list(tags)\n",
    "    tagsArray=(array(alltags)).astype(int)\n",
    "    tagsCount=bincount(tagsArray)#posizione = tagID, contenuto = conteggio di quel tag\n",
    "    tagsCount[0]=0#altrimenti venivano contati anche gli zeri\n",
    "    tagsCount=resize(tagsCount,(maxSize,))\n",
    "    #TODO qui ad ogni iterazione andrebbe aggiunto il vettore tagsCount a una qualche matrice"
   ]
  },
  {
   "cell_type": "markdown",
   "metadata": {},
   "source": [
    "# il ciclo qui sopra crea l'array dei tag per ogni playlist, manca solo che venga aggiunto a una qualche matrice"
   ]
  },
  {
   "cell_type": "code",
   "execution_count": 194,
   "metadata": {
    "collapsed": false
   },
   "outputs": [
    {
     "data": {
      "text/plain": [
       "(array([    51,   1477,   1625,   4425,   6120,   6745,  11056,  11242,\n",
       "         13914,  21095,  21937,  24673,  24925,  27773,  31015,  33360,\n",
       "         35060,  35233,  38403,  40088,  40686,  43212,  48958,  49166,\n",
       "         50247,  50441,  52110,  54087,  60829,  61837,  62150,  70618,\n",
       "         80483,  81211,  81223,  89467,  99955, 101507, 102673, 107401,\n",
       "        112056, 115355, 121612, 122769, 124381, 126182, 127038, 128425,\n",
       "        134636, 135090, 136980, 144192, 145120, 148788, 150480, 151588,\n",
       "        153432, 166531, 167551, 168507, 178918, 181499, 186445, 186591,\n",
       "        187116, 188569, 189631, 190112, 199405, 199968, 204111, 204710,\n",
       "        205193, 205245, 207056, 209598, 211198, 213988, 215342, 215851,\n",
       "        216001, 218701, 226723, 227682, 228654, 235879, 238367, 239887,\n",
       "        260159, 266268, 270345, 270397, 271823, 271971, 274771, 276466]),)"
      ]
     },
     "execution_count": 194,
     "metadata": {},
     "output_type": "execute_result"
    }
   ],
   "source": [
    "tagsCount.nonzero() # controllo ultima iterazione"
   ]
  },
  {
   "cell_type": "code",
   "execution_count": null,
   "metadata": {
    "collapsed": true
   },
   "outputs": [],
   "source": []
  }
 ],
 "metadata": {
  "kernelspec": {
   "display_name": "Python 3",
   "language": "python",
   "name": "python3"
  },
  "language_info": {
   "codemirror_mode": {
    "name": "ipython",
    "version": 3
   },
   "file_extension": ".py",
   "mimetype": "text/x-python",
   "name": "python",
   "nbconvert_exporter": "python",
   "pygments_lexer": "ipython3",
   "version": "3.5.4"
  }
 },
 "nbformat": 4,
 "nbformat_minor": 2
}
