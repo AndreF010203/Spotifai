{
 "cells": [
  {
   "cell_type": "code",
   "execution_count": 2,
   "metadata": {
    "collapsed": true
   },
   "outputs": [],
   "source": [
    "from scipy.sparse import *\n",
    "from numpy import *"
   ]
  },
  {
   "cell_type": "code",
   "execution_count": 3,
   "metadata": {
    "collapsed": false
   },
   "outputs": [
    {
     "data": {
      "text/plain": [
       "<100000x276615 sparse matrix of type '<class 'numpy.float64'>'\n",
       "\twith 487328 stored elements in Compressed Sparse Column format>"
      ]
     },
     "execution_count": 3,
     "metadata": {},
     "output_type": "execute_result"
    }
   ],
   "source": [
    "trackstags=load_npz(\"tracks_with_tags_bincount_ordered.npz\")\n",
    "trackstags"
   ]
  },
  {
   "cell_type": "code",
   "execution_count": 4,
   "metadata": {
    "collapsed": false
   },
   "outputs": [
    {
     "data": {
      "text/plain": [
       "array([ 43212,  64978,  70618,  70625, 255208], dtype=int32)"
      ]
     },
     "execution_count": 4,
     "metadata": {},
     "output_type": "execute_result"
    }
   ],
   "source": [
    "trackstags[0].nonzero()[1]"
   ]
  },
  {
   "cell_type": "code",
   "execution_count": 24,
   "metadata": {
    "collapsed": false
   },
   "outputs": [],
   "source": [
    "prod=trackstags*trackstags.T # memory error"
   ]
  },
  {
   "cell_type": "code",
   "execution_count": 6,
   "metadata": {
    "collapsed": false
   },
   "outputs": [
    {
     "data": {
      "text/plain": [
       "<10000x276615 sparse matrix of type '<class 'numpy.float64'>'\n",
       "\twith 559049 stored elements in Compressed Sparse Column format>"
      ]
     },
     "execution_count": 6,
     "metadata": {},
     "output_type": "execute_result"
    }
   ],
   "source": [
    "playtags=load_npz(\"playlists_with_tags.npz\")\n",
    "playtags"
   ]
  },
  {
   "cell_type": "code",
   "execution_count": 7,
   "metadata": {
    "collapsed": true
   },
   "outputs": [],
   "source": [
    "prodplay=playtags*playtags.T"
   ]
  },
  {
   "cell_type": "code",
   "execution_count": 8,
   "metadata": {
    "collapsed": false
   },
   "outputs": [
    {
     "data": {
      "text/plain": [
       "scipy.sparse.csc.csc_matrix"
      ]
     },
     "execution_count": 8,
     "metadata": {},
     "output_type": "execute_result"
    }
   ],
   "source": [
    "type(prodplay)"
   ]
  },
  {
   "cell_type": "code",
   "execution_count": 9,
   "metadata": {
    "collapsed": false
   },
   "outputs": [
    {
     "data": {
      "text/plain": [
       "<10000x10000 sparse matrix of type '<class 'numpy.float64'>'\n",
       "\twith 91965186 stored elements in Compressed Sparse Column format>"
      ]
     },
     "execution_count": 9,
     "metadata": {},
     "output_type": "execute_result"
    }
   ],
   "source": [
    "prodplay"
   ]
  },
  {
   "cell_type": "code",
   "execution_count": 14,
   "metadata": {
    "collapsed": false
   },
   "outputs": [
    {
     "data": {
      "text/plain": [
       "array([    0.,   198.,    34., ...,  2283.,  3419.,  2181.])"
      ]
     },
     "execution_count": 14,
     "metadata": {},
     "output_type": "execute_result"
    }
   ],
   "source": [
    "prodplay[0].data"
   ]
  },
  {
   "cell_type": "code",
   "execution_count": 11,
   "metadata": {
    "collapsed": false
   },
   "outputs": [
    {
     "name": "stderr",
     "output_type": "stream",
     "text": [
      "/home/oppy/.local/lib/python3.5/site-packages/scipy/sparse/compressed.py:774: SparseEfficiencyWarning: Changing the sparsity structure of a csc_matrix is expensive. lil_matrix is more efficient.\n",
      "  SparseEfficiencyWarning)\n"
     ]
    }
   ],
   "source": [
    "prodplay.setdiag(0)"
   ]
  },
  {
   "cell_type": "code",
   "execution_count": 15,
   "metadata": {
    "collapsed": false
   },
   "outputs": [
    {
     "data": {
      "text/plain": [
       "18789.0"
      ]
     },
     "execution_count": 15,
     "metadata": {},
     "output_type": "execute_result"
    }
   ],
   "source": [
    "max(prodplay[0].data)"
   ]
  },
  {
   "cell_type": "code",
   "execution_count": 16,
   "metadata": {
    "collapsed": false
   },
   "outputs": [
    {
     "data": {
      "text/plain": [
       "7805"
      ]
     },
     "execution_count": 16,
     "metadata": {},
     "output_type": "execute_result"
    }
   ],
   "source": [
    "(prodplay[1]>max(prodplay[1].data)-1).nonzero()[1][0]"
   ]
  },
  {
   "cell_type": "code",
   "execution_count": 60,
   "metadata": {
    "collapsed": false
   },
   "outputs": [
    {
     "data": {
      "text/plain": [
       "248"
      ]
     },
     "execution_count": 60,
     "metadata": {},
     "output_type": "execute_result"
    }
   ],
   "source": [
    "argmax(prodplay[3])"
   ]
  },
  {
   "cell_type": "code",
   "execution_count": 27,
   "metadata": {
    "collapsed": false
   },
   "outputs": [],
   "source": [
    "zeroTag=0\n",
    "for p in prodplay:\n",
    "    index=argmax(p)\n",
    "    if (index==0):\n",
    "        zeroTag+=1"
   ]
  },
  {
   "cell_type": "code",
   "execution_count": 31,
   "metadata": {
    "collapsed": false
   },
   "outputs": [
    {
     "data": {
      "text/plain": [
       "70"
      ]
     },
     "execution_count": 31,
     "metadata": {},
     "output_type": "execute_result"
    }
   ],
   "source": [
    "zeroTag# number of playlists without tags = 70"
   ]
  },
  {
   "cell_type": "markdown",
   "metadata": {},
   "source": [
    "prendere canzoni della playlist più simile\n",
    "\n",
    "prendere canzoni più popolari\n",
    "\n",
    "controllare che non ci siano già\n",
    "\n",
    "e se non ce ne sono 5 diverse?\n",
    "\n",
    "e se la playlist non ha tag? usare i top general"
   ]
  },
  {
   "cell_type": "code",
   "execution_count": 32,
   "metadata": {
    "collapsed": false
   },
   "outputs": [
    {
     "data": {
      "text/plain": [
       "array([43529, 94738, 57501, ..., 17820, 79618, 43000])"
      ]
     },
     "execution_count": 32,
     "metadata": {},
     "output_type": "execute_result"
    }
   ],
   "source": [
    "ordered_indexes=load(\"indexsortedDESCENDENT.npy\")\n",
    "ordered_indexes"
   ]
  },
  {
   "cell_type": "code",
   "execution_count": 38,
   "metadata": {
    "collapsed": false
   },
   "outputs": [
    {
     "data": {
      "text/plain": [
       "2"
      ]
     },
     "execution_count": 38,
     "metadata": {},
     "output_type": "execute_result"
    }
   ],
   "source": [
    "where(ordered_indexes==57501)[0][0]"
   ]
  },
  {
   "cell_type": "code",
   "execution_count": 40,
   "metadata": {
    "collapsed": false
   },
   "outputs": [
    {
     "data": {
      "text/plain": [
       "array([[10024884,  2879006,  1532328, ...,        0,        0,        0],\n",
       "       [10624787,  2090319,  2152295, ...,        0,        0,        0],\n",
       "       [ 4891851,  2621486,  2895498, ...,        0,        0,        0],\n",
       "       ..., \n",
       "       [11369546,   416692,  1587449, ...,        0,        0,        0],\n",
       "       [ 7939535,  2788577,  3090083, ...,        0,        0,        0],\n",
       "       [  297021,  2789282,  2154608, ...,        0,        0,        0]])"
      ]
     },
     "execution_count": 40,
     "metadata": {},
     "output_type": "execute_result"
    }
   ],
   "source": [
    "playlists_with_tracks=load(\"playlists_with_tracks.npy\")\n",
    "playlists_with_tracks"
   ]
  },
  {
   "cell_type": "code",
   "execution_count": 43,
   "metadata": {
    "collapsed": false
   },
   "outputs": [
    {
     "data": {
      "text/plain": [
       "array([10024884, 10624787,  4891851, ..., 11369546,  7939535,   297021])"
      ]
     },
     "execution_count": 43,
     "metadata": {},
     "output_type": "execute_result"
    }
   ],
   "source": [
    "pIDs=playlists_with_tracks[:,0]\n",
    "pIDs"
   ]
  },
  {
   "cell_type": "code",
   "execution_count": 46,
   "metadata": {
    "collapsed": false
   },
   "outputs": [
    {
     "data": {
      "text/plain": [
       "array([[2879006, 1532328, 3027673, ...,       0,       0,       0],\n",
       "       [2090319, 2152295, 3230559, ...,       0,       0,       0],\n",
       "       [2621486, 2895498, 1369381, ...,       0,       0,       0],\n",
       "       ..., \n",
       "       [ 416692, 1587449, 1057389, ...,       0,       0,       0],\n",
       "       [2788577, 3090083, 1609308, ...,       0,       0,       0],\n",
       "       [2789282, 2154608,  973448, ...,       0,       0,       0]])"
      ]
     },
     "execution_count": 46,
     "metadata": {},
     "output_type": "execute_result"
    }
   ],
   "source": [
    "pTracks=playlists_with_tracks[:,1:]\n",
    "pTracks"
   ]
  },
  {
   "cell_type": "code",
   "execution_count": 158,
   "metadata": {
    "collapsed": false
   },
   "outputs": [],
   "source": [
    "totalSugg=[]\n",
    "for i,(pID,pT) in enumerate(zip(pIDs,pTracks)):\n",
    "    index=argmax(prodplay[i])\n",
    "    if (index!=0):\n",
    "        mostSimilar=pIDs[index]\n",
    "        toSuggest=list(pTracks[index])\n",
    "        alreadyPresent=intersect1d(toSuggest,pT)\n",
    "        for a in alreadyPresent:\n",
    "            toSuggest.remove(a)\n",
    "        bestTracksRankPositions=suggestionRank(toSuggest)\n",
    "        suggestions=[]\n",
    "        while (len(suggestions)<5):\n",
    "            for b in bestTracksRankPositions:\n",
    "                currentTrack=ordered_tracks[b]\n",
    "                if (not isin(currentTrack,pT)):\n",
    "                    suggestions.append(currentTrack)\n",
    "                    bestTracksRankPositions.remove(b)\n",
    "                    break\n",
    "        totalSugg.append(suggestions)\n",
    "    else:\n",
    "        totalSugg.append(-1)\n",
    "    "
   ]
  },
  {
   "cell_type": "code",
   "execution_count": 148,
   "metadata": {
    "collapsed": false
   },
   "outputs": [
    {
     "data": {
      "text/plain": [
       "array([ 571279, 2378652, 3626793, 3871109,  793297, 1337992, 2090330,\n",
       "       3455524, 1896558, 2439971,  686140, 1685106, 1327233, 2550759,\n",
       "       1669771,  611456, 3664896,  723392,  852112, 3224828, 2093563,\n",
       "        897771, 1713531,  416530, 2840855, 3861322, 3073582, 1560665,\n",
       "       3173841,  245506, 3441295, 3343871, 2813027, 4733003, 2762367,\n",
       "        798801, 2999747, 1105456, 2839393, 3033242, 1742602,  726679,\n",
       "       2586490, 3855688, 2309023, 2584586, 3068991,  574364, 1627524,\n",
       "       3526178, 1790459, 2912475, 1331563, 1137264,  195273,  883229,\n",
       "       3460931,  462780, 3551510,  223071, 2905797, 1978398, 3876951,\n",
       "       2534480, 3822926, 1074579, 1553844, 1931028, 3356950, 1494139,\n",
       "       2392241, 2696397, 3361557,       0,  620358, 3557198, 1517584,\n",
       "        675104,  310707,  968899, 3863544,  151738, 1839327,  159953,\n",
       "       3715626, 2302904, 2741789, 3749974, 3779477, 2746443, 1887487,\n",
       "        170826,  570624, 2454612, 3801835, 1563309,  414551, 4798096,\n",
       "       1855833, 2889056, 3032397, 1807297, 2020625,  161817,  889547,\n",
       "        926181, 2640244, 2015330, 2249041,  290549, 2352199, 2779606,\n",
       "       3261119, 1752207, 2584899, 1935533, 2301699, 2382120, 1532205,\n",
       "       3705881, 1198161, 1188811, 2697599, 1847882, 2276032, 3841309,\n",
       "        485577,  647576, 2805323, 4903952, 1209729, 2614372,  295355,\n",
       "       2110917, 3436116,  353241, 1580480, 3197875, 1685664, 3706460,\n",
       "        339048, 1942922,  674020, 2878301, 4636226, 1076990, 1857073,\n",
       "       1470373, 2791409, 3370628, 1709150, 1595326, 3187360,  270469,\n",
       "       1364330, 3891979, 3408416,  648128, 1321053, 2212281,  723257,\n",
       "       3775114,   82542, 1299041,  477570, 1569545, 2902752, 2101235,\n",
       "         42701, 1953706,  693216, 3795128, 2726676, 1659931, 2137219,\n",
       "       2221948, 2802243, 2773123,  964423, 2935089,  881801, 3862221])"
      ]
     },
     "execution_count": 148,
     "metadata": {},
     "output_type": "execute_result"
    }
   ],
   "source": [
    "trim_zeros(toSuggest)"
   ]
  },
  {
   "cell_type": "code",
   "execution_count": null,
   "metadata": {
    "collapsed": true
   },
   "outputs": [],
   "source": [
    "\n",
    "where()"
   ]
  },
  {
   "cell_type": "code",
   "execution_count": 73,
   "metadata": {
    "collapsed": false
   },
   "outputs": [
    {
     "data": {
      "text/plain": [
       "43529"
      ]
     },
     "execution_count": 73,
     "metadata": {},
     "output_type": "execute_result"
    }
   ],
   "source": [
    "ordered_indexes[0]"
   ]
  },
  {
   "cell_type": "code",
   "execution_count": 74,
   "metadata": {
    "collapsed": false
   },
   "outputs": [
    {
     "data": {
      "text/plain": [
       "(100000,)"
      ]
     },
     "execution_count": 74,
     "metadata": {},
     "output_type": "execute_result"
    }
   ],
   "source": [
    "ordered_indexes.shape"
   ]
  },
  {
   "cell_type": "code",
   "execution_count": 95,
   "metadata": {
    "collapsed": true
   },
   "outputs": [],
   "source": [
    "ordered_tracks=array(zeros(100000))"
   ]
  },
  {
   "cell_type": "code",
   "execution_count": 72,
   "metadata": {
    "collapsed": false
   },
   "outputs": [
    {
     "data": {
      "text/plain": [
       "(100000, 6)"
      ]
     },
     "execution_count": 72,
     "metadata": {},
     "output_type": "execute_result"
    }
   ],
   "source": [
    "tracks_with_tags=load(\"tracks_with_tags.npy\")\n",
    "tracks_with_tags.shape"
   ]
  },
  {
   "cell_type": "code",
   "execution_count": 83,
   "metadata": {
    "collapsed": false
   },
   "outputs": [
    {
     "data": {
      "text/plain": [
       "array([2972914, 2750239, 1550729, ..., 2584455, 2299706, 2739985], dtype=int32)"
      ]
     },
     "execution_count": 83,
     "metadata": {},
     "output_type": "execute_result"
    }
   ],
   "source": [
    "trackIDs=tracks_with_tags[:,0]\n",
    "trackIDs"
   ]
  },
  {
   "cell_type": "code",
   "execution_count": 94,
   "metadata": {
    "collapsed": false
   },
   "outputs": [
    {
     "data": {
      "text/plain": [
       "43000"
      ]
     },
     "execution_count": 94,
     "metadata": {},
     "output_type": "execute_result"
    }
   ],
   "source": [
    "ordered_indexes[99999]"
   ]
  },
  {
   "cell_type": "code",
   "execution_count": 115,
   "metadata": {
    "collapsed": false
   },
   "outputs": [
    {
     "data": {
      "text/plain": [
       "1363985.0"
      ]
     },
     "execution_count": 115,
     "metadata": {},
     "output_type": "execute_result"
    }
   ],
   "source": [
    "ordered_tracks[1]"
   ]
  },
  {
   "cell_type": "code",
   "execution_count": 124,
   "metadata": {
    "collapsed": false
   },
   "outputs": [
    {
     "data": {
      "text/plain": [
       "3643"
      ]
     },
     "execution_count": 124,
     "metadata": {},
     "output_type": "execute_result"
    }
   ],
   "source": [
    "where(ordered_tracks==toSuggest[4])[0][0]"
   ]
  },
  {
   "cell_type": "code",
   "execution_count": 98,
   "metadata": {
    "collapsed": false
   },
   "outputs": [],
   "source": [
    "for i,j in enumerate(ordered_indexes):\n",
    "    ordered_tracks[i]=trackIDs[j]"
   ]
  },
  {
   "cell_type": "code",
   "execution_count": 104,
   "metadata": {
    "collapsed": false
   },
   "outputs": [],
   "source": [
    "save(\"ordered_tracks.npy\",ordered_tracks)"
   ]
  },
  {
   "cell_type": "code",
   "execution_count": 140,
   "metadata": {
    "collapsed": false
   },
   "outputs": [],
   "source": [
    "def suggestionRank(toSuggest):\n",
    "    tempList=[]\n",
    "    for t in trim_zeros(toSuggest):\n",
    "        tempList.append(where(ordered_tracks==t)[0][0])\n",
    "    return sorted(tempList)"
   ]
  },
  {
   "cell_type": "code",
   "execution_count": 143,
   "metadata": {
    "collapsed": false
   },
   "outputs": [
    {
     "data": {
      "text/plain": [
       "[0,\n",
       " 12,\n",
       " 26,\n",
       " 58,\n",
       " 127,\n",
       " 139,\n",
       " 190,\n",
       " 243,\n",
       " 260,\n",
       " 267,\n",
       " 325,\n",
       " 438,\n",
       " 443,\n",
       " 456,\n",
       " 466,\n",
       " 516,\n",
       " 518,\n",
       " 543,\n",
       " 548,\n",
       " 587,\n",
       " 624,\n",
       " 633,\n",
       " 641,\n",
       " 648,\n",
       " 727,\n",
       " 735,\n",
       " 769,\n",
       " 800,\n",
       " 804,\n",
       " 830,\n",
       " 873,\n",
       " 891,\n",
       " 1026,\n",
       " 1056,\n",
       " 1079,\n",
       " 1084,\n",
       " 1178,\n",
       " 1279,\n",
       " 1328,\n",
       " 1365,\n",
       " 1387,\n",
       " 1423,\n",
       " 1465,\n",
       " 1466,\n",
       " 1653,\n",
       " 1755,\n",
       " 1799,\n",
       " 1803,\n",
       " 1909,\n",
       " 1940,\n",
       " 2252,\n",
       " 2371,\n",
       " 2594,\n",
       " 2797,\n",
       " 2877,\n",
       " 2882,\n",
       " 2959,\n",
       " 2991,\n",
       " 3238,\n",
       " 3282,\n",
       " 3333,\n",
       " 3599,\n",
       " 3643,\n",
       " 3671,\n",
       " 3790,\n",
       " 3967,\n",
       " 4030,\n",
       " 4042,\n",
       " 4127,\n",
       " 4264,\n",
       " 4287,\n",
       " 4644,\n",
       " 4673,\n",
       " 5029,\n",
       " 5060,\n",
       " 5239,\n",
       " 5290,\n",
       " 5476,\n",
       " 6117,\n",
       " 6261,\n",
       " 6464,\n",
       " 6994,\n",
       " 7009,\n",
       " 7139,\n",
       " 7325,\n",
       " 7564,\n",
       " 8018,\n",
       " 8145,\n",
       " 8420,\n",
       " 8453,\n",
       " 8592,\n",
       " 8621,\n",
       " 8690,\n",
       " 9619,\n",
       " 9805,\n",
       " 10071,\n",
       " 10373,\n",
       " 10781,\n",
       " 11043,\n",
       " 11154,\n",
       " 11157,\n",
       " 12191,\n",
       " 13325,\n",
       " 13512,\n",
       " 13527,\n",
       " 14585,\n",
       " 14597,\n",
       " 14771,\n",
       " 15423,\n",
       " 16452,\n",
       " 16799,\n",
       " 19100,\n",
       " 19572,\n",
       " 19600,\n",
       " 21878,\n",
       " 22300,\n",
       " 22321,\n",
       " 22674,\n",
       " 25104,\n",
       " 25532,\n",
       " 25854,\n",
       " 25885,\n",
       " 27620,\n",
       " 28469,\n",
       " 29242,\n",
       " 31005,\n",
       " 31131,\n",
       " 32470,\n",
       " 33670,\n",
       " 33671,\n",
       " 38623,\n",
       " 42255,\n",
       " 47374,\n",
       " 47664,\n",
       " 57647,\n",
       " 57658,\n",
       " 57666,\n",
       " 76630,\n",
       " 82132,\n",
       " 91737,\n",
       " 91742]"
      ]
     },
     "execution_count": 143,
     "metadata": {},
     "output_type": "execute_result"
    }
   ],
   "source": [
    "suggestionRank(toSuggest)"
   ]
  },
  {
   "cell_type": "code",
   "execution_count": 170,
   "metadata": {
    "collapsed": false
   },
   "outputs": [
    {
     "data": {
      "text/plain": [
       "[3705881.0, 3794036.0, 1705891.0, 1218315.0, 3542444.0]"
      ]
     },
     "execution_count": 170,
     "metadata": {},
     "output_type": "execute_result"
    }
   ],
   "source": [
    "totalSugg[9]"
   ]
  },
  {
   "cell_type": "code",
   "execution_count": 159,
   "metadata": {
    "collapsed": false
   },
   "outputs": [
    {
     "data": {
      "text/plain": [
       "list"
      ]
     },
     "execution_count": 159,
     "metadata": {},
     "output_type": "execute_result"
    }
   ],
   "source": [
    "type(toSuggest)"
   ]
  },
  {
   "cell_type": "code",
   "execution_count": 171,
   "metadata": {
    "collapsed": false
   },
   "outputs": [
    {
     "data": {
      "text/plain": [
       "10000"
      ]
     },
     "execution_count": 171,
     "metadata": {},
     "output_type": "execute_result"
    }
   ],
   "source": [
    "len(totalSugg)"
   ]
  },
  {
   "cell_type": "code",
   "execution_count": 178,
   "metadata": {
    "collapsed": false
   },
   "outputs": [
    {
     "data": {
      "text/plain": [
       "(10000,)"
      ]
     },
     "execution_count": 178,
     "metadata": {},
     "output_type": "execute_result"
    }
   ],
   "source": [
    "pIDs.shape"
   ]
  },
  {
   "cell_type": "code",
   "execution_count": 182,
   "metadata": {
    "collapsed": false
   },
   "outputs": [
    {
     "data": {
      "text/plain": [
       "10024884"
      ]
     },
     "execution_count": 182,
     "metadata": {},
     "output_type": "execute_result"
    }
   ],
   "source": [
    "pIDs[0]"
   ]
  },
  {
   "cell_type": "code",
   "execution_count": 206,
   "metadata": {
    "collapsed": false
   },
   "outputs": [],
   "source": [
    "arrayTotal=array(totalSugg)"
   ]
  },
  {
   "cell_type": "code",
   "execution_count": 207,
   "metadata": {
    "collapsed": true
   },
   "outputs": [],
   "source": [
    "save(\"suggestionPLsimilarity.npy\",arrayTotal)"
   ]
  },
  {
   "cell_type": "code",
   "execution_count": 197,
   "metadata": {
    "collapsed": false
   },
   "outputs": [
    {
     "data": {
      "text/plain": [
       "(array([  35,   38,   96,  201,  306,  360,  583,  841,  861, 1188, 1202,\n",
       "        1251, 1541, 1678, 1934, 1989, 2063, 2105, 2151, 2157, 2168, 2311,\n",
       "        2445, 2604, 3269, 3439, 3560, 3635, 4430, 4788, 4917, 5081, 5166,\n",
       "        5167, 5495, 6283, 6583, 6675, 6894, 7057, 7075, 7126, 7174, 7372,\n",
       "        7415, 7631, 7648, 7660, 7693, 7742, 7757, 7769, 7976, 8197, 8298,\n",
       "        8411, 8546, 8552, 8615, 8791, 9153, 9156, 9346, 9369, 9484, 9730,\n",
       "        9759, 9817, 9856, 9898]),)"
      ]
     },
     "execution_count": 197,
     "metadata": {},
     "output_type": "execute_result"
    }
   ],
   "source": [
    "where(arrayTotal==-1)"
   ]
  },
  {
   "cell_type": "code",
   "execution_count": 200,
   "metadata": {
    "collapsed": false
   },
   "outputs": [
    {
     "data": {
      "text/plain": [
       "7947658"
      ]
     },
     "execution_count": 200,
     "metadata": {},
     "output_type": "execute_result"
    }
   ],
   "source": [
    "pIDs[96]"
   ]
  },
  {
   "cell_type": "code",
   "execution_count": 186,
   "metadata": {
    "collapsed": false
   },
   "outputs": [
    {
     "data": {
      "text/plain": [
       "1563309.0"
      ]
     },
     "execution_count": 186,
     "metadata": {},
     "output_type": "execute_result"
    }
   ],
   "source": [
    "totalSugg[0][0]"
   ]
  },
  {
   "cell_type": "code",
   "execution_count": 203,
   "metadata": {
    "collapsed": true
   },
   "outputs": [],
   "source": [
    "def cleanStr(id,ts):\n",
    "    myStr=\"\"\n",
    "    myStr+=str(id)\n",
    "    myStr+=\",\"\n",
    "    if (ts!=-1):\n",
    "        for t in ts:\n",
    "            myStr+=\" \"\n",
    "            myStr+=str(int(t))\n",
    "    else:\n",
    "        myStr+=\" 1563309 1363985 3705881 1595978 3166665\"\n",
    "    myStr+=\"\\n\"\n",
    "    return myStr"
   ]
  },
  {
   "cell_type": "code",
   "execution_count": 205,
   "metadata": {
    "collapsed": false
   },
   "outputs": [],
   "source": [
    "with open(\"playlistSimilar.csv\",\"a\") as myFile:\n",
    "    for id,ts in zip(pIDs,totalSugg):\n",
    "        #print(id,ts)\n",
    "        myFile.write(cleanStr(id,ts))\n",
    "    "
   ]
  }
 ],
 "metadata": {
  "kernelspec": {
   "display_name": "Python 3",
   "language": "python",
   "name": "python3"
  },
  "language_info": {
   "codemirror_mode": {
    "name": "ipython",
    "version": 3
   },
   "file_extension": ".py",
   "mimetype": "text/x-python",
   "name": "python",
   "nbconvert_exporter": "python",
   "pygments_lexer": "ipython3",
   "version": "3.5.4"
  }
 },
 "nbformat": 4,
 "nbformat_minor": 2
}
