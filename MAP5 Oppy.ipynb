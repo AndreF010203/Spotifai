{
 "cells": [
  {
   "cell_type": "code",
   "execution_count": 19,
   "metadata": {
    "collapsed": true
   },
   "outputs": [],
   "source": [
    "from numpy import *\n",
    "from scipy.sparse import *\n",
    "import numpy as np"
   ]
  },
  {
   "cell_type": "code",
   "execution_count": 20,
   "metadata": {
    "collapsed": false
   },
   "outputs": [
    {
     "data": {
      "text/plain": [
       "(100000, 45649, <45649x100000 sparse matrix of type '<class 'numpy.int32'>'\n",
       " \twith 1040522 stored elements in Compressed Sparse Column format>)"
      ]
     },
     "execution_count": 20,
     "metadata": {},
     "output_type": "execute_result"
    }
   ],
   "source": [
    "URM_all=load_npz(\"all_playlist_with_tracks_URM.npz\")\n",
    "trackIDs=load(\"fucking_ordered_tracks.npy\")\n",
    "playlistIDs=load(\"fucking_ordered_playlist.npy\")\n",
    "trackIDs.size,playlistIDs.size,URM_all"
   ]
  },
  {
   "cell_type": "code",
   "execution_count": 21,
   "metadata": {
    "collapsed": false
   },
   "outputs": [],
   "source": [
    "#pBuilder=array([]).astype(int32)\n",
    "#for i,p in enumerate(URM_all):\n",
    "    #pBuilder=np.hstack((pBuilder,array([i]*p.size)))"
   ]
  },
  {
   "cell_type": "code",
   "execution_count": 22,
   "metadata": {
    "collapsed": false
   },
   "outputs": [
    {
     "data": {
      "text/plain": [
       "1040522"
      ]
     },
     "execution_count": 22,
     "metadata": {},
     "output_type": "execute_result"
    }
   ],
   "source": [
    "#save(\"pBuilder.npy\",pBuilder)\n",
    "pBuilder=load(\"pBuilder.npy\")\n",
    "pBuilder.size"
   ]
  },
  {
   "cell_type": "code",
   "execution_count": 23,
   "metadata": {
    "collapsed": false
   },
   "outputs": [],
   "source": [
    "#tBuilder=array([]).astype(int32)\n",
    "#for p in URM_all:\n",
    "    #tBuilder=np.hstack((tBuilder,where(p.todense()!=0)[1]))"
   ]
  },
  {
   "cell_type": "code",
   "execution_count": 24,
   "metadata": {
    "collapsed": false
   },
   "outputs": [
    {
     "data": {
      "text/plain": [
       "1040522"
      ]
     },
     "execution_count": 24,
     "metadata": {},
     "output_type": "execute_result"
    }
   ],
   "source": [
    "#save(\"tBuilder.npy\",tBuilder)\n",
    "tBuilder=load(\"tBuilder.npy\")\n",
    "tBuilder.size"
   ]
  },
  {
   "cell_type": "code",
   "execution_count": 25,
   "metadata": {
    "collapsed": false
   },
   "outputs": [],
   "source": [
    "rBuilder=np.ones(1040522).astype(int32)"
   ]
  },
  {
   "cell_type": "code",
   "execution_count": 26,
   "metadata": {
    "collapsed": false
   },
   "outputs": [],
   "source": [
    "class RandomRecommender(object):\n",
    "\n",
    "    def fit(self, URM_train):\n",
    "           \n",
    "        self.numItems = URM_train.shape[1]\n",
    "    \n",
    "    \n",
    "    def recommend(self, playlist_id, at=5):\n",
    "        \n",
    "        #genera 5 numeri da 0 a 99999\n",
    "        recommended_index = np.random.choice(self.numItems, at)\n",
    "        #prende le canzoni in quella posizione\n",
    "        recommended_items = trackIDs[recommended_index]\n",
    "\n",
    "        return recommended_items"
   ]
  },
  {
   "cell_type": "code",
   "execution_count": 27,
   "metadata": {
    "collapsed": true
   },
   "outputs": [],
   "source": [
    "class Top5Recommender(object):\n",
    "\n",
    "    def recommend(self, playlist_id, at=5):\n",
    "        \n",
    "        recommended_items = array([1563309, 1363985, 3705881, 1595978, 3166665])\n",
    "\n",
    "        return recommended_items"
   ]
  },
  {
   "cell_type": "code",
   "execution_count": 28,
   "metadata": {
    "collapsed": true
   },
   "outputs": [],
   "source": [
    "trackArtist=load_npz(\"fucking_ordered_track_artist.npz\")\n",
    "trackAlbum=load_npz(\"fucking_ordered_track_album.npz\")\n",
    "targetTrack=unique(genfromtxt(\"target_tracks.csv\",dtype=int32,skip_header=1))\n",
    "maskT=list(map(lambda x:x in targetTrack,trackIDs))"
   ]
  },
  {
   "cell_type": "code",
   "execution_count": 29,
   "metadata": {
    "collapsed": true
   },
   "outputs": [],
   "source": [
    "class ArtistAlbumRecommender(object):\n",
    "\n",
    "    def fit(self, URM_train, artistWeight, albumWeight):\n",
    "        \n",
    "        simByArtist=trackArtist*trackArtist.T\n",
    "        simByAlbum=trackAlbum*trackAlbum.T\n",
    "        simByArtist.setdiag(0)\n",
    "        simByAlbum.setdiag(0)\n",
    "        S=artistWeight*simByArtist+albumWeight*simByAlbum\n",
    "        RR=URM_train*S\n",
    "        myMax=max([max(x.data) for x in RR if x.data.size!=0])\n",
    "        self.RR=RR-URM_train*myMax\n",
    "        \n",
    "    def recommend(self, i, at=5):\n",
    "        \n",
    "        sims=self.RR[i]\n",
    "        recommended_items = trackIDs[flip(argsort(sims.multiply(maskT).todense()),1).take(range(at))]\n",
    "        \n",
    "        return recommended_items"
   ]
  },
  {
   "cell_type": "code",
   "execution_count": 30,
   "metadata": {
    "collapsed": true
   },
   "outputs": [],
   "source": [
    "def precision(recommended_items, relevant_items):\n",
    "    \n",
    "    is_relevant = np.in1d(recommended_items, relevant_items, assume_unique=True)\n",
    "    \n",
    "    precision_score = np.sum(is_relevant, dtype=np.float32) / len(is_relevant)\n",
    "    \n",
    "    return precision_score"
   ]
  },
  {
   "cell_type": "code",
   "execution_count": 31,
   "metadata": {
    "collapsed": true
   },
   "outputs": [],
   "source": [
    "def recall(recommended_items, relevant_items):\n",
    "    \n",
    "    is_relevant = np.in1d(recommended_items, relevant_items, assume_unique=True)\n",
    "    \n",
    "    recall_score = np.sum(is_relevant, dtype=np.float32) / relevant_items.shape[0]\n",
    "    \n",
    "    return recall_score"
   ]
  },
  {
   "cell_type": "code",
   "execution_count": 32,
   "metadata": {
    "collapsed": true
   },
   "outputs": [],
   "source": [
    "def MAP(recommended_items, relevant_items):\n",
    "   \n",
    "    is_relevant = np.in1d(recommended_items, relevant_items, assume_unique=True)\n",
    "    \n",
    "    # Cumulative sum: precision at 1, at 2, at 3 ...\n",
    "    p_at_k = is_relevant * np.cumsum(is_relevant, dtype=np.float32) / (1 + np.arange(is_relevant.shape[0]))\n",
    "    \n",
    "    map_score = np.sum(p_at_k) / np.min([relevant_items.shape[0], is_relevant.shape[0]])\n",
    "\n",
    "    return map_score"
   ]
  },
  {
   "cell_type": "code",
   "execution_count": 33,
   "metadata": {
    "collapsed": false
   },
   "outputs": [],
   "source": [
    "def evaluate_algorithm(URM_test, recommender_object, at=5):\n",
    "    \n",
    "    cumulative_precision = 0.0\n",
    "    cumulative_recall = 0.0\n",
    "    cumulative_MAP = 0.0\n",
    "    \n",
    "    num_eval = 0\n",
    "\n",
    "    oldprogress=0\n",
    "    for i,playlist_id in enumerate(playlistIDs):\n",
    "        \n",
    "        #va alla riga i-esima, che contiene la playlist attuale\n",
    "        relevant_index = URM_test[i].indices\n",
    "        #prende le track della playlist i-esima\n",
    "        relevant_items = trackIDs[relevant_index]\n",
    "        if len(relevant_items)>0:\n",
    "            # HO MODIFICATO CON i\n",
    "            #recommended_items = recommender_object.recommend(playlist_id, at=at)\n",
    "            recommended_items = recommender_object.recommend(i, at=at)\n",
    "            #print(str(playlist_id)+\" \"+str(recommended_items))\n",
    "            num_eval+=1\n",
    "\n",
    "            cumulative_precision += precision(recommended_items, relevant_items)\n",
    "            cumulative_recall += recall(recommended_items, relevant_items)\n",
    "            cumulative_MAP += MAP(recommended_items, relevant_items)\n",
    "        progress=i/45649*100\n",
    "        if(progress-oldprogress>1):\n",
    "            print(\"\\r{:.2f}%\".format(progress), end=\"\")\n",
    "            oldprogress=progress\n",
    "        \n",
    "\n",
    "    cumulative_precision /= num_eval\n",
    "    cumulative_recall /= num_eval\n",
    "    cumulative_MAP /= num_eval\n",
    "    \n",
    "    print(\"\\r100%\", end=\"\")\n",
    "    print(\" Precision = {:.6f}, Recall = {:.6f}, MAP = {:.6f}\".format(\n",
    "        cumulative_precision, cumulative_recall, cumulative_MAP)) \n"
   ]
  },
  {
   "cell_type": "code",
   "execution_count": 34,
   "metadata": {
    "collapsed": false
   },
   "outputs": [
    {
     "data": {
      "text/plain": [
       "(<45649x100000 sparse matrix of type '<class 'numpy.int32'>'\n",
       " \twith 832175 stored elements in Compressed Sparse Row format>,\n",
       " <45649x100000 sparse matrix of type '<class 'numpy.int32'>'\n",
       " \twith 208347 stored elements in Compressed Sparse Row format>)"
      ]
     },
     "execution_count": 34,
     "metadata": {},
     "output_type": "execute_result"
    }
   ],
   "source": [
    "#ATTENZIONE, controllare che entrambe le matrici alla fine siano 45649x100000\n",
    "# sennò si spacca tutto\n",
    "train_test_split = 0.80\n",
    "numInteractions = URM_all.nnz\n",
    "train_mask = np.random.choice([True,False], numInteractions, p=[train_test_split, 1-train_test_split])\n",
    "\n",
    "URM_train=(coo_matrix((rBuilder[train_mask],(pBuilder[train_mask],tBuilder[train_mask]))))\n",
    "URM_train=URM_train.tocsr()\n",
    "\n",
    "test_mask=logical_not(train_mask)\n",
    "URM_test=(coo_matrix((rBuilder[test_mask],(pBuilder[test_mask],tBuilder[test_mask]))))\n",
    "URM_test=URM_test.tocsr()\n",
    "URM_train,URM_test"
   ]
  },
  {
   "cell_type": "code",
   "execution_count": 35,
   "metadata": {
    "collapsed": false
   },
   "outputs": [
    {
     "name": "stdout",
     "output_type": "stream",
     "text": [
      "100% Precision = 0.000062, Recall = 0.000059, MAP = 0.000034\n"
     ]
    }
   ],
   "source": [
    "randomRecommender = RandomRecommender()\n",
    "randomRecommender.fit(URM_train)\n",
    "evaluate_algorithm(URM_test, randomRecommender)"
   ]
  },
  {
   "cell_type": "code",
   "execution_count": 36,
   "metadata": {
    "collapsed": false
   },
   "outputs": [
    {
     "name": "stdout",
     "output_type": "stream",
     "text": [
      "100% Precision = 0.002344, Recall = 0.001981, MAP = 0.001480\n"
     ]
    }
   ],
   "source": [
    "top5recommender = Top5Recommender()\n",
    "evaluate_algorithm(URM_test,top5recommender)"
   ]
  },
  {
   "cell_type": "code",
   "execution_count": null,
   "metadata": {
    "collapsed": false
   },
   "outputs": [],
   "source": [
    "artistAlbumRecommender = ArtistAlbumRecommender()\n",
    "artistAlbumRecommender.fit(URM_train,1,0.5)\n",
    "evaluate_algorithm(URM_test, artistAlbumRecommender)"
   ]
  },
  {
   "cell_type": "code",
   "execution_count": null,
   "metadata": {
    "collapsed": false
   },
   "outputs": [],
   "source": [
    "artistAlbumRecommender = ArtistAlbumRecommender()\n",
    "artistAlbumRecommender.fit(URM_train,1,1)\n",
    "evaluate_algorithm(URM_test, artistAlbumRecommender)"
   ]
  },
  {
   "cell_type": "code",
   "execution_count": null,
   "metadata": {
    "collapsed": false
   },
   "outputs": [],
   "source": [
    "artistAlbumRecommender = ArtistAlbumRecommender()\n",
    "artistAlbumRecommender.fit(URM_train,1,2)\n",
    "evaluate_algorithm(URM_test, artistAlbumRecommender)"
   ]
  },
  {
   "cell_type": "code",
   "execution_count": null,
   "metadata": {
    "collapsed": false
   },
   "outputs": [],
   "source": [
    "artistAlbumRecommender = ArtistAlbumRecommender()\n",
    "artistAlbumRecommender.fit(URM_train,1,5)\n",
    "evaluate_algorithm(URM_test, artistAlbumRecommender)"
   ]
  },
  {
   "cell_type": "code",
   "execution_count": null,
   "metadata": {
    "collapsed": false
   },
   "outputs": [],
   "source": [
    "artistAlbumRecommender = ArtistAlbumRecommender()\n",
    "artistAlbumRecommender.fit(URM_train,1,10)\n",
    "evaluate_algorithm(URM_test, artistAlbumRecommender)"
   ]
  }
 ],
 "metadata": {
  "kernelspec": {
   "display_name": "Python 3",
   "language": "python",
   "name": "python3"
  },
  "language_info": {
   "codemirror_mode": {
    "name": "ipython",
    "version": 3
   },
   "file_extension": ".py",
   "mimetype": "text/x-python",
   "name": "python",
   "nbconvert_exporter": "python",
   "pygments_lexer": "ipython3",
   "version": "3.6.3"
  }
 },
 "nbformat": 4,
 "nbformat_minor": 2
}
