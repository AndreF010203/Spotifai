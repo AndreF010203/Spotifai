{
 "cells": [
  {
   "cell_type": "code",
   "execution_count": 1,
   "metadata": {
    "collapsed": true
   },
   "outputs": [],
   "source": [
    "from numpy import *\n",
    "from scipy.sparse import *\n",
    "import numpy as np\n",
    "from sklearn.preprocessing import *"
   ]
  },
  {
   "cell_type": "code",
   "execution_count": 2,
   "metadata": {
    "collapsed": false
   },
   "outputs": [
    {
     "data": {
      "text/plain": [
       "(100000, 45649, <45649x100000 sparse matrix of type '<class 'numpy.int32'>'\n",
       " \twith 1040522 stored elements in Compressed Sparse Column format>)"
      ]
     },
     "execution_count": 2,
     "metadata": {},
     "output_type": "execute_result"
    }
   ],
   "source": [
    "URM_all=load_npz(\"all_playlist_with_tracks_URM.npz\")\n",
    "trackIDs=load(\"fucking_ordered_tracks.npy\")\n",
    "playlistIDs=load(\"fucking_ordered_playlist.npy\")\n",
    "trackIDs.size,playlistIDs.size,URM_all"
   ]
  },
  {
   "cell_type": "code",
   "execution_count": 3,
   "metadata": {
    "collapsed": false
   },
   "outputs": [],
   "source": [
    "#pBuilder=array([]).astype(int32)\n",
    "#for i,p in enumerate(URM_all):\n",
    "    #pBuilder=np.hstack((pBuilder,array([i]*p.size)))"
   ]
  },
  {
   "cell_type": "code",
   "execution_count": 4,
   "metadata": {
    "collapsed": false
   },
   "outputs": [
    {
     "data": {
      "text/plain": [
       "1040522"
      ]
     },
     "execution_count": 4,
     "metadata": {},
     "output_type": "execute_result"
    }
   ],
   "source": [
    "#save(\"pBuilder.npy\",pBuilder)\n",
    "pBuilder=load(\"pBuilder.npy\")\n",
    "pBuilder.size"
   ]
  },
  {
   "cell_type": "code",
   "execution_count": 5,
   "metadata": {
    "collapsed": false
   },
   "outputs": [],
   "source": [
    "#tBuilder=array([]).astype(int32)\n",
    "#for p in URM_all:\n",
    "    #tBuilder=np.hstack((tBuilder,where(p.todense()!=0)[1]))"
   ]
  },
  {
   "cell_type": "code",
   "execution_count": 6,
   "metadata": {
    "collapsed": false
   },
   "outputs": [
    {
     "data": {
      "text/plain": [
       "1040522"
      ]
     },
     "execution_count": 6,
     "metadata": {},
     "output_type": "execute_result"
    }
   ],
   "source": [
    "#save(\"tBuilder.npy\",tBuilder)\n",
    "tBuilder=load(\"tBuilder.npy\")\n",
    "tBuilder.size"
   ]
  },
  {
   "cell_type": "code",
   "execution_count": 7,
   "metadata": {
    "collapsed": false
   },
   "outputs": [],
   "source": [
    "rBuilder=np.ones(1040522).astype(int32)"
   ]
  },
  {
   "cell_type": "code",
   "execution_count": 8,
   "metadata": {
    "collapsed": false
   },
   "outputs": [],
   "source": [
    "class RandomRecommender(object):\n",
    "\n",
    "    def fit(self, URM_train):\n",
    "           \n",
    "        self.numItems = URM_train.shape[1]\n",
    "    \n",
    "    \n",
    "    def recommend(self, playlist_id, at=5):\n",
    "        \n",
    "        #genera 5 numeri da 0 a 99999\n",
    "        recommended_index = np.random.choice(self.numItems, at)\n",
    "        #prende le canzoni in quella posizione\n",
    "        recommended_items = trackIDs[recommended_index]\n",
    "\n",
    "        return recommended_items"
   ]
  },
  {
   "cell_type": "code",
   "execution_count": 9,
   "metadata": {
    "collapsed": true
   },
   "outputs": [],
   "source": [
    "class Top5Recommender(object):\n",
    "\n",
    "    def recommend(self, playlist_id, at=5):\n",
    "        \n",
    "        recommended_items = array([1563309, 1363985, 3705881, 1595978, 3166665])\n",
    "\n",
    "        return recommended_items"
   ]
  },
  {
   "cell_type": "code",
   "execution_count": 10,
   "metadata": {
    "collapsed": true
   },
   "outputs": [],
   "source": [
    "trackArtist=load_npz(\"fucking_ordered_track_artist.npz\")\n",
    "trackAlbum=load_npz(\"fucking_ordered_track_album.npz\")\n",
    "trackTag=load_npz(\"all_tracks_tags_TF_IDF.npz\")\n",
    "targetTrack=unique(genfromtxt(\"target_tracks.csv\",dtype=int32,skip_header=1))\n",
    "maskT=list(map(lambda x:x in targetTrack,trackIDs))"
   ]
  },
  {
   "cell_type": "code",
   "execution_count": null,
   "metadata": {
    "collapsed": false
   },
   "outputs": [],
   "source": []
  },
  {
   "cell_type": "code",
   "execution_count": 11,
   "metadata": {
    "collapsed": false
   },
   "outputs": [],
   "source": [
    "trackTag=normalize(trackTag)"
   ]
  },
  {
   "cell_type": "code",
   "execution_count": null,
   "metadata": {
    "collapsed": false
   },
   "outputs": [],
   "source": []
  },
  {
   "cell_type": "code",
   "execution_count": null,
   "metadata": {
    "collapsed": false
   },
   "outputs": [],
   "source": []
  },
  {
   "cell_type": "code",
   "execution_count": null,
   "metadata": {
    "collapsed": false
   },
   "outputs": [],
   "source": []
  },
  {
   "cell_type": "code",
   "execution_count": null,
   "metadata": {
    "collapsed": false
   },
   "outputs": [],
   "source": []
  },
  {
   "cell_type": "code",
   "execution_count": null,
   "metadata": {
    "collapsed": false
   },
   "outputs": [],
   "source": []
  },
  {
   "cell_type": "code",
   "execution_count": null,
   "metadata": {
    "collapsed": false
   },
   "outputs": [],
   "source": []
  },
  {
   "cell_type": "code",
   "execution_count": 13,
   "metadata": {
    "collapsed": false
   },
   "outputs": [
    {
     "data": {
      "text/plain": [
       "matrix([[ 0.,  1.,  1.,  1.],\n",
       "        [ 0.,  1.,  1.,  1.],\n",
       "        [ 0.,  1.,  1.,  1.],\n",
       "        [ 0.,  1.,  1.,  1.]])"
      ]
     },
     "execution_count": 13,
     "metadata": {},
     "output_type": "execute_result"
    }
   ],
   "source": [
    "Z=csc_matrix(ones((4,4)))\n",
    "Z[:,0]=0\n",
    "Z.eliminate_zeros()\n",
    "Z.todense()"
   ]
  },
  {
   "cell_type": "code",
   "execution_count": null,
   "metadata": {
    "collapsed": false
   },
   "outputs": [],
   "source": [
    "\"\"\"\n",
    "for i,ind in enumerate(where(array(maskT)==False)[0]):\n",
    "    simByPlaylist[:,ind]=0\n",
    "    if(i%1000==0):\n",
    "        print(i)\n",
    "\"\"\"        "
   ]
  },
  {
   "cell_type": "code",
   "execution_count": null,
   "metadata": {
    "collapsed": true
   },
   "outputs": [],
   "source": []
  },
  {
   "cell_type": "code",
   "execution_count": null,
   "metadata": {
    "collapsed": false
   },
   "outputs": [],
   "source": []
  },
  {
   "cell_type": "code",
   "execution_count": null,
   "metadata": {
    "collapsed": false
   },
   "outputs": [],
   "source": []
  },
  {
   "cell_type": "code",
   "execution_count": 14,
   "metadata": {
    "collapsed": false
   },
   "outputs": [
    {
     "data": {
      "text/plain": [
       "matrix([[ 0.,  1.,  1.,  0.],\n",
       "        [ 0.,  1.,  1.,  0.],\n",
       "        [ 0.,  1.,  1.,  0.],\n",
       "        [ 0.,  1.,  1.,  0.]])"
      ]
     },
     "execution_count": 14,
     "metadata": {},
     "output_type": "execute_result"
    }
   ],
   "source": [
    "Z=csr_matrix(ones((4,4)))\n",
    "testMask=array([True,False,False,True])\n",
    "Z[:,testMask]=0\n",
    "Z.eliminate_zeros()\n",
    "Z.todense()"
   ]
  },
  {
   "cell_type": "code",
   "execution_count": 15,
   "metadata": {
    "collapsed": false
   },
   "outputs": [
    {
     "data": {
      "text/plain": [
       "<45x30 sparse matrix of type '<class 'numpy.float64'>'\n",
       "\twith 0 stored elements in Compressed Sparse Column format>"
      ]
     },
     "execution_count": 15,
     "metadata": {},
     "output_type": "execute_result"
    }
   ],
   "source": [
    "csc_matrix(zeros((45,100)))*csc_matrix(zeros((100,30)))"
   ]
  },
  {
   "cell_type": "code",
   "execution_count": null,
   "metadata": {
    "collapsed": false
   },
   "outputs": [],
   "source": []
  },
  {
   "cell_type": "code",
   "execution_count": null,
   "metadata": {
    "collapsed": false
   },
   "outputs": [],
   "source": []
  },
  {
   "cell_type": "code",
   "execution_count": null,
   "metadata": {
    "collapsed": false
   },
   "outputs": [],
   "source": []
  },
  {
   "cell_type": "code",
   "execution_count": 27,
   "metadata": {
    "collapsed": false
   },
   "outputs": [],
   "source": [
    "class ArtistAlbumRecommender(object):\n",
    "\n",
    "    def fit(self, URM_train, artistWeight, albumWeight, tagWeight):\n",
    "        \n",
    "        simByArtist=trackArtist*trackArtist.T\n",
    "        simByAlbum=trackAlbum*trackAlbum.T\n",
    "        simByPlaylist=URM_all.T*URM_all\n",
    "        if(tagWeight!=0):\n",
    "            simByTag=trackTag*trackTag.T\n",
    "            simByTag.setdiag(0)\n",
    "        else:\n",
    "            simByTag=0\n",
    "        simByPlaylist.setdiag(0)\n",
    "        simByPlaylist=normalize(simByPlaylist)\n",
    "        simByArtist.setdiag(0)\n",
    "        simByAlbum.setdiag(0)\n",
    "        S=artistWeight*simByArtist+albumWeight*simByAlbum+tagWeight*simByTag#+simByPlaylist#100kx100k\n",
    "        S=S[:,array(maskT)]#100kx32k\n",
    "        print(\"S=\"+str(S.shape))\n",
    "        RR=URM_train*S#45kx32k\n",
    "        print(\"RR=\"+str(RR.shape))\n",
    "        myMax=max([max(x.data) for x in RR if x.data.size!=0])\n",
    "        self.RR=RR-URM_train[:,array(maskT)]*myMax\n",
    "        print(\"fittato\")\n",
    "        \n",
    "    def recommend(self, i, at=5):\n",
    "        \n",
    "        sims=self.RR[i]\n",
    "        recommended_items = trackIDs[flip(argsort(sims.todense()),1).take(range(at))]\n",
    "        \n",
    "        return recommended_items"
   ]
  },
  {
   "cell_type": "code",
   "execution_count": null,
   "metadata": {
    "collapsed": false
   },
   "outputs": [],
   "source": []
  },
  {
   "cell_type": "code",
   "execution_count": 19,
   "metadata": {
    "collapsed": true
   },
   "outputs": [],
   "source": [
    "def precision(recommended_items, relevant_items):\n",
    "    \n",
    "    is_relevant = np.in1d(recommended_items, relevant_items, assume_unique=True)\n",
    "    \n",
    "    precision_score = np.sum(is_relevant, dtype=np.float32) / len(is_relevant)\n",
    "    \n",
    "    return precision_score"
   ]
  },
  {
   "cell_type": "code",
   "execution_count": 20,
   "metadata": {
    "collapsed": true
   },
   "outputs": [],
   "source": [
    "def recall(recommended_items, relevant_items):\n",
    "    \n",
    "    is_relevant = np.in1d(recommended_items, relevant_items, assume_unique=True)\n",
    "    \n",
    "    recall_score = np.sum(is_relevant, dtype=np.float32) / relevant_items.shape[0]\n",
    "    \n",
    "    return recall_score"
   ]
  },
  {
   "cell_type": "code",
   "execution_count": 21,
   "metadata": {
    "collapsed": true
   },
   "outputs": [],
   "source": [
    "def MAP(recommended_items, relevant_items):\n",
    "   \n",
    "    is_relevant = np.in1d(recommended_items, relevant_items, assume_unique=True)\n",
    "    \n",
    "    # Cumulative sum: precision at 1, at 2, at 3 ...\n",
    "    p_at_k = is_relevant * np.cumsum(is_relevant, dtype=np.float32) / (1 + np.arange(is_relevant.shape[0]))\n",
    "    \n",
    "    map_score = np.sum(p_at_k) / np.min([relevant_items.shape[0], is_relevant.shape[0]])\n",
    "\n",
    "    return map_score"
   ]
  },
  {
   "cell_type": "code",
   "execution_count": 22,
   "metadata": {
    "collapsed": false
   },
   "outputs": [],
   "source": [
    "def evaluate_algorithm(URM_test, recommender_object, at=5):\n",
    "    \n",
    "    cumulative_precision = 0.0\n",
    "    cumulative_recall = 0.0\n",
    "    cumulative_MAP = 0.0\n",
    "    \n",
    "    num_eval = 0\n",
    "\n",
    "    oldprogress=0\n",
    "    for i,playlist_id in enumerate(playlistIDs):\n",
    "        \n",
    "        #va alla riga i-esima, che contiene la playlist attuale\n",
    "        relevant_index = URM_test[i].indices\n",
    "        #prende le track della playlist i-esima\n",
    "        relevant_items = trackIDs[relevant_index]\n",
    "        if len(relevant_items)>0:\n",
    "            # HO MODIFICATO CON i\n",
    "            #recommended_items = recommender_object.recommend(playlist_id, at=at)\n",
    "            recommended_items = recommender_object.recommend(i, at=at)\n",
    "            #print(str(playlist_id)+\" \"+str(recommended_items))\n",
    "            num_eval+=1\n",
    "\n",
    "            cumulative_precision += precision(recommended_items, relevant_items)\n",
    "            cumulative_recall += recall(recommended_items, relevant_items)\n",
    "            cumulative_MAP += MAP(recommended_items, relevant_items)\n",
    "        progress=i/45649*100\n",
    "        if(progress-oldprogress>1):\n",
    "            print(\"\\r{:.2f}%\".format(progress), end=\"\")\n",
    "            oldprogress=progress\n",
    "        \n",
    "\n",
    "    cumulative_precision /= num_eval\n",
    "    cumulative_recall /= num_eval\n",
    "    cumulative_MAP /= num_eval\n",
    "    \n",
    "    print(\"\\r100%\", end=\"\")\n",
    "    print(\" Precision = {:.6f}, Recall = {:.6f}, MAP = {:.6f}\".format(\n",
    "        cumulative_precision, cumulative_recall, cumulative_MAP)) \n"
   ]
  },
  {
   "cell_type": "code",
   "execution_count": 23,
   "metadata": {
    "collapsed": false
   },
   "outputs": [
    {
     "data": {
      "text/plain": [
       "(<45649x100000 sparse matrix of type '<class 'numpy.int32'>'\n",
       " \twith 832613 stored elements in Compressed Sparse Row format>,\n",
       " <45649x100000 sparse matrix of type '<class 'numpy.int32'>'\n",
       " \twith 207909 stored elements in Compressed Sparse Row format>)"
      ]
     },
     "execution_count": 23,
     "metadata": {},
     "output_type": "execute_result"
    }
   ],
   "source": [
    "#ATTENZIONE, controllare che entrambe le matrici alla fine siano 45649x100000\n",
    "# sennò si spacca tutto\n",
    "train_test_split = 0.80\n",
    "numInteractions = URM_all.nnz\n",
    "train_mask = np.random.choice([True,False], numInteractions, p=[train_test_split, 1-train_test_split])\n",
    "\n",
    "URM_train=(coo_matrix((rBuilder[train_mask],(pBuilder[train_mask],tBuilder[train_mask]))))\n",
    "URM_train=URM_train.tocsr()\n",
    "\n",
    "test_mask=logical_not(train_mask)\n",
    "URM_test=(coo_matrix((rBuilder[test_mask],(pBuilder[test_mask],tBuilder[test_mask]))))\n",
    "URM_test=URM_test.tocsr()\n",
    "URM_train,URM_test"
   ]
  },
  {
   "cell_type": "code",
   "execution_count": 24,
   "metadata": {
    "collapsed": false
   },
   "outputs": [
    {
     "name": "stdout",
     "output_type": "stream",
     "text": [
      "100% Precision = 0.000097, Recall = 0.000062, MAP = 0.000057\n"
     ]
    }
   ],
   "source": [
    "randomRecommender = RandomRecommender()\n",
    "randomRecommender.fit(URM_train)\n",
    "evaluate_algorithm(URM_test, randomRecommender)\n",
    "#Precision = 0.000085, Recall = 0.000072, MAP = 0.000058"
   ]
  },
  {
   "cell_type": "code",
   "execution_count": 25,
   "metadata": {
    "collapsed": false
   },
   "outputs": [
    {
     "name": "stdout",
     "output_type": "stream",
     "text": [
      "100% Precision = 0.002450, Recall = 0.001973, MAP = 0.001540\n"
     ]
    }
   ],
   "source": [
    "top5recommender = Top5Recommender()\n",
    "evaluate_algorithm(URM_test,top5recommender)\n",
    "#Precision = 0.002344, Recall = 0.001981, MAP = 0.001480"
   ]
  },
  {
   "cell_type": "code",
   "execution_count": null,
   "metadata": {
    "collapsed": false
   },
   "outputs": [],
   "source": [
    "artistAlbumRecommender = ArtistAlbumRecommender()\n",
    "artistAlbumRecommender.fit(URM_train,1,0.5,0)\n",
    "evaluate_algorithm(URM_test, artistAlbumRecommender)"
   ]
  },
  {
   "cell_type": "code",
   "execution_count": null,
   "metadata": {
    "collapsed": false
   },
   "outputs": [],
   "source": [
    "artistAlbumRecommender = ArtistAlbumRecommender()\n",
    "artistAlbumRecommender.fit(URM_train,1,1,0)\n",
    "evaluate_algorithm(URM_test, artistAlbumRecommender)"
   ]
  },
  {
   "cell_type": "code",
   "execution_count": null,
   "metadata": {
    "collapsed": false
   },
   "outputs": [],
   "source": [
    "artistAlbumRecommender = ArtistAlbumRecommender()\n",
    "artistAlbumRecommender.fit(URM_train,1,1.5,0)\n",
    "evaluate_algorithm(URM_test, artistAlbumRecommender)\n",
    "#Precision = 0.040979, Recall = 0.047600, MAP = 0.040184"
   ]
  },
  {
   "cell_type": "code",
   "execution_count": 28,
   "metadata": {
    "collapsed": false
   },
   "outputs": [
    {
     "name": "stderr",
     "output_type": "stream",
     "text": [
      "/home/oppy/.local/lib/python3.6/site-packages/scipy/sparse/compressed.py:742: SparseEfficiencyWarning: Changing the sparsity structure of a csr_matrix is expensive. lil_matrix is more efficient.\n",
      "  SparseEfficiencyWarning)\n"
     ]
    },
    {
     "name": "stdout",
     "output_type": "stream",
     "text": [
      "S=(100000, 32195)\n",
      "RR=(45649, 32195)\n",
      "fittato\n",
      "100% Precision = 0.000074, Recall = 0.000105, MAP = 0.000057\n"
     ]
    }
   ],
   "source": [
    "artistAlbumRecommender = ArtistAlbumRecommender()\n",
    "artistAlbumRecommender.fit(URM_train,1,1.5,0)\n",
    "evaluate_algorithm(URM_test, artistAlbumRecommender)"
   ]
  },
  {
   "cell_type": "code",
   "execution_count": null,
   "metadata": {
    "collapsed": true
   },
   "outputs": [],
   "source": []
  }
 ],
 "metadata": {
  "kernelspec": {
   "display_name": "Python 3",
   "language": "python",
   "name": "python3"
  },
  "language_info": {
   "codemirror_mode": {
    "name": "ipython",
    "version": 3
   },
   "file_extension": ".py",
   "mimetype": "text/x-python",
   "name": "python",
   "nbconvert_exporter": "python",
   "pygments_lexer": "ipython3",
   "version": "3.6.3"
  }
 },
 "nbformat": 4,
 "nbformat_minor": 2
}
