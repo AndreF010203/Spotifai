{
 "cells": [
  {
   "cell_type": "code",
   "execution_count": 36,
   "metadata": {
    "collapsed": true
   },
   "outputs": [],
   "source": [
    "from numpy import *\n",
    "from scipy import *\n",
    "from scipy.sparse import *\n",
    "from scipy.spatial.distance import *\n",
    "from sklearn.preprocessing import *"
   ]
  },
  {
   "cell_type": "code",
   "execution_count": 2,
   "metadata": {},
   "outputs": [
    {
     "data": {
      "text/plain": [
       "<10000x276615 sparse matrix of type '<class 'numpy.float64'>'\n",
       "\twith 559049 stored elements in Compressed Sparse Column format>"
      ]
     },
     "execution_count": 2,
     "metadata": {},
     "output_type": "execute_result"
    }
   ],
   "source": [
    "playlists_with_tags=load_npz(\"playlists_with_tags.npz\")\n",
    "playlists_with_tags"
   ]
  },
  {
   "cell_type": "code",
   "execution_count": 106,
   "metadata": {},
   "outputs": [],
   "source": [
    "Plsimilarity = load_npz(\"playlist_similarity.npz\")"
   ]
  },
  {
   "cell_type": "code",
   "execution_count": 88,
   "metadata": {},
   "outputs": [],
   "source": [
    "target_playlists=genfromtxt(\"target_playlists.csv\",skip_header=1)\n",
    "tartget_songs=genfromtxt(\"target_tracks.csv\",skip_header=1)\n",
    "pl_with_songs = load(\"playlists_with_tracks.npy\")"
   ]
  },
  {
   "cell_type": "code",
   "execution_count": 95,
   "metadata": {},
   "outputs": [],
   "source": [
    "songs_popularity = load(\"idsong_playcount_populartiy.npy\")"
   ]
  },
  {
   "cell_type": "code",
   "execution_count": 195,
   "metadata": {
    "collapsed": true
   },
   "outputs": [],
   "source": [
    "opt = 5\n",
    "\n",
    "def recommend(pl, slist, plsimil):\n",
    "    similar_indexes = topsimilar(plsimil, opt)\n",
    "    t = []\n",
    "    for el in similar_indexes:\n",
    "        tsongs=concatenate((targetsongs, pl_with_songs[el,1:]))\n",
    "    target_songs = unique(tsongs)\n",
    "    if(isin(0, target_songs)):\n",
    "        target_songs=target_songs[1:]\n",
    "    playcount = []\n",
    "    multi = []\n",
    "    for el in targetsongs:\n",
    "        if(len(intersect1d(el, slist))==0 and len(intersect1d(el, target_songs))>0):\n",
    "            x = where(songs_popularity[:,0]==el)\n",
    "            playcount=concatenate((playcount, songs_popularity[x,1][0]))\n",
    "            multi=concatenate((multi, songs_popularity[x,1][0]*songs_popularity[x,2][0]))   \n",
    "    t_playcount_indexes = argsort(playcount).take(range(5))\n",
    "    r = []        \n",
    "    for t in t_playcount_indexes:\n",
    "        r=append(r, songs_popularity[t,0])\n",
    "    return r\n",
    "    \n",
    "    \n",
    "#return the indices of the top n similar playlists\n",
    "def topsimilar(arr, n):\n",
    "    return argsort(arr).take(range(n))\n"
   ]
  },
  {
   "cell_type": "code",
   "execution_count": null,
   "metadata": {},
   "outputs": [],
   "source": [
    "fname = \"pl_similarity.csv\"\n",
    "open(fname,\"w\").close()\n",
    "print(\"playlist_id,track_ids\",file=open(fname,\"a\"))\n",
    "\n",
    "for p, ptracks, i in zip(target_playlists, pl_with_songs[:,1:], range(10000)):\n",
    "    s = str(int(p))\n",
    "    s += \",\"\n",
    "    r = recommend(p, ptracks, Plsimilarity.getrow(i).toarray())\n",
    "    for el in r:\n",
    "        s+=str(int(el))\n",
    "        s+=\" \"\n",
    "    print(s,file=open(fname,\"a\"))"
   ]
  },
  {
   "cell_type": "code",
   "execution_count": null,
   "metadata": {},
   "outputs": [],
   "source": []
  },
  {
   "cell_type": "code",
   "execution_count": 159,
   "metadata": {},
   "outputs": [
    {
     "data": {
      "text/plain": [
       "array([   60244.,    82829.,    87391.,    88948.,    90592.,    98812.,\n",
       "         128151.,   161455.,   162673.,   180355.,   187052.,   187564.,\n",
       "         195851.,   247331.,   285286.,   311910.,   329480.,   353291.,\n",
       "         382006.,   395601.,   435345.,   450130.,   452295.,   458582.,\n",
       "         471263.,   475504.,   487955.,   574908.,   634176.,   634184.,\n",
       "         661042.,   707181.,   724835.,   814732.,   826370.,   832580.,\n",
       "         845480.,   854485.,   897319.,  1032307.,  1049863.,  1108098.,\n",
       "        1110853.,  1197750.,  1215810.,  1221281.,  1242583.,  1252157.,\n",
       "        1510434.,  1514339.,  1523060.,  1531103.,  1532328.,  1563134.,\n",
       "        1565351.,  1571754.,  1616549.,  1668459.,  1672852.,  1712921.,\n",
       "        1716164.,  1720195.,  1735034.,  1735850.,  1764559.,  1786642.,\n",
       "        1868928.,  1871618.,  1893596.,  1903822.,  1904860.,  1925295.,\n",
       "        1928272.,  1980635.,  2003473.,  2026834.,  2044251.,  2079443.,\n",
       "        2116361.,  2121777.,  2136650.,  2140853.,  2165865.,  2187874.,\n",
       "        2214157.,  2234240.,  2236867.,  2267748.,  2391120.,  2403046.,\n",
       "        2440329.,  2469880.,  2479330.,  2515234.,  2543467.,  2567481.,\n",
       "        2595490.,  2710242.,  2715950.,  2726115.,  2761193.,  2773840.,\n",
       "        2789282.,  2795693.,  2830019.,  2830252.,  2830649.,  2837574.,\n",
       "        2864735.,  2879006.,  2883137.,  2894212.,  2897887.,  2969165.,\n",
       "        3007368.,  3027070.,  3027673.,  3041147.,  3051883.,  3052699.,\n",
       "        3236144.,  3248499.,  3261299.,  3289922.,  3338954.,  3364403.,\n",
       "        3376598.,  3421992.,  3451601.,  3471865.,  3477569.,  3481281.,\n",
       "        3562937.,  3577226.,  3631574.,  3641824.,  3647778.,  3659077.,\n",
       "        3669368.,  3750737.,  3834367.,  3882913.,  4899422.])"
      ]
     },
     "execution_count": 159,
     "metadata": {},
     "output_type": "execute_result"
    }
   ],
   "source": [
    "similar_indexes = topsimilar(Plsimilarity.getrow(0).toarray(), 10)\n",
    "tsongs = []\n",
    "for el in similar_indexes:\n",
    "     tsongs=concatenate((targetsongs, pl_with_songs[el,1:]))\n",
    "target_songs = unique(tsongs)\n",
    "playcount = []\n",
    "multi = []\n",
    "slist=pl_with_songs[0,1:]\n",
    "if(isin(0, target_songs)):\n",
    "    target_songs=target_songs[1:]\n",
    "target_songs"
   ]
  },
  {
   "cell_type": "code",
   "execution_count": 193,
   "metadata": {},
   "outputs": [],
   "source": [
    "for el in targetsongs:\n",
    "    if(len(intersect1d(el, slist))==0 and len(intersect1d(el, target_songs))>0):\n",
    "        x = where(songs_popularity[:,0]==el)\n",
    "        playcount=concatenate((playcount, songs_popularity[x,1][0]))\n",
    "        multi=concatenate((multi, songs_popularity[x,1][0]*songs_popularity[x,2][0]))   \n",
    "t_playcount_indexes = argsort(playcount).take(range(5))\n",
    "r = []        \n",
    "for t in t_playcount_indexes:\n",
    "    r=append(r, songs_popularity[t,0])"
   ]
  },
  {
   "cell_type": "code",
   "execution_count": 194,
   "metadata": {},
   "outputs": [
    {
     "data": {
      "text/plain": [
       "array([ 1071536.,  1072621.,  2696821.,  3481176.,   437410.])"
      ]
     },
     "execution_count": 194,
     "metadata": {},
     "output_type": "execute_result"
    }
   ],
   "source": [
    "r\n"
   ]
  },
  {
   "cell_type": "code",
   "execution_count": null,
   "metadata": {},
   "outputs": [],
   "source": []
  },
  {
   "cell_type": "code",
   "execution_count": null,
   "metadata": {
    "collapsed": true
   },
   "outputs": [],
   "source": []
  },
  {
   "cell_type": "code",
   "execution_count": null,
   "metadata": {
    "collapsed": true
   },
   "outputs": [],
   "source": []
  }
 ],
 "metadata": {
  "kernelspec": {
   "display_name": "Python 3",
   "language": "python",
   "name": "python3"
  },
  "language_info": {
   "codemirror_mode": {
    "name": "ipython",
    "version": 3
   },
   "file_extension": ".py",
   "mimetype": "text/x-python",
   "name": "python",
   "nbconvert_exporter": "python",
   "pygments_lexer": "ipython3",
   "version": "3.6.2"
  }
 },
 "nbformat": 4,
 "nbformat_minor": 2
}
