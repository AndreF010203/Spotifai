{
 "cells": [
  {
   "cell_type": "code",
   "execution_count": 228,
   "metadata": {
    "collapsed": true
   },
   "outputs": [],
   "source": [
    "from numpy import *\n",
    "from scipy import *\n",
    "from scipy.sparse import *\n",
    "from scipy.spatial.distance import *\n",
    "from sklearn.preprocessing import *"
   ]
  },
  {
   "cell_type": "code",
   "execution_count": 229,
   "metadata": {},
   "outputs": [
    {
     "data": {
      "text/plain": [
       "<10000x276615 sparse matrix of type '<class 'numpy.float64'>'\n",
       "\twith 559049 stored elements in Compressed Sparse Column format>"
      ]
     },
     "execution_count": 229,
     "metadata": {},
     "output_type": "execute_result"
    }
   ],
   "source": [
    "playlists_with_tags=load_npz(\"playlists_with_tags.npz\")\n",
    "playlists_with_tags"
   ]
  },
  {
   "cell_type": "code",
   "execution_count": 230,
   "metadata": {
    "collapsed": true
   },
   "outputs": [],
   "source": [
    "Plsimilarity = load_npz(\"playlist_similarity.npz\")"
   ]
  },
  {
   "cell_type": "code",
   "execution_count": 231,
   "metadata": {
    "collapsed": true
   },
   "outputs": [],
   "source": [
    "target_playlists=genfromtxt(\"target_playlists.csv\",skip_header=1)\n",
    "tartget_songs=genfromtxt(\"target_tracks.csv\",skip_header=1)\n",
    "pl_with_songs = load(\"playlists_with_tracks.npy\")"
   ]
  },
  {
   "cell_type": "code",
   "execution_count": 232,
   "metadata": {
    "collapsed": true
   },
   "outputs": [],
   "source": [
    "songs_popularity = load(\"idsong_playcount_populartiy.npy\")"
   ]
  },
  {
   "cell_type": "code",
   "execution_count": 233,
   "metadata": {
    "collapsed": true
   },
   "outputs": [],
   "source": [
    "opt = 5\n",
    "\n",
    "def recommend(pl, slist, plsimil):\n",
    "    similar_indexes = topsimilar(plsimil, opt)\n",
    "    tsongs = []\n",
    "    for el in similar_indexes:\n",
    "        tsongs=concatenate((tsongs, pl_with_songs[el,1:]))\n",
    "    target_songs = setdiff1d(unique(tsongs), slist)\n",
    "    if(isin(0, target_songs)):\n",
    "        target_songs=target_songs[1:]\n",
    "    playcount = []\n",
    "    multi = []\n",
    "    popularity = []\n",
    "    for el in target_songs:\n",
    "        if(len(intersect1d(el, target_songs))>0):\n",
    "            x = where(songs_popularity[:,0]==el)\n",
    "            playcount=concatenate((playcount, songs_popularity[x,1][0]))\n",
    "            multi=concatenate((multi, songs_popularity[x,1][0]*songs_popularity[x,2][0]))  \n",
    "            popularity = concatenate((popularity, songs_popularity[x,2][0]))  \n",
    "    t_playcount_indexes = argsort(playcount).take(range(5))\n",
    "    t_multi_indexes = argsort(multi).take(range(5))\n",
    "    t_popularity_indexes = argsort(popularity).take(range(5))\n",
    "    r = []        \n",
    "    for t in t_popularity_indexes:\n",
    "        r=append(r, songs_popularity[t,0])\n",
    "    return r\n",
    "    \n",
    "    \n",
    "#return the indices of the top n similar playlists\n",
    "def topsimilar(arr, n):\n",
    "    return flip(argsort(arr),0).take(range(n))\n"
   ]
  },
  {
   "cell_type": "code",
   "execution_count": 234,
   "metadata": {},
   "outputs": [
    {
     "name": "stdout",
     "output_type": "stream",
     "text": [
      "sono a 0\n",
      "sono a 1000\n",
      "sono a 2000\n",
      "sono a 3000\n",
      "sono a 4000\n",
      "sono a 5000\n",
      "sono a 6000\n",
      "sono a 7000\n",
      "sono a 8000\n",
      "sono a 9000\n"
     ]
    }
   ],
   "source": [
    "fname = \"pl_similarity.csv\"\n",
    "open(fname,\"w\").close()\n",
    "print(\"playlist_id,track_ids\",file=open(fname,\"a\"))\n",
    "\n",
    "for p, ptracks, i in zip(target_playlists, pl_with_songs[:,1:], range(10000)):\n",
    "    s = str(int(p))\n",
    "    s += \",\"\n",
    "    rec = recommend(p, ptracks, Plsimilarity.getrow(i).toarray())\n",
    "    for ele in rec:\n",
    "        s+=str(int(ele))\n",
    "        s+=\" \"\n",
    "    print(s,file=open(fname,\"a\"))\n",
    "    if(i%1000==0):\n",
    "        print(\"sono a \"+str(i))"
   ]
  },
  {
   "cell_type": "markdown",
   "metadata": {},
   "source": [
    "debug:"
   ]
  },
  {
   "cell_type": "code",
   "execution_count": 220,
   "metadata": {},
   "outputs": [
    {
     "data": {
      "text/plain": [
       "array([   47206.,    79328.,    84556.,   110860.,   111413.,   166269.,\n",
       "         172693.,   173767.,   181321.,   228843.,   267216.,   298790.,\n",
       "         305335.,   342177.,   373698.,   421640.,   443466.,   470749.,\n",
       "         495519.,   497838.,   548677.,   583219.,   603905.,   622597.,\n",
       "         707181.,   713236.,   825839.,   853953.,   878263.,   897314.,\n",
       "        1040171.,  1082375.,  1082451.,  1090000.,  1121165.,  1155143.,\n",
       "        1205252.,  1218122.,  1245037.,  1321785.,  1340731.,  1374934.,\n",
       "        1437650.,  1493886.,  1532364.,  1576438.,  1605737.,  1608769.,\n",
       "        1635001.,  1643389.,  1681786.,  1729962.,  1735832.,  1739462.,\n",
       "        1790591.,  1821592.,  1921326.,  1934873.,  1960679.,  1991365.,\n",
       "        2041003.,  2093534.,  2136378.,  2223148.,  2328933.,  2352066.,\n",
       "        2457546.,  2522576.,  2528786.,  2656990.,  2692628.,  2735080.,\n",
       "        2740759.,  2791905.,  2806970.,  2819017.,  2830019.,  2832327.,\n",
       "        2837794.,  2843607.,  2900658.,  2903215.,  2984776.,  3000528.,\n",
       "        3048842.,  3064779.,  3090832.,  3112866.,  3113091.,  3288987.,\n",
       "        3358470.,  3360457.,  3406660.,  3436058.,  3551540.,  3589371.,\n",
       "        3637968.,  3641816.,  3641917.,  3664926.,  3671140.,  3672960.,\n",
       "        3704012.,  3822109.,  3892902.,  4531125.,  4600639.])"
      ]
     },
     "execution_count": 220,
     "metadata": {},
     "output_type": "execute_result"
    }
   ],
   "source": [
    "similar_indexes = topsimilar(Plsimilarity.getrow(1).toarray(), 10)\n",
    "    \n",
    "tsongs = []\n",
    "for el in similar_indexes:\n",
    "    tsongs=concatenate((tsongs, pl_with_songs[el,1:]))\n",
    "target_songs = setdiff1d(unique(tsongs), slist)\n",
    "target_songs"
   ]
  },
  {
   "cell_type": "code",
   "execution_count": 198,
   "metadata": {
    "collapsed": true
   },
   "outputs": [],
   "source": [
    "if(isin(0, target_songs)):\n",
    "    target_songs=target_songs[1:]\n",
    "playcount = []\n",
    "multi = []\n",
    "popularity = []\n",
    "for el in target_songs:\n",
    "        if(len(intersect1d(el, target_songs))>0):\n",
    "            x = where(songs_popularity[:,0]==el)\n",
    "            playcount=concatenate((playcount, songs_popularity[x,1][0]))\n",
    "            multi=concatenate((multi, songs_popularity[x,1][0]*songs_popularity[x,2][0]))  \n",
    "            popularity = concatenate((popularity, songs_popularity[x,2][0]))  \n",
    "    t_playcount_indexes = argsort(playcount).take(range(5))\n",
    "    t_multi_indexes = argsort(playcount).take(range(5))\n",
    "    t_popularity_indexes = argsort(playcount).take(range(5))\n",
    "    r = []        \n",
    "    for t in t_popularity_indexes:\n",
    "        r=append(r, songs_popularity[t,0])\n",
    "    return r"
   ]
  },
  {
   "cell_type": "code",
   "execution_count": 199,
   "metadata": {},
   "outputs": [
    {
     "data": {
      "text/plain": [
       "array([  961472.,  2696821.,  1071536.,  1390529.,   519837.])"
      ]
     },
     "execution_count": 199,
     "metadata": {},
     "output_type": "execute_result"
    }
   ],
   "source": [
    "r\n"
   ]
  },
  {
   "cell_type": "code",
   "execution_count": null,
   "metadata": {
    "collapsed": true
   },
   "outputs": [],
   "source": []
  },
  {
   "cell_type": "code",
   "execution_count": null,
   "metadata": {
    "collapsed": true
   },
   "outputs": [],
   "source": []
  },
  {
   "cell_type": "code",
   "execution_count": null,
   "metadata": {
    "collapsed": true
   },
   "outputs": [],
   "source": []
  }
 ],
 "metadata": {
  "kernelspec": {
   "display_name": "Python 3",
   "language": "python",
   "name": "python3"
  },
  "language_info": {
   "codemirror_mode": {
    "name": "ipython",
    "version": 3
   },
   "file_extension": ".py",
   "mimetype": "text/x-python",
   "name": "python",
   "nbconvert_exporter": "python",
   "pygments_lexer": "ipython3",
   "version": "3.6.2"
  }
 },
 "nbformat": 4,
 "nbformat_minor": 2
}
