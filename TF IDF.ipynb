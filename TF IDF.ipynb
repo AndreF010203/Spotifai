{
 "cells": [
  {
   "cell_type": "code",
   "execution_count": 1,
   "metadata": {
    "collapsed": true
   },
   "outputs": [],
   "source": [
    "from numpy import *\n",
    "from scipy.sparse import *"
   ]
  },
  {
   "cell_type": "code",
   "execution_count": 6,
   "metadata": {
    "collapsed": false
   },
   "outputs": [
    {
     "data": {
      "text/plain": [
       "array([[2972914,   54087,    1757,    1718,  116712,  189631],\n",
       "       [2750239,  189631,    3424,  177424,   46208,  205245],\n",
       "       [1550729,   54087,  109806,   46869,  183258,   54337],\n",
       "       ..., \n",
       "       [2584455,       0,       0,       0,       0,       0],\n",
       "       [2299706,       0,       0,       0,       0,       0],\n",
       "       [2739985,       0,       0,       0,       0,       0]], dtype=int32)"
      ]
     },
     "execution_count": 6,
     "metadata": {},
     "output_type": "execute_result"
    }
   ],
   "source": [
    "tracksWithTags=load(\"tracks_with_tags.npy\")\n",
    "tracksWithTags"
   ]
  },
  {
   "cell_type": "code",
   "execution_count": 7,
   "metadata": {
    "collapsed": false
   },
   "outputs": [
    {
     "data": {
      "text/plain": [
       "array([2972914, 2750239, 1550729, ..., 2584455, 2299706, 2739985], dtype=int32)"
      ]
     },
     "execution_count": 7,
     "metadata": {},
     "output_type": "execute_result"
    }
   ],
   "source": [
    "tracksIDs=tracksWithTags[:,0]\n",
    "tracksIDs"
   ]
  },
  {
   "cell_type": "code",
   "execution_count": 11,
   "metadata": {
    "collapsed": false
   },
   "outputs": [
    {
     "data": {
      "text/plain": [
       "array([[ 54087,   1757,   1718, 116712, 189631],\n",
       "       [189631,   3424, 177424,  46208, 205245],\n",
       "       [ 54087, 109806,  46869, 183258,  54337],\n",
       "       ..., \n",
       "       [     0,      0,      0,      0,      0],\n",
       "       [     0,      0,      0,      0,      0],\n",
       "       [     0,      0,      0,      0,      0]], dtype=int32)"
      ]
     },
     "execution_count": 11,
     "metadata": {},
     "output_type": "execute_result"
    }
   ],
   "source": [
    "tracksTags=tracksWithTags[:,1:]\n",
    "tracksTags"
   ]
  },
  {
   "cell_type": "code",
   "execution_count": 12,
   "metadata": {
    "collapsed": true
   },
   "outputs": [],
   "source": [
    "allTags=[]\n",
    "for tags in tracksTags:\n",
    "    for t in tags:\n",
    "        if(not t in allTags):\n",
    "            allTags.append(t)"
   ]
  },
  {
   "cell_type": "code",
   "execution_count": 23,
   "metadata": {
    "collapsed": false
   },
   "outputs": [
    {
     "data": {
      "text/plain": [
       "31900"
      ]
     },
     "execution_count": 23,
     "metadata": {},
     "output_type": "execute_result"
    }
   ],
   "source": [
    "#allTags.remove(0)\n",
    "len(allTags)"
   ]
  },
  {
   "cell_type": "code",
   "execution_count": 25,
   "metadata": {
    "collapsed": false
   },
   "outputs": [
    {
     "data": {
      "text/plain": [
       "(array([ 54087,   1757,   1718, ...,  87957, 275594, 276430], dtype=int32),\n",
       " 31900)"
      ]
     },
     "execution_count": 25,
     "metadata": {},
     "output_type": "execute_result"
    }
   ],
   "source": [
    "arrayAllTags=array(allTags)\n",
    "arrayAllTags,arrayAllTags.size"
   ]
  },
  {
   "cell_type": "code",
   "execution_count": 30,
   "metadata": {
    "collapsed": false
   },
   "outputs": [
    {
     "data": {
      "text/plain": [
       "(array([    22,     26,     27, ..., 276604, 276605, 276614], dtype=int32),\n",
       " 31900)"
      ]
     },
     "execution_count": 30,
     "metadata": {},
     "output_type": "execute_result"
    }
   ],
   "source": [
    "arrayAllTags=unique(arrayAllTags)\n",
    "arrayAllTags,arrayAllTags.size"
   ]
  },
  {
   "cell_type": "code",
   "execution_count": 42,
   "metadata": {
    "collapsed": true
   },
   "outputs": [],
   "source": [
    "save(\"uniqueTags.npy\",arrayAllTags)"
   ]
  },
  {
   "cell_type": "code",
   "execution_count": 33,
   "metadata": {
    "collapsed": false
   },
   "outputs": [
    {
     "data": {
      "text/plain": [
       "2"
      ]
     },
     "execution_count": 33,
     "metadata": {},
     "output_type": "execute_result"
    }
   ],
   "source": [
    "where(arrayAllTags==27)[0][0]"
   ]
  },
  {
   "cell_type": "code",
   "execution_count": 36,
   "metadata": {
    "collapsed": false
   },
   "outputs": [],
   "source": [
    "tagsTotalFreq=[0]*31900\n",
    "for tags in tracksTags:\n",
    "    for t in tags:\n",
    "        if t!=0:\n",
    "            tagsTotalFreq[where(arrayAllTags==t)[0][0]]+=1"
   ]
  },
  {
   "cell_type": "code",
   "execution_count": 53,
   "metadata": {
    "collapsed": false
   },
   "outputs": [
    {
     "data": {
      "text/plain": [
       "array([5, 1, 1, ..., 2, 9, 1])"
      ]
     },
     "execution_count": 53,
     "metadata": {},
     "output_type": "execute_result"
    }
   ],
   "source": [
    "arrayTagsTotalFreq=array(tagsTotalFreq)\n",
    "arrayTagsTotalFreq"
   ]
  },
  {
   "cell_type": "code",
   "execution_count": 43,
   "metadata": {
    "collapsed": true
   },
   "outputs": [],
   "source": [
    "save(\"tagsTotalFrequency.npy\",arrayTagsTotalFreq)"
   ]
  },
  {
   "cell_type": "code",
   "execution_count": 54,
   "metadata": {
    "collapsed": false
   },
   "outputs": [],
   "source": [
    "IDF=log(100000/arrayTagsTotalFreq)"
   ]
  },
  {
   "cell_type": "code",
   "execution_count": 55,
   "metadata": {
    "collapsed": false
   },
   "outputs": [
    {
     "data": {
      "text/plain": [
       "array([  9.90348755,  11.51292546,  11.51292546, ...,  10.81977828,\n",
       "         9.31570089,  11.51292546])"
      ]
     },
     "execution_count": 55,
     "metadata": {},
     "output_type": "execute_result"
    }
   ],
   "source": [
    "IDF"
   ]
  },
  {
   "cell_type": "code",
   "execution_count": 80,
   "metadata": {
    "collapsed": false
   },
   "outputs": [
    {
     "data": {
      "text/plain": [
       "<10000x31900 sparse matrix of type '<class 'numpy.float64'>'\n",
       "\twith 517048 stored elements in Compressed Sparse Column format>"
      ]
     },
     "execution_count": 80,
     "metadata": {},
     "output_type": "execute_result"
    }
   ],
   "source": [
    "targetPlWithTagsBinc=load_npz(\"playlist_reduced.npz\")\n",
    "targetPlWithTagsBinc"
   ]
  },
  {
   "cell_type": "code",
   "execution_count": 81,
   "metadata": {
    "collapsed": false
   },
   "outputs": [
    {
     "data": {
      "text/plain": [
       "<100000x31900 sparse matrix of type '<class 'numpy.int8'>'\n",
       "\twith 483482 stored elements in Compressed Sparse Column format>"
      ]
     },
     "execution_count": 81,
     "metadata": {},
     "output_type": "execute_result"
    }
   ],
   "source": [
    "allTracksWithTagsBinc=load_npz(\"tracks_ordered_tags_reduced.npz\")\n",
    "allTracksWithTagsBinc"
   ]
  },
  {
   "cell_type": "code",
   "execution_count": 94,
   "metadata": {
    "collapsed": false
   },
   "outputs": [],
   "source": [
    "firstCol=targetPlWithTagsBinc.getcol(0)\n",
    "firstCol=firstCol*IDF[0]\n",
    "firstCol\n",
    "for i in range(1,31900):\n",
    "    thisCol=targetPlWithTagsBinc.getcol(i)\n",
    "    thisCol=thisCol*IDF[i]\n",
    "    firstCol=hstack((firstCol,thisCol))"
   ]
  },
  {
   "cell_type": "code",
   "execution_count": 96,
   "metadata": {
    "collapsed": false
   },
   "outputs": [],
   "source": [
    "save_npz(\"target_playlist_tags_TF_IDF.npz\",firstCol)"
   ]
  },
  {
   "cell_type": "code",
   "execution_count": 101,
   "metadata": {
    "collapsed": false
   },
   "outputs": [],
   "source": [
    "firstTrack=allTracksWithTagsBinc.getcol(0)\n",
    "firstTrack=firstTrack*IDF[0]\n",
    "firstTrack\n",
    "for i in range(1,31900):\n",
    "    newCol=allTracksWithTagsBinc.getcol(i)\n",
    "    newCol=newCol*IDF[i]\n",
    "    firstTrack=hstack((firstTrack,newCol))"
   ]
  },
  {
   "cell_type": "code",
   "execution_count": 103,
   "metadata": {
    "collapsed": false
   },
   "outputs": [],
   "source": [
    "save_npz(\"all_tracks_tags_TF_IDF.npz\",firstTrack)"
   ]
  },
  {
   "cell_type": "code",
   "execution_count": 106,
   "metadata": {
    "collapsed": false
   },
   "outputs": [
    {
     "data": {
      "text/plain": [
       "<32195x31900 sparse matrix of type '<class 'numpy.int8'>'\n",
       "\twith 156621 stored elements in Compressed Sparse Row format>"
      ]
     },
     "execution_count": 106,
     "metadata": {},
     "output_type": "execute_result"
    }
   ],
   "source": [
    "targetTracksWithTags=load_npz(\"reducedTargetT.npz\")\n",
    "targetTracksWithTags"
   ]
  },
  {
   "cell_type": "code",
   "execution_count": 108,
   "metadata": {
    "collapsed": false
   },
   "outputs": [],
   "source": [
    "firstTarget=targetTracksWithTags.getcol(0)\n",
    "firstTarget=firstTarget*IDF[0]\n",
    "firstTarget\n",
    "for i in range(1,31900):\n",
    "    newTarget=targetTracksWithTags.getcol(i)\n",
    "    newTarget=newTarget*IDF[i]\n",
    "    firstTarget=hstack((firstTarget,newTarget))"
   ]
  },
  {
   "cell_type": "code",
   "execution_count": 109,
   "metadata": {
    "collapsed": false
   },
   "outputs": [
    {
     "data": {
      "text/plain": [
       "<32195x31900 sparse matrix of type '<class 'numpy.float64'>'\n",
       "\twith 156621 stored elements in COOrdinate format>"
      ]
     },
     "execution_count": 109,
     "metadata": {},
     "output_type": "execute_result"
    }
   ],
   "source": [
    "firstTarget"
   ]
  },
  {
   "cell_type": "code",
   "execution_count": 110,
   "metadata": {
    "collapsed": true
   },
   "outputs": [],
   "source": [
    "save_npz(\"target_tracks_tags_TF_IDF\",firstTarget)"
   ]
  }
 ],
 "metadata": {
  "kernelspec": {
   "display_name": "Python 3",
   "language": "python",
   "name": "python3"
  },
  "language_info": {
   "codemirror_mode": {
    "name": "ipython",
    "version": 3
   },
   "file_extension": ".py",
   "mimetype": "text/x-python",
   "name": "python",
   "nbconvert_exporter": "python",
   "pygments_lexer": "ipython3",
   "version": "3.5.4"
  }
 },
 "nbformat": 4,
 "nbformat_minor": 2
}
