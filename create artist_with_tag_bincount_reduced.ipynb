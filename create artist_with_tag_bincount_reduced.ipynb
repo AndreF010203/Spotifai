{
 "cells": [
  {
   "cell_type": "code",
   "execution_count": 1,
   "metadata": {
    "collapsed": true
   },
   "outputs": [],
   "source": [
    "from numpy import *\n",
    "from scipy.sparse import *"
   ]
  },
  {
   "cell_type": "code",
   "execution_count": 2,
   "metadata": {
    "collapsed": false
   },
   "outputs": [
    {
     "data": {
      "text/plain": [
       "<17536x221 sparse matrix of type '<class 'numpy.int64'>'\n",
       "\twith 100000 stored elements in Compressed Sparse Column format>"
      ]
     },
     "execution_count": 2,
     "metadata": {},
     "output_type": "execute_result"
    }
   ],
   "source": [
    "artistTracks=load_npz(\"artists_with_tracksID_ordered_by_occurrencies.npz\")\n",
    "artistTracks"
   ]
  },
  {
   "cell_type": "code",
   "execution_count": 4,
   "metadata": {
    "collapsed": false
   },
   "outputs": [
    {
     "data": {
      "text/plain": [
       "array([[2972914,     144],\n",
       "       [2750239,     246],\n",
       "       [1550729,     144],\n",
       "       ..., \n",
       "       [2584455,   27938],\n",
       "       [2299706,  373892],\n",
       "       [2739985,  567363]], dtype=int32)"
      ]
     },
     "execution_count": 4,
     "metadata": {},
     "output_type": "execute_result"
    }
   ],
   "source": [
    "trackArtist=load(\"track_artist.npy\")\n",
    "trackArtist"
   ]
  },
  {
   "cell_type": "code",
   "execution_count": 6,
   "metadata": {
    "collapsed": false
   },
   "outputs": [
    {
     "data": {
      "text/plain": [
       "(array([    78,    109,    144, ..., 567363, 568165, 570588], dtype=int32),\n",
       " 17536)"
      ]
     },
     "execution_count": 6,
     "metadata": {},
     "output_type": "execute_result"
    }
   ],
   "source": [
    "artistIDs=unique(trackArtist[:,1])\n",
    "artistIDs,artistIDs.size"
   ]
  },
  {
   "cell_type": "code",
   "execution_count": 8,
   "metadata": {
    "collapsed": false
   },
   "outputs": [
    {
     "data": {
      "text/plain": [
       "array([[2972914,   54087,    1757,    1718,  116712,  189631],\n",
       "       [2750239,  189631,    3424,  177424,   46208,  205245],\n",
       "       [1550729,   54087,  109806,   46869,  183258,   54337],\n",
       "       ..., \n",
       "       [2584455,       0,       0,       0,       0,       0],\n",
       "       [2299706,       0,       0,       0,       0,       0],\n",
       "       [2739985,       0,       0,       0,       0,       0]], dtype=int32)"
      ]
     },
     "execution_count": 8,
     "metadata": {},
     "output_type": "execute_result"
    }
   ],
   "source": [
    "trackTag=load(\"tracks_with_tags.npy\")\n",
    "trackTag"
   ]
  },
  {
   "cell_type": "code",
   "execution_count": 13,
   "metadata": {
    "collapsed": false
   },
   "outputs": [
    {
     "data": {
      "text/plain": [
       "array([2972914, 2750239, 1550729, ..., 2584455, 2299706, 2739985], dtype=int32)"
      ]
     },
     "execution_count": 13,
     "metadata": {},
     "output_type": "execute_result"
    }
   ],
   "source": [
    "onlyTrackIDs=trackTag[:,0]\n",
    "onlyTrackIDs"
   ]
  },
  {
   "cell_type": "code",
   "execution_count": 14,
   "metadata": {
    "collapsed": false
   },
   "outputs": [
    {
     "data": {
      "text/plain": [
       "array([[ 54087,   1757,   1718, 116712, 189631],\n",
       "       [189631,   3424, 177424,  46208, 205245],\n",
       "       [ 54087, 109806,  46869, 183258,  54337],\n",
       "       ..., \n",
       "       [     0,      0,      0,      0,      0],\n",
       "       [     0,      0,      0,      0,      0],\n",
       "       [     0,      0,      0,      0,      0]], dtype=int32)"
      ]
     },
     "execution_count": 14,
     "metadata": {},
     "output_type": "execute_result"
    }
   ],
   "source": [
    "onlyTrackTags=trackTag[:,1:]\n",
    "onlyTrackTags"
   ]
  },
  {
   "cell_type": "code",
   "execution_count": 29,
   "metadata": {
    "collapsed": false
   },
   "outputs": [
    {
     "data": {
      "text/plain": [
       "99997"
      ]
     },
     "execution_count": 29,
     "metadata": {},
     "output_type": "execute_result"
    }
   ],
   "source": [
    "where(onlyTrackIDs==2584455)[0][0]"
   ]
  },
  {
   "cell_type": "code",
   "execution_count": 30,
   "metadata": {
    "collapsed": true
   },
   "outputs": [],
   "source": [
    "artistsTag=[]\n",
    "for tracks in artistTracks:\n",
    "    thisTags=[]\n",
    "    for t in tracks.data:\n",
    "        i=where(onlyTrackIDs==t)[0][0]\n",
    "        thisTags+=list(onlyTrackTags[i])\n",
    "    artistsTag.append(thisTags)"
   ]
  },
  {
   "cell_type": "code",
   "execution_count": 32,
   "metadata": {
    "collapsed": false
   },
   "outputs": [
    {
     "data": {
      "text/plain": [
       "1105"
      ]
     },
     "execution_count": 32,
     "metadata": {},
     "output_type": "execute_result"
    }
   ],
   "source": [
    "max([len(a) for a in artistsTag])"
   ]
  },
  {
   "cell_type": "code",
   "execution_count": 33,
   "metadata": {
    "collapsed": false
   },
   "outputs": [
    {
     "data": {
      "text/plain": [
       "1105"
      ]
     },
     "execution_count": 33,
     "metadata": {},
     "output_type": "execute_result"
    }
   ],
   "source": [
    "221*5"
   ]
  },
  {
   "cell_type": "code",
   "execution_count": 38,
   "metadata": {
    "collapsed": false
   },
   "outputs": [
    {
     "data": {
      "text/plain": [
       "276615"
      ]
     },
     "execution_count": 38,
     "metadata": {},
     "output_type": "execute_result"
    }
   ],
   "source": [
    "maxTag=max([max(t) for t in onlyTrackTags])\n",
    "maxSize=maxTag+1\n",
    "maxSize"
   ]
  },
  {
   "cell_type": "code",
   "execution_count": 44,
   "metadata": {
    "collapsed": false
   },
   "outputs": [],
   "source": [
    "A=lil_matrix((17536,maxSize))\n",
    "for i,tags in enumerate(artistsTag):\n",
    "    A[i]=bincount(tags, minlength=maxSize)"
   ]
  },
  {
   "cell_type": "code",
   "execution_count": 53,
   "metadata": {
    "collapsed": false
   },
   "outputs": [
    {
     "data": {
      "text/plain": [
       "<17536x276615 sparse matrix of type '<class 'numpy.float64'>'\n",
       "\twith 179276 stored elements in Compressed Sparse Column format>"
      ]
     },
     "execution_count": 53,
     "metadata": {},
     "output_type": "execute_result"
    }
   ],
   "source": [
    "A=csc_matrix(A)\n",
    "A"
   ]
  },
  {
   "cell_type": "code",
   "execution_count": 61,
   "metadata": {
    "collapsed": false
   },
   "outputs": [
    {
     "name": "stdout",
     "output_type": "stream",
     "text": [
      "22\n"
     ]
    }
   ],
   "source": [
    "for i in range(1,276615):\n",
    "    if(A.getcol(i).size!=0):\n",
    "        print(i)\n",
    "        break"
   ]
  },
  {
   "cell_type": "code",
   "execution_count": 65,
   "metadata": {
    "collapsed": false
   },
   "outputs": [],
   "source": [
    "firstCol=A.getcol(22)\n",
    "for i in range(23,276615):\n",
    "    thisCol=A.getcol(i)\n",
    "    if(thisCol.size!=0):\n",
    "        firstCol=hstack((firstCol,thisCol))"
   ]
  },
  {
   "cell_type": "code",
   "execution_count": 71,
   "metadata": {
    "collapsed": false
   },
   "outputs": [],
   "source": [
    "firstCol=firstCol.astype(int16)"
   ]
  },
  {
   "cell_type": "code",
   "execution_count": 72,
   "metadata": {
    "collapsed": true
   },
   "outputs": [],
   "source": [
    "save_npz(\"artist_with_tag_bincount_reduced.npz\",firstCol)"
   ]
  },
  {
   "cell_type": "code",
   "execution_count": 73,
   "metadata": {
    "collapsed": false
   },
   "outputs": [
    {
     "data": {
      "text/plain": [
       "<17536x31900 sparse matrix of type '<class 'numpy.int16'>'\n",
       "\twith 176915 stored elements in Compressed Sparse Column format>"
      ]
     },
     "execution_count": 73,
     "metadata": {},
     "output_type": "execute_result"
    }
   ],
   "source": [
    "testResult=load_npz(\"artist_with_tag_bincount_reduced.npz\")\n",
    "testResult"
   ]
  }
 ],
 "metadata": {
  "kernelspec": {
   "display_name": "Python 3",
   "language": "python",
   "name": "python3"
  },
  "language_info": {
   "codemirror_mode": {
    "name": "ipython",
    "version": 3
   },
   "file_extension": ".py",
   "mimetype": "text/x-python",
   "name": "python",
   "nbconvert_exporter": "python",
   "pygments_lexer": "ipython3",
   "version": "3.5.4"
  }
 },
 "nbformat": 4,
 "nbformat_minor": 2
}
