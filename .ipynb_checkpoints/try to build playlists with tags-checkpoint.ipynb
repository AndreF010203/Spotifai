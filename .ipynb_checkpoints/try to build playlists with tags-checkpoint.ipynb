{
 "cells": [
  {
   "cell_type": "code",
   "execution_count": 6,
   "metadata": {
    "collapsed": true
   },
   "outputs": [],
   "source": [
    "from numpy import *"
   ]
  },
  {
   "cell_type": "code",
   "execution_count": 13,
   "metadata": {},
   "outputs": [
    {
     "data": {
      "text/plain": [
       "array([[2972914,   54087,    1757,    1718,  116712,  189631],\n",
       "       [2750239,  189631,    3424,  177424,   46208,  205245],\n",
       "       [1550729,   54087,  109806,   46869,  183258,   54337],\n",
       "       ..., \n",
       "       [1826344,   31253,   46208,   31015,  205245,  228096],\n",
       "       [2580811,   31253,  205245,     431,   46208,  276604],\n",
       "       [1255324,   46208,  205245,   31253,  276605,  228096]])"
      ]
     },
     "execution_count": 13,
     "metadata": {},
     "output_type": "execute_result"
    }
   ],
   "source": [
    "tracks_with_tags=load(\"tracks_with_tags.npy\")\n",
    "tracks_with_tags"
   ]
  },
  {
   "cell_type": "code",
   "execution_count": 14,
   "metadata": {},
   "outputs": [
    {
     "data": {
      "text/plain": [
       "array([[10024884,  2879006,  1532328, ...,        0,        0,        0],\n",
       "       [10624787,  2090319,  2152295, ...,        0,        0,        0],\n",
       "       [ 4891851,  2621486,  2895498, ...,        0,        0,        0],\n",
       "       ..., \n",
       "       [11369546,   416692,  1587449, ...,        0,        0,        0],\n",
       "       [ 7939535,  2788577,  3090083, ...,        0,        0,        0],\n",
       "       [  297021,  2789282,  2154608, ...,        0,        0,        0]])"
      ]
     },
     "execution_count": 14,
     "metadata": {},
     "output_type": "execute_result"
    }
   ],
   "source": [
    "playlists_with_tracks=load(\"playlists_with_tracks.npy\")\n",
    "playlists_with_tracks"
   ]
  },
  {
   "cell_type": "code",
   "execution_count": 15,
   "metadata": {},
   "outputs": [
    {
     "data": {
      "text/plain": [
       "(97211, 6)"
      ]
     },
     "execution_count": 15,
     "metadata": {},
     "output_type": "execute_result"
    }
   ],
   "source": [
    "tracks_with_tags.shape"
   ]
  },
  {
   "cell_type": "code",
   "execution_count": 34,
   "metadata": {},
   "outputs": [
    {
     "data": {
      "text/plain": [
       "(10000, 193)"
      ]
     },
     "execution_count": 34,
     "metadata": {},
     "output_type": "execute_result"
    }
   ],
   "source": [
    "pwtagshape=playlists_with_tracks.shape\n",
    "pwtagshape"
   ]
  },
  {
   "cell_type": "code",
   "execution_count": 35,
   "metadata": {},
   "outputs": [
    {
     "data": {
      "text/plain": [
       "array([[10024884, 10624787,  4891851, ..., 11369546,  7939535,   297021]])"
      ]
     },
     "execution_count": 35,
     "metadata": {},
     "output_type": "execute_result"
    }
   ],
   "source": [
    "playlists_with_tags=column_stack(playlists_with_tracks[:,0])\n",
    "playlists_with_tags"
   ]
  },
  {
   "cell_type": "code",
   "execution_count": 36,
   "metadata": {},
   "outputs": [],
   "source": [
    "tags_for_playlists=zeros((10000,5*(pwtagshape[1]-1)))"
   ]
  },
  {
   "cell_type": "markdown",
   "metadata": {},
   "source": [
    "da qui sotto in poi ci mette troppooooooo"
   ]
  },
  {
   "cell_type": "code",
   "execution_count": 155,
   "metadata": {},
   "outputs": [
    {
     "ename": "KeyboardInterrupt",
     "evalue": "",
     "output_type": "error",
     "traceback": [
      "\u001b[0;31m---------------------------------------------------------------------------\u001b[0m",
      "\u001b[0;31mKeyboardInterrupt\u001b[0m                         Traceback (most recent call last)",
      "\u001b[0;32m<ipython-input-155-17746fd0d894>\u001b[0m in \u001b[0;36m<module>\u001b[0;34m()\u001b[0m\n\u001b[1;32m      5\u001b[0m     \u001b[0;32mfor\u001b[0m \u001b[0mt\u001b[0m \u001b[0;32min\u001b[0m \u001b[0mrange\u001b[0m\u001b[0;34m(\u001b[0m\u001b[0mtracks\u001b[0m\u001b[0;34m.\u001b[0m\u001b[0msize\u001b[0m\u001b[0;34m)\u001b[0m\u001b[0;34m:\u001b[0m\u001b[0;34m\u001b[0m\u001b[0m\n\u001b[1;32m      6\u001b[0m         \u001b[0;31m#print(tracks[x])\u001b[0m\u001b[0;34m\u001b[0m\u001b[0;34m\u001b[0m\u001b[0m\n\u001b[0;32m----> 7\u001b[0;31m         \u001b[0mindex\u001b[0m\u001b[0;34m=\u001b[0m\u001b[0mwhere\u001b[0m\u001b[0;34m(\u001b[0m\u001b[0monlytracksID\u001b[0m\u001b[0;34m==\u001b[0m\u001b[0mtracks\u001b[0m\u001b[0;34m[\u001b[0m\u001b[0mt\u001b[0m\u001b[0;34m]\u001b[0m\u001b[0;34m)\u001b[0m\u001b[0;34m[\u001b[0m\u001b[0;36m0\u001b[0m\u001b[0;34m]\u001b[0m\u001b[0;34m\u001b[0m\u001b[0m\n\u001b[0m\u001b[1;32m      8\u001b[0m         \u001b[0;32mif\u001b[0m \u001b[0mlen\u001b[0m\u001b[0;34m(\u001b[0m\u001b[0mindex\u001b[0m\u001b[0;34m!=\u001b[0m\u001b[0;36m0\u001b[0m\u001b[0;34m)\u001b[0m\u001b[0;34m:\u001b[0m\u001b[0;34m\u001b[0m\u001b[0m\n\u001b[1;32m      9\u001b[0m             \u001b[0mindex\u001b[0m\u001b[0;34m=\u001b[0m\u001b[0mindex\u001b[0m\u001b[0;34m[\u001b[0m\u001b[0;36m0\u001b[0m\u001b[0;34m]\u001b[0m\u001b[0;34m\u001b[0m\u001b[0m\n",
      "\u001b[0;31mKeyboardInterrupt\u001b[0m: "
     ]
    }
   ],
   "source": [
    "onlytracksID=tracks_with_tags[:,0]\n",
    "for x in range(pwtshape[0]):\n",
    "    tracks=trim_zeros(unique(playlists_with_tracks[x][1:]))\n",
    "    #print(tracks)\n",
    "    for t in range(tracks.size):\n",
    "        #print(tracks[x])\n",
    "        index=where(onlytracksID==tracks[t])[0]\n",
    "        if len(index!=0):\n",
    "            index=index[0]\n",
    "            tags=tracks_with_tags[index][1:]\n",
    "            #print(index,tags)\n",
    "    #if(x%100==0):\n",
    "        #print(x)"
   ]
  },
  {
   "cell_type": "code",
   "execution_count": 157,
   "metadata": {},
   "outputs": [
    {
     "data": {
      "text/plain": [
       "array([  82829,   98812,  161455,  162673,  187052,  187564,  195851,\n",
       "        247331,  285286,  353291,  395601,  435345,  450130,  458582,\n",
       "        471263,  487955,  574908,  634176,  634184,  661042,  814732,\n",
       "        897319, 1032307, 1197750, 1242583, 1510434, 1531103, 1532328,\n",
       "       1563134, 1565351, 1672852, 1764559, 1904860, 1925295, 1928272,\n",
       "       2003473, 2044251, 2079443, 2121777, 2187874, 2214157, 2391120,\n",
       "       2479330, 2515234, 2543467, 2710242, 2726115, 2761193, 2773840,\n",
       "       2795693, 2830252, 2830649, 2864735, 2879006, 2897887, 3027673,\n",
       "       3236144, 3338954, 3376598, 3421992, 3451601, 3471865, 3481281,\n",
       "       3577226, 3669368, 3882913])"
      ]
     },
     "execution_count": 157,
     "metadata": {},
     "output_type": "execute_result"
    }
   ],
   "source": [
    "trackstest=trim_zeros(unique(playlists_with_tracks[0][1:]))\n",
    "trackstest"
   ]
  },
  {
   "cell_type": "code",
   "execution_count": 159,
   "metadata": {},
   "outputs": [],
   "source": [
    "for x in range(trackstest.size):\n",
    "    onlytracksID=tracks_with_tags[:,0]\n",
    "    #print(trackstest[x])\n",
    "    index=where(onlytracksID==trackstest[x])[0]\n",
    "    if len(index!=0):\n",
    "        index=index[0]\n",
    "        tagstest=tracks_with_tags[index][1:]\n",
    "        #print(index,tagstest)\n",
    "    "
   ]
  },
  {
   "cell_type": "code",
   "execution_count": null,
   "metadata": {},
   "outputs": [],
   "source": []
  }
 ],
 "metadata": {
  "kernelspec": {
   "display_name": "Python 3",
   "language": "python",
   "name": "python3"
  },
  "language_info": {
   "codemirror_mode": {
    "name": "ipython",
    "version": 3
   },
   "file_extension": ".py",
   "mimetype": "text/x-python",
   "name": "python",
   "nbconvert_exporter": "python",
   "pygments_lexer": "ipython3",
   "version": "3.6.2"
  }
 },
 "nbformat": 4,
 "nbformat_minor": 2
}
