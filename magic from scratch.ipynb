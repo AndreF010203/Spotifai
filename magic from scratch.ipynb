{
 "cells": [
  {
   "cell_type": "code",
   "execution_count": 1,
   "metadata": {
    "collapsed": false
   },
   "outputs": [],
   "source": [
    "import numpy\n",
    "import pandas\n",
    "from scipy.sparse import coo_matrix\n",
    "\n",
    "from implicit.als import AlternatingLeastSquares\n",
    "from implicit.nearest_neighbours import (BM25Recommender, CosineRecommender,\n",
    "                                         TFIDFRecommender, bm25_weight)"
   ]
  },
  {
   "cell_type": "code",
   "execution_count": 2,
   "metadata": {
    "collapsed": true
   },
   "outputs": [],
   "source": [
    "MODELS = {\"als\":  AlternatingLeastSquares,\n",
    "          \"tfidf\": TFIDFRecommender,\n",
    "          \"cosine\": CosineRecommender,\n",
    "          \"bm25\": BM25Recommender}"
   ]
  },
  {
   "cell_type": "code",
   "execution_count": 3,
   "metadata": {
    "collapsed": true
   },
   "outputs": [],
   "source": [
    "def get_model(model_name):\n",
    "    model_class = MODELS.get(model_name)\n",
    "    if not model_class:\n",
    "        raise ValueError(\"Unknown Model '%s'\" % model_name)\n",
    "\n",
    "    # some default params\n",
    "    if issubclass(model_class, AlternatingLeastSquares):\n",
    "        params = {'factors': 50, 'dtype': numpy.float32}\n",
    "    elif model_name == \"bm25\":\n",
    "        params = {'K1': 100, 'B': 0.5}\n",
    "    else:\n",
    "        params = {}\n",
    "\n",
    "    return model_class(**params)\n"
   ]
  },
  {
   "cell_type": "code",
   "execution_count": 28,
   "metadata": {
    "collapsed": true
   },
   "outputs": [],
   "source": [
    "def read_data(filename):\n",
    "    \"\"\" Reads in the last.fm dataset, and returns a tuple of a pandas dataframe\n",
    "    and a sparse matrix of artist/user/playcount \"\"\"\n",
    "    # read in triples of user/artist/playcount from the input dataset\n",
    "    # get a model based off the input params\n",
    "    data = pandas.read_table(filename,\n",
    "                             usecols=[0, 1],\n",
    "                             names=['user', 'artist'])\n",
    "\n",
    "    # map each artist and user to a unique numeric value\n",
    "    data['user'] = data['user'].astype(\"category\")\n",
    "    data['artist'] = data['artist'].astype(\"category\")\n",
    "    #print(data.shape)\n",
    "    # create a sparse matrix of all the users/plays\n",
    "    plays = coo_matrix((numpy.ones(1040522),\n",
    "                       (data['artist'].cat.codes.copy(),\n",
    "                        data['user'].cat.codes.copy())))\n",
    "\n",
    "    return data, plays"
   ]
  },
  {
   "cell_type": "code",
   "execution_count": 34,
   "metadata": {
    "collapsed": false
   },
   "outputs": [],
   "source": [
    "def calculate_similar_artists(input_filename, output_filename, model_name=\"als\"):\n",
    "    \"\"\" generates a list of similar artists in lastfm by utiliizing the 'similar_items'\n",
    "    api of the models \"\"\"\n",
    "    df, plays = read_data(input_filename)\n",
    "\n",
    "    # create a model from the input data\n",
    "    model = get_model(model_name)\n",
    "\n",
    "    # if we're training an ALS based model, weight input for last.fm\n",
    "    # by bm25\n",
    "    if issubclass(model.__class__, AlternatingLeastSquares):\n",
    "        # lets weight these models by bm25weight.\n",
    "        logging.debug(\"weighting matrix by bm25_weight\")\n",
    "        plays = bm25_weight(plays, K1=100, B=0.8)\n",
    "\n",
    "        # also disable building approximate recommend index\n",
    "        model.approximate_recommend = False\n",
    "\n",
    "    model.fit(plays)\n",
    "    \n",
    "    # write out similar artists by popularity\n",
    "    artists = dict(enumerate(df['artist'].cat.categories))\n",
    "    user_count = df.groupby('artist').size()\n",
    "    to_generate = sorted(list(artists), key=lambda x: -user_count[x])\n",
    "\n",
    "    # write out as a TSV of artistid, otherartistid, score\n",
    "    with open(output_filename, \"w\") as o:\n",
    "        for artistid in to_generate:\n",
    "            artist = artists[artistid]\n",
    "            for other, score in model.similar_items(artistid, 5):\n",
    "                o.write(\"%s\\t%s\\t%s\\n\" % (artist, artists[other], score))\n"
   ]
  },
  {
   "cell_type": "code",
   "execution_count": 72,
   "metadata": {
    "collapsed": true
   },
   "outputs": [],
   "source": [
    "def calculate_recommendations(input_filename, output_filename, model_name=\"als\"):\n",
    "    \"\"\" Generates artist recommendations for each user in the dataset \"\"\"\n",
    "    # train the model based off input params\n",
    "    df, plays = read_data(input_filename)\n",
    "\n",
    "    # create a model from the input data\n",
    "    model = get_model(model_name)\n",
    "\n",
    "    # if we're training an ALS based model, weight input for last.fm\n",
    "    # by bm25\n",
    "    if issubclass(model.__class__, AlternatingLeastSquares):\n",
    "        # lets weight these models by bm25weight.\n",
    "        logging.debug(\"weighting matrix by bm25_weight\")\n",
    "        plays = bm25_weight(plays, K1=100, B=0.8)\n",
    "\n",
    "        # also disable building approximate recommend index\n",
    "        model.approximate_similar_items = False\n",
    "\n",
    "    model.fit(plays)\n",
    "    \n",
    "    # generate recommendations for each user and write out to a file\n",
    "    artists = dict(enumerate(df['artist'].cat.categories))\n",
    "    allTracks=numpy.genfromtxt(\"tracks_final.csv\",skip_header=1,usecols=0)\n",
    "    targetT=numpy.genfromtxt(\"target_tracks.csv\",skip_header=1)\n",
    "    nonTarget=numpy.setdiff1d(allTracks,targetT)\n",
    "    targetP=numpy.genfromtxt(\"target_playlists.csv\",skip_header=1)\n",
    "    user_plays = plays.T.tocsr()\n",
    "    with open(output_filename, \"w\") as o:\n",
    "        o.write(\"playlist_id,track_ids\\n\")\n",
    "        for userid, username in enumerate(df['user'].cat.categories):\n",
    "            if numpy.isin(username,targetP):\n",
    "                o.write(str(username)+\",\")\n",
    "                for artistid, score in model.recommend(userid, user_plays,N=5):\n",
    "                    #o.write(\"%s\\t%s\\t%s\\n\" % (username, artists[artistid], score))\n",
    "                    tosuggest=artists[artistid]\n",
    "                    if numpy.isin(tosuggest,targetT):\n",
    "                        o.write(str(tosuggest)+\" \")\n",
    "                o.write(\"\\n\")"
   ]
  },
  {
   "cell_type": "code",
   "execution_count": 73,
   "metadata": {
    "collapsed": false
   },
   "outputs": [],
   "source": [
    "calculate_recommendations(\"train_final_2.csv\",\"provalibreria\",model_name=\"cosine\")"
   ]
  }
 ],
 "metadata": {
  "kernelspec": {
   "display_name": "Python 3",
   "language": "python",
   "name": "python3"
  },
  "language_info": {
   "codemirror_mode": {
    "name": "ipython",
    "version": 3
   },
   "file_extension": ".py",
   "mimetype": "text/x-python",
   "name": "python",
   "nbconvert_exporter": "python",
   "pygments_lexer": "ipython3",
   "version": "3.6.3"
  }
 },
 "nbformat": 4,
 "nbformat_minor": 2
}
