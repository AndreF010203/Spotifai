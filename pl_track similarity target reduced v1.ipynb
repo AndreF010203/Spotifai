{
 "cells": [
  {
   "cell_type": "code",
   "execution_count": 1,
   "metadata": {
    "collapsed": true
   },
   "outputs": [],
   "source": [
    "from numpy import *\n",
    "from scipy.sparse import *\n",
    "from sklearn.preprocessing import *"
   ]
  },
  {
   "cell_type": "code",
   "execution_count": 2,
   "metadata": {
    "collapsed": false
   },
   "outputs": [],
   "source": [
    "M=load_npz(\"reducedTargetT.npz\")"
   ]
  },
  {
   "cell_type": "code",
   "execution_count": 8,
   "metadata": {
    "collapsed": false
   },
   "outputs": [
    {
     "data": {
      "text/plain": [
       "(32195, 31900)"
      ]
     },
     "execution_count": 8,
     "metadata": {},
     "output_type": "execute_result"
    }
   ],
   "source": [
    "M.shape"
   ]
  },
  {
   "cell_type": "code",
   "execution_count": 9,
   "metadata": {
    "collapsed": false
   },
   "outputs": [
    {
     "data": {
      "text/plain": [
       "array([1, 1, 1, 1, 1], dtype=int8)"
      ]
     },
     "execution_count": 9,
     "metadata": {},
     "output_type": "execute_result"
    }
   ],
   "source": [
    "M[0].data"
   ]
  },
  {
   "cell_type": "code",
   "execution_count": 4,
   "metadata": {
    "collapsed": true
   },
   "outputs": [],
   "source": [
    "trackSim=M*M.T"
   ]
  },
  {
   "cell_type": "code",
   "execution_count": 7,
   "metadata": {
    "collapsed": false
   },
   "outputs": [
    {
     "data": {
      "text/plain": [
       "<32195x32195 sparse matrix of type '<class 'numpy.int8'>'\n",
       "\twith 214523619 stored elements in Compressed Sparse Row format>"
      ]
     },
     "execution_count": 7,
     "metadata": {},
     "output_type": "execute_result"
    }
   ],
   "source": [
    "trackSim"
   ]
  },
  {
   "cell_type": "code",
   "execution_count": 9,
   "metadata": {
    "collapsed": false
   },
   "outputs": [
    {
     "name": "stderr",
     "output_type": "stream",
     "text": [
      "/home/oppy/.local/lib/python3.5/site-packages/scipy/sparse/compressed.py:774: SparseEfficiencyWarning: Changing the sparsity structure of a csr_matrix is expensive. lil_matrix is more efficient.\n",
      "  SparseEfficiencyWarning)\n"
     ]
    }
   ],
   "source": [
    "trackSim.setdiag(0)"
   ]
  },
  {
   "cell_type": "code",
   "execution_count": 3,
   "metadata": {
    "collapsed": false
   },
   "outputs": [],
   "source": [
    "P=load_npz(\"playlist_reduced.npz\")\n",
    "P=normalize(P)"
   ]
  },
  {
   "cell_type": "code",
   "execution_count": 6,
   "metadata": {
    "collapsed": false
   },
   "outputs": [
    {
     "data": {
      "text/plain": [
       "array([ 0.01087342,  0.01087342,  0.02174684,  0.01087342,  0.01087342,\n",
       "        0.01087342,  0.23921524,  0.01087342,  0.2174684 ,  0.0543671 ,\n",
       "        0.01087342,  0.02174684,  0.01087342,  0.2174684 ,  0.0543671 ,\n",
       "        0.56541783,  0.01087342,  0.01087342,  0.01087342,  0.01087342,\n",
       "        0.01087342,  0.01087342,  0.01087342,  0.01087342,  0.01087342,\n",
       "        0.06524052,  0.01087342,  0.01087342,  0.01087342,  0.01087342,\n",
       "        0.57629125,  0.06524052,  0.01087342,  0.13048104,  0.01087342,\n",
       "        0.01087342,  0.01087342,  0.01087342,  0.02174684,  0.01087342,\n",
       "        0.01087342,  0.02174684,  0.01087342,  0.1087342 ,  0.01087342,\n",
       "        0.01087342,  0.01087342,  0.01087342,  0.01087342,  0.3805697 ,\n",
       "        0.02174684,  0.01087342,  0.01087342,  0.01087342,  0.01087342,\n",
       "        0.01087342,  0.01087342,  0.01087342,  0.01087342,  0.01087342,\n",
       "        0.01087342,  0.02174684,  0.01087342,  0.01087342])"
      ]
     },
     "execution_count": 6,
     "metadata": {},
     "output_type": "execute_result"
    }
   ],
   "source": [
    "P[0].data"
   ]
  },
  {
   "cell_type": "code",
   "execution_count": 4,
   "metadata": {
    "collapsed": false
   },
   "outputs": [
    {
     "data": {
      "text/plain": [
       "<10000x32195 sparse matrix of type '<class 'numpy.float64'>'\n",
       "\twith 197566599 stored elements in Compressed Sparse Row format>"
      ]
     },
     "execution_count": 4,
     "metadata": {},
     "output_type": "execute_result"
    }
   ],
   "source": [
    "PlTrackSim=P*M.T\n",
    "PlTrackSim"
   ]
  },
  {
   "cell_type": "code",
   "execution_count": 9,
   "metadata": {
    "collapsed": false
   },
   "outputs": [],
   "source": [
    "maxTargetIndex=PlTrackSim.argmax(1)"
   ]
  },
  {
   "cell_type": "code",
   "execution_count": 13,
   "metadata": {
    "collapsed": false
   },
   "outputs": [
    {
     "data": {
      "text/plain": [
       "matrix([[   21,  2188, 13123, ..., 12357,  1626,   371]])"
      ]
     },
     "execution_count": 13,
     "metadata": {},
     "output_type": "execute_result"
    }
   ],
   "source": [
    "maxTargetIndex=maxTargetIndex.flatten()\n",
    "maxTargetIndex"
   ]
  }
 ],
 "metadata": {
  "kernelspec": {
   "display_name": "Python 3",
   "language": "python",
   "name": "python3"
  },
  "language_info": {
   "codemirror_mode": {
    "name": "ipython",
    "version": 3
   },
   "file_extension": ".py",
   "mimetype": "text/x-python",
   "name": "python",
   "nbconvert_exporter": "python",
   "pygments_lexer": "ipython3",
   "version": "3.5.4"
  }
 },
 "nbformat": 4,
 "nbformat_minor": 2
}
