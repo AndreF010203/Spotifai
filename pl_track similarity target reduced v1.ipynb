{
 "cells": [
  {
   "cell_type": "code",
   "execution_count": 1,
   "metadata": {
    "collapsed": true
   },
   "outputs": [],
   "source": [
    "from numpy import *\n",
    "from scipy.sparse import *\n",
    "from sklearn.preprocessing import *"
   ]
  },
  {
   "cell_type": "code",
   "execution_count": 5,
   "metadata": {
    "collapsed": true
   },
   "outputs": [],
   "source": [
    "M=load_npz(\"reducedTargetT.npz\")"
   ]
  },
  {
   "cell_type": "code",
   "execution_count": 6,
   "metadata": {},
   "outputs": [
    {
     "data": {
      "text/plain": [
       "(32195, 31900)"
      ]
     },
     "execution_count": 6,
     "metadata": {},
     "output_type": "execute_result"
    }
   ],
   "source": [
    "M.shape"
   ]
  },
  {
   "cell_type": "code",
   "execution_count": 7,
   "metadata": {},
   "outputs": [
    {
     "data": {
      "text/plain": [
       "array([1, 1, 1, 1, 1], dtype=int8)"
      ]
     },
     "execution_count": 7,
     "metadata": {},
     "output_type": "execute_result"
    }
   ],
   "source": [
    "M[0].data"
   ]
  },
  {
   "cell_type": "code",
   "execution_count": 5,
   "metadata": {
    "collapsed": true
   },
   "outputs": [],
   "source": [
    "trackSim=M*M.T"
   ]
  },
  {
   "cell_type": "code",
   "execution_count": 6,
   "metadata": {},
   "outputs": [
    {
     "data": {
      "text/plain": [
       "<32195x32195 sparse matrix of type '<class 'numpy.int8'>'\n",
       "\twith 214523619 stored elements in Compressed Sparse Row format>"
      ]
     },
     "execution_count": 6,
     "metadata": {},
     "output_type": "execute_result"
    }
   ],
   "source": [
    "trackSim"
   ]
  },
  {
   "cell_type": "code",
   "execution_count": null,
   "metadata": {
    "collapsed": true
   },
   "outputs": [],
   "source": []
  },
  {
   "cell_type": "code",
   "execution_count": 2,
   "metadata": {
    "collapsed": true
   },
   "outputs": [],
   "source": [
    "P=load_npz(\"playlist_reduced.npz\")\n",
    "P=normalize(P)"
   ]
  },
  {
   "cell_type": "code",
   "execution_count": 3,
   "metadata": {},
   "outputs": [
    {
     "data": {
      "text/plain": [
       "array([ 0.01886792,  0.01886792,  0.03773585,  0.01886792,  0.01886792,\n",
       "        0.01886792,  0.41509434,  0.01886792,  0.37735849,  0.09433962,\n",
       "        0.01886792,  0.03773585,  0.01886792,  0.37735849,  0.09433962,\n",
       "        0.98113208,  0.01886792,  0.01886792,  0.01886792,  0.01886792,\n",
       "        0.01886792,  0.01886792,  0.01886792,  0.01886792,  0.01886792,\n",
       "        0.11320755,  0.01886792,  0.01886792,  0.01886792,  0.01886792,\n",
       "        1.        ,  0.11320755,  0.01886792,  0.22641509,  0.01886792,\n",
       "        0.01886792,  0.01886792,  0.01886792,  0.03773585,  0.01886792,\n",
       "        0.01886792,  0.03773585,  0.01886792,  0.18867925,  0.01886792,\n",
       "        0.01886792,  0.01886792,  0.01886792,  0.01886792,  0.66037736,\n",
       "        0.03773585,  0.01886792,  0.01886792,  0.01886792,  0.01886792,\n",
       "        0.01886792,  0.01886792,  0.01886792,  0.01886792,  0.01886792,\n",
       "        0.01886792,  0.03773585,  0.01886792,  0.01886792])"
      ]
     },
     "execution_count": 3,
     "metadata": {},
     "output_type": "execute_result"
    }
   ],
   "source": [
    "P[0].data"
   ]
  },
  {
   "cell_type": "code",
   "execution_count": 8,
   "metadata": {},
   "outputs": [
    {
     "data": {
      "text/plain": [
       "<10000x32195 sparse matrix of type '<class 'numpy.float64'>'\n",
       "\twith 197566599 stored elements in Compressed Sparse Row format>"
      ]
     },
     "execution_count": 8,
     "metadata": {},
     "output_type": "execute_result"
    }
   ],
   "source": [
    "PlTrackSim=P*M.T\n",
    "PlTrackSim"
   ]
  },
  {
   "cell_type": "code",
   "execution_count": 9,
   "metadata": {
    "collapsed": true
   },
   "outputs": [],
   "source": [
    "save_npz(\"target_pl_x_target_tracks_similarity.npz\", PlTrackSim)"
   ]
  },
  {
   "cell_type": "code",
   "execution_count": 10,
   "metadata": {},
   "outputs": [
    {
     "data": {
      "text/plain": [
       "array([[10024884,  2879006,  1532328, ...,        0,        0,        0],\n",
       "       [10624787,  2090319,  2152295, ...,        0,        0,        0],\n",
       "       [ 4891851,  2621486,  2895498, ...,        0,        0,        0],\n",
       "       ..., \n",
       "       [11369546,   416692,  1587449, ...,        0,        0,        0],\n",
       "       [ 7939535,  2788577,  3090083, ...,        0,        0,        0],\n",
       "       [  297021,  2789282,  2154608, ...,        0,        0,        0]], dtype=int64)"
      ]
     },
     "execution_count": 10,
     "metadata": {},
     "output_type": "execute_result"
    }
   ],
   "source": [
    "target_playlists=genfromtxt(\"target_playlists.csv\",skip_header=1)\n",
    "playlists_with_tracks=load(\"playlists_with_tracks.npy\")\n",
    "playlists_with_tracks"
   ]
  },
  {
   "cell_type": "code",
   "execution_count": 14,
   "metadata": {
    "collapsed": true
   },
   "outputs": [],
   "source": [
    "target_tracks_ordered = load(\"target_tracks_ordered.npy\")"
   ]
  },
  {
   "cell_type": "code",
   "execution_count": 46,
   "metadata": {
    "collapsed": true
   },
   "outputs": [],
   "source": [
    "fname = \"msimilarity.csv\"\n",
    "open(fname,\"w\").close()\n",
    "print(\"playlist_id,track_ids\",file=open(fname,\"a\"))\n",
    "for pl, simil in zip(playlists_with_tracks, PlTrackSim):\n",
    "    s = str(int(pl[0]))\n",
    "    s += \",\"\n",
    "    r = getsimil(pl, ravel(simil.todense()))\n",
    "    for el in r:\n",
    "        s+=str(el)\n",
    "        s+=\" \"\n",
    "    print(s,file=open(fname,\"a\"))"
   ]
  },
  {
   "cell_type": "code",
   "execution_count": 45,
   "metadata": {
    "collapsed": true
   },
   "outputs": [],
   "source": [
    "def getsimil(pls, similrow):\n",
    "    maxi = flip(argsort(similrow), axis=0)\n",
    "    r = []\n",
    "    for m in maxi:\n",
    "        if(not isin(target_tracks_ordered[m], pls[1:])):\n",
    "           r.append(target_tracks_ordered[m])\n",
    "           if(len(r)==5):\n",
    "               return r"
   ]
  },
  {
   "cell_type": "code",
   "execution_count": null,
   "metadata": {
    "collapsed": true
   },
   "outputs": [],
   "source": []
  },
  {
   "cell_type": "code",
   "execution_count": null,
   "metadata": {
    "collapsed": true
   },
   "outputs": [],
   "source": []
  },
  {
   "cell_type": "code",
   "execution_count": null,
   "metadata": {
    "collapsed": true
   },
   "outputs": [],
   "source": []
  },
  {
   "cell_type": "code",
   "execution_count": null,
   "metadata": {
    "collapsed": true
   },
   "outputs": [],
   "source": []
  }
 ],
 "metadata": {
  "kernelspec": {
   "display_name": "Python 3",
   "language": "python",
   "name": "python3"
  },
  "language_info": {
   "codemirror_mode": {
    "name": "ipython",
    "version": 3
   },
   "file_extension": ".py",
   "mimetype": "text/x-python",
   "name": "python",
   "nbconvert_exporter": "python",
   "pygments_lexer": "ipython3",
   "version": "3.6.2"
  }
 },
 "nbformat": 4,
 "nbformat_minor": 2
}
