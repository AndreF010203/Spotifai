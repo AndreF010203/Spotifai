{
 "cells": [
  {
   "cell_type": "code",
   "execution_count": 1,
   "metadata": {
    "collapsed": true
   },
   "outputs": [],
   "source": [
    "from numpy import *\n",
    "from scipy.sparse import *\n",
    "from sklearn.preprocessing import *"
   ]
  },
  {
   "cell_type": "code",
   "execution_count": 2,
   "metadata": {},
   "outputs": [],
   "source": [
    "PlTrackSim = load_npz(\"target_pl_x_target_tracks_similarity.npz\")"
   ]
  },
  {
   "cell_type": "code",
   "execution_count": 3,
   "metadata": {
    "collapsed": true
   },
   "outputs": [],
   "source": [
    "PlwithArtist = load_npz(\"targetPlaylistArtistReduced.npz\")"
   ]
  },
  {
   "cell_type": "code",
   "execution_count": 4,
   "metadata": {
    "collapsed": true
   },
   "outputs": [],
   "source": [
    "tTracksWithArtist = load_npz(\"targetTracksArtistReduced.npz\")"
   ]
  },
  {
   "cell_type": "code",
   "execution_count": 5,
   "metadata": {
    "collapsed": true
   },
   "outputs": [],
   "source": [
    "PlwithArtist = normalize(PlwithArtist, norm=\"max\")"
   ]
  },
  {
   "cell_type": "code",
   "execution_count": 6,
   "metadata": {
    "collapsed": true
   },
   "outputs": [],
   "source": [
    "PlTrackSimByArtist = PlwithArtist * tTracksWithArtist.T"
   ]
  },
  {
   "cell_type": "code",
   "execution_count": 7,
   "metadata": {
    "collapsed": true
   },
   "outputs": [],
   "source": [
    "artistsTags = load_npz(\"artist_with_tag_bincount_reduced.npz\")\n",
    "artistsTags = normalize(artistsTags)"
   ]
  },
  {
   "cell_type": "code",
   "execution_count": 8,
   "metadata": {
    "collapsed": true
   },
   "outputs": [],
   "source": [
    "P=load_npz(\"playlist_reduced.npz\")\n",
    "P=normalize(P)"
   ]
  },
  {
   "cell_type": "code",
   "execution_count": 9,
   "metadata": {
    "collapsed": true
   },
   "outputs": [],
   "source": [
    "PlArtistSim = P * artistsTags.T"
   ]
  },
  {
   "cell_type": "code",
   "execution_count": 10,
   "metadata": {
    "collapsed": true
   },
   "outputs": [],
   "source": [
    "PlTrackSimByArtistTags = PlArtistSim * tTracksWithArtist.T"
   ]
  },
  {
   "cell_type": "code",
   "execution_count": null,
   "metadata": {
    "collapsed": true
   },
   "outputs": [],
   "source": []
  },
  {
   "cell_type": "code",
   "execution_count": null,
   "metadata": {
    "collapsed": true
   },
   "outputs": [],
   "source": [
    "finalPlSimH = PlTrackSimByArtist + PlTrackSim "
   ]
  },
  {
   "cell_type": "code",
   "execution_count": null,
   "metadata": {
    "collapsed": true
   },
   "outputs": [],
   "source": []
  },
  {
   "cell_type": "code",
   "execution_count": 13,
   "metadata": {
    "collapsed": true
   },
   "outputs": [],
   "source": [
    "finalPlSim = finalPlSimH + PlTrackSimByArtistTags"
   ]
  },
  {
   "cell_type": "code",
   "execution_count": null,
   "metadata": {
    "collapsed": true
   },
   "outputs": [],
   "source": []
  },
  {
   "cell_type": "code",
   "execution_count": 14,
   "metadata": {},
   "outputs": [
    {
     "data": {
      "text/plain": [
       "<10000x32195 sparse matrix of type '<class 'numpy.float64'>'\n",
       "\twith 257059946 stored elements in Compressed Sparse Row format>"
      ]
     },
     "execution_count": 14,
     "metadata": {},
     "output_type": "execute_result"
    }
   ],
   "source": [
    "finalPlSim"
   ]
  },
  {
   "cell_type": "code",
   "execution_count": 11,
   "metadata": {
    "collapsed": true
   },
   "outputs": [],
   "source": [
    "target_playlists=genfromtxt(\"target_playlists.csv\",skip_header=1)\n",
    "playlists_with_tracks=load(\"playlists_with_tracks.npy\")\n",
    "target_tracks_ordered = load(\"targetTracksOrdered.npy\")\n",
    "def getsimil(pls, similrow, n):\n",
    "    maxi = flip(argsort(similrow), axis=0)\n",
    "    r = []\n",
    "    for m in maxi:\n",
    "        if(not isin(target_tracks_ordered[m], pls[1:])):\n",
    "           r.append(target_tracks_ordered[m])\n",
    "           if(len(r)==n):\n",
    "               return r"
   ]
  },
  {
   "cell_type": "code",
   "execution_count": 16,
   "metadata": {
    "collapsed": true
   },
   "outputs": [],
   "source": [
    "fname = \"tag_artist2_average_similarity.csv\"\n",
    "open(fname,\"w\").close()\n",
    "print(\"playlist_id,track_ids\",file=open(fname,\"a\"))\n",
    "for pl, simil in zip(playlists_with_tracks, finalPlSim):\n",
    "    s = str(int(pl[0]))\n",
    "    s += \",\"\n",
    "    r = getsimil(pl, ravel(simil.todense()), 5)\n",
    "    for el in r:\n",
    "        s+=str(el)\n",
    "        s+=\" \"\n",
    "    print(s,file=open(fname,\"a\"))"
   ]
  },
  {
   "cell_type": "code",
   "execution_count": 17,
   "metadata": {
    "collapsed": true
   },
   "outputs": [],
   "source": [
    "k = asarray([[3, 0, 1, 0], [1, 1, 2, 0], [0, 0, 1, 3]])"
   ]
  },
  {
   "cell_type": "code",
   "execution_count": 22,
   "metadata": {
    "collapsed": true
   },
   "outputs": [],
   "source": [
    "k =normalize(k)"
   ]
  },
  {
   "cell_type": "code",
   "execution_count": 23,
   "metadata": {
    "collapsed": true
   },
   "outputs": [],
   "source": [
    "z = asarray([[1, 0, 1, 0], [0, 1, 1, 0], [0, 1, 0, 1]])"
   ]
  },
  {
   "cell_type": "code",
   "execution_count": 24,
   "metadata": {},
   "outputs": [
    {
     "data": {
      "text/plain": [
       "array([[ 1.26491106,  0.31622777,  0.        ],\n",
       "       [ 1.22474487,  1.22474487,  0.40824829],\n",
       "       [ 0.31622777,  0.31622777,  0.9486833 ]])"
      ]
     },
     "execution_count": 24,
     "metadata": {},
     "output_type": "execute_result"
    }
   ],
   "source": [
    "dot(k, z.T)"
   ]
  },
  {
   "cell_type": "code",
   "execution_count": 36,
   "metadata": {
    "collapsed": true,
    "scrolled": false
   },
   "outputs": [],
   "source": [
    "fname = \"tag_artist2_intersect_similarity.csv\"\n",
    "open(fname,\"w\").close()\n",
    "print(\"playlist_id,track_ids\",file=open(fname,\"a\"))\n",
    "iii=0\n",
    "for pl, similPT, similPTA, similsum in zip(playlists_with_tracks, PlTrackSim, PlArtistSim, finalPlSimH):\n",
    "    s = str(int(pl[0]))\n",
    "    s += \",\"\n",
    "    r1 = getsimil(pl, ravel(similPT.todense()), 15)\n",
    "    r2 = getsimil(pl, ravel(similPTA.todense()), 15)\n",
    "    \n",
    "    rr = intersect1d(r1, r2, assume_unique=True)\n",
    "    if(len(rr)!=0):\n",
    "        iii+=1\n",
    "    if(len(rr)>=5):\n",
    "        r = rr.take(range(5))\n",
    "    else:\n",
    "        r4 = getsimil(pl, ravel(similsum.todense()), 5)\n",
    "        r4 = array([el for el in r4 if el not in rr])\n",
    "        r = concatenate((rr, r4.take(range(5-len(rr)))))\n",
    "    for el in r:\n",
    "        s+=str(el)\n",
    "        s+=\" \"\n",
    "    print(s,file=open(fname,\"a\"))"
   ]
  },
  {
   "cell_type": "code",
   "execution_count": 12,
   "metadata": {
    "collapsed": true
   },
   "outputs": [],
   "source": [
    "#modified version with mono artist\n",
    "monoArtist=load(\"target_playlist_mono_artist.npy\")\n",
    "monoArtistPlID=monoArtist[:,0]\n",
    "monoArtistArtistID=monoArtist[:,1]\n",
    "artistIndexes=load(\"uniqueArtists_NeededToIndexThe_ArtistReducedMatrices.npy\")\n",
    "artistTracks=load_npz(\"artists_with_tracksID_ordered_by_occurrencies.npz\")"
   ]
  },
  {
   "cell_type": "code",
   "execution_count": 21,
   "metadata": {
    "collapsed": true
   },
   "outputs": [],
   "source": [
    "#modified version with mono artist\n",
    "fname = \"MonoArtistCorrect_TagSimilarity.csv\"\n",
    "with open(fname,\"a\") as myfile:\n",
    "    myfile.write(\"playlist_id,track_ids\\n\")\n",
    "    for pl, similPT, similsum in zip(playlists_with_tracks, PlTrackSim, finalPlSimH):\n",
    "        plID=pl[0]\n",
    "        s = str(int(plID))\n",
    "        s += \",\"\n",
    "        if(isin(plID,monoArtistPlID)):#guarda se c'è un artista solo\n",
    "            artist=monoArtistArtistID[where(monoArtistPlID==plID)[0][0]]#l'unico artista della playlist\n",
    "            artistIndex=where(artistIndexes==artist)[0][0]#cerca la sua posizione nella matrice delle tracce\n",
    "            thisArtistTracks=artistTracks.getrow(artistIndex).data#prende le sue tracce\n",
    "            rr=array([t for t in thisArtistTracks if t not in pl[1:] and isin(t, target_tracks_ordered)])#prende tutte quelle non già presenti\n",
    "            \n",
    "            if(len(rr)>=5):\n",
    "                r = array(rr).take(range(5))\n",
    "            else:\n",
    "                r4 = getsimil(pl, ravel(similsum.todense()), 5)\n",
    "                r4 = array([el for el in r4 if el not in rr])\n",
    "                r = concatenate((rr, r4.take(range(5-len(rr)))))\n",
    "        else:\n",
    "            r = getsimil(pl, ravel(similsum.todense()), 5)#non c'è un artista solo quindi guarda solo i tag\n",
    "        for el in r:\n",
    "            s+=str(el)\n",
    "            s+=\" \"\n",
    "        myfile.write(s + \"\\n\")"
   ]
  },
  {
   "cell_type": "code",
   "execution_count": 37,
   "metadata": {
    "collapsed": true
   },
   "outputs": [],
   "source": [
    "k = [1, 2, 3]"
   ]
  },
  {
   "cell_type": "code",
   "execution_count": 38,
   "metadata": {
    "collapsed": true
   },
   "outputs": [],
   "source": [
    "e = [1, 0, 4]"
   ]
  },
  {
   "cell_type": "code",
   "execution_count": 39,
   "metadata": {},
   "outputs": [
    {
     "data": {
      "text/plain": [
       "78"
      ]
     },
     "execution_count": 39,
     "metadata": {},
     "output_type": "execute_result"
    }
   ],
   "source": [
    "iii"
   ]
  },
  {
   "cell_type": "code",
   "execution_count": 23,
   "metadata": {
    "collapsed": true
   },
   "outputs": [],
   "source": [
    "k = array([el for el in k if el not in e])"
   ]
  },
  {
   "cell_type": "code",
   "execution_count": 24,
   "metadata": {},
   "outputs": [
    {
     "data": {
      "text/plain": [
       "array([2, 3])"
      ]
     },
     "execution_count": 24,
     "metadata": {},
     "output_type": "execute_result"
    }
   ],
   "source": [
    "k"
   ]
  },
  {
   "cell_type": "code",
   "execution_count": 13,
   "metadata": {
    "collapsed": true
   },
   "outputs": [],
   "source": [
    "PLNTtags = load_npz(\"non_target_pl_tags_reduced.npz\")\n",
    "PLNTtags = normalize(PLNTtags)\n",
    "PLTxPLNT = P * PLNTtags.T"
   ]
  },
  {
   "cell_type": "code",
   "execution_count": 14,
   "metadata": {
    "collapsed": true
   },
   "outputs": [],
   "source": [
    "tTracksTags = load_npz(\"reducedTargetT.npz\")"
   ]
  },
  {
   "cell_type": "code",
   "execution_count": null,
   "metadata": {
    "collapsed": true
   },
   "outputs": [],
   "source": [
    "PLNTxTtracks = PLNTtags * tTracksTags.T"
   ]
  },
  {
   "cell_type": "code",
   "execution_count": null,
   "metadata": {
    "collapsed": true
   },
   "outputs": [],
   "source": [
    "F = PLTxPLNT * PLNTxTtracks"
   ]
  },
  {
   "cell_type": "code",
   "execution_count": null,
   "metadata": {
    "collapsed": true
   },
   "outputs": [],
   "source": [
    "Final = F + PlTrackSimByArtist"
   ]
  },
  {
   "cell_type": "code",
   "execution_count": null,
   "metadata": {
    "collapsed": true
   },
   "outputs": [],
   "source": [
    "#modified version with mono artist\n",
    "fname = \"New Mono_TagSimilarity.csv\"\n",
    "with open(fname,\"a\") as myfile:\n",
    "    myfile.write(\"playlist_id,track_ids\\n\")\n",
    "    for pl, similPT, similsum in zip(playlists_with_tracks, F, Final):\n",
    "        plID=pl[0]\n",
    "        s = str(int(plID))\n",
    "        s += \",\"\n",
    "        if(isin(plID,monoArtistPlID)):#guarda se c'è un artista solo\n",
    "            artist=monoArtistArtistID[where(monoArtistPlID==plID)[0][0]]#l'unico artista della playlist\n",
    "            artistIndex=where(artistIndexes==artist)[0][0]#cerca la sua posizione nella matrice delle tracce\n",
    "            thisArtistTracks=artistTracks.getrow(artistIndex).data#prende le sue tracce\n",
    "            rr=array([t for t in thisArtistTracks if t not in pl[1:] and isin(t, target_tracks_ordered)])#prende tutte quelle non già presenti\n",
    "            \n",
    "            if(len(rr)>=5):\n",
    "                r = array(rr).take(range(5))\n",
    "            else:\n",
    "                r4 = getsimil(pl, ravel(similsum.todense()), 5)\n",
    "                r4 = array([el for el in r4 if el not in rr])\n",
    "                r = concatenate((rr, r4.take(range(5-len(rr)))))\n",
    "        else:\n",
    "            r = getsimil(pl, ravel(similsum.todense()), 5)#non c'è un artista solo quindi guarda solo i tag\n",
    "        for el in r:\n",
    "            s+=str(el)\n",
    "            s+=\" \"\n",
    "        myfile.write(s + \"\\n\")"
   ]
  },
  {
   "cell_type": "code",
   "execution_count": null,
   "metadata": {
    "collapsed": true
   },
   "outputs": [],
   "source": []
  }
 ],
 "metadata": {
  "kernelspec": {
   "display_name": "Python 3",
   "language": "python",
   "name": "python3"
  },
  "language_info": {
   "codemirror_mode": {
    "name": "ipython",
    "version": 3
   },
   "file_extension": ".py",
   "mimetype": "text/x-python",
   "name": "python",
   "nbconvert_exporter": "python",
   "pygments_lexer": "ipython3",
   "version": "3.6.3"
  }
 },
 "nbformat": 4,
 "nbformat_minor": 2
}
