{
 "cells": [
  {
   "cell_type": "code",
   "execution_count": 1,
   "metadata": {
    "collapsed": true
   },
   "outputs": [],
   "source": [
    "from numpy import *\n",
    "from scipy.sparse import *\n",
    "from scipy.sparse.linalg import *\n",
    "from scipy.spatial.distance import *\n",
    "from sklearn.decomposition import *\n",
    "from sklearn.metrics.pairwise import *\n",
    "from sklearn.naive_bayes import *\n",
    "from sklearn.preprocessing import *"
   ]
  },
  {
   "cell_type": "code",
   "execution_count": 2,
   "metadata": {
    "collapsed": true
   },
   "outputs": [],
   "source": [
    "monoArtist=load(\"target_playlist_mono_artist.npy\")\n",
    "monoArtistPlID=monoArtist[:,0]\n",
    "monoArtistArtistID=monoArtist[:,1]\n",
    "artistIndexes=load(\"uniqueArtists_NeededToIndexThe_ArtistReducedMatrices.npy\")\n",
    "artistTracks=load_npz(\"artists_with_tracksID_ordered_by_occurrencies.npz\")\n",
    "target_playlists=genfromtxt(\"target_playlists.csv\",skip_header=1)\n",
    "playlists_with_tracks=load(\"playlists_with_tracks.npy\")\n",
    "target_tracks_ordered = load(\"targetTracksOrdered.npy\")\n",
    "\n",
    "\n",
    "def getsimil(plid, similrow, n):\n",
    "    ptracks = playlists_with_tracks[where(playlists_with_tracks[:,0]==plid),1:]\n",
    "    maxi = flip(argsort(similrow), axis=0)\n",
    "    r = []\n",
    "    for m in maxi:\n",
    "        if(not isin(target_tracks_ordered[m], ptracks)):\n",
    "           r.append(target_tracks_ordered[m])\n",
    "           if(len(r)==n):\n",
    "               return r\n",
    "        \n",
    "    PLIDs = load(\"fucking_ordered_playlist.npy\")\n",
    "    TIDs = load(\"fucking_ordered_tracks.npy\")"
   ]
  },
  {
   "cell_type": "code",
   "execution_count": 3,
   "metadata": {
    "collapsed": true
   },
   "outputs": [],
   "source": [
    "import sys\n",
    "def progress(count, total, status=''):\n",
    "    bar_len = 60\n",
    "    filled_len = int(round(bar_len * count / float(total)))\n",
    "\n",
    "    percents = round(100.0 * count / float(total), 1)\n",
    "    bar = '=' * filled_len + '-' * (bar_len - filled_len)\n",
    "\n",
    "    sys.stdout.write('[%s] %s%s ...%s\\r' % (bar, percents, '%', status))\n",
    "    sys.stdout.flush() \n",
    "\n",
    "tar=10000\n",
    "\n",
    "def computeMono(fname, finalPlSim):\n",
    "    targetP = load(\"fucking_ordered_playlist.npy\")\n",
    "    playlists_with_tracks=load(\"playlists_with_tracks.npy\")\n",
    "    target_playlists=genfromtxt(\"target_playlists.csv\",skip_header=1)\n",
    "    targetP = targetP[isin(targetP, target_playlists)]\n",
    "    with open(fname,\"a\") as myfile:\n",
    "        myfile.write(\"playlist_id,track_ids\\n\")\n",
    "        for pl, similsum, i in zip(targetP, finalPlSim, range(tar)):\n",
    "            progress(i, tar, status=\"done\")\n",
    "            plID=pl\n",
    "            s = str(int(plID))\n",
    "            s += \",\"\n",
    "            if(isin(plID,monoArtistPlID)):#guarda se c'è un artista solo\n",
    "                artist=monoArtistArtistID[where(monoArtistPlID==plID)[0][0]]#l'unico artista della playlist\n",
    "                artistIndex=where(artistIndexes==artist)[0][0]#cerca la sua posizione nella matrice delle tracce\n",
    "                thisArtistTracks=artistTracks.getrow(artistIndex).data#prende le sue tracce\n",
    "                rr=array([t for t in thisArtistTracks if t not in playlists_with_tracks[where(playlists_with_tracks[:,0]==plID),1:] and isin(t, target_tracks_ordered)])#prende tutte quelle non già presenti\n",
    "\n",
    "                if(len(rr)>=5):\n",
    "                    r = array(rr).take(range(5))\n",
    "                else:\n",
    "                    r4 = getsimil(pl, similsum.data, 5)\n",
    "                    r4 = array([el for el in r4 if el not in rr])\n",
    "                    r = concatenate((rr, r4.take(range(5-len(rr)))))\n",
    "            else:\n",
    "                r = getsimil(pl, similsum.data, 5)#non c'è un artista solo quindi guarda solo i tag\n",
    "            for el in r:\n",
    "                s+=str(el)\n",
    "                s+=\" \"\n",
    "            myfile.write(s + \"\\n\")\n",
    "            \n",
    "def compute(fname, finalPlSim):\n",
    "    targetP = load(\"fucking_ordered_playlist.npy\")\n",
    "    playlists_with_tracks=load(\"playlists_with_tracks.npy\")\n",
    "    target_playlists=genfromtxt(\"target_playlists.csv\",skip_header=1)\n",
    "    targetP = targetP[isin(targetP, target_playlists)]\n",
    "    with open(fname,\"a\") as myfile:\n",
    "        myfile.write(\"playlist_id,track_ids\\n\")\n",
    "        for pl, similsum, i in zip(targetP, finalPlSim, range(tar)):\n",
    "            progress(i, tar, status=\"done\")\n",
    "            plID=pl\n",
    "            s = str(int(plID))\n",
    "            s += \",\"\n",
    "            r = getsimil(pl, similsum.data, 5)#non c'è un artista solo quindi guarda solo i tag\n",
    "            for el in r:\n",
    "                s+=str(el)\n",
    "                s+=\" \"\n",
    "            myfile.write(s + \"\\n\")            \n",
    "\n",
    "            \n",
    "def filterTarget(m):\n",
    "    PLIDs = load(\"fucking_ordered_playlist.npy\")\n",
    "    TIDs = load(\"fucking_ordered_tracks.npy\")\n",
    "    target_playlists=genfromtxt(\"target_playlists.csv\",skip_header=1)\n",
    "    target_tracks=genfromtxt(\"target_tracks.csv\", skip_header=1)\n",
    "    k = m[isin(PLIDs, target_playlists)]\n",
    "    k = k[:, isin(TIDs, target_tracks)]\n",
    "    return k\n",
    "\n",
    "def filterPLrow(m):\n",
    "    PLIDs = load(\"fucking_ordered_playlist.npy\")\n",
    "    target_playlists=genfromtxt(\"target_playlists.csv\",skip_header=1)\n",
    "    k = m[isin(PLIDs, target_playlists)]\n",
    "    return k \n",
    "\n",
    "def filterTcol(m):\n",
    "    TIDs = load(\"fucking_ordered_tracks.npy\")\n",
    "    target_tracks=genfromtxt(\"target_tracks.csv\", skip_header=1)\n",
    "    k = m[:, isin(TIDs, target_tracks)]\n",
    "    return k"
   ]
  },
  {
   "cell_type": "code",
   "execution_count": 5,
   "metadata": {
    "collapsed": true
   },
   "outputs": [],
   "source": [
    "PxA = load_npz(\"fucking_ordered_playlist_artist.npz\")\n",
    "URM = load_npz(\"all_playlist_with_tracks_URM.npz\")\n",
    "TxA = load_npz(\"fucking_ordered_track_artist.npz\")"
   ]
  },
  {
   "cell_type": "code",
   "execution_count": 13,
   "metadata": {},
   "outputs": [
    {
     "ename": "KeyboardInterrupt",
     "evalue": "",
     "output_type": "error",
     "traceback": [
      "\u001b[1;31m---------------------------------------------------------------------------\u001b[0m",
      "\u001b[1;31mKeyboardInterrupt\u001b[0m                         Traceback (most recent call last)",
      "\u001b[1;32m<ipython-input-13-95f75ade2160>\u001b[0m in \u001b[0;36m<module>\u001b[1;34m()\u001b[0m\n\u001b[1;32m----> 1\u001b[1;33m \u001b[0mU\u001b[0m\u001b[1;33m,\u001b[0m \u001b[0mS\u001b[0m\u001b[1;33m,\u001b[0m \u001b[0mVT\u001b[0m \u001b[1;33m=\u001b[0m \u001b[0msvds\u001b[0m\u001b[1;33m(\u001b[0m\u001b[0mURM\u001b[0m\u001b[1;33m.\u001b[0m\u001b[0mastype\u001b[0m\u001b[1;33m(\u001b[0m\u001b[1;34m\"float\"\u001b[0m\u001b[1;33m)\u001b[0m\u001b[1;33m,\u001b[0m \u001b[0mk\u001b[0m\u001b[1;33m=\u001b[0m\u001b[1;36m500\u001b[0m\u001b[1;33m)\u001b[0m\u001b[1;33m\u001b[0m\u001b[0m\n\u001b[0m",
      "\u001b[1;32m~\\Anaconda3\\lib\\site-packages\\scipy\\sparse\\linalg\\eigen\\arpack\\arpack.py\u001b[0m in \u001b[0;36msvds\u001b[1;34m(A, k, ncv, tol, which, v0, maxiter, return_singular_vectors)\u001b[0m\n\u001b[0;32m   1762\u001b[0m     \u001b[1;31m# This is not a stable way to approach the problem.\u001b[0m\u001b[1;33m\u001b[0m\u001b[1;33m\u001b[0m\u001b[0m\n\u001b[0;32m   1763\u001b[0m     eigvals, eigvec = eigsh(XH_X, k=k, tol=tol ** 2, maxiter=maxiter,\n\u001b[1;32m-> 1764\u001b[1;33m                                   ncv=ncv, which=which, v0=v0)\n\u001b[0m\u001b[0;32m   1765\u001b[0m \u001b[1;33m\u001b[0m\u001b[0m\n\u001b[0;32m   1766\u001b[0m     \u001b[1;31m# In 'LM' mode try to be clever about small eigenvalues.\u001b[0m\u001b[1;33m\u001b[0m\u001b[1;33m\u001b[0m\u001b[0m\n",
      "\u001b[1;32m~\\Anaconda3\\lib\\site-packages\\scipy\\sparse\\linalg\\eigen\\arpack\\arpack.py\u001b[0m in \u001b[0;36meigsh\u001b[1;34m(A, k, M, sigma, which, v0, ncv, maxiter, tol, return_eigenvectors, Minv, OPinv, mode)\u001b[0m\n\u001b[0;32m   1605\u001b[0m             \u001b[0mparams\u001b[0m\u001b[1;33m.\u001b[0m\u001b[0miterate\u001b[0m\u001b[1;33m(\u001b[0m\u001b[1;33m)\u001b[0m\u001b[1;33m\u001b[0m\u001b[0m\n\u001b[0;32m   1606\u001b[0m \u001b[1;33m\u001b[0m\u001b[0m\n\u001b[1;32m-> 1607\u001b[1;33m         \u001b[1;32mreturn\u001b[0m \u001b[0mparams\u001b[0m\u001b[1;33m.\u001b[0m\u001b[0mextract\u001b[0m\u001b[1;33m(\u001b[0m\u001b[0mreturn_eigenvectors\u001b[0m\u001b[1;33m)\u001b[0m\u001b[1;33m\u001b[0m\u001b[0m\n\u001b[0m\u001b[0;32m   1608\u001b[0m \u001b[1;33m\u001b[0m\u001b[0m\n\u001b[0;32m   1609\u001b[0m \u001b[1;33m\u001b[0m\u001b[0m\n",
      "\u001b[1;32m~\\Anaconda3\\lib\\site-packages\\scipy\\sparse\\linalg\\eigen\\arpack\\arpack.py\u001b[0m in \u001b[0;36mextract\u001b[1;34m(self, return_eigenvectors)\u001b[0m\n\u001b[0;32m    581\u001b[0m                                           \u001b[0mself\u001b[0m\u001b[1;33m.\u001b[0m\u001b[0miparam\u001b[0m\u001b[1;33m[\u001b[0m\u001b[1;36m0\u001b[0m\u001b[1;33m:\u001b[0m\u001b[1;36m7\u001b[0m\u001b[1;33m]\u001b[0m\u001b[1;33m,\u001b[0m \u001b[0mself\u001b[0m\u001b[1;33m.\u001b[0m\u001b[0mipntr\u001b[0m\u001b[1;33m,\u001b[0m\u001b[1;33m\u001b[0m\u001b[0m\n\u001b[0;32m    582\u001b[0m                                           \u001b[0mself\u001b[0m\u001b[1;33m.\u001b[0m\u001b[0mworkd\u001b[0m\u001b[1;33m[\u001b[0m\u001b[1;36m0\u001b[0m\u001b[1;33m:\u001b[0m\u001b[1;36m2\u001b[0m \u001b[1;33m*\u001b[0m \u001b[0mself\u001b[0m\u001b[1;33m.\u001b[0m\u001b[0mn\u001b[0m\u001b[1;33m]\u001b[0m\u001b[1;33m,\u001b[0m\u001b[1;33m\u001b[0m\u001b[0m\n\u001b[1;32m--> 583\u001b[1;33m                                           self.workl, ierr)\n\u001b[0m\u001b[0;32m    584\u001b[0m         \u001b[1;32mif\u001b[0m \u001b[0mierr\u001b[0m \u001b[1;33m!=\u001b[0m \u001b[1;36m0\u001b[0m\u001b[1;33m:\u001b[0m\u001b[1;33m\u001b[0m\u001b[0m\n\u001b[0;32m    585\u001b[0m             \u001b[1;32mraise\u001b[0m \u001b[0mArpackError\u001b[0m\u001b[1;33m(\u001b[0m\u001b[0mierr\u001b[0m\u001b[1;33m,\u001b[0m \u001b[0minfodict\u001b[0m\u001b[1;33m=\u001b[0m\u001b[0mself\u001b[0m\u001b[1;33m.\u001b[0m\u001b[0mextract_infodict\u001b[0m\u001b[1;33m)\u001b[0m\u001b[1;33m\u001b[0m\u001b[0m\n",
      "\u001b[1;31mKeyboardInterrupt\u001b[0m: "
     ]
    }
   ],
   "source": [
    "U, S, VT = svds(URM.astype(\"float\"), k=500)"
   ]
  },
  {
   "cell_type": "code",
   "execution_count": null,
   "metadata": {},
   "outputs": [],
   "source": []
  },
  {
   "cell_type": "code",
   "execution_count": 12,
   "metadata": {
    "collapsed": true
   },
   "outputs": [],
   "source": []
  },
  {
   "cell_type": "code",
   "execution_count": null,
   "metadata": {},
   "outputs": [],
   "source": []
  },
  {
   "cell_type": "code",
   "execution_count": 10,
   "metadata": {
    "collapsed": true
   },
   "outputs": [],
   "source": [
    "trackAlbum=load_npz(\"fucking_ordered_track_album.npz\")"
   ]
  },
  {
   "cell_type": "code",
   "execution_count": null,
   "metadata": {},
   "outputs": [],
   "source": []
  },
  {
   "cell_type": "code",
   "execution_count": null,
   "metadata": {
    "collapsed": true
   },
   "outputs": [],
   "source": []
  },
  {
   "cell_type": "code",
   "execution_count": null,
   "metadata": {
    "collapsed": true
   },
   "outputs": [],
   "source": []
  },
  {
   "cell_type": "code",
   "execution_count": null,
   "metadata": {
    "collapsed": true
   },
   "outputs": [],
   "source": []
  },
  {
   "cell_type": "code",
   "execution_count": null,
   "metadata": {
    "collapsed": true
   },
   "outputs": [],
   "source": []
  },
  {
   "cell_type": "code",
   "execution_count": null,
   "metadata": {
    "collapsed": true
   },
   "outputs": [],
   "source": []
  },
  {
   "cell_type": "code",
   "execution_count": null,
   "metadata": {
    "collapsed": true
   },
   "outputs": [],
   "source": []
  },
  {
   "cell_type": "code",
   "execution_count": null,
   "metadata": {
    "collapsed": true
   },
   "outputs": [],
   "source": []
  },
  {
   "cell_type": "code",
   "execution_count": null,
   "metadata": {
    "collapsed": true
   },
   "outputs": [],
   "source": []
  },
  {
   "cell_type": "code",
   "execution_count": null,
   "metadata": {
    "collapsed": true
   },
   "outputs": [],
   "source": []
  },
  {
   "cell_type": "code",
   "execution_count": null,
   "metadata": {
    "collapsed": true
   },
   "outputs": [],
   "source": []
  },
  {
   "cell_type": "code",
   "execution_count": 11,
   "metadata": {},
   "outputs": [
    {
     "ename": "NameError",
     "evalue": "name 'S' is not defined",
     "output_type": "error",
     "traceback": [
      "\u001b[1;31m---------------------------------------------------------------------------\u001b[0m",
      "\u001b[1;31mNameError\u001b[0m                                 Traceback (most recent call last)",
      "\u001b[1;32m<ipython-input-11-4e38f3204332>\u001b[0m in \u001b[0;36m<module>\u001b[1;34m()\u001b[0m\n\u001b[1;32m----> 1\u001b[1;33m \u001b[0mcomputeMono\u001b[0m\u001b[1;33m(\u001b[0m\u001b[1;34m\"todayMonoIDFbase.csv\"\u001b[0m\u001b[1;33m,\u001b[0m \u001b[0mS\u001b[0m\u001b[1;33m)\u001b[0m\u001b[1;33m\u001b[0m\u001b[0m\n\u001b[0m",
      "\u001b[1;31mNameError\u001b[0m: name 'S' is not defined"
     ]
    }
   ],
   "source": [
    "computeMono(\"todayMonoIDFbase.csv\", S)"
   ]
  },
  {
   "cell_type": "code",
   "execution_count": null,
   "metadata": {
    "collapsed": true
   },
   "outputs": [],
   "source": []
  },
  {
   "cell_type": "code",
   "execution_count": null,
   "metadata": {
    "collapsed": true
   },
   "outputs": [],
   "source": []
  },
  {
   "cell_type": "code",
   "execution_count": null,
   "metadata": {
    "collapsed": true
   },
   "outputs": [],
   "source": []
  },
  {
   "cell_type": "code",
   "execution_count": null,
   "metadata": {
    "collapsed": true
   },
   "outputs": [],
   "source": []
  },
  {
   "cell_type": "code",
   "execution_count": null,
   "metadata": {
    "collapsed": true
   },
   "outputs": [],
   "source": []
  },
  {
   "cell_type": "code",
   "execution_count": null,
   "metadata": {
    "collapsed": true
   },
   "outputs": [],
   "source": []
  },
  {
   "cell_type": "code",
   "execution_count": null,
   "metadata": {
    "collapsed": true
   },
   "outputs": [],
   "source": []
  }
 ],
 "metadata": {
  "kernelspec": {
   "display_name": "Python 3",
   "language": "python",
   "name": "python3"
  },
  "language_info": {
   "codemirror_mode": {
    "name": "ipython",
    "version": 3
   },
   "file_extension": ".py",
   "mimetype": "text/x-python",
   "name": "python",
   "nbconvert_exporter": "python",
   "pygments_lexer": "ipython3",
   "version": "3.6.3"
  }
 },
 "nbformat": 4,
 "nbformat_minor": 2
}
