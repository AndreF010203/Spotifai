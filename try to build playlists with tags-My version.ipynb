{
 "cells": [
  {
   "cell_type": "code",
   "execution_count": 18,
   "metadata": {
    "collapsed": true
   },
   "outputs": [],
   "source": [
    "from numpy import *\n",
    "from scipy import *\n",
    "import scipy.sparse as sps"
   ]
  },
  {
   "cell_type": "code",
   "execution_count": 19,
   "metadata": {},
   "outputs": [
    {
     "data": {
      "text/plain": [
       "446386"
      ]
     },
     "execution_count": 19,
     "metadata": {},
     "output_type": "execute_result"
    }
   ],
   "source": [
    "tracks_with_tags=load(\"tracks_with_tags.npy\")\n",
    "tracks_with_tags[:,1:].argmax()\n"
   ]
  },
  {
   "cell_type": "code",
   "execution_count": 22,
   "metadata": {},
   "outputs": [],
   "source": [
    "tag_indexed_byidtrack = zeros((amax(tracks_with_tags[:,0])+1, 5))\n",
    "\n",
    "transfer = lambda x, y: where(tracks_with_tags[:,0]==x)\n",
    "    \n",
    "for x in tracks_with_tags[:,0]:\n",
    "    i = where(tracks_with_tags[:,0]==x)\n",
    "    tag_indexed_byidtrack[x] = tracks_with_tags[i,1:]\n",
    "\n",
    "\n"
   ]
  },
  {
   "cell_type": "markdown",
   "metadata": {},
   "source": [
    "Ho creato un array che contiene tutti i tag delle canzoni con index l'id: \n",
    "tag_indexed_byidtrack[id] = [tags]\n",
    "\n",
    "sveltirà di molto i calcoli successivi"
   ]
  },
  {
   "cell_type": "code",
   "execution_count": 23,
   "metadata": {},
   "outputs": [
    {
     "data": {
      "text/plain": [
       "array([[10024884,  2879006,  1532328, ...,        0,        0,        0],\n",
       "       [10624787,  2090319,  2152295, ...,        0,        0,        0],\n",
       "       [ 4891851,  2621486,  2895498, ...,        0,        0,        0],\n",
       "       ..., \n",
       "       [11369546,   416692,  1587449, ...,        0,        0,        0],\n",
       "       [ 7939535,  2788577,  3090083, ...,        0,        0,        0],\n",
       "       [  297021,  2789282,  2154608, ...,        0,        0,        0]], dtype=int64)"
      ]
     },
     "execution_count": 23,
     "metadata": {},
     "output_type": "execute_result"
    }
   ],
   "source": [
    "playlists_with_tracks=load(\"playlists_with_tracks.npy\")\n",
    "playlists_with_tracks"
   ]
  },
  {
   "cell_type": "code",
   "execution_count": null,
   "metadata": {
    "collapsed": true
   },
   "outputs": [],
   "source": []
  },
  {
   "cell_type": "code",
   "execution_count": 21,
   "metadata": {},
   "outputs": [
    {
     "data": {
      "text/plain": [
       "'final = sps.csr_matrix(zeros(446386))\\nfor songs in playlists_with_tracks[:,1:]:\\n    for song in songs:\\n        tags = tag_indexed_byidtrack[song]\\n        tags_count = bincount(tags.flatten().astype(\"int64\"), minlength=446386)\\n        tags_count_sparse = sps.csr_matrix(tags_count)\\n        final = sps.bmat([[final], [tags_count_sparse]])\\n\\n'"
      ]
     },
     "execution_count": 21,
     "metadata": {},
     "output_type": "execute_result"
    }
   ],
   "source": [
    "\"\"\"final = sps.csr_matrix(zeros(446386))\n",
    "for songs in playlists_with_tracks[:,1:]:\n",
    "    for song in songs:\n",
    "        tags = tag_indexed_byidtrack[song]\n",
    "        tags_count = bincount(tags.flatten().astype(\"int64\"), minlength=446386)\n",
    "        tags_count_sparse = sps.csr_matrix(tags_count)\n",
    "        final = sps.bmat([[final], [tags_count_sparse]])\n",
    "\n",
    "\"\"\"\n",
    "\n",
    "\n",
    "    \n",
    "    "
   ]
  },
  {
   "cell_type": "code",
   "execution_count": null,
   "metadata": {
    "collapsed": true
   },
   "outputs": [],
   "source": [
    "playlist_tags = final[1:,:]\n",
    "        "
   ]
  },
  {
   "cell_type": "code",
   "execution_count": null,
   "metadata": {},
   "outputs": [],
   "source": []
  },
  {
   "cell_type": "code",
   "execution_count": 29,
   "metadata": {},
   "outputs": [],
   "source": [
    "pl_tags = list()\n",
    "for song in playlists_with_tracks[:,1:]:\n",
    "    tags = list()\n",
    "    for song in songs:\n",
    "        tags.append(tag_indexed_byidtrack[song].tolist())\n",
    "        \n",
    "    pl_tags.append(unique(tags).tolist())"
   ]
  },
  {
   "cell_type": "code",
   "execution_count": 30,
   "metadata": {
    "collapsed": true
   },
   "outputs": [],
   "source": [
    "target_playlists=genfromtxt(\"target_playlists.csv\",skip_header=1)"
   ]
  },
  {
   "cell_type": "code",
   "execution_count": 31,
   "metadata": {
    "collapsed": true
   },
   "outputs": [],
   "source": [
    "indexSortedDESCENDENT = load(\"indexsortedDESCENDENT.npy\")"
   ]
  },
  {
   "cell_type": "code",
   "execution_count": null,
   "metadata": {},
   "outputs": [],
   "source": [
    "print(\"playlist_id,track_ids\",file=open(\"UnweightTagSubmission.csv\",\"a\"))\n",
    "\n",
    "def tagdistance_unweight(ptags, stags):\n",
    "    test = isin(stags, ptags)\n",
    "    k=0\n",
    "    for el in test:\n",
    "        if(el and el != 0):\n",
    "            k+=1\n",
    "    return k/5\n",
    "    \n",
    "    \n",
    "epsilon = 0.8\n",
    "\n",
    "def bad_looping(ptag, psong):\n",
    "    result = list()\n",
    "    for song in indexSortedDESCENDENT:\n",
    "        if(tagdistance_unweight(ptag, tag_indexed_byidtrack[song])>=epsilon and not isin(song, psong)):\n",
    "            result.append(song)\n",
    "            if(len(result)==5):\n",
    "                return result\n",
    "            \n",
    "\n",
    "\n",
    "for pl, pltags, psongs in zip(target_playlists, pl_tags, playlists_with_tracks[:,1:]):\n",
    "    s = str(int(pl))\n",
    "    s += \",\"\n",
    "    r = bad_looping(pltags, psongs)\n",
    "    for el in r:\n",
    "        s+=str(el)\n",
    "        s+=\" \"\n",
    "    print(s,file=open(\"UnweightTagSubmission.csv\",\"a\"))"
   ]
  },
  {
   "cell_type": "code",
   "execution_count": null,
   "metadata": {
    "collapsed": true
   },
   "outputs": [],
   "source": []
  }
 ],
 "metadata": {
  "kernelspec": {
   "display_name": "Python 3",
   "language": "python",
   "name": "python3"
  },
  "language_info": {
   "codemirror_mode": {
    "name": "ipython",
    "version": 3
   },
   "file_extension": ".py",
   "mimetype": "text/x-python",
   "name": "python",
   "nbconvert_exporter": "python",
   "pygments_lexer": "ipython3",
   "version": "3.6.2"
  }
 },
 "nbformat": 4,
 "nbformat_minor": 2
}
