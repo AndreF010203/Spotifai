{
 "cells": [
  {
   "cell_type": "code",
   "execution_count": 1,
   "metadata": {
    "collapsed": true
   },
   "outputs": [],
   "source": [
    "from numpy import *\n",
    "from scipy.sparse import *\n",
    "import matplotlib.pyplot as plt"
   ]
  },
  {
   "cell_type": "code",
   "execution_count": 2,
   "metadata": {
    "collapsed": true
   },
   "outputs": [],
   "source": [
    "tracks_all = load(\"tracks_with_eveything.npy\")"
   ]
  },
  {
   "cell_type": "code",
   "execution_count": 3,
   "metadata": {
    "collapsed": true
   },
   "outputs": [],
   "source": [
    "durations = tracks_all[:,2].astype(\"int\")"
   ]
  },
  {
   "cell_type": "code",
   "execution_count": 4,
   "metadata": {},
   "outputs": [
    {
     "data": {
      "text/plain": [
       "array([224000, 157000, 217000, ...,     -1,     -1,     -1])"
      ]
     },
     "execution_count": 4,
     "metadata": {},
     "output_type": "execute_result"
    }
   ],
   "source": [
    "durations"
   ]
  },
  {
   "cell_type": "code",
   "execution_count": 5,
   "metadata": {
    "collapsed": true
   },
   "outputs": [],
   "source": [
    "sorted_indexes = argsort(durations)"
   ]
  },
  {
   "cell_type": "code",
   "execution_count": 6,
   "metadata": {
    "collapsed": true
   },
   "outputs": [],
   "source": [
    "sorte = sort(durations)"
   ]
  },
  {
   "cell_type": "code",
   "execution_count": 7,
   "metadata": {},
   "outputs": [
    {
     "data": {
      "text/plain": [
       "array([224000, 157000, 217000, ...,     -1,     -1,     -1])"
      ]
     },
     "execution_count": 7,
     "metadata": {},
     "output_type": "execute_result"
    }
   ],
   "source": [
    "durations"
   ]
  },
  {
   "cell_type": "code",
   "execution_count": 8,
   "metadata": {},
   "outputs": [
    {
     "data": {
      "text/plain": [
       "array([  1397000,   1398000,   1402000,   1410000,   1410000,   1410000,\n",
       "         1411000,   1422000,   1434000,   1441000,   1457000,   1462000,\n",
       "         1462000,   1473000,   1487000,   1497000,   1505000,   1505000,\n",
       "         1513000,   1517000,   1525000,   1525000,   1532000,   1534000,\n",
       "         1537000,   1539000,   1554000,   1558000,   1561000,   1570000,\n",
       "         1573000,   1579000,   1579000,   1587000,   1589000,   1590000,\n",
       "         1606000,   1613000,   1620000,   1623000,   1625000,   1636000,\n",
       "         1646000,   1653000,   1707000,   1713000,   1721000,   1724000,\n",
       "         1738000,   1740000,   1742000,   1756000,   1769000,   1777000,\n",
       "         1790000,   1792000,   1794000,   1807000,   1810000,   1828000,\n",
       "         1831000,   1834000,   1851000,   1875000,   1895000,   1934000,\n",
       "         1935000,   1958000,   1992000,   2042000,   2051000,   2082000,\n",
       "         2126000,   2134000,   2407000,   2477000,   2513000,   2539000,\n",
       "         2569000,   2630000,   2657000,   2708000,   2720000,   2841000,\n",
       "         2994000,   3279000,   3605000,   3639000,   3716000,   3721000,\n",
       "         3763000,   3809000,   3813000,   4029000,   4355000,   4405000,\n",
       "         4452000,   4576000, 218053000, 219585000])"
      ]
     },
     "execution_count": 8,
     "metadata": {},
     "output_type": "execute_result"
    }
   ],
   "source": [
    "sorte[99900:100000]"
   ]
  },
  {
   "cell_type": "code",
   "execution_count": 9,
   "metadata": {},
   "outputs": [
    {
     "data": {
      "image/png": "[encoded data removed]",
      "text/plain": [
       "<matplotlib.figure.Figure at 0x1b102c50748>"
      ]
     },
     "metadata": {},
     "output_type": "display_data"
    }
   ],
   "source": [
    "plt.plot(sorte[:99800])\n",
    "plt.show()"
   ]
  },
  {
   "cell_type": "code",
   "execution_count": 10,
   "metadata": {
    "collapsed": true
   },
   "outputs": [],
   "source": [
    "tracks_brutte = array([id[0].astype(\"int\") for id in tracks_all if id[2].astype(\"int\")==-1])"
   ]
  },
  {
   "cell_type": "code",
   "execution_count": 11,
   "metadata": {},
   "outputs": [
    {
     "data": {
      "text/plain": [
       "array([2989724,  882374,  379301, ..., 2584455, 2299706, 2739985])"
      ]
     },
     "execution_count": 11,
     "metadata": {},
     "output_type": "execute_result"
    }
   ],
   "source": [
    "tracks_brutte"
   ]
  },
  {
   "cell_type": "code",
   "execution_count": 12,
   "metadata": {},
   "outputs": [
    {
     "data": {
      "text/plain": [
       "2789"
      ]
     },
     "execution_count": 12,
     "metadata": {},
     "output_type": "execute_result"
    }
   ],
   "source": [
    "len(tracks_brutte)"
   ]
  },
  {
   "cell_type": "code",
   "execution_count": 13,
   "metadata": {
    "collapsed": true
   },
   "outputs": [],
   "source": [
    "targetTrack=unique(genfromtxt(\"target_tracks.csv\",dtype=int32,skip_header=1))\n",
    "tracks_brutte_target = tracks_brutte[isin(tracks_brutte, targetTrack)]"
   ]
  },
  {
   "cell_type": "code",
   "execution_count": 14,
   "metadata": {},
   "outputs": [
    {
     "data": {
      "text/plain": [
       "758"
      ]
     },
     "execution_count": 14,
     "metadata": {},
     "output_type": "execute_result"
    }
   ],
   "source": [
    "len(tracks_brutte_target)"
   ]
  },
  {
   "cell_type": "code",
   "execution_count": 15,
   "metadata": {
    "collapsed": true
   },
   "outputs": [],
   "source": [
    "tracks_zero = array([id[0].astype(\"int\") for id in tracks_all if id[2].astype(\"int\")==0])"
   ]
  },
  {
   "cell_type": "code",
   "execution_count": 16,
   "metadata": {},
   "outputs": [
    {
     "data": {
      "text/plain": [
       "194"
      ]
     },
     "execution_count": 16,
     "metadata": {},
     "output_type": "execute_result"
    }
   ],
   "source": [
    "len(tracks_zero)"
   ]
  },
  {
   "cell_type": "code",
   "execution_count": 17,
   "metadata": {
    "collapsed": true
   },
   "outputs": [],
   "source": [
    "inv = array([1/d if d!=0 else 0 for d in durations ])"
   ]
  },
  {
   "cell_type": "code",
   "execution_count": 18,
   "metadata": {
    "collapsed": true
   },
   "outputs": [],
   "source": [
    "durationsTarget = tracks_all[isin(tracks_all[:,0], targetTrack),2].astype(\"int\")"
   ]
  },
  {
   "cell_type": "code",
   "execution_count": 19,
   "metadata": {
    "collapsed": true
   },
   "outputs": [],
   "source": [
    "targetInv = array([1/d if d!=0 else 0 for d in durationsTarget ])"
   ]
  },
  {
   "cell_type": "code",
   "execution_count": 20,
   "metadata": {
    "collapsed": true
   },
   "outputs": [],
   "source": [
    "import sys\n",
    "def progress(count, total, status=''):\n",
    "    bar_len = 60\n",
    "    filled_len = int(round(bar_len * count / float(total)))\n",
    "\n",
    "    percents = round(100.0 * count / float(total), 1)\n",
    "    bar = '=' * filled_len + '-' * (bar_len - filled_len)\n",
    "\n",
    "    sys.stdout.write('[%s] %s%s ...%s\\r' % (bar, percents, '%', status))\n",
    "    sys.stdout.flush() "
   ]
  },
  {
   "cell_type": "code",
   "execution_count": 21,
   "metadata": {},
   "outputs": [
    {
     "name": "stdout",
     "output_type": "stream",
     "text": [
      "[============================================================] 99.9% ...total\r"
     ]
    }
   ],
   "source": [
    "rows = []\n",
    "cols = []\n",
    "data = []\n",
    "midval = 1/2\n",
    "val = 1\n",
    "stack = 11000\n",
    "for i, el in enumerate(durations[stack:stack+1000]):\n",
    "    if el <200000:\n",
    "        eps = 1.8\n",
    "        epsL = 1/eps\n",
    "    if el > 200000 and el < 300000:\n",
    "        eps = 1.5\n",
    "        epsL = 1/eps\n",
    "    elif el > 300000:\n",
    "        eps = 1.2\n",
    "        epsL = 1/eps\n",
    "    for j, iv in enumerate(targetInv):\n",
    "        if (el==-1 or el==0) and el==iv:\n",
    "            rows.append(i)\n",
    "            cols.append(j)\n",
    "            data.append(midval)\n",
    "        elif abs(el*iv) >epsL and abs(el*iv) <eps:\n",
    "            rows.append(i)\n",
    "            cols.append(j)\n",
    "            data.append(val)\n",
    "    progress(i, 1000, status=\"total\")\n",
    "    \n",
    "        "
   ]
  },
  {
   "cell_type": "code",
   "execution_count": 22,
   "metadata": {
    "collapsed": true
   },
   "outputs": [],
   "source": [
    "Smatrix = coo_matrix((data, (rows, cols)), shape=(stack, 32195))"
   ]
  },
  {
   "cell_type": "code",
   "execution_count": 23,
   "metadata": {},
   "outputs": [
    {
     "name": "stdout",
     "output_type": "stream",
     "text": [
      "[===========================---------------------------------] 45.0% ...total\r"
     ]
    }
   ],
   "source": [
    "sli=1000\n",
    "for s in range(12,20):\n",
    "    stack = s*sli\n",
    "    rows = []\n",
    "    cols = []\n",
    "    data = []\n",
    "    for i, el in enumerate(durations[stack:stack+sli]):\n",
    "        if el <200000:\n",
    "            eps = 1.8\n",
    "            epsL = 1/eps\n",
    "        if el > 200000 and el < 300000:\n",
    "            eps = 1.5\n",
    "            epsL = 1/eps\n",
    "        elif el > 300000:\n",
    "            eps = 1.2\n",
    "            epsL = 1/eps\n",
    "        \n",
    "        for j, iv in enumerate(targetInv):\n",
    "            if (el==-1 or el==0) and el==iv:\n",
    "                rows.append(i)\n",
    "                cols.append(j)\n",
    "                data.append(midval)\n",
    "            elif abs(el*iv) >epsL and abs(el*iv) <eps:\n",
    "                rows.append(i)\n",
    "                cols.append(j)\n",
    "                data.append(val)\n",
    "    m = coo_matrix((data, (rows, cols)), shape=(sli, 32195))            \n",
    "    Smatrix = vstack([Smatrix, m])\n",
    "    progress(s-10, 20, status=\"total\")\n",
    "    "
   ]
  },
  {
   "cell_type": "code",
   "execution_count": null,
   "metadata": {
    "collapsed": true
   },
   "outputs": [],
   "source": [
    "save_npz(\"from10to20k.npz\", Smatrix)"
   ]
  },
  {
   "cell_type": "code",
   "execution_count": null,
   "metadata": {
    "collapsed": true
   },
   "outputs": [],
   "source": []
  },
  {
   "cell_type": "code",
   "execution_count": null,
   "metadata": {
    "collapsed": true
   },
   "outputs": [],
   "source": []
  },
  {
   "cell_type": "code",
   "execution_count": 6,
   "metadata": {},
   "outputs": [],
   "source": [
    "urm = load(\"playlists_with_tracks.npy\")"
   ]
  },
  {
   "cell_type": "code",
   "execution_count": 32,
   "metadata": {},
   "outputs": [
    {
     "name": "stdout",
     "output_type": "stream",
     "text": [
      "66\n",
      "16262000\n",
      "0\n",
      "2\n"
     ]
    }
   ],
   "source": [
    "d=0\n",
    "c=0\n",
    "b=0\n",
    "ff=0\n",
    "for t in urm[0,1:]:\n",
    "    if t!=0:\n",
    "        d += durations[where(tracks_all[:,0].astype(\"int32\")==t)]\n",
    "        c +=1\n",
    "        if durations[where(tracks_all[:,0].astype(\"int32\")==t)]==0:\n",
    "            b+=1\n",
    "        elif durations[where(tracks_all[:,0].astype(\"int32\")==t)]==-1:\n",
    "            ff+=1\n",
    "\n",
    "print(c)\n",
    "print(d[0]+ff)\n",
    "print(b)\n",
    "print(ff)"
   ]
  },
  {
   "cell_type": "code",
   "execution_count": 23,
   "metadata": {},
   "outputs": [
    {
     "data": {
      "text/plain": [
       "(array([], dtype=int64),)"
      ]
     },
     "execution_count": 23,
     "metadata": {},
     "output_type": "execute_result"
    }
   ],
   "source": [
    "where(tracks_all[:,0].astype(\"int32\")==t)"
   ]
  },
  {
   "cell_type": "code",
   "execution_count": 29,
   "metadata": {},
   "outputs": [
    {
     "data": {
      "text/plain": [
       "array([10024884,  2879006,  1532328,  3027673,  3236144,  1563134,\n",
       "         435345,   353291,   247331,   161455,  3338954,  2710242,\n",
       "         661042,  1672852,  1197750,  2079443,  3669368,   634184,\n",
       "        2864735,    98812,   395601,  2761193,  2479330,  1242583,\n",
       "         187052,  1928272,  1531103,  2121777,   162673,  2773840,\n",
       "        3481281,   195851,  2795693,  3471865,  3882913,  3577226,\n",
       "        2044251,  2003473,  1904860,  1764559,  1032307,   634176,\n",
       "         574908,  2187874,   450130,  1565351,   471263,   897319,\n",
       "        2726115,   814732,  2830649,   285286,  2897887,  3421992,\n",
       "          82829,   487955,  1925295,  3376598,   187564,  2830252,\n",
       "        2391120,  3451601,  2515234,  1510434,  2543467,   458582,\n",
       "        2214157,        0,        0,        0,        0,        0,\n",
       "              0,        0,        0,        0,        0,        0,\n",
       "              0,        0,        0,        0,        0,        0,\n",
       "              0,        0,        0,        0,        0,        0,\n",
       "              0,        0,        0,        0,        0,        0,\n",
       "              0,        0,        0,        0,        0,        0,\n",
       "              0,        0,        0,        0,        0,        0,\n",
       "              0,        0,        0,        0,        0,        0,\n",
       "              0,        0,        0,        0,        0,        0,\n",
       "              0,        0,        0,        0,        0,        0,\n",
       "              0,        0,        0,        0,        0,        0,\n",
       "              0,        0,        0,        0,        0,        0,\n",
       "              0,        0,        0,        0,        0,        0,\n",
       "              0,        0,        0,        0,        0,        0,\n",
       "              0,        0,        0,        0,        0,        0,\n",
       "              0,        0,        0,        0,        0,        0,\n",
       "              0,        0,        0,        0,        0,        0,\n",
       "              0,        0,        0,        0,        0,        0,\n",
       "              0,        0,        0,        0,        0,        0,\n",
       "              0,        0,        0,        0,        0,        0,\n",
       "              0,        0,        0,        0,        0,        0,        0], dtype=int64)"
      ]
     },
     "execution_count": 29,
     "metadata": {},
     "output_type": "execute_result"
    }
   ],
   "source": [
    "urm[0]"
   ]
  },
  {
   "cell_type": "code",
   "execution_count": null,
   "metadata": {
    "collapsed": true
   },
   "outputs": [],
   "source": []
  },
  {
   "cell_type": "code",
   "execution_count": null,
   "metadata": {
    "collapsed": true
   },
   "outputs": [],
   "source": []
  }
 ],
 "metadata": {
  "kernelspec": {
   "display_name": "Python 3",
   "language": "python",
   "name": "python3"
  },
  "language_info": {
   "codemirror_mode": {
    "name": "ipython",
    "version": 3
   },
   "file_extension": ".py",
   "mimetype": "text/x-python",
   "name": "python",
   "nbconvert_exporter": "python",
   "pygments_lexer": "ipython3",
   "version": "3.6.3"
  }
 },
 "nbformat": 4,
 "nbformat_minor": 2
}
