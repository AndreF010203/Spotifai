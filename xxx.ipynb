{
 "cells": [
  {
   "cell_type": "code",
   "execution_count": 1,
   "metadata": {
    "collapsed": true
   },
   "outputs": [],
   "source": [
    "from numpy import *\n",
    "from scipy.sparse import *\n",
    "from scipy.sparse.linalg import *\n",
    "from sklearn.preprocessing import *"
   ]
  },
  {
   "cell_type": "code",
   "execution_count": 2,
   "metadata": {
    "collapsed": true
   },
   "outputs": [],
   "source": [
    "P=load_npz(\"target_playlist_tags_TF_IDF.npz\")\n",
    "P=normalize(P)\n",
    "M=load_npz(\"reducedTargetT.npz\")"
   ]
  },
  {
   "cell_type": "code",
   "execution_count": 7,
   "metadata": {
    "collapsed": true
   },
   "outputs": [],
   "source": [
    "URM = load_npz(\"all_playlist_with_tracks_URM.npz\").astype(\"float\")"
   ]
  },
  {
   "cell_type": "code",
   "execution_count": 8,
   "metadata": {
    "collapsed": true
   },
   "outputs": [],
   "source": [
    "k=80\n",
    "U, S, VT = svds(URM, k)\n",
    "print(\"svd computed\")"
   ]
  },
  {
   "cell_type": "code",
   "execution_count": 9,
   "metadata": {
    "collapsed": true
   },
   "outputs": [],
   "source": [
    "S=diag(S)"
   ]
  },
  {
   "cell_type": "code",
   "execution_count": 10,
   "metadata": {
    "collapsed": true
   },
   "outputs": [],
   "source": [
    "SVT = S.dot(VT)"
   ]
  },
  {
   "cell_type": "code",
   "execution_count": null,
   "metadata": {
    "collapsed": true
   },
   "outputs": [],
   "source": []
  },
  {
   "cell_type": "code",
   "execution_count": 45,
   "metadata": {
    "collapsed": true
   },
   "outputs": [],
   "source": [
    "PLIDs = load(\"all_45k_playlist_ordered_by_ID.npy\")\n",
    "test = load_npz(\"all_playlists_with_tracks.npz\")\n",
    "TIDs = load(\"all_100k_tracks_ordered_by_ID.npy\")\n",
    "\n",
    "PLIDs = ravel(PLIDs)[0].getcol(0).data"
   ]
  },
  {
   "cell_type": "code",
   "execution_count": 47,
   "metadata": {
    "collapsed": true
   },
   "outputs": [],
   "source": [
    "monoArtist=load(\"target_playlist_mono_artist.npy\")\n",
    "monoArtistPlID=monoArtist[:,0]\n",
    "monoArtistArtistID=monoArtist[:,1]\n",
    "artistIndexes=load(\"uniqueArtists_NeededToIndexThe_ArtistReducedMatrices.npy\")\n",
    "artistTracks=load_npz(\"artists_with_tracksID_ordered_by_occurrencies.npz\")\n",
    "target_playlists=genfromtxt(\"target_playlists.csv\",skip_header=1)\n",
    "playlists_with_tracks=load(\"playlists_with_tracks.npy\")\n",
    "target_tracks_ordered = load(\"targetTracksOrdered.npy\")\n",
    "def getsimil(pls, similrow, n):\n",
    "    maxi = flip(argsort(similrow), axis=0)\n",
    "    r = []\n",
    "    for m in maxi:\n",
    "        if(not isin(target_tracks_ordered[m], pls[1:])):\n",
    "           r.append(target_tracks_ordered[m])\n",
    "           if(len(r)==n):\n",
    "               return r"
   ]
  },
  {
   "cell_type": "code",
   "execution_count": null,
   "metadata": {
    "collapsed": true
   },
   "outputs": [],
   "source": [
    "PlwithArtist = load_npz(\"targetPlaylistArtistReduced.npz\")\n",
    "PlwithArtist = normalize(PlwithArtist, norm=\"max\")\n",
    "tTracksWithArtist = load_npz(\"targetTracksArtistReduced.npz\")\n",
    "PlTrackSimByArtist = PlwithArtist * tTracksWithArtist.T"
   ]
  },
  {
   "cell_type": "code",
   "execution_count": 54,
   "metadata": {
    "collapsed": true
   },
   "outputs": [],
   "source": [
    "Utarget = U[isin(PLIDs, target_playlists)]"
   ]
  },
  {
   "cell_type": "code",
   "execution_count": 56,
   "metadata": {
    "collapsed": true
   },
   "outputs": [],
   "source": [
    "Pred = Utarget.dot(SVT)"
   ]
  },
  {
   "cell_type": "code",
   "execution_count": 59,
   "metadata": {},
   "outputs": [
    {
     "data": {
      "text/plain": [
       "array([[ -9.31659627e-04,   5.88856627e-04,   5.14660685e-05, ...,\n",
       "         -8.32556934e-06,   1.38279045e-04,  -5.34908938e-04],\n",
       "       [  2.99857508e-04,   1.53038071e-04,   3.91063261e-04, ...,\n",
       "          6.20536958e-06,  -1.37697029e-04,  -1.95985668e-04],\n",
       "       [ -2.42466607e-04,  -3.20113422e-04,   1.74696351e-04, ...,\n",
       "          4.80487132e-06,  -1.33566572e-04,  -1.09033376e-04],\n",
       "       ..., \n",
       "       [ -7.05302161e-05,   1.65188426e-04,   6.83608434e-05, ...,\n",
       "         -5.88676884e-05,  -1.35906182e-04,  -8.84414971e-05],\n",
       "       [  1.30526306e-06,   6.60938815e-05,   4.87123260e-06, ...,\n",
       "          1.16247954e-05,   5.88220122e-05,  -8.99074904e-06],\n",
       "       [ -5.97707651e-04,   2.85393830e-04,   9.55642153e-06, ...,\n",
       "         -7.12108872e-05,  -8.28739194e-05,  -4.11055813e-04]])"
      ]
     },
     "execution_count": 59,
     "metadata": {},
     "output_type": "execute_result"
    }
   ],
   "source": [
    "TargetPred = Pred[:, isin(TIDs, target_tracks_ordered)]\n",
    "print(\"model ready\")"
   ]
  },
  {
   "cell_type": "code",
   "execution_count": null,
   "metadata": {
    "collapsed": true
   },
   "outputs": [],
   "source": [
    "IDFplaylists = load_npz(\"target_playlist_tags_TF_IDF.npz\")\n",
    "IDFsim = IDFplaylists * M.T"
   ]
  },
  {
   "cell_type": "code",
   "execution_count": null,
   "metadata": {
    "collapsed": true
   },
   "outputs": [],
   "source": [
    "f = TargetPred + PlTrackSimByArtist\n",
    "FinalPred = f + IDFsim\n",
    "\n",
    "print(\"sum ready\")"
   ]
  },
  {
   "cell_type": "code",
   "execution_count": null,
   "metadata": {
    "collapsed": true
   },
   "outputs": [],
   "source": [
    "def compute_s(fname, finalPlSim):\n",
    "    with open(fname,\"a\") as myfile:\n",
    "        myfile.write(\"playlist_id,track_ids\\n\")\n",
    "        for pl, similsum in zip(playlists_with_tracks, finalPlSim):\n",
    "            plID=pl[0]\n",
    "            s = str(int(plID))\n",
    "            s += \",\"\n",
    "            if(isin(plID,monoArtistPlID)):#guarda se c'è un artista solo\n",
    "                artist=monoArtistArtistID[where(monoArtistPlID==plID)[0][0]]#l'unico artista della playlist\n",
    "                artistIndex=where(artistIndexes==artist)[0][0]#cerca la sua posizione nella matrice delle tracce\n",
    "                thisArtistTracks=artistTracks.getrow(artistIndex).data#prende le sue tracce\n",
    "                rr=array([t for t in thisArtistTracks if t not in pl[1:] and isin(t, target_tracks_ordered)])#prende tutte quelle non già presenti\n",
    "\n",
    "                if(len(rr)>=5):\n",
    "                    r = array(rr).take(range(5))\n",
    "                else:\n",
    "                    r4 = getsimil(pl, ravel(similsum.todense()), 5)\n",
    "                    r4 = array([el for el in r4 if el not in rr])\n",
    "                    r = concatenate((rr, r4.take(range(5-len(rr)))))\n",
    "            else:\n",
    "                r = getsimil(pl, ravel(similsum.todense()), 5)#non c'è un artista solo quindi guarda solo i tag\n",
    "            for el in r:\n",
    "                s+=str(el)\n",
    "                s+=\" \"\n",
    "            myfile.write(s + \"\\n\")\n",
    "            \n",
    "            \n",
    "def compute(fname, finalPlSim):\n",
    "    with open(fname,\"a\") as myfile:\n",
    "        myfile.write(\"playlist_id,track_ids\\n\")\n",
    "        for pl, similsum in zip(playlists_with_tracks, finalPlSim):\n",
    "            plID=pl[0]\n",
    "            s = str(int(plID))\n",
    "            s += \",\"\n",
    "            if(isin(plID,monoArtistPlID)):#guarda se c'è un artista solo\n",
    "                artist=monoArtistArtistID[where(monoArtistPlID==plID)[0][0]]#l'unico artista della playlist\n",
    "                artistIndex=where(artistIndexes==artist)[0][0]#cerca la sua posizione nella matrice delle tracce\n",
    "                thisArtistTracks=artistTracks.getrow(artistIndex).data#prende le sue tracce\n",
    "                rr=array([t for t in thisArtistTracks if t not in pl[1:] and isin(t, target_tracks_ordered)])#prende tutte quelle non già presenti\n",
    "\n",
    "                if(len(rr)>=5):\n",
    "                    r = array(rr).take(range(5))\n",
    "                else:\n",
    "                    r4 = getsimil(pl, ravel(similsum), 5)\n",
    "                    r4 = array([el for el in r4 if el not in rr])\n",
    "                    r = concatenate((rr, r4.take(range(5-len(rr)))))\n",
    "            else:\n",
    "                r = getsimil(pl, ravel(similsum), 5)#non c'è un artista solo quindi guarda solo i tag\n",
    "            for el in r:\n",
    "                s+=str(el)\n",
    "                s+=\" \"\n",
    "            myfile.write(s + \"\\n\")"
   ]
  },
  {
   "cell_type": "code",
   "execution_count": null,
   "metadata": {
    "collapsed": true
   },
   "outputs": [],
   "source": [
    "print(\"start printing\")\n",
    "#compute(\"SVDonURM.csv\", TargetPred)\n",
    "compute(\"SVDonURMplusArtist.csv\", FinalPred)"
   ]
  },
  {
   "cell_type": "code",
   "execution_count": null,
   "metadata": {
    "collapsed": true
   },
   "outputs": [],
   "source": [
    "\n"
   ]
  },
  {
   "cell_type": "code",
   "execution_count": null,
   "metadata": {
    "collapsed": true
   },
   "outputs": [],
   "source": []
  }
 ],
 "metadata": {
  "kernelspec": {
   "display_name": "Python 3",
   "language": "python",
   "name": "python3"
  },
  "language_info": {
   "codemirror_mode": {
    "name": "ipython",
    "version": 3
   },
   "file_extension": ".py",
   "mimetype": "text/x-python",
   "name": "python",
   "nbconvert_exporter": "python",
   "pygments_lexer": "ipython3",
   "version": "3.6.3"
  }
 },
 "nbformat": 4,
 "nbformat_minor": 2
}
