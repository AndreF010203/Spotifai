{
 "cells": [
  {
   "cell_type": "code",
   "execution_count": 6,
   "metadata": {
    "collapsed": true
   },
   "outputs": [],
   "source": [
    "from numpy import *\n",
    "from scipy import *\n",
    "from scipy import *\n",
    "import scipy.sparse as sps\n",
    "\n",
    "tag_indexed_byidtrack = load(\"tag_indexed_byidtrack.npy\")\n",
    "target_playlists=genfromtxt(\"target_playlists.csv\",skip_header=1)\n",
    "indexSortedDESCENDENT = load(\"indexsortedDESCENDENT.npy\")"
   ]
  },
  {
   "cell_type": "code",
   "execution_count": 7,
   "metadata": {},
   "outputs": [],
   "source": [
    "playlists_with_tracks=load(\"playlists_with_tracks.npy\")\n",
    "\n",
    "pl_tags = list()\n",
    "for songs in playlists_with_tracks[:,1:]:\n",
    "    tags = []\n",
    "    for song in songs:\n",
    "        tags = concatenate((tag_indexed_byidtrack[song], tags))\n",
    "        \n",
    "    pl_tags.append(tags)"
   ]
  },
  {
   "cell_type": "code",
   "execution_count": null,
   "metadata": {
    "collapsed": true
   },
   "outputs": [],
   "source": []
  },
  {
   "cell_type": "code",
   "execution_count": 8,
   "metadata": {
    "collapsed": true
   },
   "outputs": [],
   "source": [
    "final = zeros(446386)\n",
    "for el in pl_tags:\n",
    "        if(0 in el):\n",
    "            el = el[1:]\n",
    "        tags_count = bincount(el.astype(\"int64\"), minlength=446386)\n",
    "        tags_count_sparse = sps.csr_matrix(tags_count)\n",
    "        final = sps.bmat([[final], [tags_count_sparse]])"
   ]
  },
  {
   "cell_type": "code",
   "execution_count": 9,
   "metadata": {
    "collapsed": true
   },
   "outputs": [],
   "source": [
    "def tagdistance_unweight(ptags, stags):\n",
    "    if(isin(0, ptags)):\n",
    "        ptags = ptags[1:]\n",
    "    test = isin(stags, ptags)\n",
    "    k=0\n",
    "    for el in test:\n",
    "        if(el):\n",
    "            k+=1\n",
    "    return k/5\n",
    "      \n",
    "\n",
    "def bad_looping(ptag, psong, epsilon):\n",
    "    result = list()\n",
    "    for song in indexSortedDESCENDENT:\n",
    "        if(tagdistance_unweight(ptag, tag_indexed_byidtrack[song])>=epsilon and not isin(song, psong)):\n",
    "            result.append(song)\n",
    "            if(len(result)==5):\n",
    "                return result\n",
    "    return result"
   ]
  },
  {
   "cell_type": "code",
   "execution_count": null,
   "metadata": {
    "collapsed": true
   },
   "outputs": [],
   "source": []
  },
  {
   "cell_type": "code",
   "execution_count": null,
   "metadata": {
    "collapsed": true
   },
   "outputs": [],
   "source": []
  },
  {
   "cell_type": "code",
   "execution_count": null,
   "metadata": {
    "collapsed": true
   },
   "outputs": [],
   "source": []
  },
  {
   "cell_type": "code",
   "execution_count": 10,
   "metadata": {
    "collapsed": true
   },
   "outputs": [],
   "source": [
    "counts = zeros(10001)\n",
    "summ = zeros(10001)\n",
    "for i in range(10001):\n",
    "    r = final.getrow(i)\n",
    "    counts[i] = r.nnz\n",
    "    summ[i] = r.sum()"
   ]
  },
  {
   "cell_type": "code",
   "execution_count": 11,
   "metadata": {},
   "outputs": [],
   "source": [
    "summ = summ[1:]\n",
    "counts = counts[1:]"
   ]
  },
  {
   "cell_type": "code",
   "execution_count": 12,
   "metadata": {},
   "outputs": [],
   "source": [
    "averages = summ/counts"
   ]
  },
  {
   "cell_type": "code",
   "execution_count": 34,
   "metadata": {},
   "outputs": [],
   "source": [
    "tags_pruned = list()\n",
    "for i in range(1,10001):\n",
    "    arr = []\n",
    "    r = final.getrow(i)\n",
    "    arr = where(r.todense().squeeze() >= averages[i-1])\n",
    "    tags_pruned.append(arr)\n",
    "            "
   ]
  },
  {
   "cell_type": "code",
   "execution_count": null,
   "metadata": {},
   "outputs": [],
   "source": []
  },
  {
   "cell_type": "code",
   "execution_count": 40,
   "metadata": {},
   "outputs": [
    {
     "ename": "TypeError",
     "evalue": "list indices must be integers or slices, not tuple",
     "output_type": "error",
     "traceback": [
      "\u001b[1;31m---------------------------------------------------------------------------\u001b[0m",
      "\u001b[1;31mTypeError\u001b[0m                                 Traceback (most recent call last)",
      "\u001b[1;32m<ipython-input-40-904214e0db4e>\u001b[0m in \u001b[0;36m<module>\u001b[1;34m()\u001b[0m\n\u001b[1;32m----> 1\u001b[1;33m \u001b[0mtags_pruned\u001b[0m\u001b[1;33m[\u001b[0m\u001b[1;36m1\u001b[0m\u001b[1;33m,\u001b[0m\u001b[1;36m1\u001b[0m\u001b[1;33m]\u001b[0m\u001b[1;33m\u001b[0m\u001b[0m\n\u001b[0m",
      "\u001b[1;31mTypeError\u001b[0m: list indices must be integers or slices, not tuple"
     ]
    }
   ],
   "source": [
    "tags_pruned[]"
   ]
  },
  {
   "cell_type": "code",
   "execution_count": 21,
   "metadata": {},
   "outputs": [
    {
     "data": {
      "text/plain": [
       "14.313432835820896"
      ]
     },
     "execution_count": 21,
     "metadata": {},
     "output_type": "execute_result"
    }
   ],
   "source": [
    "averages[0]"
   ]
  },
  {
   "cell_type": "code",
   "execution_count": 36,
   "metadata": {},
   "outputs": [
    {
     "data": {
      "text/plain": [
       "(10000, 2)"
      ]
     },
     "execution_count": 36,
     "metadata": {},
     "output_type": "execute_result"
    }
   ],
   "source": [
    "shape(tags_pruned)"
   ]
  },
  {
   "cell_type": "code",
   "execution_count": null,
   "metadata": {
    "collapsed": true
   },
   "outputs": [],
   "source": []
  }
 ],
 "metadata": {
  "kernelspec": {
   "display_name": "Python 3",
   "language": "python",
   "name": "python3"
  }
 },
 "nbformat": 4,
 "nbformat_minor": 2
}
