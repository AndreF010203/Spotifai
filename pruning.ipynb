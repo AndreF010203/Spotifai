{
 "cells": [
  {
   "cell_type": "code",
   "execution_count": 86,
   "metadata": {
    "collapsed": true
   },
   "outputs": [],
   "source": [
    "from numpy import *\n",
    "from scipy import *\n",
    "from scipy import *\n",
    "import scipy.sparse as sps\n",
    "\n",
    "tag_indexed_byidtrack = load(\"tag_indexed_byidtrack.npy\")\n",
    "target_playlists=genfromtxt(\"target_playlists.csv\",skip_header=1)\n",
    "indexSortedDESCENDENT = load(\"indexsortedDESCENDENT.npy\")\n",
    "songs_popularity = load(\"idsong_playcount_populartiy.npy\")"
   ]
  },
  {
   "cell_type": "code",
   "execution_count": 3,
   "metadata": {
    "collapsed": true
   },
   "outputs": [],
   "source": [
    "playlists_with_tracks=load(\"playlists_with_tracks.npy\")\n",
    "\n",
    "pl_tags = list()\n",
    "for songs in playlists_with_tracks[:,1:]:\n",
    "    tags = []\n",
    "    for song in songs:\n",
    "        tags = concatenate((tag_indexed_byidtrack[song], tags))\n",
    "        \n",
    "    pl_tags.append(tags)"
   ]
  },
  {
   "cell_type": "code",
   "execution_count": 5,
   "metadata": {},
   "outputs": [],
   "source": [
    "final = zeros(446386)\n",
    "for el in pl_tags:\n",
    "        if(0 in el):\n",
    "            el = el[1:]\n",
    "        tags_count = bincount(el.astype(\"int64\"), minlength=446386)\n",
    "        tags_count_sparse = sps.csr_matrix(tags_count)\n",
    "        final = sps.bmat([[final], [tags_count_sparse]])"
   ]
  },
  {
   "cell_type": "code",
   "execution_count": 97,
   "metadata": {
    "collapsed": true
   },
   "outputs": [],
   "source": [
    "def tagdistance_unweight(ptags, stags):\n",
    "    if(isin(0, ptags)):\n",
    "        ptags = ptags[1:]\n",
    "    test = isin(stags, ptags)\n",
    "    k=0\n",
    "    for el in test:\n",
    "        if(el):\n",
    "            k+=1\n",
    "    return k/5\n",
    "\n",
    "\n",
    "def bad_looping(ptag, psong, epsilon):\n",
    "    result = list()\n",
    "    for sindex in indexSortedDESCENDENT:\n",
    "        song = songs_popularity[sindex,0].astype(\"int64\")\n",
    "        if(tagdistance_unweight(ptag, tag_indexed_byidtrack[song])>=epsilon and not isin(song, psong)):\n",
    "            result.append(song)\n",
    "            if(len(result)==5):\n",
    "                return result\n",
    "    return result"
   ]
  },
  {
   "cell_type": "code",
   "execution_count": 53,
   "metadata": {},
   "outputs": [],
   "source": [
    "sums = final.sum(axis=1)\n",
    "counts = final.getnnz(axis=1)"
   ]
  },
  {
   "cell_type": "code",
   "execution_count": 54,
   "metadata": {},
   "outputs": [],
   "source": [
    "sums = sums[1:]\n",
    "sums = sums.squeeze()\n",
    "counts = counts[1:]"
   ]
  },
  {
   "cell_type": "code",
   "execution_count": 55,
   "metadata": {
    "collapsed": true
   },
   "outputs": [],
   "source": [
    "averages = sums/counts"
   ]
  },
  {
   "cell_type": "code",
   "execution_count": 82,
   "metadata": {},
   "outputs": [],
   "source": [
    "taglist = list()\n",
    "for i in range(1, 10001):\n",
    "    x = where(final.getrow(i).todense() >= 2)\n",
    "    if(len(x[1])<5):\n",
    "        taglist.append(where(final.getrow(i).todense() >= 1)\n",
    "    else:\n",
    "        taglist.append(x[1])\n",
    "    \n",
    "    "
   ]
  },
  {
   "cell_type": "code",
   "execution_count": 99,
   "metadata": {},
   "outputs": [],
   "source": [
    "open(\"UnweightTagSubmission.csv\",\"w\").close()\n",
    "print(\"playlist_id,track_ids\",file=open(\"UnweightTagSubmission.csv\",\"a\"))\n",
    "for pl, pltag, psongs in zip(target_playlists, pl_tags, playlists_with_tracks[:,1:]):\n",
    "    epsilon = 1\n",
    "    s = str(int(pl))\n",
    "    s += \",\"\n",
    "    r = bad_looping(pltag, psongs, epsilon)\n",
    "    while(len(r)<5):\n",
    "        epsilon = epsilon - 0.2\n",
    "        r = bad_looping(pltag, psongs, epsilon)\n",
    "    for el in r:\n",
    "        s+=str(el)\n",
    "        s+=\" \"\n",
    "    print(s,file=open(\"UnweightTagSubmission.csv\",\"a\"))"
   ]
  },
  {
   "cell_type": "code",
   "execution_count": 96,
   "metadata": {},
   "outputs": [
    {
     "data": {
      "text/plain": [
       "numpy.float64"
      ]
     },
     "execution_count": 96,
     "metadata": {},
     "output_type": "execute_result"
    }
   ],
   "source": [
    "type(songs_popularity[indexSortedDESCENDENT[0],0])"
   ]
  },
  {
   "cell_type": "code",
   "execution_count": null,
   "metadata": {
    "collapsed": true
   },
   "outputs": [],
   "source": []
  },
  {
   "cell_type": "code",
   "execution_count": null,
   "metadata": {
    "collapsed": true
   },
   "outputs": [],
   "source": []
  }
 ],
 "metadata": {
  "kernelspec": {
   "display_name": "Python 3",
   "language": "python",
   "name": "python3"
  },
  "language_info": {
   "codemirror_mode": {
    "name": "ipython",
    "version": 3
   },
   "file_extension": ".py",
   "mimetype": "text/x-python",
   "name": "python",
   "nbconvert_exporter": "python",
   "pygments_lexer": "ipython3",
   "version": "3.6.2"
  }
 },
 "nbformat": 4,
 "nbformat_minor": 2
}
