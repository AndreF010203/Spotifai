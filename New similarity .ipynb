{
 "cells": [
  {
   "cell_type": "code",
   "execution_count": 1,
   "metadata": {
    "collapsed": true
   },
   "outputs": [],
   "source": [
    "from numpy import *\n",
    "from scipy.sparse import *\n",
    "from sklearn.preprocessing import *"
   ]
  },
  {
   "cell_type": "code",
   "execution_count": 8,
   "metadata": {
    "collapsed": true
   },
   "outputs": [],
   "source": [
    "tTracksWithArtist = load_npz(\"targetTracksArtistReduced.npz\")\n",
    "PlwithArtist = load_npz(\"targetPlaylistArtistReduced.npz\")\n",
    "PlwithArtist = normalize(PlwithArtist, norm=\"max\")\n",
    "PlTrackSimByArtist = PlwithArtist * tTracksWithArtist.T"
   ]
  },
  {
   "cell_type": "code",
   "execution_count": 11,
   "metadata": {
    "collapsed": true
   },
   "outputs": [],
   "source": [
    "monoArtist=load(\"target_playlist_mono_artist.npy\")\n",
    "monoArtistPlID=monoArtist[:,0]\n",
    "monoArtistArtistID=monoArtist[:,1]\n",
    "artistIndexes=load(\"uniqueArtists_NeededToIndexThe_ArtistReducedMatrices.npy\")\n",
    "artistTracks=load_npz(\"artists_with_tracksID_ordered_by_occurrencies.npz\")\n",
    "target_playlists=genfromtxt(\"target_playlists.csv\",skip_header=1)\n",
    "playlists_with_tracks=load(\"playlists_with_tracks.npy\")\n",
    "target_tracks_ordered = load(\"targetTracksOrdered.npy\")\n",
    "def getsimil(pls, similrow, n):\n",
    "    maxi = flip(argsort(similrow), axis=0)\n",
    "    r = []\n",
    "    for m in maxi:\n",
    "        if(not isin(target_tracks_ordered[m], pls[1:])):\n",
    "           r.append(target_tracks_ordered[m])\n",
    "           if(len(r)==n):\n",
    "               return r"
   ]
  },
  {
   "cell_type": "code",
   "execution_count": 2,
   "metadata": {
    "collapsed": true
   },
   "outputs": [],
   "source": [
    "P=load_npz(\"playlist_reduced.npz\")\n",
    "P=normalize(P)"
   ]
  },
  {
   "cell_type": "code",
   "execution_count": 3,
   "metadata": {
    "collapsed": true
   },
   "outputs": [],
   "source": [
    "PLNTtags = load_npz(\"non_target_pl_tags_reduced.npz\")\n",
    "PLNTtags = normalize(PLNTtags)\n",
    "PLTxPLNT = P.dot(PLNTtags.T)\n",
    "save_npz(\"PLTxPLNT.npz\", PLTxPLNT)"
   ]
  },
  {
   "cell_type": "code",
   "execution_count": 5,
   "metadata": {
    "collapsed": true
   },
   "outputs": [],
   "source": [
    "tTracksTags = load_npz(\"reducedTargetT.npz\")\n",
    "PLNTxTtracks = PLNTtags.dot(tTracksTags.T)"
   ]
  },
  {
   "cell_type": "code",
   "execution_count": 6,
   "metadata": {},
   "outputs": [],
   "source": [
    "F = PLTxPLNT.dot(PLNTxTtracks)\n",
    "save_npz(\"F\", F)"
   ]
  },
  {
   "cell_type": "code",
   "execution_count": 9,
   "metadata": {},
   "outputs": [],
   "source": [
    "Final = F + PlTrackSimByArtist\n",
    "save_npz(\"Final\", Final)"
   ]
  },
  {
   "cell_type": "code",
   "execution_count": 12,
   "metadata": {},
   "outputs": [],
   "source": [
    "fname = \"New Mono_TagSimilarity.csv\"\n",
    "with open(fname,\"a\") as myfile:\n",
    "    myfile.write(\"playlist_id,track_ids\\n\")\n",
    "    for pl, similPT, similsum in zip(playlists_with_tracks, F, Final):\n",
    "        plID=pl[0]\n",
    "        s = str(int(plID))\n",
    "        s += \",\"\n",
    "        if(isin(plID,monoArtistPlID)):#guarda se c'è un artista solo\n",
    "            artist=monoArtistArtistID[where(monoArtistPlID==plID)[0][0]]#l'unico artista della playlist\n",
    "            artistIndex=where(artistIndexes==artist)[0][0]#cerca la sua posizione nella matrice delle tracce\n",
    "            thisArtistTracks=artistTracks.getrow(artistIndex).data#prende le sue tracce\n",
    "            rr=array([t for t in thisArtistTracks if t not in pl[1:] and isin(t, target_tracks_ordered)])#prende tutte quelle non già presenti\n",
    "            \n",
    "            if(len(rr)>=5):\n",
    "                r = array(rr).take(range(5))\n",
    "            else:\n",
    "                r4 = getsimil(pl, ravel(similsum.todense()), 5)\n",
    "                r4 = array([el for el in r4 if el not in rr])\n",
    "                r = concatenate((rr, r4.take(range(5-len(rr)))))\n",
    "        else:\n",
    "            r = getsimil(pl, ravel(similsum.todense()), 5)#non c'è un artista solo quindi guarda solo i tag\n",
    "        for el in r:\n",
    "            s+=str(el)\n",
    "            s+=\" \"\n",
    "        myfile.write(s + \"\\n\")"
   ]
  },
  {
   "cell_type": "code",
   "execution_count": null,
   "metadata": {
    "collapsed": true
   },
   "outputs": [],
   "source": []
  }
 ],
 "metadata": {
  "kernelspec": {
   "display_name": "Python 3",
   "language": "python",
   "name": "python3"
  },
  "language_info": {
   "codemirror_mode": {
    "name": "ipython",
    "version": 3
   },
   "file_extension": ".py",
   "mimetype": "text/x-python",
   "name": "python",
   "nbconvert_exporter": "python",
   "pygments_lexer": "ipython3",
   "version": "3.6.2"
  }
 },
 "nbformat": 4,
 "nbformat_minor": 2
}
