{
 "cells": [
  {
   "cell_type": "code",
   "execution_count": 4,
   "metadata": {
    "collapsed": true
   },
   "outputs": [],
   "source": [
    "from numpy import *\n",
    "from scipy.sparse import *"
   ]
  },
  {
   "cell_type": "code",
   "execution_count": 5,
   "metadata": {
    "collapsed": false
   },
   "outputs": [
    {
     "data": {
      "text/plain": [
       "array([[2972914,     144],\n",
       "       [2750239,     246],\n",
       "       [1550729,     144],\n",
       "       ..., \n",
       "       [2584455,   27938],\n",
       "       [2299706,  373892],\n",
       "       [2739985,  567363]], dtype=int32)"
      ]
     },
     "execution_count": 5,
     "metadata": {},
     "output_type": "execute_result"
    }
   ],
   "source": [
    "trackArtist=load(\"track_artist.npy\")\n",
    "trackArtist"
   ]
  },
  {
   "cell_type": "code",
   "execution_count": 6,
   "metadata": {
    "collapsed": false
   },
   "outputs": [
    {
     "data": {
      "text/plain": [
       "(100000, 2)"
      ]
     },
     "execution_count": 6,
     "metadata": {},
     "output_type": "execute_result"
    }
   ],
   "source": [
    "trackArtist.shape"
   ]
  },
  {
   "cell_type": "code",
   "execution_count": 6,
   "metadata": {
    "collapsed": false
   },
   "outputs": [
    {
     "data": {
      "text/plain": [
       "<45649x200 sparse matrix of type '<class 'numpy.int64'>'\n",
       "\twith 1086171 stored elements in Compressed Sparse Column format>"
      ]
     },
     "execution_count": 6,
     "metadata": {},
     "output_type": "execute_result"
    }
   ],
   "source": [
    "playlistTracks=load_npz(\"all_playlists_with_tracks.npz\")\n",
    "playlistTracks"
   ]
  },
  {
   "cell_type": "code",
   "execution_count": 20,
   "metadata": {
    "collapsed": false
   },
   "outputs": [
    {
     "data": {
      "text/plain": [
       "array([    7569,     7614,     7641, ..., 11765405, 11766293, 11766362])"
      ]
     },
     "execution_count": 20,
     "metadata": {},
     "output_type": "execute_result"
    }
   ],
   "source": [
    "playlistTracks[:,0].data"
   ]
  },
  {
   "cell_type": "code",
   "execution_count": 14,
   "metadata": {
    "collapsed": false
   },
   "outputs": [
    {
     "data": {
      "text/plain": [
       "(45649, 200)"
      ]
     },
     "execution_count": 14,
     "metadata": {},
     "output_type": "execute_result"
    }
   ],
   "source": [
    "playlistTracks.shape"
   ]
  },
  {
   "cell_type": "code",
   "execution_count": 41,
   "metadata": {
    "collapsed": false
   },
   "outputs": [
    {
     "data": {
      "text/plain": [
       "(11,)"
      ]
     },
     "execution_count": 41,
     "metadata": {},
     "output_type": "execute_result"
    }
   ],
   "source": [
    "playlistTracks[:,1:][1].data.shape"
   ]
  },
  {
   "cell_type": "code",
   "execution_count": 84,
   "metadata": {
    "collapsed": false
   },
   "outputs": [],
   "source": [
    "myList=[x.data.tolist() for x in playlistTracks[:,1:]]"
   ]
  },
  {
   "cell_type": "code",
   "execution_count": 85,
   "metadata": {
    "collapsed": true
   },
   "outputs": [],
   "source": [
    "backupList=myList.copy()"
   ]
  },
  {
   "cell_type": "code",
   "execution_count": 87,
   "metadata": {
    "collapsed": false
   },
   "outputs": [
    {
     "data": {
      "text/plain": [
       "45649"
      ]
     },
     "execution_count": 87,
     "metadata": {},
     "output_type": "execute_result"
    }
   ],
   "source": [
    "len(myList)"
   ]
  },
  {
   "cell_type": "code",
   "execution_count": 86,
   "metadata": {
    "collapsed": false
   },
   "outputs": [
    {
     "data": {
      "text/plain": [
       "[2634448, 2693660, 2227105, 2654612, 162463, 1195736, 2861386, 795606, 421750]"
      ]
     },
     "execution_count": 86,
     "metadata": {},
     "output_type": "execute_result"
    }
   ],
   "source": [
    "#myList[0]#queste erano le tracce"
   ]
  },
  {
   "cell_type": "code",
   "execution_count": 88,
   "metadata": {
    "collapsed": false
   },
   "outputs": [
    {
     "data": {
      "text/plain": [
       "array([2972914, 2750239, 1550729, ..., 2584455, 2299706, 2739985], dtype=int32)"
      ]
     },
     "execution_count": 88,
     "metadata": {},
     "output_type": "execute_result"
    }
   ],
   "source": [
    "tIDs=trackArtist[:,0]\n",
    "tIDs"
   ]
  },
  {
   "cell_type": "code",
   "execution_count": 89,
   "metadata": {
    "collapsed": false
   },
   "outputs": [
    {
     "data": {
      "text/plain": [
       "array([   144,    246,    144, ...,  27938, 373892, 567363], dtype=int32)"
      ]
     },
     "execution_count": 89,
     "metadata": {},
     "output_type": "execute_result"
    }
   ],
   "source": [
    "artistIDs=trackArtist[:,1]\n",
    "artistIDs"
   ]
  },
  {
   "cell_type": "code",
   "execution_count": 97,
   "metadata": {
    "collapsed": false
   },
   "outputs": [
    {
     "name": "stdout",
     "output_type": "stream",
     "text": [
      "[2634448, 2693660, 2227105, 2654612, 162463, 1195736, 2861386, 795606, 421750]\n",
      "[3435317]\n",
      "[1891218, 234607, 1966460, 3830948, 1838617, 2988391, 356765, 3701295, 656735, 2712377, 3674375]\n",
      "[20355, 1232476]\n",
      "[3382133, 2838946, 1165920, 3117823, 1079342]\n"
     ]
    }
   ],
   "source": [
    "for i,tracks in enumerate(myList):\n",
    "    if(i%10000==0):\n",
    "        print(tracks)\n",
    "    myList[i]=list(map(lambda x: artistIDs[where(tIDs==x)[0][0]], tracks ))"
   ]
  },
  {
   "cell_type": "code",
   "execution_count": 106,
   "metadata": {
    "collapsed": false
   },
   "outputs": [
    {
     "data": {
      "text/plain": [
       "[20683, 281045, 22096, 281045, 319024, 319024, 449220, 54765, 53362]"
      ]
     },
     "execution_count": 106,
     "metadata": {},
     "output_type": "execute_result"
    }
   ],
   "source": [
    "#myList[0]#tracce trasformate in artisti"
   ]
  },
  {
   "cell_type": "code",
   "execution_count": 109,
   "metadata": {
    "collapsed": false
   },
   "outputs": [],
   "source": [
    "paddedList=list(map(lambda x: x+[0]*(199-len(x)) , myList))"
   ]
  },
  {
   "cell_type": "code",
   "execution_count": 114,
   "metadata": {
    "collapsed": false
   },
   "outputs": [],
   "source": [
    "all_playlists_with_artist=csc_matrix(paddedList)"
   ]
  },
  {
   "cell_type": "code",
   "execution_count": 116,
   "metadata": {
    "collapsed": false
   },
   "outputs": [
    {
     "data": {
      "text/plain": [
       "<45649x199 sparse matrix of type '<class 'numpy.int64'>'\n",
       "\twith 1040522 stored elements in Compressed Sparse Column format>"
      ]
     },
     "execution_count": 116,
     "metadata": {},
     "output_type": "execute_result"
    }
   ],
   "source": [
    "all_playlists_with_artist"
   ]
  },
  {
   "cell_type": "code",
   "execution_count": 117,
   "metadata": {
    "collapsed": true
   },
   "outputs": [],
   "source": [
    "save_npz(\"all_playlists_with_artist.npz\",all_playlists_with_artist)"
   ]
  },
  {
   "cell_type": "code",
   "execution_count": 7,
   "metadata": {
    "collapsed": true
   },
   "outputs": [],
   "source": [
    "all_playlists_with_artist=load_npz(\"all_playlists_with_artist.npz\")"
   ]
  },
  {
   "cell_type": "code",
   "execution_count": 4,
   "metadata": {
    "collapsed": false
   },
   "outputs": [
    {
     "data": {
      "text/plain": [
       "<45649x199 sparse matrix of type '<class 'numpy.int64'>'\n",
       "\twith 1040522 stored elements in Compressed Sparse Column format>"
      ]
     },
     "execution_count": 4,
     "metadata": {},
     "output_type": "execute_result"
    }
   ],
   "source": [
    "all_playlists_with_artist"
   ]
  },
  {
   "cell_type": "code",
   "execution_count": 8,
   "metadata": {
    "collapsed": false
   },
   "outputs": [
    {
     "data": {
      "text/plain": [
       "(array([[2972914,     144],\n",
       "        [2750239,     246],\n",
       "        [1550729,     144],\n",
       "        ..., \n",
       "        [2584455,   27938],\n",
       "        [2299706,  373892],\n",
       "        [2739985,  567363]], dtype=int32), (100000, 2))"
      ]
     },
     "execution_count": 8,
     "metadata": {},
     "output_type": "execute_result"
    }
   ],
   "source": [
    "trackArtist=load(\"track_artist.npy\")\n",
    "trackArtist,trackArtist.shape"
   ]
  },
  {
   "cell_type": "code",
   "execution_count": 132,
   "metadata": {
    "collapsed": false
   },
   "outputs": [
    {
     "data": {
      "text/plain": [
       "570588"
      ]
     },
     "execution_count": 132,
     "metadata": {},
     "output_type": "execute_result"
    }
   ],
   "source": [
    "maxArtistID=max(trackArtist[:,1])\n",
    "maxSize=maxArtistID+1\n",
    "maxArtistID"
   ]
  },
  {
   "cell_type": "code",
   "execution_count": 114,
   "metadata": {
    "collapsed": false
   },
   "outputs": [],
   "source": [
    "firstRow=csc_matrix(bincount(all_playlists_with_artist[0].data,minlength=maxSize))\n",
    "for i in range(1,45649):\n",
    "    firstRow=vstack((firstRow,csc_matrix(bincount(all_playlists_with_artist[i].data,minlength=maxSize))))"
   ]
  },
  {
   "cell_type": "code",
   "execution_count": 112,
   "metadata": {
    "collapsed": false
   },
   "outputs": [],
   "source": [
    "firstRow=bincount(all_playlists_with_artist[0].data,minlength=maxSize)\n",
    "firstRow=csc_matrix(firstRow)"
   ]
  },
  {
   "cell_type": "code",
   "execution_count": 113,
   "metadata": {
    "collapsed": false
   },
   "outputs": [
    {
     "data": {
      "text/plain": [
       "<2x570589 sparse matrix of type '<class 'numpy.int64'>'\n",
       "\twith 14 stored elements in COOrdinate format>"
      ]
     },
     "execution_count": 113,
     "metadata": {},
     "output_type": "execute_result"
    }
   ],
   "source": [
    "vstack((firstRow,firstRow))"
   ]
  },
  {
   "cell_type": "code",
   "execution_count": 134,
   "metadata": {
    "collapsed": false
   },
   "outputs": [
    {
     "data": {
      "text/plain": [
       "<45649x570589 sparse matrix of type '<class 'numpy.int64'>'\n",
       "\twith 676931 stored elements in Compressed Sparse Column format>"
      ]
     },
     "execution_count": 134,
     "metadata": {},
     "output_type": "execute_result"
    }
   ],
   "source": [
    "fullPlaylistArtist=csc_matrix(firstRow)\n",
    "fullPlaylistArtist"
   ]
  },
  {
   "cell_type": "code",
   "execution_count": 165,
   "metadata": {
    "collapsed": false
   },
   "outputs": [],
   "source": [
    "onlyArtists=trackArtist[:,1]\n",
    "firstTrack=csc_matrix(bincount(array([onlyArtists[0]]),minlength=maxSize))\n",
    "for i in range(1,100000):\n",
    "    firstTrack=vstack((firstTrack,csc_matrix(bincount(array([onlyArtists[i]]),minlength=maxSize))))"
   ]
  },
  {
   "cell_type": "code",
   "execution_count": 166,
   "metadata": {
    "collapsed": false
   },
   "outputs": [
    {
     "data": {
      "text/plain": [
       "<100000x570589 sparse matrix of type '<class 'numpy.int64'>'\n",
       "\twith 100000 stored elements in Compressed Sparse Column format>"
      ]
     },
     "execution_count": 166,
     "metadata": {},
     "output_type": "execute_result"
    }
   ],
   "source": [
    "fullTrackArtist=csc_matrix(firstTrack)\n",
    "fullTrackArtist"
   ]
  },
  {
   "cell_type": "code",
   "execution_count": 203,
   "metadata": {
    "collapsed": false
   },
   "outputs": [
    {
     "name": "stdout",
     "output_type": "stream",
     "text": [
      "78\n"
     ]
    }
   ],
   "source": [
    "for i in range(100000):\n",
    "    if(fullTrackArtist.getcol(i).size!=0):#same with fullPlaylist\n",
    "        print(i)\n",
    "        break"
   ]
  },
  {
   "cell_type": "code",
   "execution_count": 201,
   "metadata": {
    "collapsed": false
   },
   "outputs": [
    {
     "data": {
      "text/plain": [
       "<100000x1 sparse matrix of type '<class 'numpy.int64'>'\n",
       "\twith 7 stored elements in Compressed Sparse Column format>"
      ]
     },
     "execution_count": 201,
     "metadata": {},
     "output_type": "execute_result"
    }
   ],
   "source": [
    "fullTrackArtist.getcol(78)"
   ]
  },
  {
   "cell_type": "code",
   "execution_count": 202,
   "metadata": {
    "collapsed": false
   },
   "outputs": [
    {
     "data": {
      "text/plain": [
       "<45649x1 sparse matrix of type '<class 'numpy.int64'>'\n",
       "\twith 73 stored elements in Compressed Sparse Column format>"
      ]
     },
     "execution_count": 202,
     "metadata": {},
     "output_type": "execute_result"
    }
   ],
   "source": [
    "fullPlaylistArtist.getcol(78)"
   ]
  },
  {
   "cell_type": "code",
   "execution_count": 205,
   "metadata": {
    "collapsed": false
   },
   "outputs": [
    {
     "data": {
      "text/plain": [
       "17536"
      ]
     },
     "execution_count": 205,
     "metadata": {},
     "output_type": "execute_result"
    }
   ],
   "source": [
    "unique(onlyArtists).size"
   ]
  },
  {
   "cell_type": "code",
   "execution_count": 208,
   "metadata": {
    "collapsed": true
   },
   "outputs": [],
   "source": [
    "firstArtistReduced=fullTrackArtist.getcol(78)\n",
    "firstPlaylistReduced=fullPlaylistArtist.getcol(78)\n",
    "for i in range(79,570589):\n",
    "    thisTrackCol=fullTrackArtist.getcol(i)\n",
    "    if(thisTrackCol.size!=0):\n",
    "        firstArtistReduced=hstack((firstArtistReduced,thisTrackCol))\n",
    "        firstPlaylistReduced=hstack((firstPlaylistReduced,fullPlaylistArtist.getcol(i)))    "
   ]
  },
  {
   "cell_type": "code",
   "execution_count": 215,
   "metadata": {
    "collapsed": false
   },
   "outputs": [
    {
     "data": {
      "text/plain": [
       "<45649x17536 sparse matrix of type '<class 'numpy.int64'>'\n",
       "\twith 676931 stored elements in Compressed Sparse Column format>"
      ]
     },
     "execution_count": 215,
     "metadata": {},
     "output_type": "execute_result"
    }
   ],
   "source": [
    "allPlaylistArtistReduced=firstPlaylistReduced\n",
    "allPlaylistArtistReduced"
   ]
  },
  {
   "cell_type": "code",
   "execution_count": 214,
   "metadata": {
    "collapsed": false
   },
   "outputs": [
    {
     "data": {
      "text/plain": [
       "<100000x17536 sparse matrix of type '<class 'numpy.int64'>'\n",
       "\twith 100000 stored elements in Compressed Sparse Column format>"
      ]
     },
     "execution_count": 214,
     "metadata": {},
     "output_type": "execute_result"
    }
   ],
   "source": [
    "allTracksArtistReduced=firstArtistReduced\n",
    "allTracksArtistReduced"
   ]
  },
  {
   "cell_type": "code",
   "execution_count": 213,
   "metadata": {
    "collapsed": true
   },
   "outputs": [],
   "source": [
    "save_npz(\"allPlaylistArtistReduced.npz\",allPlaylistArtistReduced)\n",
    "save_npz(\"allTracksArtistReduced.npz\",allTracksArtistReduced)"
   ]
  },
  {
   "cell_type": "code",
   "execution_count": 21,
   "metadata": {
    "collapsed": false
   },
   "outputs": [
    {
     "data": {
      "text/plain": [
       "(<45649x17536 sparse matrix of type '<class 'numpy.int64'>'\n",
       " \twith 676931 stored elements in Compressed Sparse Column format>,\n",
       " <100000x17536 sparse matrix of type '<class 'numpy.int64'>'\n",
       " \twith 100000 stored elements in Compressed Sparse Column format>)"
      ]
     },
     "execution_count": 21,
     "metadata": {},
     "output_type": "execute_result"
    }
   ],
   "source": [
    "allPlaylistArtistReduced=load_npz(\"allPlaylistArtistReduced.npz\")\n",
    "allTracksArtistReduced=load_npz(\"allTracksArtistReduced.npz\")\n",
    "allPlaylistArtistReduced,allTracksArtistReduced"
   ]
  },
  {
   "cell_type": "code",
   "execution_count": 14,
   "metadata": {
    "collapsed": false
   },
   "outputs": [
    {
     "data": {
      "text/plain": [
       "(array([2972914, 2750239, 1550729, ..., 2584455, 2299706, 2739985], dtype=int32),\n",
       " 100000)"
      ]
     },
     "execution_count": 14,
     "metadata": {},
     "output_type": "execute_result"
    }
   ],
   "source": [
    "allTrackIDs=trackArtist[:,0]\n",
    "allTrackIDs,allTrackIDs.size#order of tracks_final.csv"
   ]
  },
  {
   "cell_type": "code",
   "execution_count": 15,
   "metadata": {
    "collapsed": false
   },
   "outputs": [
    {
     "data": {
      "text/plain": [
       "array([1316175, 3885714, 3091270, ..., 2739213, 2228646, 2265463], dtype=int32)"
      ]
     },
     "execution_count": 15,
     "metadata": {},
     "output_type": "execute_result"
    }
   ],
   "source": [
    "targetTrackIDs=genfromtxt(\"target_tracks.csv\",skip_header=1,dtype=int32)\n",
    "targetTrackIDs"
   ]
  },
  {
   "cell_type": "code",
   "execution_count": 32,
   "metadata": {
    "collapsed": false
   },
   "outputs": [
    {
     "data": {
      "text/plain": [
       "(array([    7569,     7614,     7641, ..., 11765405, 11766293, 11766362]),\n",
       " 45649)"
      ]
     },
     "execution_count": 32,
     "metadata": {},
     "output_type": "execute_result"
    }
   ],
   "source": [
    "allPlaylistIDs=load_npz(\"all_playlists_with_tracks.npz\")[:,0].data\n",
    "allPlaylistIDs,playlistIDs.size"
   ]
  },
  {
   "cell_type": "code",
   "execution_count": 31,
   "metadata": {
    "collapsed": false
   },
   "outputs": [
    {
     "data": {
      "text/plain": [
       "array([10024884, 10624787,  4891851, ..., 11369546,  7939535,   297021], dtype=int32)"
      ]
     },
     "execution_count": 31,
     "metadata": {},
     "output_type": "execute_result"
    }
   ],
   "source": [
    "targetPlaylistIDs=genfromtxt(\"target_playlists.csv\",skip_header=1,dtype=int32)\n",
    "targetPlaylistIDs"
   ]
  },
  {
   "cell_type": "code",
   "execution_count": 33,
   "metadata": {
    "collapsed": false
   },
   "outputs": [
    {
     "data": {
      "text/plain": [
       "36739"
      ]
     },
     "execution_count": 33,
     "metadata": {},
     "output_type": "execute_result"
    }
   ],
   "source": [
    "where(allPlaylistIDs==targetPlaylistIDs[0])[0][0]"
   ]
  },
  {
   "cell_type": "code",
   "execution_count": 34,
   "metadata": {
    "collapsed": false
   },
   "outputs": [
    {
     "data": {
      "text/plain": [
       "<1x17536 sparse matrix of type '<class 'numpy.int64'>'\n",
       "\twith 43 stored elements in Compressed Sparse Row format>"
      ]
     },
     "execution_count": 34,
     "metadata": {},
     "output_type": "execute_result"
    }
   ],
   "source": [
    "allPlaylistArtistReduced.getrow(36739)"
   ]
  },
  {
   "cell_type": "code",
   "execution_count": 36,
   "metadata": {
    "collapsed": false
   },
   "outputs": [],
   "source": [
    "firstTargetPlaylist=allPlaylistArtistReduced.getrow(36739)#prima per iniziare\n",
    "for targetPlID in targetPlaylistIDs[1:]:#dalla seconda in poi si aggiungono\n",
    "    toStack=allPlaylistArtistReduced.getrow(where(allPlaylistIDs==targetPlID)[0][0])\n",
    "    firstTargetPlaylist=vstack((firstTargetPlaylist,toStack))"
   ]
  },
  {
   "cell_type": "code",
   "execution_count": 37,
   "metadata": {
    "collapsed": false
   },
   "outputs": [
    {
     "data": {
      "text/plain": [
       "<10000x17536 sparse matrix of type '<class 'numpy.int64'>'\n",
       "\twith 231470 stored elements in Compressed Sparse Row format>"
      ]
     },
     "execution_count": 37,
     "metadata": {},
     "output_type": "execute_result"
    }
   ],
   "source": [
    "firstTargetPlaylist"
   ]
  },
  {
   "cell_type": "code",
   "execution_count": 39,
   "metadata": {
    "collapsed": false
   },
   "outputs": [],
   "source": [
    "save_npz(\"targetPlaylistArtistReduced.npz\",firstTargetPlaylist)"
   ]
  },
  {
   "cell_type": "code",
   "execution_count": 45,
   "metadata": {
    "collapsed": true
   },
   "outputs": [],
   "source": [
    "onlyArtists=trackArtist[:,1]"
   ]
  },
  {
   "cell_type": "code",
   "execution_count": 60,
   "metadata": {
    "collapsed": false
   },
   "outputs": [],
   "source": [
    "save(\"uniqueArtists_NeededToIndexThe_ArtistReducedMatrices.npy\",unique(onlyArtists))\n",
    "\n",
    "#se la artist reduced contiene un valore in posizione N,\n",
    "#bisogna prendere da qui l'artista in posizione N per sapere chi è\n"
   ]
  },
  {
   "cell_type": "code",
   "execution_count": 44,
   "metadata": {
    "collapsed": false
   },
   "outputs": [
    {
     "data": {
      "text/plain": [
       "array([  325,   520,  1013,  1257,  1663,  1686,  2178,  2289,  3324,\n",
       "        3356,  4322,  5191,  5878,  7326,  7673,  8744,  8801,  9251,\n",
       "        9785, 10137, 10305, 11540, 11551, 12193, 12216, 12539, 12987,\n",
       "       14067, 15694, 15732, 15931, 16333, 17038], dtype=int32)"
      ]
     },
     "execution_count": 44,
     "metadata": {},
     "output_type": "execute_result"
    }
   ],
   "source": [
    "#some verification\n",
    "targetPlaylistArtistReduced=load_npz(\"targetPlaylistArtistReduced.npz\")\n",
    "targetPlaylistArtistReduced[1].nonzero()[1]#playlist 10624787\n",
    "#contains tracks 2090319 1782784 3222075 1990973 2831522..."
   ]
  },
  {
   "cell_type": "code",
   "execution_count": 53,
   "metadata": {
    "collapsed": false
   },
   "outputs": [
    {
     "data": {
      "text/plain": [
       "array([ 12709,  18048,  28796,  35065,  44284,  44882,  55438,  57655,\n",
       "        82870,  83519, 115017, 145129, 160964, 198856, 207330, 231313,\n",
       "       232974, 245419, 260057, 269361, 273986, 308117, 308599, 325897,\n",
       "       326285, 335250, 346606, 369258, 414349, 415522, 425607, 436838,\n",
       "       456649], dtype=int32)"
      ]
     },
     "execution_count": 53,
     "metadata": {},
     "output_type": "execute_result"
    }
   ],
   "source": [
    "#the tracks are of artist 414349 415522 232974 82870 82870...\n",
    "unique(onlyArtists)[targetPlaylistArtistReduced[1].nonzero()[1]]\n",
    "#è un casino ma i dati sono corretti"
   ]
  },
  {
   "cell_type": "code",
   "execution_count": 66,
   "metadata": {
    "collapsed": false
   },
   "outputs": [
    {
     "data": {
      "text/plain": [
       "array([1563309, 1363985, 3705881, ..., 2005630, 4432895, 3626362], dtype=int32)"
      ]
     },
     "execution_count": 66,
     "metadata": {},
     "output_type": "execute_result"
    }
   ],
   "source": [
    "orderedTargetTracksIDs=load(\"targetTracksOrdered.npy\")\n",
    "orderedTargetTracksIDs"
   ]
  },
  {
   "cell_type": "code",
   "execution_count": 71,
   "metadata": {
    "collapsed": false
   },
   "outputs": [
    {
     "data": {
      "text/plain": [
       "<1x17536 sparse matrix of type '<class 'numpy.int64'>'\n",
       "\twith 1 stored elements in Compressed Sparse Row format>"
      ]
     },
     "execution_count": 71,
     "metadata": {},
     "output_type": "execute_result"
    }
   ],
   "source": [
    "allTracksArtistReduced.getrow(0)"
   ]
  },
  {
   "cell_type": "code",
   "execution_count": 76,
   "metadata": {
    "collapsed": false
   },
   "outputs": [],
   "source": [
    "firstOrderedTrack=allTracksArtistReduced.getrow(where(allTrackIDs==orderedTracksIDs[0])[0][0])\n",
    "for orderedTrackID in orderedTargetTracksIDs[1:]:\n",
    "    trackToStack=allTracksArtistReduced.getrow(where(allTrackIDs==orderedTrackID)[0][0])\n",
    "    firstOrderedTrack=vstack((firstOrderedTrack, trackToStack))"
   ]
  },
  {
   "cell_type": "code",
   "execution_count": 78,
   "metadata": {
    "collapsed": false
   },
   "outputs": [],
   "source": [
    "save_npz(\"targetTracksArtistReduced.npz\",firstOrderedTrack)"
   ]
  },
  {
   "cell_type": "code",
   "execution_count": 85,
   "metadata": {
    "collapsed": false
   },
   "outputs": [
    {
     "data": {
      "text/plain": [
       "286091"
      ]
     },
     "execution_count": 85,
     "metadata": {},
     "output_type": "execute_result"
    }
   ],
   "source": [
    "#verifichiamo anche qui\n",
    "targetTracksArtistReduced=load_npz(\"targetTracksArtistReduced.npz\")\n",
    "#la traccia in posizione 2 è la terza in classifica, con ID 3705881\n",
    "targetTracksArtistReduced[2].nonzero()[1]#10764 è la posizione negli artisti filtrati\n",
    "unique(onlyArtists)[10764]#286091 è l'id dell'artista in posizione 10764\n",
    "#anche qui un casino ma funziona"
   ]
  },
  {
   "cell_type": "code",
   "execution_count": null,
   "metadata": {
    "collapsed": true
   },
   "outputs": [],
   "source": []
  }
 ],
 "metadata": {
  "kernelspec": {
   "display_name": "Python 3",
   "language": "python",
   "name": "python3"
  },
  "language_info": {
   "codemirror_mode": {
    "name": "ipython",
    "version": 3
   },
   "file_extension": ".py",
   "mimetype": "text/x-python",
   "name": "python",
   "nbconvert_exporter": "python",
   "pygments_lexer": "ipython3",
   "version": "3.5.4"
  }
 },
 "nbformat": 4,
 "nbformat_minor": 2
}
