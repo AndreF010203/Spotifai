{
 "cells": [
  {
   "cell_type": "code",
   "execution_count": 57,
   "metadata": {
    "collapsed": false
   },
   "outputs": [],
   "source": [
    "from numpy import *\n",
    "from scipy.sparse import *\n",
    "from pandas import *"
   ]
  },
  {
   "cell_type": "code",
   "execution_count": 8,
   "metadata": {
    "collapsed": false
   },
   "outputs": [],
   "source": [
    "tracksWithTags=load(\"tracks_with_tags.npy\")\n",
    "tracksID=tracksWithTags[:,0]\n",
    "tracksTags=tracksWithTags[:,1:]"
   ]
  },
  {
   "cell_type": "code",
   "execution_count": 10,
   "metadata": {
    "collapsed": false
   },
   "outputs": [
    {
     "data": {
      "text/plain": [
       "((100000,), (100000, 5))"
      ]
     },
     "execution_count": 10,
     "metadata": {},
     "output_type": "execute_result"
    }
   ],
   "source": [
    "tracksID.shape,tracksTags.shape"
   ]
  },
  {
   "cell_type": "code",
   "execution_count": 17,
   "metadata": {
    "collapsed": false
   },
   "outputs": [],
   "source": [
    "with open(\"two_colums_tracks_tags.txt\",\"w\") as f:\n",
    "    for trackIDandTags in tracksWithTags:\n",
    "        trackID=str(trackIDandTags[0])\n",
    "        for tag in trackIDandTags[1:]:\n",
    "            f.write(trackID + \" \" + str(tag) + \"\\n\")"
   ]
  },
  {
   "cell_type": "code",
   "execution_count": 20,
   "metadata": {
    "collapsed": false
   },
   "outputs": [
    {
     "data": {
      "text/plain": [
       "array([[2972914,   54087],\n",
       "       [2972914,    1757],\n",
       "       [2972914,    1718],\n",
       "       [2972914,  116712],\n",
       "       [2972914,  189631],\n",
       "       [2750239,  189631],\n",
       "       [2750239,    3424],\n",
       "       [2750239,  177424],\n",
       "       [2750239,   46208],\n",
       "       [2750239,  205245]], dtype=int32)"
      ]
     },
     "execution_count": 20,
     "metadata": {},
     "output_type": "execute_result"
    }
   ],
   "source": [
    "genfromtxt(\"two_colums_tracks_tags.txt\",dtype=int32)[0:10]"
   ]
  },
  {
   "cell_type": "code",
   "execution_count": 64,
   "metadata": {
    "collapsed": false
   },
   "outputs": [],
   "source": [
    "data=read_table(\"two_colums_tracks_tags.txt\",\n",
    "                sep=\" \",\n",
    "                usecols=[0,1],\n",
    "                names=[\"track\",\"tag\"])"
   ]
  },
  {
   "cell_type": "code",
   "execution_count": 68,
   "metadata": {
    "collapsed": false
   },
   "outputs": [],
   "source": [
    "#data"
   ]
  },
  {
   "cell_type": "code",
   "execution_count": 66,
   "metadata": {
    "collapsed": false
   },
   "outputs": [],
   "source": [
    "data[\"track\"]=data[\"track\"].astype(\"category\")\n",
    "data[\"tag\"]=data[\"tag\"].astype(\"category\")"
   ]
  },
  {
   "cell_type": "code",
   "execution_count": 51,
   "metadata": {
    "collapsed": false
   },
   "outputs": [
    {
     "data": {
      "text/plain": [
       "<100000x31901 sparse matrix of type '<class 'numpy.float64'>'\n",
       "\twith 487328 stored elements in Compressed Sparse Row format>"
      ]
     },
     "execution_count": 51,
     "metadata": {},
     "output_type": "execute_result"
    }
   ],
   "source": [
    "matrixTracksTags=csr_matrix((ones(500000),\n",
    "                            (data[\"track\"].cat.codes.copy(),\n",
    "                             data[\"tag\"].cat.codes.copy())))\n",
    "matrixTracksTags"
   ]
  },
  {
   "cell_type": "code",
   "execution_count": 52,
   "metadata": {
    "collapsed": false
   },
   "outputs": [],
   "source": [
    "matrixTracksTags=matrixTracksTags[:,1:]\n",
    "matrixTracksTags=csc_matrix(matrixTracksTags)#tolta la colonna che contava il tag 0"
   ]
  },
  {
   "cell_type": "code",
   "execution_count": 53,
   "metadata": {
    "collapsed": false
   },
   "outputs": [
    {
     "data": {
      "text/plain": [
       "<100000x31900 sparse matrix of type '<class 'numpy.float64'>'\n",
       "\twith 483482 stored elements in Compressed Sparse Column format>"
      ]
     },
     "execution_count": 53,
     "metadata": {},
     "output_type": "execute_result"
    }
   ],
   "source": [
    "matrixTracksTags"
   ]
  },
  {
   "cell_type": "code",
   "execution_count": 58,
   "metadata": {
    "collapsed": false
   },
   "outputs": [],
   "source": [
    "from implicit.nearest_neighbours import (BM25Recommender, CosineRecommender,\n",
    "                                         TFIDFRecommender, bm25_weight)"
   ]
  },
  {
   "cell_type": "code",
   "execution_count": 73,
   "metadata": {
    "collapsed": true
   },
   "outputs": [],
   "source": [
    "MODELS = {\"tfidf\": TFIDFRecommender,\n",
    "          \"cosine\": CosineRecommender}"
   ]
  },
  {
   "cell_type": "code",
   "execution_count": 74,
   "metadata": {
    "collapsed": true
   },
   "outputs": [],
   "source": [
    "def get_model(model_name):\n",
    "    model_class = MODELS.get(model_name)\n",
    "    if not model_class:\n",
    "        raise ValueError(\"Unknown Model '%s'\" % model_name)\n",
    "\n",
    "    params = {}\n",
    "\n",
    "    return model_class(**params)"
   ]
  },
  {
   "cell_type": "code",
   "execution_count": 149,
   "metadata": {
    "collapsed": false
   },
   "outputs": [],
   "source": [
    "modelTF=get_model(\"tfidf\")"
   ]
  },
  {
   "cell_type": "code",
   "execution_count": 150,
   "metadata": {
    "collapsed": true
   },
   "outputs": [],
   "source": [
    "modelTF.fit(matrixTracksTags)"
   ]
  },
  {
   "cell_type": "code",
   "execution_count": 151,
   "metadata": {
    "collapsed": false
   },
   "outputs": [
    {
     "name": "stderr",
     "output_type": "stream",
     "text": [
      "/home/oppy/.local/lib/python3.6/site-packages/scipy/sparse/compressed.py:742: SparseEfficiencyWarning: Changing the sparsity structure of a csr_matrix is expensive. lil_matrix is more efficient.\n",
      "  SparseEfficiencyWarning)\n"
     ]
    },
    {
     "data": {
      "text/plain": [
       "<100000x100000 sparse matrix of type '<class 'numpy.float64'>'\n",
       "\twith 1945658 stored elements in Compressed Sparse Row format>"
      ]
     },
     "execution_count": 151,
     "metadata": {},
     "output_type": "execute_result"
    }
   ],
   "source": [
    "simTF=(modelTF.similarity)\n",
    "simTF.setdiag(0)\n",
    "simTF"
   ]
  },
  {
   "cell_type": "code",
   "execution_count": 286,
   "metadata": {
    "collapsed": false
   },
   "outputs": [
    {
     "data": {
      "text/plain": [
       "(32195, 100000)"
      ]
     },
     "execution_count": 286,
     "metadata": {},
     "output_type": "execute_result"
    }
   ],
   "source": [
    "targetIDs=unique(genfromtxt(\"target_tracks.csv\",skip_header=1,dtype=int32))\n",
    "allTracks=array(list(data[\"track\"].cat.categories))\n",
    "targetIDs.size,allTracks.size"
   ]
  },
  {
   "cell_type": "code",
   "execution_count": 189,
   "metadata": {
    "collapsed": false
   },
   "outputs": [],
   "source": [
    "myMask=list(map(lambda x: where(targetIDs==x)[0].size>0,allTracks))"
   ]
  },
  {
   "cell_type": "code",
   "execution_count": 305,
   "metadata": {
    "collapsed": false
   },
   "outputs": [
    {
     "data": {
      "text/plain": [
       "<100000x32195 sparse matrix of type '<class 'numpy.float64'>'\n",
       "\twith 597938 stored elements in Compressed Sparse Column format>"
      ]
     },
     "execution_count": 305,
     "metadata": {},
     "output_type": "execute_result"
    }
   ],
   "source": [
    "simTarget=simTF[array(myMask)]\n",
    "simTarget=simTarget.T\n",
    "simTarget"
   ]
  },
  {
   "cell_type": "code",
   "execution_count": 351,
   "metadata": {
    "collapsed": false
   },
   "outputs": [
    {
     "data": {
      "text/plain": [
       "array([    252,     874,    1416, ..., 5007354, 5014702, 5018274])"
      ]
     },
     "execution_count": 351,
     "metadata": {},
     "output_type": "execute_result"
    }
   ],
   "source": [
    "targetIDs.sort()\n",
    "targetIDs"
   ]
  },
  {
   "cell_type": "code",
   "execution_count": 233,
   "metadata": {
    "collapsed": false
   },
   "outputs": [
    {
     "data": {
      "text/plain": [
       "array([    7569,     7614,     7641, ..., 11765405, 11766293, 11766362])"
      ]
     },
     "execution_count": 233,
     "metadata": {},
     "output_type": "execute_result"
    }
   ],
   "source": [
    "allPlTracks=load_npz(\"all_playlists_with_tracks.npz\")[:,0]\n",
    "allPlOnlyTracks=load_npz(\"all_playlists_with_tracks.npz\")[:,1:]\n",
    "allPlTracks=allPlTracks.data\n",
    "allPlTracks"
   ]
  },
  {
   "cell_type": "code",
   "execution_count": 224,
   "metadata": {
    "collapsed": false
   },
   "outputs": [
    {
     "data": {
      "text/plain": [
       "array([    7614,     7692,     7816, ..., 11765404, 11765405, 11766362], dtype=int32)"
      ]
     },
     "execution_count": 224,
     "metadata": {},
     "output_type": "execute_result"
    }
   ],
   "source": [
    "targetPl=genfromtxt(\"target_playlists.csv\",skip_header=1,dtype=int32)\n",
    "targetPl.sort()\n",
    "targetPl"
   ]
  },
  {
   "cell_type": "code",
   "execution_count": 247,
   "metadata": {
    "collapsed": false
   },
   "outputs": [],
   "source": [
    "monoArtPlIDs=load(\"target_playlist_mono_artist.npy\")[:,0]\n",
    "monoArtPlArt=load(\"target_playlist_mono_artist.npy\")[:,1]"
   ]
  },
  {
   "cell_type": "code",
   "execution_count": 275,
   "metadata": {
    "collapsed": false
   },
   "outputs": [],
   "source": [
    "artTracks=load_npz(\"artists_with_tracksID_ordered_by_occurrencies.npz\")[:,1:]"
   ]
  },
  {
   "cell_type": "code",
   "execution_count": 274,
   "metadata": {
    "collapsed": false
   },
   "outputs": [],
   "source": [
    "uniqueArt=load(\"uniqueArtists_NeededToIndexThe_ArtistReducedMatrices.npy\")"
   ]
  },
  {
   "cell_type": "code",
   "execution_count": 420,
   "metadata": {
    "collapsed": false
   },
   "outputs": [
    {
     "name": "stdout",
     "output_type": "stream",
     "text": [
      "7974833\n",
      "8036589\n",
      "8039237\n",
      "8469697\n",
      "10179818\n",
      "11319088\n",
      "11542825\n"
     ]
    }
   ],
   "source": [
    "\"\"\"\n",
    "64742\n",
    "5895355\n",
    "6231219\n",
    "6264193\n",
    "6341449\n",
    "6779046\n",
    "7418280\n",
    "\"\"\"\n",
    "with open(\"veryNewSim.csv\",\"a\") as f:\n",
    "    for plID,plTracks in zip(allPlTracks,allPlOnlyTracks):\n",
    "        if(where(targetPl==plID)[0].size>0 and plID>=7974833):# la playlist è target\n",
    "            f.write(str(plID)+\",\")\n",
    "            thisTracks=plTracks.data\n",
    "            isMonoPL=where(monoArtPlIDs==plID)[0]\n",
    "            if(isMonoPL.size>0):#la pl è monoartist\n",
    "                artist=monoArtPlArt[isMonoPL[0]]\n",
    "                artIndex=where(uniqueArt==artist)[0][0]\n",
    "                toSuggestWithDuplicates=artTracks[artIndex].data\n",
    "                #print(thisArtTracks)\n",
    "                #break\n",
    "            else:\n",
    "                trackSims=[]\n",
    "                candidateIndexes=[]\n",
    "                for track in thisTracks:\n",
    "                    index=where(allTracks==track)\n",
    "                    trackSims+=list(simTarget[index].data)\n",
    "                    candidateIndexes+=list(simTarget[index].nonzero()[1])\n",
    "                topSimilarityIndex=flip(argsort(trackSims),0)\n",
    "                if(topSimilarityIndex.size!=0):\n",
    "                    mostSimilarTrackIndex=array(candidateIndexes)[topSimilarityIndex]\n",
    "                    toSuggestWithDuplicates=targetIDs[mostSimilarTrackIndex]\n",
    "                #print(toSuggestWithDuplicates.size)\n",
    "            if(topSimilarityIndex.size!=0):\n",
    "                noDuplicates=array([t for t in toSuggestWithDuplicates if t not in thisTracks])\n",
    "                #print(noDuplicates.size)\n",
    "                final=noDuplicates.take(range(min(5,noDuplicates.size)))\n",
    "            else:\n",
    "                final=array([])\n",
    "            for t in final:\n",
    "                f.write(str(t)+\" \")\n",
    "            if(final.size<5):\n",
    "                print(plID)\n",
    "            f.write(\"\\n\")"
   ]
  }
 ],
 "metadata": {
  "kernelspec": {
   "display_name": "Python 3",
   "language": "python",
   "name": "python3"
  },
  "language_info": {
   "codemirror_mode": {
    "name": "ipython",
    "version": 3
   },
   "file_extension": ".py",
   "mimetype": "text/x-python",
   "name": "python",
   "nbconvert_exporter": "python",
   "pygments_lexer": "ipython3",
   "version": "3.6.3"
  }
 },
 "nbformat": 4,
 "nbformat_minor": 2
}
