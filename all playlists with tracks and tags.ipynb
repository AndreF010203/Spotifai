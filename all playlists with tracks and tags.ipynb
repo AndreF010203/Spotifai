{
 "cells": [
  {
   "cell_type": "code",
   "execution_count": 1,
   "metadata": {},
   "outputs": [],
   "source": [
    "from numpy import *\n",
    "from scipy.sparse import *"
   ]
  },
  {
   "cell_type": "code",
   "execution_count": 2,
   "metadata": {},
   "outputs": [
    {
     "data": {
      "text/plain": [
       "array([[ 3271849,  2801526],\n",
       "       [ 5616275,   727878],\n",
       "       [11267488,  2805283],\n",
       "       ..., \n",
       "       [ 2659739,  1468602],\n",
       "       [10687820,  1187581],\n",
       "       [ 4962329,  1094523]])"
      ]
     },
     "execution_count": 2,
     "metadata": {},
     "output_type": "execute_result"
    }
   ],
   "source": [
    "playlistsWithTracksRepeated=genfromtxt(\"train_final.csv\", skip_header=1, dtype=int32)\n",
    "playlistsWithTracksRepeated"
   ]
  },
  {
   "cell_type": "code",
   "execution_count": 3,
   "metadata": {},
   "outputs": [
    {
     "data": {
      "text/plain": [
       "(1040522, 2)"
      ]
     },
     "execution_count": 3,
     "metadata": {},
     "output_type": "execute_result"
    }
   ],
   "source": [
    "playlistsWithTracksRepeated.shape"
   ]
  },
  {
   "cell_type": "code",
   "execution_count": 4,
   "metadata": {},
   "outputs": [
    {
     "data": {
      "text/plain": [
       "array([ 3271849,  5616275, 11267488, ...,  2659739, 10687820,  4962329])"
      ]
     },
     "execution_count": 4,
     "metadata": {},
     "output_type": "execute_result"
    }
   ],
   "source": [
    "playlistsRepeated=playlistsWithTracksRepeated[:,0]\n",
    "playlistsRepeated"
   ]
  },
  {
   "cell_type": "code",
   "execution_count": 5,
   "metadata": {},
   "outputs": [
    {
     "data": {
      "text/plain": [
       "array([2801526,  727878, 2805283, ..., 1468602, 1187581, 1094523])"
      ]
     },
     "execution_count": 5,
     "metadata": {},
     "output_type": "execute_result"
    }
   ],
   "source": [
    "tracks=playlistsWithTracksRepeated[:,1]\n",
    "tracks"
   ]
  },
  {
   "cell_type": "code",
   "execution_count": 6,
   "metadata": {},
   "outputs": [
    {
     "data": {
      "text/plain": [
       "(array([    7569,     7614,     7641, ..., 11765405, 11766293, 11766362]),\n",
       " 45649)"
      ]
     },
     "execution_count": 6,
     "metadata": {},
     "output_type": "execute_result"
    }
   ],
   "source": [
    "playListsUnique,counts=unique(playlistsWithTracksRepeated[:,0],return_counts=True)\n",
    "playListsUnique,playListsUnique.size"
   ]
  },
  {
   "cell_type": "code",
   "execution_count": 7,
   "metadata": {},
   "outputs": [
    {
     "data": {
      "text/plain": [
       "array([ 9, 11,  8, ...,  6,  1, 13], dtype=int64)"
      ]
     },
     "execution_count": 7,
     "metadata": {},
     "output_type": "execute_result"
    }
   ],
   "source": [
    "counts"
   ]
  },
  {
   "cell_type": "code",
   "execution_count": 8,
   "metadata": {},
   "outputs": [
    {
     "data": {
      "text/plain": [
       "199"
      ]
     },
     "execution_count": 8,
     "metadata": {},
     "output_type": "execute_result"
    }
   ],
   "source": [
    "maxSize=max(counts)\n",
    "maxSize"
   ]
  },
  {
   "cell_type": "code",
   "execution_count": 9,
   "metadata": {},
   "outputs": [
    {
     "ename": "KeyboardInterrupt",
     "evalue": "",
     "output_type": "error",
     "traceback": [
      "\u001b[1;31m---------------------------------------------------------------------------\u001b[0m",
      "\u001b[1;31mKeyboardInterrupt\u001b[0m                         Traceback (most recent call last)",
      "\u001b[1;32m<ipython-input-9-09b0f9b500ca>\u001b[0m in \u001b[0;36m<module>\u001b[1;34m()\u001b[0m\n\u001b[0;32m      2\u001b[0m \u001b[1;32mfor\u001b[0m \u001b[0mp\u001b[0m \u001b[1;32min\u001b[0m \u001b[0mplayListsUnique\u001b[0m\u001b[1;33m:\u001b[0m\u001b[1;33m\u001b[0m\u001b[0m\n\u001b[0;32m      3\u001b[0m     \u001b[0mthisTracks\u001b[0m\u001b[1;33m=\u001b[0m\u001b[1;33m[\u001b[0m\u001b[0mp\u001b[0m\u001b[1;33m]\u001b[0m\u001b[1;31m#it contains also the playlist ID\u001b[0m\u001b[1;33m\u001b[0m\u001b[0m\n\u001b[1;32m----> 4\u001b[1;33m     \u001b[1;32mfor\u001b[0m \u001b[0mi\u001b[0m \u001b[1;32min\u001b[0m \u001b[0mwhere\u001b[0m\u001b[1;33m(\u001b[0m\u001b[0mplaylistsRepeated\u001b[0m\u001b[1;33m==\u001b[0m\u001b[0mp\u001b[0m\u001b[1;33m)\u001b[0m\u001b[1;33m[\u001b[0m\u001b[1;36m0\u001b[0m\u001b[1;33m]\u001b[0m\u001b[1;33m:\u001b[0m\u001b[1;33m\u001b[0m\u001b[0m\n\u001b[0m\u001b[0;32m      5\u001b[0m         \u001b[0mthisTracks\u001b[0m\u001b[1;33m.\u001b[0m\u001b[0mappend\u001b[0m\u001b[1;33m(\u001b[0m\u001b[0mtracks\u001b[0m\u001b[1;33m[\u001b[0m\u001b[0mi\u001b[0m\u001b[1;33m]\u001b[0m\u001b[1;33m)\u001b[0m\u001b[1;33m\u001b[0m\u001b[0m\n\u001b[0;32m      6\u001b[0m     \u001b[1;32mfor\u001b[0m \u001b[0mi\u001b[0m \u001b[1;32min\u001b[0m \u001b[0mrange\u001b[0m\u001b[1;33m(\u001b[0m\u001b[0mmaxSize\u001b[0m\u001b[1;33m-\u001b[0m\u001b[0mlen\u001b[0m\u001b[1;33m(\u001b[0m\u001b[0mthisTracks\u001b[0m\u001b[1;33m)\u001b[0m\u001b[1;33m+\u001b[0m\u001b[1;36m1\u001b[0m\u001b[1;33m)\u001b[0m\u001b[1;33m:\u001b[0m\u001b[1;33m\u001b[0m\u001b[0m\n",
      "\u001b[1;31mKeyboardInterrupt\u001b[0m: "
     ]
    }
   ],
   "source": [
    "allP=[]\n",
    "for p in playListsUnique:\n",
    "    thisTracks=[p]#it contains also the playlist ID\n",
    "    for i in where(playlistsRepeated==p)[0]:\n",
    "        thisTracks.append(tracks[i])\n",
    "    for i in range(maxSize-len(thisTracks)+1):\n",
    "        thisTracks.append(0)\n",
    "    allP.append(thisTracks)"
   ]
  },
  {
   "cell_type": "code",
   "execution_count": null,
   "metadata": {},
   "outputs": [],
   "source": [
    "arrAllP=array([x for x in allP])"
   ]
  },
  {
   "cell_type": "code",
   "execution_count": null,
   "metadata": {},
   "outputs": [],
   "source": [
    "arrAllP"
   ]
  },
  {
   "cell_type": "code",
   "execution_count": null,
   "metadata": {},
   "outputs": [],
   "source": [
    "save_npz(\"all_playlists_with_tracks.npz\",csc_matrix(arrAllP))"
   ]
  },
  {
   "cell_type": "code",
   "execution_count": null,
   "metadata": {
    "collapsed": true
   },
   "outputs": [],
   "source": [
    "all_playlists_with_tracks=load_npz(\"all_playlists_with_tracks.npz\")"
   ]
  },
  {
   "cell_type": "code",
   "execution_count": 6,
   "metadata": {},
   "outputs": [
    {
     "data": {
      "text/plain": [
       "<45649x200 sparse matrix of type '<class 'numpy.int64'>'\n",
       "\twith 1086171 stored elements in Compressed Sparse Column format>"
      ]
     },
     "execution_count": 6,
     "metadata": {},
     "output_type": "execute_result"
    }
   ],
   "source": [
    "all_playlists_with_tracks"
   ]
  },
  {
   "cell_type": "code",
   "execution_count": 5,
   "metadata": {},
   "outputs": [
    {
     "data": {
      "text/plain": [
       "array([[2972914,   54087,    1757,    1718,  116712,  189631],\n",
       "       [2750239,  189631,    3424,  177424,   46208,  205245],\n",
       "       [1550729,   54087,  109806,   46869,  183258,   54337],\n",
       "       ..., \n",
       "       [2584455,       0,       0,       0,       0,       0],\n",
       "       [2299706,       0,       0,       0,       0,       0],\n",
       "       [2739985,       0,       0,       0,       0,       0]], dtype=int32)"
      ]
     },
     "execution_count": 5,
     "metadata": {},
     "output_type": "execute_result"
    }
   ],
   "source": [
    "tracks_with_tags=load(\"tracks_with_tags.npy\")\n",
    "tracks_with_tags"
   ]
  },
  {
   "cell_type": "code",
   "execution_count": 7,
   "metadata": {},
   "outputs": [
    {
     "data": {
      "text/plain": [
       "<45649x1 sparse matrix of type '<class 'numpy.int64'>'\n",
       "\twith 45649 stored elements in Compressed Sparse Column format>"
      ]
     },
     "execution_count": 7,
     "metadata": {},
     "output_type": "execute_result"
    }
   ],
   "source": [
    "pIDs=all_playlists_with_tracks[:,0]\n",
    "pIDs"
   ]
  },
  {
   "cell_type": "code",
   "execution_count": 10,
   "metadata": {},
   "outputs": [
    {
     "data": {
      "text/plain": [
       "<45649x199 sparse matrix of type '<class 'numpy.int64'>'\n",
       "\twith 1040522 stored elements in Compressed Sparse Column format>"
      ]
     },
     "execution_count": 10,
     "metadata": {},
     "output_type": "execute_result"
    }
   ],
   "source": [
    "pTracks=all_playlists_with_tracks[:,1:]\n",
    "pTracks"
   ]
  },
  {
   "cell_type": "code",
   "execution_count": 28,
   "metadata": {},
   "outputs": [
    {
     "data": {
      "text/plain": [
       "array([2972914, 2750239, 1550729, ..., 2584455, 2299706, 2739985], dtype=int32)"
      ]
     },
     "execution_count": 28,
     "metadata": {},
     "output_type": "execute_result"
    }
   ],
   "source": [
    "tIDs=tracks_with_tags[:,0]\n",
    "tIDs"
   ]
  },
  {
   "cell_type": "code",
   "execution_count": 9,
   "metadata": {},
   "outputs": [
    {
     "data": {
      "text/plain": [
       "array([[ 54087,   1757,   1718, 116712, 189631],\n",
       "       [189631,   3424, 177424,  46208, 205245],\n",
       "       [ 54087, 109806,  46869, 183258,  54337],\n",
       "       ..., \n",
       "       [     0,      0,      0,      0,      0],\n",
       "       [     0,      0,      0,      0,      0],\n",
       "       [     0,      0,      0,      0,      0]], dtype=int32)"
      ]
     },
     "execution_count": 9,
     "metadata": {},
     "output_type": "execute_result"
    }
   ],
   "source": [
    "tTags=tracks_with_tags[:,1:]\n",
    "tTags"
   ]
  },
  {
   "cell_type": "code",
   "execution_count": null,
   "metadata": {},
   "outputs": [],
   "source": [
    "\"\"\"\n",
    "A=lil_matrix((10000,maxSize))\n",
    "for x,tracks in enumerate(tracklist_by_playlist):\n",
    "    tracks=trim_zeros(tracks)\n",
    "    alltags=[]\n",
    "    for t in tracks:\n",
    "        tags = tag_indexed_byidtrack[t]\n",
    "        alltags+=list(tags)\n",
    "    tagsArray=(array(alltags)).astype(int)\n",
    "    tagsCount=bincount(tagsArray)#posizione = tagID, contenuto = conteggio di quel tag\n",
    "    tagsCount[0]=0#altrimenti venivano contati anche gli zeri\n",
    "    tagsCount=resize(tagsCount,(maxSize,))\n",
    "    A[x]=tagsCount\n",
    "\"\"\""
   ]
  },
  {
   "cell_type": "code",
   "execution_count": 123,
   "metadata": {},
   "outputs": [],
   "source": [
    "allT=[]\n",
    "for tracks in pTracks:\n",
    "    thisTags=[]\n",
    "    for t in tracks.data:\n",
    "        i=where(tIDs==t)[0]\n",
    "        if (i.size!=0):\n",
    "            i=i[0]\n",
    "            thisTags+=list(tTags[i])\n",
    "    allT.append(thisTags)"
   ]
  },
  {
   "cell_type": "code",
   "execution_count": 128,
   "metadata": {},
   "outputs": [
    {
     "data": {
      "text/plain": [
       "45649"
      ]
     },
     "execution_count": 128,
     "metadata": {},
     "output_type": "execute_result"
    }
   ],
   "source": [
    "len(allT)"
   ]
  },
  {
   "cell_type": "code",
   "execution_count": 161,
   "metadata": {},
   "outputs": [
    {
     "data": {
      "text/plain": [
       "276615"
      ]
     },
     "execution_count": 161,
     "metadata": {},
     "output_type": "execute_result"
    }
   ],
   "source": [
    "highestTag=max([max(x) for x in allT])\n",
    "maxSize3=highestTag+1\n",
    "maxSize3"
   ]
  },
  {
   "cell_type": "code",
   "execution_count": 162,
   "metadata": {},
   "outputs": [],
   "source": [
    "arrAllT=lil_matrix((45649,maxSize3))\n",
    "for i,tags in enumerate(allT):\n",
    "    arrAllT[i]=bincount(tags,minlength=maxSize3)"
   ]
  },
  {
   "cell_type": "code",
   "execution_count": 164,
   "metadata": {},
   "outputs": [
    {
     "data": {
      "text/plain": [
       "<45649x276615 sparse matrix of type '<class 'numpy.float64'>'\n",
       "\twith 1813599 stored elements in LInked List format>"
      ]
     },
     "execution_count": 164,
     "metadata": {},
     "output_type": "execute_result"
    }
   ],
   "source": [
    "arrAllT"
   ]
  },
  {
   "cell_type": "code",
   "execution_count": 165,
   "metadata": {},
   "outputs": [],
   "source": [
    "save_npz(\"all_playlists_with_tags.npz\",csc_matrix(arrAllT))"
   ]
  },
  {
   "cell_type": "code",
   "execution_count": null,
   "metadata": {},
   "outputs": [],
   "source": []
  },
  {
   "cell_type": "code",
   "execution_count": null,
   "metadata": {},
   "outputs": [],
   "source": []
  },
  {
   "cell_type": "code",
   "execution_count": null,
   "metadata": {},
   "outputs": [],
   "source": []
  }
 ],
 "metadata": {
  "kernelspec": {
   "display_name": "Python 3",
   "language": "python",
   "name": "python3"
  },
  "language_info": {
   "codemirror_mode": {
    "name": "ipython",
    "version": 3
   },
   "file_extension": ".py",
   "mimetype": "text/x-python",
   "name": "python",
   "nbconvert_exporter": "python",
   "pygments_lexer": "ipython3",
   "version": "3.6.2"
  }
 },
 "nbformat": 4,
 "nbformat_minor": 2
}
