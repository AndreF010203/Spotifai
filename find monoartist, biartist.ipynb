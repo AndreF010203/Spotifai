{
 "cells": [
  {
   "cell_type": "code",
   "execution_count": 95,
   "metadata": {
    "collapsed": true
   },
   "outputs": [],
   "source": [
    "from numpy import *\n",
    "from scipy.sparse import *"
   ]
  },
  {
   "cell_type": "code",
   "execution_count": 96,
   "metadata": {
    "collapsed": true
   },
   "outputs": [],
   "source": [
    "allPAr=load_npz(\"all_playlists_with_artist.npz\")\n",
    "allPTa=load_npz(\"all_playlists_with_tags.npz\")\n",
    "allPTr=load_npz(\"all_playlists_with_tracks.npz\")"
   ]
  },
  {
   "cell_type": "code",
   "execution_count": 99,
   "metadata": {
    "collapsed": false
   },
   "outputs": [
    {
     "data": {
      "text/plain": [
       "(array([    7569,     7614,     7641, ..., 11765405, 11766293, 11766362]),\n",
       " 45649)"
      ]
     },
     "execution_count": 99,
     "metadata": {},
     "output_type": "execute_result"
    }
   ],
   "source": [
    "allPlIDs=allPTr[:,0]\n",
    "allPlIDs=ravel(allPlIDs.todense())\n",
    "allPlIDs,pIDs.size"
   ]
  },
  {
   "cell_type": "code",
   "execution_count": 27,
   "metadata": {
    "collapsed": false
   },
   "outputs": [],
   "source": [
    "# save(\"allPlaylistIDsIndex.npy\",pIDs)"
   ]
  },
  {
   "cell_type": "code",
   "execution_count": 100,
   "metadata": {
    "collapsed": false
   },
   "outputs": [
    {
     "data": {
      "text/plain": [
       "array([10024884, 10624787,  4891851, ..., 11369546,  7939535,   297021], dtype=int32)"
      ]
     },
     "execution_count": 100,
     "metadata": {},
     "output_type": "execute_result"
    }
   ],
   "source": [
    "tPlIDs=genfromtxt(\"target_playlists.csv\",skip_header=1,dtype=int32)\n",
    "tPlIDs"
   ]
  },
  {
   "cell_type": "code",
   "execution_count": 101,
   "metadata": {
    "collapsed": false
   },
   "outputs": [
    {
     "data": {
      "text/plain": [
       "(array([    7569,     7641,     7912, ..., 11764165, 11764751, 11766293]),\n",
       " 35649)"
      ]
     },
     "execution_count": 101,
     "metadata": {},
     "output_type": "execute_result"
    }
   ],
   "source": [
    "ntPlIDs=load(\"non_target_pl_indexes.npy\")\n",
    "ntPlIDs,nonTargetIDs.size"
   ]
  },
  {
   "cell_type": "code",
   "execution_count": 110,
   "metadata": {
    "collapsed": false
   },
   "outputs": [
    {
     "data": {
      "text/plain": [
       "(array([10024884, 10624787,  4891851, ..., 11369546,  7939535,   297021], dtype=int32),\n",
       " 10000)"
      ]
     },
     "execution_count": 110,
     "metadata": {},
     "output_type": "execute_result"
    }
   ],
   "source": [
    "tPlIDs=genfromtxt(\"target_playlists.csv\",skip_header=1,dtype=int32)\n",
    "tPlIDs,tPlIDs.size"
   ]
  },
  {
   "cell_type": "code",
   "execution_count": 114,
   "metadata": {
    "collapsed": true
   },
   "outputs": [],
   "source": [
    "tPlAr=load_npz(\"targetPlaylistArtistReduced.npz\")"
   ]
  },
  {
   "cell_type": "code",
   "execution_count": 104,
   "metadata": {
    "collapsed": false
   },
   "outputs": [
    {
     "name": "stdout",
     "output_type": "stream",
     "text": [
      "529 116 128 773\n"
     ]
    }
   ],
   "source": [
    "k1=0\n",
    "k2=0\n",
    "k3=0\n",
    "for p in tPAr:\n",
    "    if(p.size==1):\n",
    "        k1+=1\n",
    "    elif(p.size==2):\n",
    "        k2+=1\n",
    "    elif(p.size==3):\n",
    "        k3+=1\n",
    "print(k1,k2,k3,k1+k2+k3)"
   ]
  },
  {
   "cell_type": "code",
   "execution_count": 108,
   "metadata": {
    "collapsed": false
   },
   "outputs": [
    {
     "data": {
      "text/plain": [
       "(array([    78,    109,    144, ..., 567363, 568165, 570588], dtype=int32),\n",
       " 17536)"
      ]
     },
     "execution_count": 108,
     "metadata": {},
     "output_type": "execute_result"
    }
   ],
   "source": [
    "artistIDs=load(\"uniqueArtists_NeededToIndexThe_ArtistReducedMatrices.npy\")\n",
    "artistIDs,artistIDs.size"
   ]
  },
  {
   "cell_type": "code",
   "execution_count": 121,
   "metadata": {
    "collapsed": false
   },
   "outputs": [
    {
     "data": {
      "text/plain": [
       "1135"
      ]
     },
     "execution_count": 121,
     "metadata": {},
     "output_type": "execute_result"
    }
   ],
   "source": [
    "tPlAr[0].nonzero()[1][0]"
   ]
  },
  {
   "cell_type": "code",
   "execution_count": 120,
   "metadata": {
    "collapsed": false
   },
   "outputs": [
    {
     "data": {
      "text/plain": [
       "10024884"
      ]
     },
     "execution_count": 120,
     "metadata": {},
     "output_type": "execute_result"
    }
   ],
   "source": [
    "tPlIDs[0]"
   ]
  },
  {
   "cell_type": "code",
   "execution_count": 124,
   "metadata": {
    "collapsed": false
   },
   "outputs": [
    {
     "data": {
      "text/plain": [
       "78"
      ]
     },
     "execution_count": 124,
     "metadata": {},
     "output_type": "execute_result"
    }
   ],
   "source": [
    "artistIDs[0]"
   ]
  },
  {
   "cell_type": "code",
   "execution_count": 143,
   "metadata": {
    "collapsed": false
   },
   "outputs": [],
   "source": [
    "#monoartist\n",
    "plMonoArt=[]\n",
    "for artBinc,pID in zip(tPlAr,tPlIDs):\n",
    "    if(artBinc.size==1):\n",
    "        thisPl=[]\n",
    "        thisPl+=[pID]\n",
    "        thisArt=artistIDs[artBinc.nonzero()[1][0]]\n",
    "        thisPl+=[thisArt]\n",
    "        plMonoArt.append(thisPl)"
   ]
  },
  {
   "cell_type": "code",
   "execution_count": 144,
   "metadata": {
    "collapsed": false
   },
   "outputs": [
    {
     "data": {
      "text/plain": [
       "(array([[ 4902536,   359758],\n",
       "        [ 8910289,   379748],\n",
       "        [ 6611489,   153172],\n",
       "        ..., \n",
       "        [ 5082388,   228054],\n",
       "        [ 8344678,   325151],\n",
       "        [11542825,   148256]], dtype=int32), (529, 2))"
      ]
     },
     "execution_count": 144,
     "metadata": {},
     "output_type": "execute_result"
    }
   ],
   "source": [
    "arrPlMonoArt=array(plMonoArt)\n",
    "arrPlMonoArt,arrPlMonoArt.shape"
   ]
  },
  {
   "cell_type": "code",
   "execution_count": 145,
   "metadata": {
    "collapsed": true
   },
   "outputs": [],
   "source": [
    "save(\"target_playlist_mono_artist.npy\",arrPlMonoArt)"
   ]
  },
  {
   "cell_type": "code",
   "execution_count": 152,
   "metadata": {
    "collapsed": false
   },
   "outputs": [],
   "source": [
    "#biartist\n",
    "plBiArt=[]\n",
    "for artBinc,pID in zip(tPlAr,tPlIDs):\n",
    "    if(artBinc.size==2):\n",
    "        thisPl=[]\n",
    "        thisPl+=[pID]\n",
    "        for a in artBinc.nonzero()[1]:\n",
    "            thisArt=artistIDs[a]\n",
    "            thisPl+=[thisArt]\n",
    "        plBiArt.append(thisPl)"
   ]
  },
  {
   "cell_type": "code",
   "execution_count": 158,
   "metadata": {
    "collapsed": false
   },
   "outputs": [
    {
     "data": {
      "text/plain": [
       "(116, 3)"
      ]
     },
     "execution_count": 158,
     "metadata": {},
     "output_type": "execute_result"
    }
   ],
   "source": [
    "arrPlBiArt=array(plBiArt)\n",
    "arrPlBiArt.shape"
   ]
  },
  {
   "cell_type": "code",
   "execution_count": 159,
   "metadata": {
    "collapsed": true
   },
   "outputs": [],
   "source": [
    "save(\"target_playlist_bi_artist.npy\",arrPlBiArt)"
   ]
  },
  {
   "cell_type": "code",
   "execution_count": 169,
   "metadata": {
    "collapsed": false
   },
   "outputs": [
    {
     "data": {
      "text/plain": [
       "529"
      ]
     },
     "execution_count": 169,
     "metadata": {},
     "output_type": "execute_result"
    }
   ],
   "source": [
    "load(\"target_playlist_mono_artist.npy\")[:,1].nonzero()[0].size"
   ]
  }
 ],
 "metadata": {
  "kernelspec": {
   "display_name": "Python 3",
   "language": "python",
   "name": "python3"
  },
  "language_info": {
   "codemirror_mode": {
    "name": "ipython",
    "version": 3
   },
   "file_extension": ".py",
   "mimetype": "text/x-python",
   "name": "python",
   "nbconvert_exporter": "python",
   "pygments_lexer": "ipython3",
   "version": "3.5.4"
  }
 },
 "nbformat": 4,
 "nbformat_minor": 2
}
