{
 "cells": [
  {
   "cell_type": "code",
   "execution_count": 1,
   "metadata": {
    "collapsed": false
   },
   "outputs": [],
   "source": [
    "from numpy import *\n",
    "from scipy.sparse import *\n",
    "import implicit"
   ]
  },
  {
   "cell_type": "code",
   "execution_count": 30,
   "metadata": {
    "collapsed": false
   },
   "outputs": [
    {
     "data": {
      "text/plain": [
       "array([ 3271849,  5616275, 11267488, ...,  2659739, 10687820,  4962329], dtype=int32)"
      ]
     },
     "execution_count": 30,
     "metadata": {},
     "output_type": "execute_result"
    }
   ],
   "source": [
    "playlists=genfromtxt(\"train_final.csv\",skip_header=1,usecols=0).astype(int32)\n",
    "playlists"
   ]
  },
  {
   "cell_type": "code",
   "execution_count": 12,
   "metadata": {
    "collapsed": false
   },
   "outputs": [
    {
     "data": {
      "text/plain": [
       "array([2801526,  727878, 2805283, ..., 1468602, 1187581, 1094523], dtype=int32)"
      ]
     },
     "execution_count": 12,
     "metadata": {},
     "output_type": "execute_result"
    }
   ],
   "source": [
    "tracks=genfromtxt(\"train_final.csv\",skip_header=1,usecols=1).astype(int32)\n",
    "tracks"
   ]
  },
  {
   "cell_type": "code",
   "execution_count": 13,
   "metadata": {
    "collapsed": false
   },
   "outputs": [
    {
     "data": {
      "text/plain": [
       "((1040522,), (1040522,))"
      ]
     },
     "execution_count": 13,
     "metadata": {},
     "output_type": "execute_result"
    }
   ],
   "source": [
    "playlists.shape,tracks.shape"
   ]
  },
  {
   "cell_type": "code",
   "execution_count": 14,
   "metadata": {
    "collapsed": false
   },
   "outputs": [
    {
     "data": {
      "text/plain": [
       "array([ 1.,  1.,  1., ...,  1.,  1.,  1.])"
      ]
     },
     "execution_count": 14,
     "metadata": {},
     "output_type": "execute_result"
    }
   ],
   "source": [
    "data=ones(playlists.shape)\n",
    "data"
   ]
  },
  {
   "cell_type": "code",
   "execution_count": 15,
   "metadata": {
    "collapsed": false
   },
   "outputs": [
    {
     "data": {
      "text/plain": [
       "<5018275x11766363 sparse matrix of type '<class 'numpy.float64'>'\n",
       "\twith 1040522 stored elements in COOrdinate format>"
      ]
     },
     "execution_count": 15,
     "metadata": {},
     "output_type": "execute_result"
    }
   ],
   "source": [
    "# MAGIA_1 = creare velocemente la URM\n",
    "URM=coo_matrix((data,(tracks,playlists)))\n",
    "URM"
   ]
  },
  {
   "cell_type": "code",
   "execution_count": 16,
   "metadata": {
    "collapsed": false
   },
   "outputs": [],
   "source": [
    "URM=csc_matrix(URM).astype(int32)"
   ]
  },
  {
   "cell_type": "code",
   "execution_count": 17,
   "metadata": {
    "collapsed": false
   },
   "outputs": [
    {
     "data": {
      "text/plain": [
       "5018274"
      ]
     },
     "execution_count": 17,
     "metadata": {},
     "output_type": "execute_result"
    }
   ],
   "source": [
    "max(tracks)"
   ]
  },
  {
   "cell_type": "code",
   "execution_count": 18,
   "metadata": {
    "collapsed": false
   },
   "outputs": [
    {
     "data": {
      "text/plain": [
       "11766362"
      ]
     },
     "execution_count": 18,
     "metadata": {},
     "output_type": "execute_result"
    }
   ],
   "source": [
    "max(playlists)"
   ]
  },
  {
   "cell_type": "code",
   "execution_count": 38,
   "metadata": {
    "collapsed": false
   },
   "outputs": [
    {
     "data": {
      "text/plain": [
       "<11766363x5018275 sparse matrix of type '<class 'numpy.int32'>'\n",
       "\twith 1040522 stored elements in Compressed Sparse Row format>"
      ]
     },
     "execution_count": 38,
     "metadata": {},
     "output_type": "execute_result"
    }
   ],
   "source": [
    "#faccio la trasposta ma si poteva anche creare direttamente trasposta\n",
    "URM=URM.T\n",
    "URM"
   ]
  },
  {
   "cell_type": "code",
   "execution_count": 39,
   "metadata": {
    "collapsed": false
   },
   "outputs": [],
   "source": [
    "#P=URM*URM.T\n",
    "#P"
   ]
  },
  {
   "cell_type": "code",
   "execution_count": 40,
   "metadata": {
    "collapsed": false
   },
   "outputs": [],
   "source": [
    "M=URM"
   ]
  },
  {
   "cell_type": "code",
   "execution_count": 41,
   "metadata": {
    "collapsed": false
   },
   "outputs": [
    {
     "data": {
      "text/plain": [
       "<45649x99999 sparse matrix of type '<class 'numpy.int32'>'\n",
       "\twith 1040522 stored elements in Compressed Sparse Row format>"
      ]
     },
     "execution_count": 41,
     "metadata": {},
     "output_type": "execute_result"
    }
   ],
   "source": [
    "# MAGIA_2 = creare le reduced velocemente\n",
    "M = M[M.getnnz(1)>0][:,M.getnnz(0)>0]\n",
    "M"
   ]
  },
  {
   "cell_type": "code",
   "execution_count": 42,
   "metadata": {
    "collapsed": false
   },
   "outputs": [],
   "source": [
    "t99999=unique(tracks.astype(int32))"
   ]
  },
  {
   "cell_type": "code",
   "execution_count": 43,
   "metadata": {
    "collapsed": true
   },
   "outputs": [],
   "source": [
    "t100k=load(\"ordered_tracks.npy\")"
   ]
  },
  {
   "cell_type": "code",
   "execution_count": 44,
   "metadata": {
    "collapsed": false
   },
   "outputs": [
    {
     "data": {
      "text/plain": [
       "array([ 3626362.])"
      ]
     },
     "execution_count": 44,
     "metadata": {},
     "output_type": "execute_result"
    }
   ],
   "source": [
    "#questa track non compare in nessuna playlist\n",
    "setdiff1d(t100k,t99999)"
   ]
  },
  {
   "cell_type": "code",
   "execution_count": 45,
   "metadata": {
    "collapsed": false
   },
   "outputs": [],
   "source": [
    "from implicit.als import AlternatingLeastSquares\n",
    "#from implicit.approximate_als import (AnnoyAlternatingLeastSquares, NMSLibAlternatingLeastSquares,FaissAlternatingLeastSquares)\n",
    "from implicit.nearest_neighbours import (BM25Recommender, CosineRecommender,\n",
    "                                         TFIDFRecommender, bm25_weight)"
   ]
  },
  {
   "cell_type": "code",
   "execution_count": 46,
   "metadata": {
    "collapsed": false
   },
   "outputs": [],
   "source": [
    "MODELS = {\"als\":  AlternatingLeastSquares,\n",
    "          \"tfidf\": TFIDFRecommender,\n",
    "          \"cosine\": CosineRecommender,\n",
    "          \"bm25\": BM25Recommender}"
   ]
  },
  {
   "cell_type": "code",
   "execution_count": 47,
   "metadata": {
    "collapsed": true
   },
   "outputs": [],
   "source": [
    "def get_model(model_name):\n",
    "    model_class = MODELS.get(model_name)\n",
    "    if not model_class:\n",
    "        raise ValueError(\"Unknown Model '%s'\" % model_name)\n",
    "\n",
    "    # some default params\n",
    "    if issubclass(model_class, AlternatingLeastSquares):\n",
    "        params = {'factors': 50, 'dtype': numpy.float32}\n",
    "    elif model_name == \"bm25\":\n",
    "        params = {'K1': 100, 'B': 0.5}\n",
    "    else:\n",
    "        params = {}\n",
    "\n",
    "    return model_class(**params)"
   ]
  },
  {
   "cell_type": "code",
   "execution_count": 48,
   "metadata": {
    "collapsed": true
   },
   "outputs": [],
   "source": [
    "modelCos=get_model(\"cosine\")\n",
    "modelTFIDF=get_model(\"tfidf\")"
   ]
  },
  {
   "cell_type": "code",
   "execution_count": 49,
   "metadata": {
    "collapsed": false
   },
   "outputs": [],
   "source": [
    "modelCos.fit(M)\n",
    "modelTFIDF.fit(M)"
   ]
  },
  {
   "cell_type": "code",
   "execution_count": 50,
   "metadata": {
    "collapsed": false
   },
   "outputs": [],
   "source": [
    "simCos=modelCos.similarity\n",
    "simTFIDF=modelTFIDF.similarity"
   ]
  },
  {
   "cell_type": "code",
   "execution_count": 51,
   "metadata": {
    "collapsed": false
   },
   "outputs": [
    {
     "data": {
      "text/plain": [
       "(<45649x45649 sparse matrix of type '<class 'numpy.float64'>'\n",
       " \twith 861653 stored elements in Compressed Sparse Row format>,\n",
       " <45649x45649 sparse matrix of type '<class 'numpy.float64'>'\n",
       " \twith 861653 stored elements in Compressed Sparse Row format>)"
      ]
     },
     "execution_count": 51,
     "metadata": {},
     "output_type": "execute_result"
    }
   ],
   "source": [
    "simCos.setdiag(0)\n",
    "simTFIDF.setdiag(0)\n",
    "simCos,simTFIDF"
   ]
  },
  {
   "cell_type": "code",
   "execution_count": 52,
   "metadata": {
    "collapsed": false
   },
   "outputs": [
    {
     "data": {
      "text/plain": [
       "matrix([[    0, 30423, 30424, ...,  4796, 44772, 19688]])"
      ]
     },
     "execution_count": 52,
     "metadata": {},
     "output_type": "execute_result"
    }
   ],
   "source": [
    "#cosine\n",
    "argsort(simCos[0].todense())"
   ]
  },
  {
   "cell_type": "code",
   "execution_count": 53,
   "metadata": {
    "collapsed": false
   },
   "outputs": [
    {
     "data": {
      "text/plain": [
       "matrix([[    0, 30422, 30423, ..., 38467, 44772, 19688]])"
      ]
     },
     "execution_count": 53,
     "metadata": {},
     "output_type": "execute_result"
    }
   ],
   "source": [
    "#tfidf\n",
    "argsort(simTFIDF[0].todense())"
   ]
  },
  {
   "cell_type": "code",
   "execution_count": 82,
   "metadata": {
    "collapsed": false
   },
   "outputs": [
    {
     "data": {
      "text/plain": [
       "<45649x45649 sparse matrix of type '<class 'numpy.float64'>'\n",
       "\twith 975058 stored elements in Compressed Sparse Row format>"
      ]
     },
     "execution_count": 82,
     "metadata": {},
     "output_type": "execute_result"
    }
   ],
   "source": [
    "simSum=simTFIDF+simCos\n",
    "simSum"
   ]
  },
  {
   "cell_type": "code",
   "execution_count": 83,
   "metadata": {
    "collapsed": false
   },
   "outputs": [
    {
     "data": {
      "text/plain": [
       "matrix([[    0, 30422, 30423, ...,  4796, 44772, 19688]])"
      ]
     },
     "execution_count": 83,
     "metadata": {},
     "output_type": "execute_result"
    }
   ],
   "source": [
    "argsort(simSum[0].todense())"
   ]
  },
  {
   "cell_type": "code",
   "execution_count": 84,
   "metadata": {
    "collapsed": false
   },
   "outputs": [
    {
     "data": {
      "text/plain": [
       "<45649x45649 sparse matrix of type '<class 'numpy.float64'>'\n",
       "\twith 975058 stored elements in Compressed Sparse Row format>"
      ]
     },
     "execution_count": 84,
     "metadata": {},
     "output_type": "execute_result"
    }
   ],
   "source": [
    "simSum"
   ]
  },
  {
   "cell_type": "code",
   "execution_count": 124,
   "metadata": {
    "collapsed": false
   },
   "outputs": [
    {
     "data": {
      "text/plain": [
       "array([10024884, 10624787,  4891851, ..., 11369546,  7939535,   297021], dtype=int32)"
      ]
     },
     "execution_count": 124,
     "metadata": {},
     "output_type": "execute_result"
    }
   ],
   "source": [
    "targetPl=genfromtxt(\"target_playlists.csv\",skip_header=1,dtype=int32)\n",
    "targetPl"
   ]
  },
  {
   "cell_type": "code",
   "execution_count": 31,
   "metadata": {
    "collapsed": false
   },
   "outputs": [
    {
     "data": {
      "text/plain": [
       "45649"
      ]
     },
     "execution_count": 31,
     "metadata": {},
     "output_type": "execute_result"
    }
   ],
   "source": [
    "uniquePl=unique(playlists)\n",
    "uniquePl.size"
   ]
  },
  {
   "cell_type": "code",
   "execution_count": 125,
   "metadata": {
    "collapsed": false
   },
   "outputs": [
    {
     "data": {
      "text/plain": [
       "45649"
      ]
     },
     "execution_count": 125,
     "metadata": {},
     "output_type": "execute_result"
    }
   ],
   "source": [
    "targetMask=array(list(map(lambda x: isin(x,targetPl),uniquePl)))\n",
    "targetMask.size"
   ]
  },
  {
   "cell_type": "code",
   "execution_count": 3,
   "metadata": {
    "collapsed": false
   },
   "outputs": [
    {
     "data": {
      "text/plain": [
       "<10000x45649 sparse matrix of type '<class 'numpy.float64'>'\n",
       "\twith 235509 stored elements in Compressed Sparse Row format>"
      ]
     },
     "execution_count": 3,
     "metadata": {},
     "output_type": "execute_result"
    }
   ],
   "source": [
    "#targetSimSum=simSum[targetMask]\n",
    "#save_npz(\"simSum_TargetPl_AllPl\",targetSimSum)\n",
    "targetSimSum=load_npz(\"simSum_TargetPl_AllPl.npz\")\n",
    "targetSimSum"
   ]
  },
  {
   "cell_type": "code",
   "execution_count": 127,
   "metadata": {
    "collapsed": false
   },
   "outputs": [
    {
     "data": {
      "text/plain": [
       "10000"
      ]
     },
     "execution_count": 127,
     "metadata": {},
     "output_type": "execute_result"
    }
   ],
   "source": [
    "targetStrangeOrder=uniquePl[targetMask]\n",
    "targetStrangeOrder.size"
   ]
  },
  {
   "cell_type": "code",
   "execution_count": 12,
   "metadata": {
    "collapsed": false
   },
   "outputs": [
    {
     "data": {
      "text/plain": [
       "array([10024884, 10624787,  4891851, ..., 11369546,  7939535,   297021])"
      ]
     },
     "execution_count": 12,
     "metadata": {},
     "output_type": "execute_result"
    }
   ],
   "source": [
    "pIdForTracks=load(\"playlists_with_tracks.npy\")[:,0]\n",
    "pIdForTracks#sono solo 10k"
   ]
  },
  {
   "cell_type": "code",
   "execution_count": 7,
   "metadata": {
    "collapsed": false
   },
   "outputs": [
    {
     "data": {
      "text/plain": [
       "array([[2879006, 1532328, 3027673, ...,       0,       0,       0],\n",
       "       [2090319, 2152295, 3230559, ...,       0,       0,       0],\n",
       "       [2621486, 2895498, 1369381, ...,       0,       0,       0],\n",
       "       ..., \n",
       "       [ 416692, 1587449, 1057389, ...,       0,       0,       0],\n",
       "       [2788577, 3090083, 1609308, ...,       0,       0,       0],\n",
       "       [2789282, 2154608,  973448, ...,       0,       0,       0]])"
      ]
     },
     "execution_count": 7,
     "metadata": {},
     "output_type": "execute_result"
    }
   ],
   "source": [
    "pTracks=load(\"playlists_with_tracks.npy\")[:,1:]\n",
    "pTracks#sono solo 10k"
   ]
  },
  {
   "cell_type": "code",
   "execution_count": 55,
   "metadata": {
    "collapsed": false
   },
   "outputs": [],
   "source": [
    "allPlIdWithTracks=load_npz(\"all_playlists_with_tracks.npz\")\n",
    "allPlIDs=squeeze(asarray(allPlIdWithTracks[:,0].todense()))\n",
    "allPlTracks=allPlIdWithTracks[:,1:]"
   ]
  },
  {
   "cell_type": "code",
   "execution_count": 22,
   "metadata": {
    "collapsed": true
   },
   "outputs": [],
   "source": [
    "monoArtist=load(\"target_playlist_mono_artist.npy\")\n",
    "monoArtistPlID=monoArtist[:,0]\n",
    "monoArtistArtistID=monoArtist[:,1]\n",
    "artistIndexes=load(\"uniqueArtists_NeededToIndexThe_ArtistReducedMatrices.npy\")\n",
    "artistTracks=load_npz(\"artists_with_tracksID_ordered_by_occurrencies.npz\")\n",
    "target_tracks_ordered = load(\"targetTracksOrdered.npy\")"
   ]
  },
  {
   "cell_type": "code",
   "execution_count": 70,
   "metadata": {
    "collapsed": false
   },
   "outputs": [],
   "source": [
    "def tracksForMonoArtist(pID,tracksOfThisPl):\n",
    "    artist=monoArtistArtistID[where(monoArtistPlID==pID)[0][0]]\n",
    "    artistIndex=where(artistIndexes==artist)[0][0]\n",
    "    thisArtistTracks=artistTracks.getrow(artistIndex).data\n",
    "    return array([t for t in thisArtistTracks if not isin(t,tracksOfThisPl) and isin(t,target_tracks_ordered)])"
   ]
  },
  {
   "cell_type": "code",
   "execution_count": 121,
   "metadata": {
    "collapsed": true
   },
   "outputs": [],
   "source": [
    "def tracksForGeneric(p,tracksOfThisPl):\n",
    "    plIndexes=asarray(flip(argsort(p.todense()),1)).flatten()[0:10]\n",
    "    similarPlIDs=uniquePl[plIndexes]\n",
    "    candidateTracks=[]\n",
    "    for similarPlID in similarPlIDs:\n",
    "        indexToFindTracksOfThisPl=where(allPlIDs==similarPlID)[0][0]\n",
    "        tracksOfThisPl=allPlTracks[indexToFindTracksOfThisPl].data\n",
    "        candidateTracks+=list(tracksOfThisPl)\n",
    "    myArr= array([t for t in array(candidateTracks) if ((not isin(t,tracksOfThisPl)) and isin(t,target_tracks_ordered))])\n",
    "    return myArr"
   ]
  },
  {
   "cell_type": "code",
   "execution_count": 79,
   "metadata": {
    "collapsed": false
   },
   "outputs": [],
   "source": [
    "def callIfNotEnough(n,tracksOfThisPl,suggestions):\n",
    "    newSuggestions=[]\n",
    "    for t in target_tracks_ordered:\n",
    "        if(len(newSuggestions)==n):\n",
    "            break\n",
    "        elif(not isin(t,tracksOfThisPl) and not isin(t, suggestions)):\n",
    "            newSuggestions.append(t)\n",
    "    return concatenate((suggestions,array(newSuggestions)))"
   ]
  },
  {
   "cell_type": "code",
   "execution_count": 128,
   "metadata": {
    "collapsed": false
   },
   "outputs": [
    {
     "name": "stdout",
     "output_type": "stream",
     "text": [
      "shit\n",
      "shit\n",
      "shit\n",
      "shit\n",
      "shit\n",
      "shit\n",
      "shit\n",
      "shit\n",
      "shit\n",
      "shit\n",
      "shit\n",
      "shit\n",
      "shit\n",
      "shit\n",
      "shit\n",
      "shit\n",
      "shit\n",
      "shit\n",
      "shit\n",
      "shit\n",
      "shit\n",
      "shit\n",
      "shit\n",
      "shit\n",
      "shit\n"
     ]
    }
   ],
   "source": [
    "with open(\"newSimTestMonoArtist.csv\",\"w\") as f:\n",
    "    f.write(\"playlist_id,track_ids\\n\")\n",
    "    for p,pID in zip(targetSimSum,targetStrangeOrder):\n",
    "        f.write(str(pID)+\",\")\n",
    "        indexToFindTracksOfThisPl=where(allPlIDs==pID)[0][0]\n",
    "        tracksOfThisPl=allPlTracks[indexToFindTracksOfThisPl].data\n",
    "        if (isin(pID,monoArtistPlID)):\n",
    "            suggestions=tracksForMonoArtist(pID,tracksOfThisPl)\n",
    "        else:\n",
    "            suggestions=tracksForGeneric(p,tracksOfThisPl)\n",
    "        if(suggestions.size>=5):\n",
    "            suggestions=suggestions.take(range(5))\n",
    "        else:\n",
    "            n=5-suggestions.size\n",
    "            suggestions=callIfNotEnough(n,tracksOfThisPl,suggestions)\n",
    "        for t in suggestions:\n",
    "            f.write(str(int(t))+\" \")\n",
    "        f.write(\"\\n\")"
   ]
  },
  {
   "cell_type": "code",
   "execution_count": 76,
   "metadata": {
    "collapsed": false
   },
   "outputs": [
    {
     "data": {
      "text/plain": [
       "array([1, 2, 3, 4])"
      ]
     },
     "execution_count": 76,
     "metadata": {},
     "output_type": "execute_result"
    }
   ],
   "source": []
  },
  {
   "cell_type": "code",
   "execution_count": null,
   "metadata": {
    "collapsed": false
   },
   "outputs": [],
   "source": []
  },
  {
   "cell_type": "code",
   "execution_count": null,
   "metadata": {
    "collapsed": false
   },
   "outputs": [],
   "source": []
  },
  {
   "cell_type": "code",
   "execution_count": null,
   "metadata": {
    "collapsed": false
   },
   "outputs": [],
   "source": []
  },
  {
   "cell_type": "code",
   "execution_count": null,
   "metadata": {
    "collapsed": true
   },
   "outputs": [],
   "source": []
  }
 ],
 "metadata": {
  "kernelspec": {
   "display_name": "Python 3",
   "language": "python",
   "name": "python3"
  },
  "language_info": {
   "codemirror_mode": {
    "name": "ipython",
    "version": 3
   },
   "file_extension": ".py",
   "mimetype": "text/x-python",
   "name": "python",
   "nbconvert_exporter": "python",
   "pygments_lexer": "ipython3",
   "version": "3.6.3"
  }
 },
 "nbformat": 4,
 "nbformat_minor": 2
}
