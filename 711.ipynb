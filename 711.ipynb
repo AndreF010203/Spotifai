{
 "cells": [
  {
   "cell_type": "code",
   "execution_count": 1,
   "metadata": {
    "collapsed": true
   },
   "outputs": [],
   "source": [
    "from numpy import *\n",
    "from scipy.sparse import *\n",
    "from scipy.sparse.linalg import *\n",
    "from scipy.stats import *\n",
    "from sklearn.preprocessing import *"
   ]
  },
  {
   "cell_type": "code",
   "execution_count": 2,
   "metadata": {
    "collapsed": true
   },
   "outputs": [],
   "source": [
    "monoArtist=load(\"target_playlist_mono_artist.npy\")\n",
    "monoArtistPlID=monoArtist[:,0]\n",
    "monoArtistArtistID=monoArtist[:,1]\n",
    "artistIndexes=load(\"uniqueArtists_NeededToIndexThe_ArtistReducedMatrices.npy\")\n",
    "artistTracks=load_npz(\"artists_with_tracksID_ordered_by_occurrencies.npz\")\n",
    "target_playlists=genfromtxt(\"target_playlists.csv\",skip_header=1)\n",
    "playlists_with_tracks=load(\"playlists_with_tracks.npy\")\n",
    "target_tracks_ordered = load(\"targetTracksOrdered.npy\")\n",
    "\n",
    "\n",
    "def getsimil(plid, similrow, n):\n",
    "    ptracks = playlists_with_tracks[where(playlists_with_tracks[:,0]==plid),1:]\n",
    "    maxi = flip(argsort(similrow), axis=0)\n",
    "    r = []\n",
    "    for m in maxi:\n",
    "        if(not isin(target_tracks_ordered[m], ptracks)):\n",
    "           r.append(target_tracks_ordered[m])\n",
    "           if(len(r)==n):\n",
    "               return r\n",
    "        \n",
    "    PLIDs = load(\"fucking_ordered_playlist.npy\")\n",
    "    TIDs = load(\"fucking_ordered_tracks.npy\")"
   ]
  },
  {
   "cell_type": "code",
   "execution_count": 36,
   "metadata": {
    "collapsed": true
   },
   "outputs": [],
   "source": [
    "import sys\n",
    "def progress(count, total, status=''):\n",
    "    bar_len = 60\n",
    "    filled_len = int(round(bar_len * count / float(total)))\n",
    "\n",
    "    percents = round(100.0 * count / float(total), 1)\n",
    "    bar = '=' * filled_len + '-' * (bar_len - filled_len)\n",
    "\n",
    "    sys.stdout.write('[%s] %s%s ...%s\\r' % (bar, percents, '%', status))\n",
    "    sys.stdout.flush() \n",
    "\n",
    "tar=10000\n",
    "\n",
    "def computeMono(fname, finalPlSim):\n",
    "    targetP = load(\"fucking_ordered_playlist.npy\")\n",
    "    playlists_with_tracks=load(\"playlists_with_tracks.npy\")\n",
    "    target_playlists=genfromtxt(\"target_playlists.csv\",skip_header=1)\n",
    "    targetP = targetP[isin(targetP, target_playlists)]\n",
    "    with open(fname,\"a\") as myfile:\n",
    "        myfile.write(\"playlist_id,track_ids\\n\")\n",
    "        for pl, similsum, i in zip(targetP, finalPlSim, range(tar)):\n",
    "            progress(i, tar, status=\"done\")\n",
    "            plID=pl\n",
    "            s = str(int(plID))\n",
    "            s += \",\"\n",
    "            if(isin(plID,monoArtistPlID)):#guarda se c'è un artista solo\n",
    "                artist=monoArtistArtistID[where(monoArtistPlID==plID)[0][0]]#l'unico artista della playlist\n",
    "                artistIndex=where(artistIndexes==artist)[0][0]#cerca la sua posizione nella matrice delle tracce\n",
    "                thisArtistTracks=artistTracks.getrow(artistIndex).data#prende le sue tracce\n",
    "                rr=array([t for t in thisArtistTracks if t not in playlists_with_tracks[where(playlists_with_tracks[:,0]==plID),1:] and isin(t, target_tracks_ordered)])#prende tutte quelle non già presenti\n",
    "\n",
    "                if(len(rr)>=5):\n",
    "                    r = array(rr).take(range(5))\n",
    "                else:\n",
    "                    r4 = getsimil(pl, similsum.data, 5)\n",
    "                    r4 = array([el for el in r4 if el not in rr])\n",
    "                    r = concatenate((rr, r4.take(range(5-len(rr)))))\n",
    "            else:\n",
    "                r = getsimil(pl, similsum.data, 5)#non c'è un artista solo quindi guarda solo i tag\n",
    "            for el in r:\n",
    "                s+=str(el)\n",
    "                s+=\" \"\n",
    "            myfile.write(s + \"\\n\")\n",
    "            \n",
    "def compute(fname, finalPlSim):\n",
    "    targetP = load(\"fucking_ordered_playlist.npy\")\n",
    "    playlists_with_tracks=load(\"playlists_with_tracks.npy\")\n",
    "    target_playlists=genfromtxt(\"target_playlists.csv\",skip_header=1)\n",
    "    targetP = targetP[isin(targetP, target_playlists)]\n",
    "    with open(fname,\"a\") as myfile:\n",
    "        myfile.write(\"playlist_id,track_ids\\n\")\n",
    "        for pl, similsum, i in zip(targetP, finalPlSim, range(tar)):\n",
    "            progress(i, tar, status=\"done\")\n",
    "            plID=pl\n",
    "            s = str(int(plID))\n",
    "            s += \",\"\n",
    "            r = getsimil(pl, similsum.data, 5)#non c'è un artista solo quindi guarda solo i tag\n",
    "            for el in r:\n",
    "                s+=str(el)\n",
    "                s+=\" \"\n",
    "            myfile.write(s + \"\\n\")            \n",
    "            "
   ]
  },
  {
   "cell_type": "code",
   "execution_count": 4,
   "metadata": {
    "collapsed": true
   },
   "outputs": [],
   "source": [
    "PxA = load_npz(\"fucking_ordered_playlist_artist.npz\")\n",
    "PxT = load_npz(\"all_playlist_with_tracks_URM.npz\")\n",
    "TxA = load_npz(\"fucking_ordered_track_artist.npz\")\n"
   ]
  },
  {
   "cell_type": "code",
   "execution_count": 12,
   "metadata": {
    "collapsed": true
   },
   "outputs": [],
   "source": [
    "similPAT = normalize(PxA) * TxA.T #S1, similarity tra playlist artist e track artist"
   ]
  },
  {
   "cell_type": "code",
   "execution_count": 13,
   "metadata": {},
   "outputs": [
    {
     "data": {
      "text/plain": [
       "<45649x100000 sparse matrix of type '<class 'numpy.float64'>'\n",
       "\twith 21113789 stored elements in Compressed Sparse Row format>"
      ]
     },
     "execution_count": 13,
     "metadata": {},
     "output_type": "execute_result"
    }
   ],
   "source": [
    "similPAT"
   ]
  },
  {
   "cell_type": "code",
   "execution_count": 33,
   "metadata": {
    "collapsed": true
   },
   "outputs": [],
   "source": [
    "def filterTarget(m):\n",
    "    PLIDs = load(\"fucking_ordered_playlist.npy\")\n",
    "    TIDs = load(\"fucking_ordered_tracks.npy\")\n",
    "    target_playlists=genfromtxt(\"target_playlists.csv\",skip_header=1)\n",
    "    target_tracks=genfromtxt(\"target_tracks.csv\", skip_header=1)\n",
    "    k = m[isin(PLIDs, target_playlists)]\n",
    "    k = k[:, isin(TIDs, target_tracks)]\n",
    "    return k\n",
    "\n",
    "def filterPLrow(m):\n",
    "    PLIDs = load(\"fucking_ordered_playlist.npy\")\n",
    "    target_playlists=genfromtxt(\"target_playlists.csv\",skip_header=1)\n",
    "    k = m[isin(PLIDs, target_playlists)]\n",
    "    return k \n",
    "\n",
    "def filterTcol(m):\n",
    "    TIDs = load(\"fucking_ordered_tracks.npy\")\n",
    "    target_tracks=genfromtxt(\"target_tracks.csv\", skip_header=1)\n",
    "    k = m[:, isin(TIDs, target_tracks)]\n",
    "    return k"
   ]
  },
  {
   "cell_type": "code",
   "execution_count": 14,
   "metadata": {
    "collapsed": true
   },
   "outputs": [],
   "source": [
    "S1 = filterTarget(similPAT)"
   ]
  },
  {
   "cell_type": "code",
   "execution_count": 15,
   "metadata": {
    "collapsed": true
   },
   "outputs": [],
   "source": [
    "trackAlbum=load_npz(\"fucking_ordered_track_album.npz\")"
   ]
  },
  {
   "cell_type": "code",
   "execution_count": 16,
   "metadata": {},
   "outputs": [
    {
     "name": "stderr",
     "output_type": "stream",
     "text": [
      "C:\\Users\\Andrea\\Anaconda3\\lib\\site-packages\\scipy\\sparse\\compressed.py:742: SparseEfficiencyWarning: Changing the sparsity structure of a csr_matrix is expensive. lil_matrix is more efficient.\n",
      "  SparseEfficiencyWarning)\n"
     ]
    }
   ],
   "source": [
    "TTAL = trackAlbum * trackAlbum.T\n",
    "TTAL.setdiag(0)"
   ]
  },
  {
   "cell_type": "code",
   "execution_count": 17,
   "metadata": {
    "collapsed": true
   },
   "outputs": [],
   "source": [
    "S2 = PxT * TTAL  #S2: 2 canzoni sono simili se hanno lo stesso album, playlist è simile alla canzone se la contiene"
   ]
  },
  {
   "cell_type": "code",
   "execution_count": 18,
   "metadata": {
    "collapsed": true
   },
   "outputs": [],
   "source": [
    "S2 = filterTarget(S2)"
   ]
  },
  {
   "cell_type": "code",
   "execution_count": 19,
   "metadata": {
    "collapsed": true
   },
   "outputs": [],
   "source": [
    "S2 = normalize(S2)"
   ]
  },
  {
   "cell_type": "code",
   "execution_count": 38,
   "metadata": {
    "collapsed": true
   },
   "outputs": [],
   "source": [
    "S = S1+1.5*S2    #a questo punto andrebbe bene, ma in realtà alcune canzoni hanno meno di 5 similarità non zero\n",
    "                #S3 è SBAGLIATA. UN'ALTRA IDEA SAREBBE METTERE IN SOTTOFONDO LA VECCHIA TFIDF SUI TAG CON UN PESO BASSISSIMO, \n",
    "               #MA CHE ALMENO CI EVITA L'ERRORE."
   ]
  },
  {
   "cell_type": "code",
   "execution_count": 5,
   "metadata": {
    "collapsed": true
   },
   "outputs": [],
   "source": [
    "S3 = PxA * PxA.T          #S3: 2 playlist sono simili se contengono gli stessi artisti, moltiplicato poi per la matrice con le tracks"
   ]
  },
  {
   "cell_type": "code",
   "execution_count": 6,
   "metadata": {
    "collapsed": true
   },
   "outputs": [],
   "source": [
    "S3 = normalize(S3)\n",
    "S3.setdiag(0)"
   ]
  },
  {
   "cell_type": "code",
   "execution_count": 9,
   "metadata": {},
   "outputs": [],
   "source": [
    "S3 = filterPLrow(S3.T)"
   ]
  },
  {
   "cell_type": "code",
   "execution_count": 11,
   "metadata": {},
   "outputs": [],
   "source": [
    "S3 = S3 * PxT"
   ]
  },
  {
   "cell_type": "code",
   "execution_count": 34,
   "metadata": {},
   "outputs": [],
   "source": [
    "S3 = filterTcol(S3)"
   ]
  },
  {
   "cell_type": "code",
   "execution_count": 39,
   "metadata": {
    "collapsed": true
   },
   "outputs": [],
   "source": [
    "S = S + S3   "
   ]
  },
  {
   "cell_type": "code",
   "execution_count": 40,
   "metadata": {},
   "outputs": [
    {
     "name": "stdout",
     "output_type": "stream",
     "text": [
      "[============================================================] 100.0% ...done\r"
     ]
    }
   ],
   "source": [
    "compute(\"today2.csv\", S)"
   ]
  },
  {
   "cell_type": "code",
   "execution_count": null,
   "metadata": {
    "collapsed": true
   },
   "outputs": [],
   "source": []
  },
  {
   "cell_type": "code",
   "execution_count": null,
   "metadata": {
    "collapsed": true
   },
   "outputs": [],
   "source": []
  },
  {
   "cell_type": "code",
   "execution_count": null,
   "metadata": {
    "collapsed": true
   },
   "outputs": [],
   "source": []
  },
  {
   "cell_type": "code",
   "execution_count": null,
   "metadata": {},
   "outputs": [],
   "source": []
  },
  {
   "cell_type": "code",
   "execution_count": null,
   "metadata": {
    "collapsed": true
   },
   "outputs": [],
   "source": []
  },
  {
   "cell_type": "code",
   "execution_count": null,
   "metadata": {
    "collapsed": true
   },
   "outputs": [],
   "source": []
  },
  {
   "cell_type": "code",
   "execution_count": null,
   "metadata": {
    "collapsed": true
   },
   "outputs": [],
   "source": []
  }
 ],
 "metadata": {
  "kernelspec": {
   "display_name": "Python 3",
   "language": "python",
   "name": "python3"
  },
  "language_info": {
   "codemirror_mode": {
    "name": "ipython",
    "version": 3
   },
   "file_extension": ".py",
   "mimetype": "text/x-python",
   "name": "python",
   "nbconvert_exporter": "python",
   "pygments_lexer": "ipython3",
   "version": "3.6.3"
  }
 },
 "nbformat": 4,
 "nbformat_minor": 2
}
