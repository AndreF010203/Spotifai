{
 "cells": [
  {
   "cell_type": "code",
   "execution_count": 1,
   "metadata": {
    "collapsed": false
   },
   "outputs": [],
   "source": [
    "from numpy import *\n",
    "from scipy.sparse import *"
   ]
  },
  {
   "cell_type": "code",
   "execution_count": 2,
   "metadata": {
    "collapsed": false
   },
   "outputs": [
    {
     "data": {
      "text/plain": [
       "array([(2972914,    144), (2750239,    246), (1550729,    144), ...,\n",
       "       (2584455,  27938), (2299706, 373892), (2739985, 567363)],\n",
       "      dtype=[('trackID', '<i4'), ('artistID', '<i4')])"
      ]
     },
     "execution_count": 2,
     "metadata": {},
     "output_type": "execute_result"
    }
   ],
   "source": [
    "trackArtist=genfromtxt(\"tracks_final.csv\",usecols=[0,1],skip_header=1,dtype=[(\"trackID\",int32),(\"artistID\",int32)])\n",
    "trackArtist"
   ]
  },
  {
   "cell_type": "code",
   "execution_count": 3,
   "metadata": {
    "collapsed": false
   },
   "outputs": [
    {
     "data": {
      "text/plain": [
       "array([(    252, 276973), (    360, 169649), (    394, 317842), ...,\n",
       "       (5007354, 342450), (5014702, 371784), (5018274, 316207)],\n",
       "      dtype=[('trackID', '<i4'), ('artistID', '<i4')])"
      ]
     },
     "execution_count": 3,
     "metadata": {},
     "output_type": "execute_result"
    }
   ],
   "source": [
    "trackArtist.sort(order=\"trackID\")\n",
    "trackArtist"
   ]
  },
  {
   "cell_type": "code",
   "execution_count": 4,
   "metadata": {
    "collapsed": false
   },
   "outputs": [],
   "source": [
    "trackArtist=array(list(map(lambda x: [x[0],x[1]],trackArtist)))"
   ]
  },
  {
   "cell_type": "code",
   "execution_count": 66,
   "metadata": {
    "collapsed": false,
    "scrolled": true
   },
   "outputs": [
    {
     "data": {
      "text/plain": [
       "(array([[    252,  276973],\n",
       "        [    360,  169649],\n",
       "        [    394,  317842],\n",
       "        ..., \n",
       "        [5007354,  342450],\n",
       "        [5014702,  371784],\n",
       "        [5018274,  316207]], dtype=int32), (100000, 2))"
      ]
     },
     "execution_count": 66,
     "metadata": {},
     "output_type": "execute_result"
    }
   ],
   "source": [
    "trackArtist,trackArtist.shape"
   ]
  },
  {
   "cell_type": "code",
   "execution_count": 15,
   "metadata": {
    "collapsed": false
   },
   "outputs": [
    {
     "data": {
      "text/plain": [
       "(17536,\n",
       " array([    78,    109,    144, ..., 567363, 568165, 570588], dtype=int32))"
      ]
     },
     "execution_count": 15,
     "metadata": {},
     "output_type": "execute_result"
    }
   ],
   "source": [
    "orderedArtists=unique(trackArtist[:,1])\n",
    "orderedArtists.size,orderedArtists\n"
   ]
  },
  {
   "cell_type": "code",
   "execution_count": 14,
   "metadata": {
    "collapsed": false
   },
   "outputs": [
    {
     "data": {
      "text/plain": [
       "(100000,\n",
       " array([    252,     360,     394, ..., 5007354, 5014702, 5018274], dtype=int32))"
      ]
     },
     "execution_count": 14,
     "metadata": {},
     "output_type": "execute_result"
    }
   ],
   "source": [
    "orderedTracks=trackArtist[:,0]\n",
    "orderedTracks.size,orderedTracks"
   ]
  },
  {
   "cell_type": "code",
   "execution_count": 77,
   "metadata": {
    "collapsed": true
   },
   "outputs": [],
   "source": [
    "save(\"fucking_ordered_tracks\",orderedTracks)\n",
    "save(\"fucking_ordered_artists\",orderedArtists)\n",
    "save(\"fucking_ordered_albums\",orderedAlbums)"
   ]
  },
  {
   "cell_type": "code",
   "execution_count": 12,
   "metadata": {
    "collapsed": false
   },
   "outputs": [],
   "source": [
    "firstRow=[0]*17536\n",
    "firstRow[where(orderedArtists==trackArtist[0][1])[0][0]]=1\n",
    "firstRow=csr_matrix(firstRow)\n",
    "for t,a in trackArtist[1:]:\n",
    "    thisRow=[0]*17536\n",
    "    thisRow[where(orderedArtists==a)[0][0]]=1\n",
    "    firstRow=vstack((firstRow,csr_matrix(thisRow)))"
   ]
  },
  {
   "cell_type": "code",
   "execution_count": 13,
   "metadata": {
    "collapsed": false
   },
   "outputs": [
    {
     "data": {
      "text/plain": [
       "<100000x17536 sparse matrix of type '<class 'numpy.int64'>'\n",
       "\twith 100000 stored elements in Compressed Sparse Row format>"
      ]
     },
     "execution_count": 13,
     "metadata": {},
     "output_type": "execute_result"
    }
   ],
   "source": [
    "firstRow"
   ]
  },
  {
   "cell_type": "code",
   "execution_count": 17,
   "metadata": {
    "collapsed": false
   },
   "outputs": [],
   "source": [
    "save_npz(\"fucking_ordered_track_artist.npz\",firstRow)#tutto ordinato per ID"
   ]
  },
  {
   "cell_type": "code",
   "execution_count": 67,
   "metadata": {
    "collapsed": false
   },
   "outputs": [
    {
     "data": {
      "text/plain": [
       "array([[2972914,       7],\n",
       "       [2750239,       8],\n",
       "       [1550729,       9],\n",
       "       [2169950,       9],\n",
       "       [1903709,       0],\n",
       "       [2256817,       9],\n",
       "       [2561768,      26],\n",
       "       [ 474864,      22],\n",
       "       [1378455,      22],\n",
       "       [1523190,      22],\n",
       "       [1373492,      22],\n",
       "       [3387498,      31],\n",
       "       [ 699524,      26],\n",
       "       [2438345,      22],\n",
       "       [  47604,      38]])"
      ]
     },
     "execution_count": 67,
     "metadata": {},
     "output_type": "execute_result"
    }
   ],
   "source": [
    "trackAlbum=load(\"track_artist_album.npy\")\n",
    "trackAlbum=array(list(map(lambda x:[x[0],x[2]],trackAlbum)))\n",
    "trackAlbum[0:15]"
   ]
  },
  {
   "cell_type": "code",
   "execution_count": 68,
   "metadata": {
    "collapsed": false
   },
   "outputs": [
    {
     "data": {
      "text/plain": [
       "(array([[    252,  127477],\n",
       "        [    360,   77662],\n",
       "        [    394,  146024],\n",
       "        ..., \n",
       "        [5007354,  157661],\n",
       "        [5014702,  175831],\n",
       "        [5018274,       0]]), (100000, 2))"
      ]
     },
     "execution_count": 68,
     "metadata": {},
     "output_type": "execute_result"
    }
   ],
   "source": [
    "trackAlbum=array(list(map(lambda x: [x[0],x[1]],sorted(trackAlbum,key=lambda x:x[0]))))\n",
    "trackAlbum,trackAlbum.shape"
   ]
  },
  {
   "cell_type": "code",
   "execution_count": 71,
   "metadata": {
    "collapsed": false
   },
   "outputs": [
    {
     "data": {
      "text/plain": [
       "(array([     6,      7,      8, ..., 217314, 217324, 217325]), 27604)"
      ]
     },
     "execution_count": 71,
     "metadata": {},
     "output_type": "execute_result"
    }
   ],
   "source": [
    "orderedAlbums=(unique(trackAlbum[:,1]))[1:]\n",
    "orderedAlbums,orderedAlbums.size"
   ]
  },
  {
   "cell_type": "code",
   "execution_count": 73,
   "metadata": {
    "collapsed": false
   },
   "outputs": [],
   "source": [
    "firstRow=[0]*27604\n",
    "firstRow[where(orderedAlbums==trackAlbum[0][1])[0][0]]=1\n",
    "firstRow=csr_matrix(firstRow)\n",
    "for t,a in trackAlbum[1:]:\n",
    "    thisRow=[0]*27604\n",
    "    if(a!=0):\n",
    "        thisRow[where(orderedAlbums==a)[0][0]]=1\n",
    "    firstRow=vstack((firstRow,csr_matrix(thisRow)))"
   ]
  },
  {
   "cell_type": "code",
   "execution_count": 74,
   "metadata": {
    "collapsed": false
   },
   "outputs": [
    {
     "data": {
      "text/plain": [
       "<100000x27604 sparse matrix of type '<class 'numpy.int64'>'\n",
       "\twith 73244 stored elements in Compressed Sparse Row format>"
      ]
     },
     "execution_count": 74,
     "metadata": {},
     "output_type": "execute_result"
    }
   ],
   "source": [
    "firstRow"
   ]
  },
  {
   "cell_type": "code",
   "execution_count": 76,
   "metadata": {
    "collapsed": true
   },
   "outputs": [],
   "source": [
    "save_npz(\"fucking_ordered_track_album.npz\",firstRow)"
   ]
  },
  {
   "cell_type": "code",
   "execution_count": null,
   "metadata": {
    "collapsed": true
   },
   "outputs": [],
   "source": []
  },
  {
   "cell_type": "code",
   "execution_count": null,
   "metadata": {
    "collapsed": false
   },
   "outputs": [],
   "source": []
  }
 ],
 "metadata": {
  "kernelspec": {
   "display_name": "Python 3",
   "language": "python",
   "name": "python3"
  },
  "language_info": {
   "codemirror_mode": {
    "name": "ipython",
    "version": 3
   },
   "file_extension": ".py",
   "mimetype": "text/x-python",
   "name": "python",
   "nbconvert_exporter": "python",
   "pygments_lexer": "ipython3",
   "version": "3.6.3"
  }
 },
 "nbformat": 4,
 "nbformat_minor": 2
}
