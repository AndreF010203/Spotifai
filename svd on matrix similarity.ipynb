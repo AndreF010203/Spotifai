{
 "cells": [
  {
   "cell_type": "code",
   "execution_count": 1,
   "metadata": {
    "collapsed": true
   },
   "outputs": [],
   "source": [
    "from numpy import *\n",
    "from scipy.sparse import *\n",
    "from scipy.sparse.linalg import *\n",
    "from sklearn.preprocessing import *\n",
    "import matplotlib.pyplot as plt"
   ]
  },
  {
   "cell_type": "code",
   "execution_count": 2,
   "metadata": {},
   "outputs": [
    {
     "data": {
      "text/plain": [
       "<32195x31900 sparse matrix of type '<class 'numpy.int8'>'\n",
       "\twith 156621 stored elements in Compressed Sparse Row format>"
      ]
     },
     "execution_count": 2,
     "metadata": {},
     "output_type": "execute_result"
    }
   ],
   "source": [
    "M=load_npz(\"reducedTargetT.npz\")\n",
    "M"
   ]
  },
  {
   "cell_type": "code",
   "execution_count": 3,
   "metadata": {
    "collapsed": true
   },
   "outputs": [],
   "source": [
    "P=load_npz(\"playlist_reduced.npz\")\n",
    "P=normalize(P)"
   ]
  },
  {
   "cell_type": "code",
   "execution_count": 4,
   "metadata": {
    "collapsed": true
   },
   "outputs": [],
   "source": [
    "kk=35\n",
    "u, s, vt = svds(P.astype(\"float32\"), k=kk)"
   ]
  },
  {
   "cell_type": "code",
   "execution_count": 5,
   "metadata": {},
   "outputs": [
    {
     "data": {
      "text/plain": [
       "array([  5.64763308,   5.73775959,   5.83419514,   5.88304996,\n",
       "         6.12865591,   6.31171894,   6.40171432,   6.51225281,\n",
       "         6.57830667,   6.71617317,   6.7920332 ,   6.96924496,\n",
       "         7.06057262,   7.31563854,   7.4088726 ,   7.61136103,\n",
       "         7.93247414,   8.10380077,   8.43741703,   8.94046402,\n",
       "         9.37006092,   9.4686203 ,   9.73864365,  10.60559177,\n",
       "        10.87374783,  11.46471691,  12.00932503,  12.48997688,\n",
       "        15.54519272,  16.50949478,  17.17182732,  21.0240612 ,\n",
       "        24.19526672,  28.26352119,  55.66650772], dtype=float32)"
      ]
     },
     "execution_count": 5,
     "metadata": {},
     "output_type": "execute_result"
    }
   ],
   "source": [
    "s"
   ]
  },
  {
   "cell_type": "code",
   "execution_count": 6,
   "metadata": {},
   "outputs": [
    {
     "data": {
      "image/png": "[encoded data removed]",
      "text/plain": [
       "<matplotlib.figure.Figure at 0x2f66498f128>"
      ]
     },
     "metadata": {},
     "output_type": "display_data"
    }
   ],
   "source": [
    "plt.plot(s)\n",
    "plt.show()"
   ]
  },
  {
   "cell_type": "code",
   "execution_count": 7,
   "metadata": {},
   "outputs": [
    {
     "data": {
      "text/plain": [
       "array([[  0.00000000e+00,  -1.12201760e-05,   0.00000000e+00, ...,\n",
       "          8.52520134e-06,  -4.90767889e-06,   4.45199985e-05],\n",
       "       [  0.00000000e+00,   8.17623441e-05,   0.00000000e+00, ...,\n",
       "         -3.73307898e-06,   1.28046522e-05,   2.13677358e-05],\n",
       "       [  0.00000000e+00,  -1.48161353e-05,   0.00000000e+00, ...,\n",
       "          1.47566016e-06,   8.43221369e-06,   5.92271044e-06],\n",
       "       ..., \n",
       "       [  0.00000000e+00,  -2.87253692e-06,   0.00000000e+00, ...,\n",
       "         -2.58270757e-06,   1.04615901e-05,  -3.32569994e-06],\n",
       "       [  0.00000000e+00,  -3.26026093e-05,   0.00000000e+00, ...,\n",
       "         -4.73918135e-06,   6.94721239e-05,  -3.53799442e-05],\n",
       "       [  0.00000000e+00,   3.77089282e-06,   0.00000000e+00, ...,\n",
       "         -8.64979484e-06,  -3.91562789e-05,  -4.03026388e-06]], dtype=float32)"
      ]
     },
     "execution_count": 7,
     "metadata": {},
     "output_type": "execute_result"
    }
   ],
   "source": [
    "newp = dot(dot(u,diag(s)), vt)\n",
    "newp"
   ]
  },
  {
   "cell_type": "code",
   "execution_count": 8,
   "metadata": {
    "collapsed": true
   },
   "outputs": [],
   "source": [
    "newp_sparse = csr_matrix(newp)"
   ]
  },
  {
   "cell_type": "code",
   "execution_count": 9,
   "metadata": {
    "collapsed": true
   },
   "outputs": [],
   "source": [
    "svdsimilarity = newp_sparse*M.T"
   ]
  },
  {
   "cell_type": "code",
   "execution_count": 10,
   "metadata": {
    "collapsed": true
   },
   "outputs": [],
   "source": [
    "target_playlists=genfromtxt(\"target_playlists.csv\",skip_header=1)\n",
    "playlists_with_tracks=load(\"playlists_with_tracks.npy\")\n",
    "target_tracks_ordered = load(\"targetTracksOrdered.npy\")\n",
    "def getsimil(pls, similrow):\n",
    "    maxi = flip(argsort(similrow), axis=0)\n",
    "    r = []\n",
    "    for m in maxi:\n",
    "        if(not isin(target_tracks_ordered[m], pls[1:])):\n",
    "           r.append(target_tracks_ordered[m])\n",
    "           if(len(r)==5):\n",
    "               return r"
   ]
  },
  {
   "cell_type": "code",
   "execution_count": 11,
   "metadata": {
    "collapsed": true
   },
   "outputs": [],
   "source": [
    "fname = \"SVDsimilarity\"+str(kk)+\".csv\"\n",
    "\n",
    "open(fname,\"w\").close()\n",
    "print(\"playlist_id,track_ids\",file=open(fname,\"a\"))\n",
    "for pl, simil, i in zip(playlists_with_tracks, svdsimilarity, range(10000)):\n",
    "    if(i%1000==0):\n",
    "        print(\"computing \"+str(i))\n",
    "    s = str(int(pl[0]))\n",
    "    s += \",\"\n",
    "    r = getsimil(pl, ravel(simil.todense()))\n",
    "    for el in r:\n",
    "        s+=str(el)\n",
    "        s+=\" \"\n",
    "    print(s,file=open(fname,\"a\"))"
   ]
  },
  {
   "cell_type": "code",
   "execution_count": null,
   "metadata": {
    "collapsed": true
   },
   "outputs": [],
   "source": []
  },
  {
   "cell_type": "code",
   "execution_count": null,
   "metadata": {
    "collapsed": true
   },
   "outputs": [],
   "source": []
  }
 ],
 "metadata": {
  "kernelspec": {
   "display_name": "Python 3",
   "language": "python",
   "name": "python3"
  },
  "language_info": {
   "codemirror_mode": {
    "name": "ipython",
    "version": 3
   },
   "file_extension": ".py",
   "mimetype": "text/x-python",
   "name": "python",
   "nbconvert_exporter": "python",
   "pygments_lexer": "ipython3",
   "version": "3.6.2"
  }
 },
 "nbformat": 4,
 "nbformat_minor": 2
}
