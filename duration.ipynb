{
 "cells": [
  {
   "cell_type": "code",
   "execution_count": 1,
   "metadata": {
    "collapsed": true
   },
   "outputs": [],
   "source": [
    "from numpy import *\n",
    "from scipy.sparse import *\n",
    "from sklearn.preprocessing import *"
   ]
  },
  {
   "cell_type": "code",
   "execution_count": 2,
   "metadata": {
    "collapsed": true
   },
   "outputs": [],
   "source": [
    "#trackDuration=genfromtxt(\"tracks_final.csv\",usecols=[0,2],skip_header=1,dtype=[(\"trackID\",int32),(\"duration\",int32)])"
   ]
  },
  {
   "cell_type": "code",
   "execution_count": 3,
   "metadata": {
    "collapsed": false
   },
   "outputs": [],
   "source": [
    "#trackDuration.sort(order=\"trackID\")"
   ]
  },
  {
   "cell_type": "code",
   "execution_count": 4,
   "metadata": {
    "collapsed": false
   },
   "outputs": [],
   "source": [
    "#trackDuration=array(list(map(lambda x: [x[0],x[1]],trackDuration)))\n",
    "trackDuration=load(\"fucking_ordered_track_duration.npy\")"
   ]
  },
  {
   "cell_type": "code",
   "execution_count": 5,
   "metadata": {
    "collapsed": false
   },
   "outputs": [
    {
     "data": {
      "text/plain": [
       "array([[    252,  140000],\n",
       "       [    360,  194000],\n",
       "       [    394,  250000],\n",
       "       ..., \n",
       "       [5007354,  364000],\n",
       "       [5014702,  156000],\n",
       "       [5018274,      -1]], dtype=int32)"
      ]
     },
     "execution_count": 5,
     "metadata": {},
     "output_type": "execute_result"
    }
   ],
   "source": [
    "trackDuration"
   ]
  },
  {
   "cell_type": "code",
   "execution_count": 6,
   "metadata": {
    "collapsed": false
   },
   "outputs": [
    {
     "data": {
      "text/plain": [
       "(100000, 2)"
      ]
     },
     "execution_count": 6,
     "metadata": {},
     "output_type": "execute_result"
    }
   ],
   "source": [
    "trackDuration.shape"
   ]
  },
  {
   "cell_type": "code",
   "execution_count": 7,
   "metadata": {
    "collapsed": true
   },
   "outputs": [],
   "source": [
    "#save(\"fucking_ordered_track_duration.npy\",trackDuration)"
   ]
  },
  {
   "cell_type": "code",
   "execution_count": 8,
   "metadata": {
    "collapsed": false
   },
   "outputs": [
    {
     "data": {
      "text/plain": [
       "(2789, 97211)"
      ]
     },
     "execution_count": 8,
     "metadata": {},
     "output_type": "execute_result"
    }
   ],
   "source": [
    "mymask=where(trackDuration[:,1]==-1)[0]\n",
    "A=array(ones(100000)).astype(int32)\n",
    "A[mymask]=0# non c'è bisogno di fare multiply, controllare nel MAP\n",
    "mymask.size,A.nonzero()[0].size"
   ]
  },
  {
   "cell_type": "code",
   "execution_count": 8,
   "metadata": {
    "collapsed": false
   },
   "outputs": [
    {
     "name": "stdout",
     "output_type": "stream",
     "text": [
      "[0, 0, 0, 0.76923076923076927]\n",
      "[0, 0, 0.61111111111111116, 0]\n",
      "[0, 0.61111111111111105, 0, 0]\n",
      "[0.76923076923076916, 0, 0, 0]\n"
     ]
    },
    {
     "data": {
      "text/plain": [
       "array([ 0.76923077,  0.61111111,  0.61111111,  0.76923077])"
      ]
     },
     "execution_count": 8,
     "metadata": {},
     "output_type": "execute_result"
    }
   ],
   "source": [
    "testA=array([[1,100],[2,11],[3,18],[4,130]])\n",
    "durationstest=testA[:,1]\n",
    "k=0.6\n",
    "l=[]\n",
    "for s in range(4):\n",
    "    value=durationstest[0]/durationstest[s]\n",
    "    value=min(value,1/value)\n",
    "    if(s==0 or value<k):\n",
    "        l+=[0]\n",
    "    else:\n",
    "        l+=[value]\n",
    "print(l)\n",
    "firsttest=lil_matrix(l)\n",
    "for i in range(1,4):\n",
    "    l=[]\n",
    "    for s in range(4):\n",
    "        value=durationstest[i]/durationstest[s]\n",
    "        value=min(value,1/value)\n",
    "        if(s==i or value<k):\n",
    "            l+=[0]\n",
    "        else:\n",
    "            l+=[value]\n",
    "    print(l)\n",
    "    firsttest=vstack((firsttest,lil_matrix(l)))\n",
    "firsttest.data"
   ]
  },
  {
   "cell_type": "code",
   "execution_count": 9,
   "metadata": {
    "collapsed": true
   },
   "outputs": [],
   "source": [
    "durations=trackDuration[:,1]"
   ]
  },
  {
   "cell_type": "code",
   "execution_count": null,
   "metadata": {
    "collapsed": false
   },
   "outputs": [],
   "source": [
    "# non è lungo, è INFINITO\n",
    "k=0.96 # viene densa circa al 7%\n",
    "#qualche migliaio di canzoni per riga\n",
    "l=[]\n",
    "d=durations[0]\n",
    "for s in range(100000):\n",
    "    value=d/durations[s]\n",
    "    value=min(value,1/value)\n",
    "    if(s==0 or value<k):\n",
    "        l+=[0]\n",
    "    else:\n",
    "        l+=[value]\n",
    "#print(l)\n",
    "j=1\n",
    "firstRow=lil_matrix(l)\n",
    "for i in range(1,100000):\n",
    "    #break\n",
    "    l=[]\n",
    "    d=durations[i]\n",
    "    for s in range(100000):\n",
    "        value=d/durations[s]\n",
    "        value=min(value,1/value)\n",
    "        if(s==i or value<k):\n",
    "            l+=[0]\n",
    "        else:\n",
    "            l+=[value]\n",
    "    if(j%100==0):\n",
    "        print(j)\n",
    "    j+=1\n",
    "    firstRow=vstack((firstRow,lil_matrix(l)))"
   ]
  },
  {
   "cell_type": "code",
   "execution_count": 14,
   "metadata": {
    "collapsed": false
   },
   "outputs": [
    {
     "name": "stderr",
     "output_type": "stream",
     "text": [
      "/usr/lib/python3/dist-packages/ipykernel_launcher.py:2: RuntimeWarning: divide by zero encountered in true_divide\n",
      "  \n"
     ]
    },
    {
     "data": {
      "text/plain": [
       "<1x100000 sparse matrix of type '<class 'numpy.float64'>'\n",
       "\twith 2292 stored elements in Compressed Sparse Row format>"
      ]
     },
     "execution_count": 14,
     "metadata": {},
     "output_type": "execute_result"
    }
   ],
   "source": [
    "d=durations[0]\n",
    "valueArr=d/durations\n",
    "valueArrInv=1/valueArr\n",
    "values=array(list(map(lambda x:min(valueArr[x],valueArrInv[x]),range(100000))))\n",
    "values[where(values<0.95)[0]]=0\n",
    "values[0]=0\n",
    "firstRow=csr_matrix(values)\n",
    "firstRow"
   ]
  },
  {
   "cell_type": "code",
   "execution_count": null,
   "metadata": {
    "collapsed": false
   },
   "outputs": [],
   "source": [
    "# MEMORY ERROR\n",
    "for i in range(1,100000):\n",
    "    d=durations[i]\n",
    "    valueArr=d/durations\n",
    "    valueArrInv=1/valueArr\n",
    "    values=array(list(map(lambda x:min(valueArr[x],valueArrInv[x]),range(100000))))\n",
    "    values[where(values<0.95)[0]]=0\n",
    "    values[i]=0\n",
    "    firstRow=vstack((firstRow,csr_matrix(values)))\n",
    "    if (i%1000==0):\n",
    "        print(i)"
   ]
  }
 ],
 "metadata": {
  "kernelspec": {
   "display_name": "Python 3",
   "language": "python",
   "name": "python3"
  },
  "language_info": {
   "codemirror_mode": {
    "name": "ipython",
    "version": 3
   },
   "file_extension": ".py",
   "mimetype": "text/x-python",
   "name": "python",
   "nbconvert_exporter": "python",
   "pygments_lexer": "ipython3",
   "version": "3.6.3"
  }
 },
 "nbformat": 4,
 "nbformat_minor": 2
}
