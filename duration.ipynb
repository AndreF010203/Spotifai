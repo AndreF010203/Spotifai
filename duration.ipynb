{
 "cells": [
  {
   "cell_type": "code",
   "execution_count": 1,
   "metadata": {
    "collapsed": true
   },
   "outputs": [],
   "source": [
    "from numpy import *\n",
    "from scipy.sparse import *\n",
    "from sklearn.preprocessing import *"
   ]
  },
  {
   "cell_type": "code",
   "execution_count": 4,
   "metadata": {
    "collapsed": false
   },
   "outputs": [],
   "source": [
    "#trackDuration=genfromtxt(\"tracks_final.csv\",usecols=[0,2],skip_header=1,dtype=[(\"trackID\",int32),(\"duration\",int32)])\n",
    "#trackDuration.sort(order=\"trackID\")\n",
    "#trackDuration=array(list(map(lambda x: [x[0],x[1]],trackDuration)))\n",
    "#save(\"fucking_ordered_track_duration.npy\",trackDuration)\n",
    "trackDuration=load(\"fucking_ordered_track_duration.npy\")\n",
    "trackDuration.shape\n",
    "durations=trackDuration[:,1]#contiene le duration delle 100k track"
   ]
  },
  {
   "cell_type": "code",
   "execution_count": 51,
   "metadata": {
    "collapsed": false
   },
   "outputs": [
    {
     "data": {
      "text/plain": [
       "array([   17,    19,    76, ..., 99935, 99975, 99999])"
      ]
     },
     "execution_count": 51,
     "metadata": {},
     "output_type": "execute_result"
    }
   ],
   "source": [
    "mymask=where(trackDuration[:,1]==-1)[0]\n",
    "A=array(ones(100000)).astype(int32)\n",
    "A[mymask]=0# non c'è bisogno di fare multiply, controllare nel MAP\n",
    "mymask"
   ]
  },
  {
   "cell_type": "code",
   "execution_count": 9,
   "metadata": {
    "collapsed": false
   },
   "outputs": [
    {
     "name": "stdout",
     "output_type": "stream",
     "text": [
      "[0, 0, 0, 0.76923076923076927]\n",
      "[0, 0, 0.61111111111111116, 0]\n",
      "[0, 0.61111111111111105, 0, 0]\n",
      "[0.76923076923076916, 0, 0, 0]\n"
     ]
    },
    {
     "data": {
      "text/plain": [
       "array([ 0.76923077,  0.61111111,  0.61111111,  0.76923077])"
      ]
     },
     "execution_count": 9,
     "metadata": {},
     "output_type": "execute_result"
    }
   ],
   "source": [
    "#test per prova 1 e 2\n",
    "testA=array([[1,100],[2,11],[3,18],[4,130]])\n",
    "durationstest=testA[:,1]\n",
    "k=0.6\n",
    "l=[]\n",
    "for s in range(4):\n",
    "    value=durationstest[0]/durationstest[s]\n",
    "    value=min(value,1/value)\n",
    "    if(s==0 or value<k):\n",
    "        l+=[0]\n",
    "    else:\n",
    "        l+=[value]\n",
    "print(l)\n",
    "firsttest=lil_matrix(l)\n",
    "for i in range(1,4):\n",
    "    l=[]\n",
    "    for s in range(4):\n",
    "        value=durationstest[i]/durationstest[s]\n",
    "        value=min(value,1/value)\n",
    "        if(s==i or value<k):\n",
    "            l+=[0]\n",
    "        else:\n",
    "            l+=[value]\n",
    "    print(l)\n",
    "    firsttest=vstack((firsttest,lil_matrix(l)))\n",
    "firsttest.data"
   ]
  },
  {
   "cell_type": "code",
   "execution_count": null,
   "metadata": {
    "collapsed": false
   },
   "outputs": [],
   "source": [
    "# prova 1 non è lungo, è INFINITO\n",
    "k=0.96 # viene densa circa al 7%\n",
    "#qualche migliaio di canzoni per riga\n",
    "l=[]\n",
    "d=durations[0]\n",
    "for s in range(100000):\n",
    "    value=d/durations[s]\n",
    "    value=min(value,1/value)\n",
    "    if(s==0 or value<k):\n",
    "        l+=[0]\n",
    "    else:\n",
    "        l+=[value]\n",
    "#print(l)\n",
    "j=1\n",
    "firstRow=lil_matrix(l)\n",
    "for i in range(1,100000):\n",
    "    #break\n",
    "    l=[]\n",
    "    d=durations[i]\n",
    "    for s in range(100000):\n",
    "        value=d/durations[s]\n",
    "        value=min(value,1/value)\n",
    "        if(s==i or value<k):\n",
    "            l+=[0]\n",
    "        else:\n",
    "            l+=[value]\n",
    "    if(j%100==0):\n",
    "        print(j)\n",
    "    j+=1\n",
    "    firstRow=vstack((firstRow,lil_matrix(l)))"
   ]
  },
  {
   "cell_type": "code",
   "execution_count": null,
   "metadata": {
    "collapsed": false
   },
   "outputs": [],
   "source": [
    "# prova 2 MEMORY ERROR\n",
    "d=durations[0]\n",
    "valueArr=d/durations\n",
    "valueArrInv=1/valueArr\n",
    "values=array(list(map(lambda x:min(valueArr[x],valueArrInv[x]),range(100000))))\n",
    "values[where(values<0.95)[0]]=0\n",
    "values[0]=0\n",
    "firstRow=csr_matrix(values)\n",
    "for i in range(1,100000):\n",
    "    d=durations[i]\n",
    "    valueArr=d/durations\n",
    "    valueArrInv=1/valueArr\n",
    "    values=array(list(map(lambda x:min(valueArr[x],valueArrInv[x]),range(100000))))\n",
    "    values[where(values<0.95)[0]]=0\n",
    "    values[i]=0\n",
    "    firstRow=vstack((firstRow,csr_matrix(values)))\n",
    "    if (i%1000==0):\n",
    "        print(i)"
   ]
  },
  {
   "cell_type": "code",
   "execution_count": null,
   "metadata": {
    "collapsed": true
   },
   "outputs": [],
   "source": [
    "#test per prova 3\n",
    "k=1.02\n",
    "for i in range(20):\n",
    "    d=durations[i]\n",
    "    dop=where(durations<k*d)[0]\n",
    "    met=where(durations>d/k)[0]\n",
    "    ind=intersect1d(dop,met)# indici delle canzoni con durata simile\n",
    "    print(ind.size)"
   ]
  },
  {
   "cell_type": "code",
   "execution_count": 69,
   "metadata": {
    "collapsed": false
   },
   "outputs": [
    {
     "name": "stdout",
     "output_type": "stream",
     "text": [
      "0\n"
     ]
    },
    {
     "ename": "KeyboardInterrupt",
     "evalue": "",
     "output_type": "error",
     "traceback": [
      "\u001b[0;31m---------------------------------------------------------------------------\u001b[0m",
      "\u001b[0;31mKeyboardInterrupt\u001b[0m                         Traceback (most recent call last)",
      "\u001b[0;32m<ipython-input-69-d4c9fd86194b>\u001b[0m in \u001b[0;36m<module>\u001b[0;34m()\u001b[0m\n\u001b[1;32m     11\u001b[0m     \u001b[0mA\u001b[0m\u001b[0;34m=\u001b[0m\u001b[0marray\u001b[0m\u001b[0;34m(\u001b[0m\u001b[0mzeros\u001b[0m\u001b[0;34m(\u001b[0m\u001b[0;36m100000\u001b[0m\u001b[0;34m)\u001b[0m\u001b[0;34m)\u001b[0m\u001b[0;34m\u001b[0m\u001b[0m\n\u001b[1;32m     12\u001b[0m     \u001b[0mA\u001b[0m\u001b[0;34m[\u001b[0m\u001b[0mind\u001b[0m\u001b[0;34m]\u001b[0m\u001b[0;34m=\u001b[0m\u001b[0;36m1\u001b[0m\u001b[0;34m\u001b[0m\u001b[0m\n\u001b[0;32m---> 13\u001b[0;31m     \u001b[0mfirstRow\u001b[0m\u001b[0;34m=\u001b[0m\u001b[0mvstack\u001b[0m\u001b[0;34m(\u001b[0m\u001b[0;34m(\u001b[0m\u001b[0mfirstRow\u001b[0m\u001b[0;34m,\u001b[0m\u001b[0mcsr_matrix\u001b[0m\u001b[0;34m(\u001b[0m\u001b[0mA\u001b[0m\u001b[0;34m)\u001b[0m\u001b[0;34m)\u001b[0m\u001b[0;34m)\u001b[0m\u001b[0;34m\u001b[0m\u001b[0m\n\u001b[0m\u001b[1;32m     14\u001b[0m     \u001b[0;32mif\u001b[0m\u001b[0;34m(\u001b[0m\u001b[0mi\u001b[0m\u001b[0;34m%\u001b[0m\u001b[0;36m10000\u001b[0m\u001b[0;34m==\u001b[0m\u001b[0;36m0\u001b[0m\u001b[0;34m)\u001b[0m\u001b[0;34m:\u001b[0m\u001b[0;34m\u001b[0m\u001b[0m\n\u001b[1;32m     15\u001b[0m         \u001b[0mprint\u001b[0m\u001b[0;34m(\u001b[0m\u001b[0mi\u001b[0m\u001b[0;34m)\u001b[0m\u001b[0;34m\u001b[0m\u001b[0m\n",
      "\u001b[0;32m/home/oppy/.local/lib/python3.6/site-packages/scipy/sparse/construct.py\u001b[0m in \u001b[0;36mvstack\u001b[0;34m(blocks, format, dtype)\u001b[0m\n\u001b[1;32m    496\u001b[0m \u001b[0;34m\u001b[0m\u001b[0m\n\u001b[1;32m    497\u001b[0m     \"\"\"\n\u001b[0;32m--> 498\u001b[0;31m     \u001b[0;32mreturn\u001b[0m \u001b[0mbmat\u001b[0m\u001b[0;34m(\u001b[0m\u001b[0;34m[\u001b[0m\u001b[0;34m[\u001b[0m\u001b[0mb\u001b[0m\u001b[0;34m]\u001b[0m \u001b[0;32mfor\u001b[0m \u001b[0mb\u001b[0m \u001b[0;32min\u001b[0m \u001b[0mblocks\u001b[0m\u001b[0;34m]\u001b[0m\u001b[0;34m,\u001b[0m \u001b[0mformat\u001b[0m\u001b[0;34m=\u001b[0m\u001b[0mformat\u001b[0m\u001b[0;34m,\u001b[0m \u001b[0mdtype\u001b[0m\u001b[0;34m=\u001b[0m\u001b[0mdtype\u001b[0m\u001b[0;34m)\u001b[0m\u001b[0;34m\u001b[0m\u001b[0m\n\u001b[0m\u001b[1;32m    499\u001b[0m \u001b[0;34m\u001b[0m\u001b[0m\n\u001b[1;32m    500\u001b[0m \u001b[0;34m\u001b[0m\u001b[0m\n",
      "\u001b[0;32m/home/oppy/.local/lib/python3.6/site-packages/scipy/sparse/construct.py\u001b[0m in \u001b[0;36mbmat\u001b[0;34m(blocks, format, dtype)\u001b[0m\n\u001b[1;32m    552\u001b[0m     if (N == 1 and format in (None, 'csr') and all(isinstance(b, csr_matrix)\n\u001b[1;32m    553\u001b[0m                                                    for b in blocks.flat)):\n\u001b[0;32m--> 554\u001b[0;31m         \u001b[0mA\u001b[0m \u001b[0;34m=\u001b[0m \u001b[0m_compressed_sparse_stack\u001b[0m\u001b[0;34m(\u001b[0m\u001b[0mblocks\u001b[0m\u001b[0;34m[\u001b[0m\u001b[0;34m:\u001b[0m\u001b[0;34m,\u001b[0m\u001b[0;36m0\u001b[0m\u001b[0;34m]\u001b[0m\u001b[0;34m,\u001b[0m \u001b[0;36m0\u001b[0m\u001b[0;34m)\u001b[0m\u001b[0;34m\u001b[0m\u001b[0m\n\u001b[0m\u001b[1;32m    555\u001b[0m         \u001b[0;32mif\u001b[0m \u001b[0mdtype\u001b[0m \u001b[0;32mis\u001b[0m \u001b[0;32mnot\u001b[0m \u001b[0;32mNone\u001b[0m\u001b[0;34m:\u001b[0m\u001b[0;34m\u001b[0m\u001b[0m\n\u001b[1;32m    556\u001b[0m             \u001b[0mA\u001b[0m \u001b[0;34m=\u001b[0m \u001b[0mA\u001b[0m\u001b[0;34m.\u001b[0m\u001b[0mastype\u001b[0m\u001b[0;34m(\u001b[0m\u001b[0mdtype\u001b[0m\u001b[0;34m)\u001b[0m\u001b[0;34m\u001b[0m\u001b[0m\n",
      "\u001b[0;32m/home/oppy/.local/lib/python3.6/site-packages/scipy/sparse/construct.py\u001b[0m in \u001b[0;36m_compressed_sparse_stack\u001b[0;34m(blocks, axis)\u001b[0m\n\u001b[1;32m    404\u001b[0m     \"\"\"\n\u001b[1;32m    405\u001b[0m     \u001b[0mother_axis\u001b[0m \u001b[0;34m=\u001b[0m \u001b[0;36m1\u001b[0m \u001b[0;32mif\u001b[0m \u001b[0maxis\u001b[0m \u001b[0;34m==\u001b[0m \u001b[0;36m0\u001b[0m \u001b[0;32melse\u001b[0m \u001b[0;36m0\u001b[0m\u001b[0;34m\u001b[0m\u001b[0m\n\u001b[0;32m--> 406\u001b[0;31m     \u001b[0mdata\u001b[0m \u001b[0;34m=\u001b[0m \u001b[0mnp\u001b[0m\u001b[0;34m.\u001b[0m\u001b[0mconcatenate\u001b[0m\u001b[0;34m(\u001b[0m\u001b[0;34m[\u001b[0m\u001b[0mb\u001b[0m\u001b[0;34m.\u001b[0m\u001b[0mdata\u001b[0m \u001b[0;32mfor\u001b[0m \u001b[0mb\u001b[0m \u001b[0;32min\u001b[0m \u001b[0mblocks\u001b[0m\u001b[0;34m]\u001b[0m\u001b[0;34m)\u001b[0m\u001b[0;34m\u001b[0m\u001b[0m\n\u001b[0m\u001b[1;32m    407\u001b[0m     \u001b[0mconstant_dim\u001b[0m \u001b[0;34m=\u001b[0m \u001b[0mblocks\u001b[0m\u001b[0;34m[\u001b[0m\u001b[0;36m0\u001b[0m\u001b[0;34m]\u001b[0m\u001b[0;34m.\u001b[0m\u001b[0mshape\u001b[0m\u001b[0;34m[\u001b[0m\u001b[0mother_axis\u001b[0m\u001b[0;34m]\u001b[0m\u001b[0;34m\u001b[0m\u001b[0m\n\u001b[1;32m    408\u001b[0m     idx_dtype = get_index_dtype(arrays=[b.indptr for b in blocks],\n",
      "\u001b[0;31mKeyboardInterrupt\u001b[0m: "
     ]
    }
   ],
   "source": [
    "#prova 3\n",
    "k=1.5\n",
    "d=durations[0]\n",
    "ind=intersect1d(where(durations<k*d)[0],where(durations>d/k)[0])\n",
    "A=array(zeros(100000))\n",
    "A[ind]=1\n",
    "firstRow=csr_matrix(A)\n",
    "firstRow\n",
    "for i,d in enumerate(durations[1:]):\n",
    "    ind=intersect1d(where(durations<k*d)[0],where(durations>d/k)[0])\n",
    "    A=array(zeros(100000))\n",
    "    A[ind]=1\n",
    "    firstRow=vstack((firstRow,csr_matrix(A)))\n",
    "    if(i%10000==0):\n",
    "        print(i)"
   ]
  },
  {
   "cell_type": "code",
   "execution_count": 70,
   "metadata": {
    "collapsed": false
   },
   "outputs": [
    {
     "data": {
      "text/plain": [
       "<2615x100000 sparse matrix of type '<class 'numpy.float64'>'\n",
       "\twith 150816074 stored elements in Compressed Sparse Row format>"
      ]
     },
     "execution_count": 70,
     "metadata": {},
     "output_type": "execute_result"
    }
   ],
   "source": [
    "firstRow"
   ]
  },
  {
   "cell_type": "code",
   "execution_count": 71,
   "metadata": {
    "collapsed": false
   },
   "outputs": [
    {
     "data": {
      "text/plain": [
       "0.5767345086042065"
      ]
     },
     "execution_count": 71,
     "metadata": {},
     "output_type": "execute_result"
    }
   ],
   "source": [
    "firstRow.size/(2615*100000)"
   ]
  }
 ],
 "metadata": {
  "kernelspec": {
   "display_name": "Python 3",
   "language": "python",
   "name": "python3"
  },
  "language_info": {
   "codemirror_mode": {
    "name": "ipython",
    "version": 3
   },
   "file_extension": ".py",
   "mimetype": "text/x-python",
   "name": "python",
   "nbconvert_exporter": "python",
   "pygments_lexer": "ipython3",
   "version": "3.6.3"
  }
 },
 "nbformat": 4,
 "nbformat_minor": 2
}
