{
 "cells": [
  {
   "cell_type": "markdown",
   "metadata": {},
   "source": [
    "Imports:"
   ]
  },
  {
   "cell_type": "code",
   "execution_count": 4,
   "metadata": {
    "collapsed": true
   },
   "outputs": [],
   "source": [
    "from numpy import *\n",
    "from scipy import *"
   ]
  },
  {
   "cell_type": "markdown",
   "metadata": {},
   "source": [
    "Load Tracks with playcounts:"
   ]
  },
  {
   "cell_type": "code",
   "execution_count": 5,
   "metadata": {
    "collapsed": true
   },
   "outputs": [],
   "source": [
    "tracklist = genfromtxt('tracks_final.csv', skip_header=1, usecols=(0, 3), missing_values=\"nan\", filling_values=\"0\")"
   ]
  },
  {
   "cell_type": "markdown",
   "metadata": {},
   "source": [
    "playlists"
   ]
  },
  {
   "cell_type": "code",
   "execution_count": 6,
   "metadata": {
    "collapsed": true
   },
   "outputs": [],
   "source": [
    "playlist_songs = genfromtxt('train_final.csv', skip_header=1, dtype=\"int64\")"
   ]
  },
  {
   "cell_type": "raw",
   "metadata": {},
   "source": [
    "DA QUI IN POI CONTO OCCORRENZE DELLE SONGS IN PLAYLIST, RISULTATI FINALI SONO K[ID_SONG, playcount, occurrencies, playcount+pccurrencies]   e  indexsortedASCENDENT che contiene gli indici di K in ordine decrescente (max first)"
   ]
  },
  {
   "cell_type": "code",
   "execution_count": 7,
   "metadata": {
    "collapsed": true
   },
   "outputs": [],
   "source": [
    "trackmask_count = bincount(playlist_songs[:,1])"
   ]
  },
  {
   "cell_type": "code",
   "execution_count": 8,
   "metadata": {
    "collapsed": true
   },
   "outputs": [],
   "source": [
    "z = column_stack((tracklist[:,0], tracklist[:,1], zeros(tracklist[:,0].size)))\n",
    "z = z.astype(\"int64\")\n"
   ]
  },
  {
   "cell_type": "code",
   "execution_count": 9,
   "metadata": {
    "collapsed": false
   },
   "outputs": [
    {
     "data": {
      "text/plain": [
       "array([[2972914,      49,       8],\n",
       "       [2750239,       1,      12],\n",
       "       [1550729,     554,      37],\n",
       "       ..., \n",
       "       [2584455,       0,       4],\n",
       "       [2299706,       0,       4],\n",
       "       [2739985,       0,       4]])"
      ]
     },
     "execution_count": 9,
     "metadata": {},
     "output_type": "execute_result"
    }
   ],
   "source": [
    "for x in range(0, z[:,1].size):\n",
    "    z[x,2] = trackmask_count[z[x,0]]  \n",
    "\n",
    "z"
   ]
  },
  {
   "cell_type": "code",
   "execution_count": 72,
   "metadata": {
    "collapsed": false
   },
   "outputs": [
    {
     "data": {
      "text/plain": [
       "array([[  2.97291400e+06,   4.90000000e+01,   8.00000000e+00,\n",
       "          5.70000000e+01],\n",
       "       [  2.75023900e+06,   1.00000000e+00,   1.20000000e+01,\n",
       "          1.30000000e+01],\n",
       "       [  1.55072900e+06,   5.54000000e+02,   3.70000000e+01,\n",
       "          5.91000000e+02],\n",
       "       ..., \n",
       "       [  2.58445500e+06,   0.00000000e+00,   4.00000000e+00,\n",
       "          4.00000000e+00],\n",
       "       [  2.29970600e+06,   0.00000000e+00,   4.00000000e+00,\n",
       "          4.00000000e+00],\n",
       "       [  2.73998500e+06,   0.00000000e+00,   4.00000000e+00,\n",
       "          4.00000000e+00]])"
      ]
     },
     "execution_count": 72,
     "metadata": {},
     "output_type": "execute_result"
    }
   ],
   "source": [
    "k = column_stack((z[:,0], z[:,1], z[:,2], zeros(z[:,1].size)))\n",
    "\n",
    "k[:,3]=k[:,1]+k[:,2]\n",
    "\n",
    "k"
   ]
  },
  {
   "cell_type": "code",
   "execution_count": 116,
   "metadata": {
    "collapsed": false
   },
   "outputs": [
    {
     "data": {
      "text/plain": [
       "array([43000, 79618, 17820, ..., 57501, 94738, 43529])"
      ]
     },
     "execution_count": 116,
     "metadata": {},
     "output_type": "execute_result"
    }
   ],
   "source": [
    "indexsorted = argsort(k[:,2])\n",
    "indexsorted"
   ]
  },
  {
   "cell_type": "code",
   "execution_count": 117,
   "metadata": {
    "collapsed": false
   },
   "outputs": [
    {
     "data": {
      "text/plain": [
       "array([43529, 94738, 57501, ..., 17820, 79618, 43000])"
      ]
     },
     "execution_count": 117,
     "metadata": {},
     "output_type": "execute_result"
    }
   ],
   "source": [
    "indexsortedASCENDENT = flip(indexsorted, 0)\n",
    "indexsortedASCENDENT"
   ]
  },
  {
   "cell_type": "markdown",
   "metadata": {},
   "source": [
    "FINE"
   ]
  },
  {
   "cell_type": "markdown",
   "metadata": {},
   "source": [
    "verify results"
   ]
  },
  {
   "cell_type": "code",
   "execution_count": 118,
   "metadata": {
    "collapsed": false
   },
   "outputs": [
    {
     "name": "stdout",
     "output_type": "stream",
     "text": [
      "476.0\n",
      "432.0\n",
      "425.0\n",
      "403.0\n",
      "391.0\n"
     ]
    }
   ],
   "source": [
    "\n",
    "for x in range(5):\n",
    "    print(k[indexsortedASCENDENT[x]][2])"
   ]
  },
  {
   "cell_type": "code",
   "execution_count": 119,
   "metadata": {
    "collapsed": false
   },
   "outputs": [
    {
     "data": {
      "text/plain": [
       "[1563309, 1363985, 3705881, 1595978, 3166665]"
      ]
     },
     "execution_count": 119,
     "metadata": {},
     "output_type": "execute_result"
    }
   ],
   "source": [
    "topNids=[]\n",
    "for x in range(5):\n",
    "    topNids.append(int(k[indexsortedASCENDENT[x]][0]))\n",
    "topNids"
   ]
  },
  {
   "cell_type": "code",
   "execution_count": 120,
   "metadata": {
    "collapsed": false
   },
   "outputs": [
    {
     "data": {
      "text/plain": [
       "array([ 10024884.,  10624787.,   4891851., ...,  11369546.,   7939535.,\n",
       "          297021.])"
      ]
     },
     "execution_count": 120,
     "metadata": {},
     "output_type": "execute_result"
    }
   ],
   "source": [
    "target_playlists=genfromtxt(\"target_playlists.csv\",skip_header=1)\n",
    "target_playlists"
   ]
  },
  {
   "cell_type": "code",
   "execution_count": 122,
   "metadata": {
    "collapsed": false
   },
   "outputs": [],
   "source": [
    "print(\"playlist_id,track_ids\",file=open(\"secondTopnSubmission.csv\",\"a\"))\n",
    "topstr=\"\"\n",
    "for x in topNids:\n",
    "    topstr+=str(x)\n",
    "    topstr+=\" \"\n",
    "for x in target_playlists:\n",
    "    mystr=\"\"\n",
    "    mystr+=str(int(x))\n",
    "    mystr+=\",\"\n",
    "    mystr+=topstr\n",
    "    print(mystr,file=open(\"secondTopnSubmission.csv\",\"a\"))"
   ]
  },
  {
   "cell_type": "markdown",
   "metadata": {},
   "source": [
    "punteggio di 0.00098 a questo punto"
   ]
  }
 ],
 "metadata": {
  "kernelspec": {
   "display_name": "Python 3",
   "language": "python",
   "name": "python3"
  },
  "language_info": {
   "codemirror_mode": {
    "name": "ipython",
    "version": 3
   },
   "file_extension": ".py",
   "mimetype": "text/x-python",
   "name": "python",
   "nbconvert_exporter": "python",
   "pygments_lexer": "ipython3",
   "version": "3.5.4"
  }
 },
 "nbformat": 4,
 "nbformat_minor": 2
}
