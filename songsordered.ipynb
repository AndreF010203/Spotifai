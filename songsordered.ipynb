{
 "cells": [
  {
   "cell_type": "markdown",
   "metadata": {},
   "source": [
    "Imports:"
   ]
  },
  {
   "cell_type": "code",
   "execution_count": 7,
   "metadata": {
    "collapsed": true
   },
   "outputs": [],
   "source": [
    "from numpy import *\n",
    "from scipy import *"
   ]
  },
  {
   "cell_type": "markdown",
   "metadata": {},
   "source": [
    "Load Tracks with playcounts:"
   ]
  },
  {
   "cell_type": "code",
   "execution_count": 46,
   "metadata": {},
   "outputs": [],
   "source": [
    "tracklist = genfromtxt('tracks_final.csv', skip_header=1, usecols=(0, 3), missing_values=\"nan\", filling_values=\"0\")"
   ]
  },
  {
   "cell_type": "markdown",
   "metadata": {},
   "source": [
    "playlists"
   ]
  },
  {
   "cell_type": "code",
   "execution_count": 47,
   "metadata": {
    "collapsed": true
   },
   "outputs": [],
   "source": [
    "playlist_songs = genfromtxt('train_final.csv', skip_header=1, dtype=\"int64\")"
   ]
  },
  {
   "cell_type": "raw",
   "metadata": {},
   "source": [
    "DA QUI IN POI CONTO OCCORRENZE DELLE SONGS IN PLAYLIST, RISULTATI FINALI SONO K[ID_SONG, playcount, occurrencies, playcount+pccurrencies]   e  indexsortedASCENDENT che contiene gli indici di K in ordine decrescente (max first)"
   ]
  },
  {
   "cell_type": "code",
   "execution_count": 48,
   "metadata": {},
   "outputs": [],
   "source": [
    "trackmask_count = bincount(playlist_songs[:,1])"
   ]
  },
  {
   "cell_type": "code",
   "execution_count": 49,
   "metadata": {},
   "outputs": [],
   "source": [
    "z = column_stack((tracklist[:,0], tracklist[:,1], zeros(tracklist[:,0].size)))\n",
    "z = z.astype(\"int64\")\n"
   ]
  },
  {
   "cell_type": "code",
   "execution_count": 55,
   "metadata": {},
   "outputs": [
    {
     "data": {
      "text/plain": [
       "array([[2972914,      49,       8],\n",
       "       [2750239,       1,      12],\n",
       "       [1550729,     554,      37],\n",
       "       ..., \n",
       "       [2584455,       0,       4],\n",
       "       [2299706,       0,       4],\n",
       "       [2739985,       0,       4]], dtype=int64)"
      ]
     },
     "execution_count": 55,
     "metadata": {},
     "output_type": "execute_result"
    }
   ],
   "source": [
    "for x in range(0, z[:,1].size):\n",
    "    z[x,2] = trackmask_count[z[x,0]]  \n",
    "\n",
    "z"
   ]
  },
  {
   "cell_type": "code",
   "execution_count": 56,
   "metadata": {},
   "outputs": [
    {
     "data": {
      "text/plain": [
       "array([[  2.97291400e+06,   4.90000000e+01,   8.00000000e+00,\n",
       "          5.70000000e+01],\n",
       "       [  2.75023900e+06,   1.00000000e+00,   1.20000000e+01,\n",
       "          1.30000000e+01],\n",
       "       [  1.55072900e+06,   5.54000000e+02,   3.70000000e+01,\n",
       "          5.91000000e+02],\n",
       "       ..., \n",
       "       [  2.58445500e+06,   0.00000000e+00,   4.00000000e+00,\n",
       "          4.00000000e+00],\n",
       "       [  2.29970600e+06,   0.00000000e+00,   4.00000000e+00,\n",
       "          4.00000000e+00],\n",
       "       [  2.73998500e+06,   0.00000000e+00,   4.00000000e+00,\n",
       "          4.00000000e+00]])"
      ]
     },
     "execution_count": 56,
     "metadata": {},
     "output_type": "execute_result"
    }
   ],
   "source": [
    "k = column_stack((z[:,0], z[:,1], z[:,2], zeros(z[:,1].size)))\n",
    "\n",
    "k[:,3]=k[:,1]+k[:,2]"
   ]
  },
  {
   "cell_type": "code",
   "execution_count": 62,
   "metadata": {},
   "outputs": [
    {
     "data": {
      "text/plain": [
       "array([43000, 79618, 17820, ..., 57501, 94738, 43529], dtype=int64)"
      ]
     },
     "execution_count": 62,
     "metadata": {},
     "output_type": "execute_result"
    }
   ],
   "source": [
    "indexsorted = argsort(k[:,2])\n",
    "indexsorted"
   ]
  },
  {
   "cell_type": "code",
   "execution_count": 66,
   "metadata": {},
   "outputs": [
    {
     "data": {
      "text/plain": [
       "array([43529, 94738, 57501, ..., 17820, 79618, 43000], dtype=int64)"
      ]
     },
     "execution_count": 66,
     "metadata": {},
     "output_type": "execute_result"
    }
   ],
   "source": [
    "indexsortedASCENDENT = flip(indexsorted, 0)\n",
    "indexsortedASCENDENT"
   ]
  },
  {
   "cell_type": "markdown",
   "metadata": {},
   "source": [
    "FINE"
   ]
  }
 ],
 "metadata": {
  "kernelspec": {
   "display_name": "Python 3",
   "language": "python",
   "name": "python3"
  },
  "language_info": {
   "codemirror_mode": {
    "name": "ipython",
    "version": 3
   },
   "file_extension": ".py",
   "mimetype": "text/x-python",
   "name": "python",
   "nbconvert_exporter": "python",
   "pygments_lexer": "ipython3",
   "version": "3.6.2"
  }
 },
 "nbformat": 4,
 "nbformat_minor": 2
}
