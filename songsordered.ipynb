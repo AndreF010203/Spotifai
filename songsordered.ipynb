{
 "cells": [
  {
   "cell_type": "markdown",
   "metadata": {},
   "source": [
    "Imports:"
   ]
  },
  {
   "cell_type": "code",
   "execution_count": 2,
   "metadata": {
    "collapsed": true
   },
   "outputs": [],
   "source": [
    "from numpy import *\n",
    "from scipy import *"
   ]
  },
  {
   "cell_type": "markdown",
   "metadata": {},
   "source": [
    "Load Tracks with playcounts:"
   ]
  },
  {
   "cell_type": "code",
   "execution_count": 3,
   "metadata": {
    "collapsed": true
   },
   "outputs": [],
   "source": [
    "tracklist = genfromtxt('tracks_final.csv', skip_header=1, usecols=(0, 3), missing_values=\"nan\", filling_values=\"0\")"
   ]
  },
  {
   "cell_type": "markdown",
   "metadata": {},
   "source": [
    "playlists"
   ]
  },
  {
   "cell_type": "code",
   "execution_count": 4,
   "metadata": {
    "collapsed": true
   },
   "outputs": [],
   "source": [
    "playlist_songs = genfromtxt('train_final.csv', skip_header=1, dtype=\"int64\")"
   ]
  },
  {
   "cell_type": "raw",
   "metadata": {},
   "source": [
    "DA QUI IN POI CONTO OCCORRENZE DELLE SONGS IN PLAYLIST, RISULTATI FINALI SONO K[ID_SONG, playcount, occurrencies, playcount+pccurrencies]   e  indexsortedDESCENDENT che contiene gli indici di K in ordine decrescente (max first)"
   ]
  },
  {
   "cell_type": "code",
   "execution_count": 5,
   "metadata": {
    "collapsed": true
   },
   "outputs": [],
   "source": [
    "trackmask_count = bincount(playlist_songs[:,1])"
   ]
  },
  {
   "cell_type": "code",
   "execution_count": 6,
   "metadata": {
    "collapsed": true
   },
   "outputs": [],
   "source": [
    "z = column_stack((tracklist[:,0], tracklist[:,1], zeros(tracklist[:,0].size)))\n",
    "z = z.astype(\"int64\")\n"
   ]
  },
  {
   "cell_type": "code",
   "execution_count": 7,
   "metadata": {},
   "outputs": [
    {
     "data": {
      "text/plain": [
       "array([[2972914,      49,       8],\n",
       "       [2750239,       1,      12],\n",
       "       [1550729,     554,      37],\n",
       "       ..., \n",
       "       [2584455,       0,       4],\n",
       "       [2299706,       0,       4],\n",
       "       [2739985,       0,       4]], dtype=int64)"
      ]
     },
     "execution_count": 7,
     "metadata": {},
     "output_type": "execute_result"
    }
   ],
   "source": [
    "for x in range(0, z[:,1].size):\n",
    "    z[x,2] = trackmask_count[z[x,0]]  \n",
    "\n",
    "z"
   ]
  },
  {
   "cell_type": "code",
   "execution_count": 8,
   "metadata": {},
   "outputs": [
    {
     "data": {
      "text/plain": [
       "array([[  2.97291400e+06,   4.90000000e+01,   8.00000000e+00,\n",
       "          5.70000000e+01],\n",
       "       [  2.75023900e+06,   1.00000000e+00,   1.20000000e+01,\n",
       "          1.30000000e+01],\n",
       "       [  1.55072900e+06,   5.54000000e+02,   3.70000000e+01,\n",
       "          5.91000000e+02],\n",
       "       ..., \n",
       "       [  2.58445500e+06,   0.00000000e+00,   4.00000000e+00,\n",
       "          4.00000000e+00],\n",
       "       [  2.29970600e+06,   0.00000000e+00,   4.00000000e+00,\n",
       "          4.00000000e+00],\n",
       "       [  2.73998500e+06,   0.00000000e+00,   4.00000000e+00,\n",
       "          4.00000000e+00]])"
      ]
     },
     "execution_count": 8,
     "metadata": {},
     "output_type": "execute_result"
    }
   ],
   "source": [
    "k = column_stack((z[:,0], z[:,1], z[:,2], zeros(z[:,1].size)))\n",
    "\n",
    "k[:,3]=k[:,1]+k[:,2]\n",
    "\n",
    "k"
   ]
  },
  {
   "cell_type": "code",
   "execution_count": 9,
   "metadata": {},
   "outputs": [
    {
     "data": {
      "text/plain": [
       "array([43000, 79618, 17820, ..., 57501, 94738, 43529], dtype=int64)"
      ]
     },
     "execution_count": 9,
     "metadata": {},
     "output_type": "execute_result"
    }
   ],
   "source": [
    "indexsorted = argsort(k[:,2])\n",
    "indexsorted"
   ]
  },
  {
   "cell_type": "code",
   "execution_count": 10,
   "metadata": {
    "collapsed": true
   },
   "outputs": [],
   "source": [
    "indexsortedDESCENDENT = flip(indexsorted, 0)\n",
    "save(\"indexsortedDESCENDENT.npy\", indexsortedDESCENDENT)\n",
    "save(\"idsong_playcount_populartiy.npy\", k)"
   ]
  },
  {
   "cell_type": "markdown",
   "metadata": {},
   "source": [
    "FINE"
   ]
  },
  {
   "cell_type": "markdown",
   "metadata": {},
   "source": [
    "verify results"
   ]
  },
  {
   "cell_type": "code",
   "execution_count": 24,
   "metadata": {},
   "outputs": [
    {
     "name": "stdout",
     "output_type": "stream",
     "text": [
      "476.0\n",
      "432.0\n",
      "425.0\n",
      "403.0\n",
      "391.0\n"
     ]
    }
   ],
   "source": [
    "\n",
    "for x in range(5):\n",
    "    print(k[indexsortedDESCENDENT[x]][2])"
   ]
  },
  {
   "cell_type": "code",
   "execution_count": 11,
   "metadata": {},
   "outputs": [
    {
     "data": {
      "text/plain": [
       "[1563309, 1363985, 3705881, 1595978, 3166665]"
      ]
     },
     "execution_count": 11,
     "metadata": {},
     "output_type": "execute_result"
    }
   ],
   "source": [
    "topNids=[]\n",
    "for x in range(5):\n",
    "    topNids.append(int(k[indexsortedDESCENDENT[x]][0]))\n",
    "topNids"
   ]
  },
  {
   "cell_type": "code",
   "execution_count": 26,
   "metadata": {
    "collapsed": true
   },
   "outputs": [],
   "source": [
    "target_playlists=genfromtxt(\"target_playlists.csv\",skip_header=1)\n",
    "playlists_with_tracks=load(\"playlists_with_tracks.npy\")"
   ]
  },
  {
   "cell_type": "code",
   "execution_count": 32,
   "metadata": {
    "collapsed": true
   },
   "outputs": [],
   "source": [
    "def maxn(songslist, songpl):\n",
    "    r = list()\n",
    "    for song in songslist:\n",
    "        if(song not in songpl):\n",
    "            r.append(song)\n",
    "            if(size(r)==5):\n",
    "                return r\n",
    "            "
   ]
  },
  {
   "cell_type": "code",
   "execution_count": 37,
   "metadata": {
    "collapsed": true
   },
   "outputs": [],
   "source": [
    "print(\"playlist_id,track_ids\",file=open(\"secondTopnSubmission.csv\",\"a\"))\n",
    "\n",
    "for l in playlists_with_tracks:\n",
    "    mystr=str(int(l[0]))\n",
    "    mystr+=\",\"\n",
    "    for el in maxn(topNids, l[1:]):\n",
    "        mystr+=str(int(el))\n",
    "        mystr+=\" \" \n",
    "    print(mystr,file=open(\"secondTopnSubmission.csv\",\"a\"))"
   ]
  },
  {
   "cell_type": "code",
   "execution_count": null,
   "metadata": {
    "collapsed": true
   },
   "outputs": [],
   "source": [
    "\n"
   ]
  },
  {
   "cell_type": "markdown",
   "metadata": {},
   "source": [
    "punteggio di 0.00100000000000000000000000000000000000000000000000 a questo punto"
   ]
  },
  {
   "cell_type": "code",
   "execution_count": null,
   "metadata": {
    "collapsed": true
   },
   "outputs": [],
   "source": []
  }
 ],
 "metadata": {
  "kernelspec": {
   "display_name": "Python 3",
   "language": "python",
   "name": "python3"
  },
  "language_info": {
   "codemirror_mode": {
    "name": "ipython",
    "version": 3
   },
   "file_extension": ".py",
   "mimetype": "text/x-python",
   "name": "python",
   "nbconvert_exporter": "python",
   "pygments_lexer": "ipython3",
   "version": "3.6.2"
  }
 },
 "nbformat": 4,
 "nbformat_minor": 2
}
