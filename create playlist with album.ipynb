{
 "cells": [
  {
   "cell_type": "code",
   "execution_count": 1,
   "metadata": {
    "collapsed": true
   },
   "outputs": [],
   "source": [
    "from numpy import *\n",
    "from scipy.sparse import *"
   ]
  },
  {
   "cell_type": "code",
   "execution_count": 3,
   "metadata": {
    "collapsed": false
   },
   "outputs": [
    {
     "data": {
      "text/plain": [
       "array([[2972914,       7],\n",
       "       [2750239,       8],\n",
       "       [1550729,       9],\n",
       "       ..., \n",
       "       [2584455,       0],\n",
       "       [2299706,       0],\n",
       "       [2739985,       0]], dtype=int32)"
      ]
     },
     "execution_count": 3,
     "metadata": {},
     "output_type": "execute_result"
    }
   ],
   "source": [
    "trackAlbum=load(\"tracks_with_album.npy\").astype(int32)\n",
    "trackAlbum"
   ]
  },
  {
   "cell_type": "code",
   "execution_count": 17,
   "metadata": {
    "collapsed": true
   },
   "outputs": [],
   "source": [
    "trackAlbum_Tr=trackAlbum[:,0]\n",
    "trackAlbum_Al=trackAlbum[:,1]"
   ]
  },
  {
   "cell_type": "code",
   "execution_count": 100,
   "metadata": {
    "collapsed": false
   },
   "outputs": [
    {
     "data": {
      "text/plain": [
       "array([[10024884,  2879006,  1532328, ...,        0,        0,        0],\n",
       "       [10624787,  2090319,  2152295, ...,        0,        0,        0],\n",
       "       [ 4891851,  2621486,  2895498, ...,        0,        0,        0],\n",
       "       ..., \n",
       "       [11369546,   416692,  1587449, ...,        0,        0,        0],\n",
       "       [ 7939535,  2788577,  3090083, ...,        0,        0,        0],\n",
       "       [  297021,  2789282,  2154608, ...,        0,        0,        0]])"
      ]
     },
     "execution_count": 100,
     "metadata": {},
     "output_type": "execute_result"
    }
   ],
   "source": [
    "tPlTr_full=load(\"playlists_with_tracks.npy\")\n",
    "tPlTr_full"
   ]
  },
  {
   "cell_type": "code",
   "execution_count": 101,
   "metadata": {
    "collapsed": false
   },
   "outputs": [
    {
     "data": {
      "text/plain": [
       "array([10024884, 10624787,  4891851, ..., 11369546,  7939535,   297021])"
      ]
     },
     "execution_count": 101,
     "metadata": {},
     "output_type": "execute_result"
    }
   ],
   "source": [
    "tPlTr_PlID=tPlTr_full[:,0]\n",
    "tPlTr_PlID"
   ]
  },
  {
   "cell_type": "code",
   "execution_count": 102,
   "metadata": {
    "collapsed": false
   },
   "outputs": [
    {
     "data": {
      "text/plain": [
       "array([[2879006, 1532328, 3027673, ...,       0,       0,       0],\n",
       "       [2090319, 2152295, 3230559, ...,       0,       0,       0],\n",
       "       [2621486, 2895498, 1369381, ...,       0,       0,       0],\n",
       "       ..., \n",
       "       [ 416692, 1587449, 1057389, ...,       0,       0,       0],\n",
       "       [2788577, 3090083, 1609308, ...,       0,       0,       0],\n",
       "       [2789282, 2154608,  973448, ...,       0,       0,       0]])"
      ]
     },
     "execution_count": 102,
     "metadata": {},
     "output_type": "execute_result"
    }
   ],
   "source": [
    "tPlTr_Tr=tPlTr_full[:,1:]\n",
    "tPlTr_Tr# when loaded it contains the tracks, it will be overwritten later with the albums"
   ]
  },
  {
   "cell_type": "code",
   "execution_count": 103,
   "metadata": {
    "collapsed": false
   },
   "outputs": [
    {
     "data": {
      "text/plain": [
       "((10000,), (10000, 192))"
      ]
     },
     "execution_count": 103,
     "metadata": {},
     "output_type": "execute_result"
    }
   ],
   "source": [
    "tPlTr_PlID.shape,tPlTr_Tr.shape"
   ]
  },
  {
   "cell_type": "code",
   "execution_count": 104,
   "metadata": {
    "collapsed": false
   },
   "outputs": [],
   "source": [
    "for i,tracks in enumerate(tPlTr_Tr):\n",
    "    thisAlbums=[]\n",
    "    for t in tracks.data:\n",
    "        if(t!=0):\n",
    "            thisAlbum=trackAlbum_Al[where(trackAlbum_Tr==t)[0][0]]\n",
    "            #if(thisAlbum!=0):\n",
    "            thisAlbums+=[thisAlbum]\n",
    "    thisAlbums+=[0]*(192-len(thisAlbums))\n",
    "    arrThisAlbum=array(thisAlbums)\n",
    "    tPlTr_Tr[i]=arrThisAlbum# questo sovrascrive la variabile precedente"
   ]
  },
  {
   "cell_type": "code",
   "execution_count": 105,
   "metadata": {
    "collapsed": false
   },
   "outputs": [
    {
     "data": {
      "text/plain": [
       "array([[155542,  21332, 180843, ...,      0,      0,      0],\n",
       "       [194582,      0,  21983, ...,      0,      0,      0],\n",
       "       [ 49381,      0, 137984, ...,      0,      0,      0],\n",
       "       ..., \n",
       "       [136287,  10415, 199289, ...,      0,      0,      0],\n",
       "       [148968, 116312,      0, ...,      0,      0,      0],\n",
       "       [209144,  51695,      0, ...,      0,      0,      0]])"
      ]
     },
     "execution_count": 105,
     "metadata": {},
     "output_type": "execute_result"
    }
   ],
   "source": [
    "tPlTr_Tr# ora contiene gli album"
   ]
  },
  {
   "cell_type": "code",
   "execution_count": 107,
   "metadata": {
    "collapsed": false
   },
   "outputs": [
    {
     "data": {
      "text/plain": [
       "array([     0,  14964,  15936,  17890,  21332,  24878,  26276,  27090,\n",
       "        27094,  35811,  55660,  58832,  60169,  61860,  71011,  78243,\n",
       "        87168,  91881,  91883,  93903,  96591,  98872,  99104, 110290,\n",
       "       112282, 118320, 118339, 130564, 130566, 130573, 130577, 131754,\n",
       "       135317, 135406, 145367, 151944, 154538, 155542, 155543, 155544,\n",
       "       156395, 163186, 164794, 164801, 174564, 176668, 180843, 205394,\n",
       "       207297, 215799])"
      ]
     },
     "execution_count": 107,
     "metadata": {},
     "output_type": "execute_result"
    }
   ],
   "source": [
    "unique(tPlTr_Tr[0])"
   ]
  },
  {
   "cell_type": "code",
   "execution_count": 108,
   "metadata": {
    "collapsed": false
   },
   "outputs": [],
   "source": [
    "save(\"playlistsID_with_albumsID_with_zero.npy\",tPlTr_full)"
   ]
  },
  {
   "cell_type": "code",
   "execution_count": 135,
   "metadata": {
    "collapsed": false
   },
   "outputs": [
    {
     "data": {
      "text/plain": [
       "array([[10024884,   155542,    21332, ...,        0,        0,        0],\n",
       "       [10624787,   194582,    21983, ...,        0,        0,        0],\n",
       "       [ 4891851,    49381,   137984, ...,        0,        0,        0],\n",
       "       ..., \n",
       "       [11369546,   136287,    10415, ...,        0,        0,        0],\n",
       "       [ 7939535,   148968,   116312, ...,        0,        0,        0],\n",
       "       [  297021,   209144,    51695, ...,        0,        0,        0]])"
      ]
     },
     "execution_count": 135,
     "metadata": {},
     "output_type": "execute_result"
    }
   ],
   "source": [
    "tPlAl=load(\"playlistsID_with_albumsID.npy\")#la versione senza zeri non è affidabile, la versione con gli zeri nemmeno\n",
    "tPlAl"
   ]
  },
  {
   "cell_type": "code",
   "execution_count": 136,
   "metadata": {
    "collapsed": false
   },
   "outputs": [
    {
     "data": {
      "text/plain": [
       "array([[155542,  21332, 180843, ...,      0,      0,      0],\n",
       "       [194582,  21983,  65092, ...,      0,      0,      0],\n",
       "       [ 49381, 137984,  46756, ...,      0,      0,      0],\n",
       "       ..., \n",
       "       [136287,  10415, 199289, ...,      0,      0,      0],\n",
       "       [148968, 116312, 116289, ...,      0,      0,      0],\n",
       "       [209144,  51695, 194176, ...,      0,      0,      0]])"
      ]
     },
     "execution_count": 136,
     "metadata": {},
     "output_type": "execute_result"
    }
   ],
   "source": [
    "tPlAl_Al=tPlAl[:,1:]\n",
    "tPlAl_Al"
   ]
  },
  {
   "cell_type": "code",
   "execution_count": null,
   "metadata": {
    "collapsed": true
   },
   "outputs": [],
   "source": []
  },
  {
   "cell_type": "code",
   "execution_count": 143,
   "metadata": {
    "collapsed": false
   },
   "outputs": [],
   "source": [
    "monoAlbum=[]\n",
    "for plID,albums in zip(tPlTr_PlID,tPlAl_Al):\n",
    "    uniqueAlbums=trim_zeros(unique(albums))\n",
    "    if(uniqueAlbums.size==1):\n",
    "        thisPl=[]\n",
    "        thisPl+=[plID]\n",
    "        thisPl+=[uniqueAlbums[0]]\n",
    "        monoAlbum.append(thisPl)"
   ]
  },
  {
   "cell_type": "code",
   "execution_count": 144,
   "metadata": {
    "collapsed": false
   },
   "outputs": [
    {
     "data": {
      "text/plain": [
       "(124,\n",
       " [[6322279, 211564],\n",
       "  [11511853, 47689],\n",
       "  [6424137, 66178],\n",
       "  [984152, 191956],\n",
       "  [8966299, 45426],\n",
       "  [4237429, 45302],\n",
       "  [2277883, 136080],\n",
       "  [6106692, 87952],\n",
       "  [11198477, 206056],\n",
       "  [112076, 146565],\n",
       "  [5643598, 28436],\n",
       "  [3927159, 26700],\n",
       "  [8375176, 51993],\n",
       "  [7979063, 25282],\n",
       "  [1479496, 87952],\n",
       "  [13957, 105710],\n",
       "  [6982608, 32091],\n",
       "  [10595529, 171485],\n",
       "  [6404178, 44348],\n",
       "  [562489, 131943],\n",
       "  [3067099, 44348],\n",
       "  [11049398, 115476],\n",
       "  [5451874, 107153],\n",
       "  [11475868, 207890],\n",
       "  [5878211, 209812],\n",
       "  [6296233, 74726],\n",
       "  [10662505, 190522],\n",
       "  [11184032, 164677],\n",
       "  [4281172, 216598],\n",
       "  [6906924, 111528],\n",
       "  [7550576, 148691],\n",
       "  [10477991, 84936],\n",
       "  [11746847, 176796],\n",
       "  [7385365, 2006],\n",
       "  [8086834, 174811],\n",
       "  [130817, 30687],\n",
       "  [6066487, 195342],\n",
       "  [11319088, 154473],\n",
       "  [7589452, 174811],\n",
       "  [8497050, 103225],\n",
       "  [6147891, 111528],\n",
       "  [6641136, 82554],\n",
       "  [11724383, 140675],\n",
       "  [8540431, 18869],\n",
       "  [11756453, 108602],\n",
       "  [5146018, 196282],\n",
       "  [8456826, 194923],\n",
       "  [5332194, 179409],\n",
       "  [4261030, 79370],\n",
       "  [8696606, 121508],\n",
       "  [2966044, 88526],\n",
       "  [4112241, 90714],\n",
       "  [4470556, 146568],\n",
       "  [3934114, 5490],\n",
       "  [399273, 121529],\n",
       "  [7663689, 59418],\n",
       "  [5889698, 115318],\n",
       "  [10793077, 207848],\n",
       "  [4711397, 127047],\n",
       "  [7693916, 176246],\n",
       "  [8285111, 39473],\n",
       "  [10195449, 26700],\n",
       "  [8779132, 131745],\n",
       "  [8309365, 97175],\n",
       "  [4362979, 3329],\n",
       "  [10571511, 42223],\n",
       "  [6604431, 182497],\n",
       "  [6412367, 190493],\n",
       "  [10612833, 68823],\n",
       "  [5414848, 154546],\n",
       "  [3506856, 38421],\n",
       "  [8940375, 29749],\n",
       "  [10454300, 111700],\n",
       "  [3977618, 110445],\n",
       "  [3778697, 105305],\n",
       "  [8935708, 79396],\n",
       "  [987517, 134308],\n",
       "  [10175563, 22757],\n",
       "  [10282701, 124593],\n",
       "  [5969846, 77079],\n",
       "  [7115526, 146191],\n",
       "  [5044780, 11791],\n",
       "  [169102, 160552],\n",
       "  [4381594, 50692],\n",
       "  [4497546, 165930],\n",
       "  [3091169, 22749],\n",
       "  [8955392, 29205],\n",
       "  [6172828, 131745],\n",
       "  [10878138, 60206],\n",
       "  [4260818, 214636],\n",
       "  [1701735, 124265],\n",
       "  [10231180, 15826],\n",
       "  [662010, 175357],\n",
       "  [7567274, 198387],\n",
       "  [6668248, 203255],\n",
       "  [5762018, 5097],\n",
       "  [5682927, 59418],\n",
       "  [8929426, 102876],\n",
       "  [8741013, 769],\n",
       "  [4381172, 37964],\n",
       "  [3193281, 3329],\n",
       "  [7229926, 51481],\n",
       "  [6798264, 116292],\n",
       "  [10137485, 169042],\n",
       "  [4338384, 100930],\n",
       "  [7096111, 194926],\n",
       "  [10415330, 82720],\n",
       "  [7628521, 785],\n",
       "  [3300005, 12992],\n",
       "  [11026457, 40463],\n",
       "  [11481568, 96492],\n",
       "  [11474670, 140096],\n",
       "  [11386921, 22749],\n",
       "  [3979898, 168355],\n",
       "  [4482360, 150278],\n",
       "  [3813681, 20705],\n",
       "  [8152063, 82720],\n",
       "  [6451514, 12788],\n",
       "  [10491613, 117330],\n",
       "  [2970706, 120045],\n",
       "  [11015974, 208494],\n",
       "  [8544193, 184937],\n",
       "  [6768600, 89648],\n",
       "  [11556608, 131221]])"
      ]
     },
     "execution_count": 144,
     "metadata": {},
     "output_type": "execute_result"
    }
   ],
   "source": [
    "len(monoAlbum),monoAlbum"
   ]
  },
  {
   "cell_type": "code",
   "execution_count": 133,
   "metadata": {
    "collapsed": false
   },
   "outputs": [
    {
     "ename": "ValueError",
     "evalue": "setting an array element with a sequence.",
     "output_type": "error",
     "traceback": [
      "\u001b[0;31m---------------------------------------------------------------------------\u001b[0m",
      "\u001b[0;31mValueError\u001b[0m                                Traceback (most recent call last)",
      "\u001b[0;32m<ipython-input-133-c9455faf6370>\u001b[0m in \u001b[0;36m<module>\u001b[0;34m()\u001b[0m\n\u001b[0;32m----> 1\u001b[0;31m \u001b[0marrMonoAlbum\u001b[0m\u001b[0;34m=\u001b[0m\u001b[0marray\u001b[0m\u001b[0;34m(\u001b[0m\u001b[0mmonoAlbum\u001b[0m\u001b[0;34m)\u001b[0m\u001b[0;34m\u001b[0m\u001b[0m\n\u001b[0m\u001b[1;32m      2\u001b[0m \u001b[0marrMonoAlbum\u001b[0m\u001b[0;34m\u001b[0m\u001b[0m\n",
      "\u001b[0;31mValueError\u001b[0m: setting an array element with a sequence."
     ]
    }
   ],
   "source": [
    "arrMonoAlbum=array(monoAlbum)\n",
    "arrMonoAlbum"
   ]
  },
  {
   "cell_type": "code",
   "execution_count": null,
   "metadata": {
    "collapsed": true
   },
   "outputs": [],
   "source": []
  }
 ],
 "metadata": {
  "kernelspec": {
   "display_name": "Python 3",
   "language": "python",
   "name": "python3"
  },
  "language_info": {
   "codemirror_mode": {
    "name": "ipython",
    "version": 3
   },
   "file_extension": ".py",
   "mimetype": "text/x-python",
   "name": "python",
   "nbconvert_exporter": "python",
   "pygments_lexer": "ipython3",
   "version": "3.5.4"
  }
 },
 "nbformat": 4,
 "nbformat_minor": 2
}
