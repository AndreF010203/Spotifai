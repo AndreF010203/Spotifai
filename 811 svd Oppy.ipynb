{
 "cells": [
  {
   "cell_type": "code",
   "execution_count": 1,
   "metadata": {
    "collapsed": true
   },
   "outputs": [],
   "source": [
    "from numpy import *\n",
    "from scipy.sparse import *\n",
    "from sparsesvd import sparsesvd as svd\n",
    "import matplotlib.pyplot as plt"
   ]
  },
  {
   "cell_type": "code",
   "execution_count": 33,
   "metadata": {},
   "outputs": [],
   "source": [
    "# grazie Facchini\n",
    "def filterTarget(m):\n",
    "    PLIDs = load(\"fucking_ordered_playlist.npy\")\n",
    "    TIDs = load(\"fucking_ordered_tracks.npy\")\n",
    "    target_playlists=genfromtxt(\"target_playlists.csv\",skip_header=1)\n",
    "    target_tracks=genfromtxt(\"target_tracks.csv\", skip_header=1)\n",
    "    k = m[isin(PLIDs, target_playlists)]\n",
    "    k = k[:, isin(TIDs, target_tracks)]\n",
    "    return k\n",
    "\n",
    "def filterPLrow(m):\n",
    "    PLIDs = load(\"fucking_ordered_playlist.npy\")\n",
    "    target_playlists=genfromtxt(\"target_playlists.csv\",skip_header=1)\n",
    "    k = m[isin(PLIDs, target_playlists)]\n",
    "    return k \n",
    "\n",
    "def filterTcol(m):\n",
    "    TIDs = load(\"fucking_ordered_tracks.npy\")\n",
    "    target_tracks=genfromtxt(\"target_tracks.csv\", skip_header=1)\n",
    "    k = m[:, isin(TIDs, target_tracks)]\n",
    "    return k\n",
    "\n",
    "\n",
    "monoArtist=load(\"target_playlist_mono_artist.npy\")\n",
    "monoArtistPlID=monoArtist[:,0]\n",
    "monoArtistArtistID=monoArtist[:,1]\n",
    "artistIndexes=load(\"uniqueArtists_NeededToIndexThe_ArtistReducedMatrices.npy\")\n",
    "artistTracks=load_npz(\"artists_with_tracksID_ordered_by_occurrencies.npz\")\n",
    "target_playlists=genfromtxt(\"target_playlists.csv\",skip_header=1)\n",
    "playlists_with_tracks=load(\"playlists_with_tracks.npy\")\n",
    "target_tracks_ordered = load(\"targetTracksOrdered.npy\")\n",
    "\n",
    "\n",
    "def getsimil(plid, similrow, n):\n",
    "    ptracks = playlists_with_tracks[where(playlists_with_tracks[:,0]==plid),1:]\n",
    "    maxi = flip(argsort(similrow), axis=0)\n",
    "    r = []\n",
    "    for m in maxi:\n",
    "        if(not isin(target_tracks_ordered[m], ptracks)):\n",
    "           r.append(target_tracks_ordered[m])\n",
    "           if(len(r)==n):\n",
    "               return r\n",
    "        \n",
    "PLIDs = load(\"fucking_ordered_playlist.npy\")\n",
    "TIDs = load(\"fucking_ordered_tracks.npy\")\n",
    "    \n",
    "import sys\n",
    "def progress(count, total, status=''):\n",
    "    bar_len = 60\n",
    "    filled_len = int(round(bar_len * count / float(total)))\n",
    "\n",
    "    percents = round(100.0 * count / float(total), 1)\n",
    "    bar = '=' * filled_len + '-' * (bar_len - filled_len)\n",
    "\n",
    "    sys.stdout.write('[%s] %s%s ...%s\\r' % (bar, percents, '%', status))\n",
    "    sys.stdout.flush() \n",
    "\n",
    "tar=10000\n",
    "\n",
    "def computeMono(fname, finalPlSim):\n",
    "    targetP = load(\"fucking_ordered_playlist.npy\")\n",
    "    playlists_with_tracks=load(\"playlists_with_tracks.npy\")\n",
    "    target_playlists=genfromtxt(\"target_playlists.csv\",skip_header=1)\n",
    "    targetP = targetP[isin(targetP, target_playlists)]\n",
    "    with open(fname,\"a\") as myfile:\n",
    "        myfile.write(\"playlist_id,track_ids\\n\")\n",
    "        for pl, similsum, i in zip(targetP, finalPlSim, range(tar)):\n",
    "            progress(i, tar, status=\"done\")\n",
    "            plID=pl\n",
    "            s = str(int(plID))\n",
    "            s += \",\"\n",
    "            if(isin(plID,monoArtistPlID)):#guarda se c'è un artista solo\n",
    "                artist=monoArtistArtistID[where(monoArtistPlID==plID)[0][0]]#l'unico artista della playlist\n",
    "                artistIndex=where(artistIndexes==artist)[0][0]#cerca la sua posizione nella matrice delle tracce\n",
    "                thisArtistTracks=artistTracks.getrow(artistIndex).data#prende le sue tracce\n",
    "                rr=array([t for t in thisArtistTracks if t not in playlists_with_tracks[where(playlists_with_tracks[:,0]==plID),1:] and isin(t, target_tracks_ordered)])#prende tutte quelle non già presenti\n",
    "\n",
    "                if(len(rr)>=5):\n",
    "                    r = array(rr).take(range(5))\n",
    "                else:\n",
    "                    r4 = getsimil(pl, ravel(similsum.todense()), 5)\n",
    "                    r4 = array([el for el in r4 if el not in rr])\n",
    "                    r = concatenate((rr, r4.take(range(5-len(rr)))))\n",
    "            else:\n",
    "                r = getsimil(pl, ravel(similsum.todense()), 5)#non c'è un artista solo quindi guarda solo i tag\n",
    "            for el in r:\n",
    "                s+=str(el)\n",
    "                s+=\" \"\n",
    "            myfile.write(s + \"\\n\")\n",
    "            \n",
    "def compute(fname, finalPlSim):\n",
    "    targetP = load(\"fucking_ordered_playlist.npy\")\n",
    "    playlists_with_tracks=load(\"playlists_with_tracks.npy\")\n",
    "    target_playlists=genfromtxt(\"target_playlists.csv\",skip_header=1)\n",
    "    targetP = targetP[isin(targetP, target_playlists)]\n",
    "    with open(fname,\"a\") as myfile:\n",
    "        myfile.write(\"playlist_id,track_ids\\n\")\n",
    "        for pl, similsum, i in zip(targetP, finalPlSim, range(tar)):\n",
    "            progress(i, tar, status=\"done\")\n",
    "            plID=pl\n",
    "            s = str(int(plID))\n",
    "            s += \",\"\n",
    "            r = getsimil(pl, ravel(similsum.todense()), 5)#non c'è un artista solo quindi guarda solo i tag\n",
    "            for el in r:\n",
    "                s+=str(el)\n",
    "                s+=\" \"\n",
    "            myfile.write(s + \"\\n\")       \n",
    "\n",
    "def getsimilN(similrow, n):\n",
    "    maxi = flip(argsort(similrow), axis=0)\n",
    "    r = []\n",
    "    for m in maxi:   \n",
    "        r.append(target_tracks_ordered[m])\n",
    "        if(len(r)==n):\n",
    "            return r            \n",
    "            \n",
    "def computeMinus(fname, simil):\n",
    "    targetP = load(\"fucking_ordered_playlist.npy\")\n",
    "    target_playlists=genfromtxt(\"target_playlists.csv\",skip_header=1)\n",
    "    targetP = targetP[isin(targetP, target_playlists)]\n",
    "    \n",
    "    with open(fname,\"a\") as myfile:\n",
    "        myfile.write(\"playlist_id,track_ids\\n\")\n",
    "        for pl, sr, i in zip(targetP, simil, range(tar)):\n",
    "            progress(i, tar, status=\"done\")\n",
    "            plID=pl\n",
    "            s = str(int(plID))\n",
    "            s += \",\"\n",
    "            r = getsimilN(ravel(sr.todense()), 5)#non c'è un artista solo quindi guarda solo i tag\n",
    "            for el in r:\n",
    "                s+=str(el)\n",
    "                s+=\" \"\n",
    "            myfile.write(s + \"\\n\")\n",
    "    \n",
    "    "
   ]
  },
  {
   "cell_type": "code",
   "execution_count": 3,
   "metadata": {
    "collapsed": true
   },
   "outputs": [],
   "source": [
    "URM=load_npz(\"all_playlist_with_tracks_URM.npz\")"
   ]
  },
  {
   "cell_type": "code",
   "execution_count": 4,
   "metadata": {
    "scrolled": true
   },
   "outputs": [
    {
     "data": {
      "image/png": "[encoded data removed]",
      "text/plain": [
       "<matplotlib.figure.Figure at 0x27994ec0780>"
      ]
     },
     "metadata": {},
     "output_type": "display_data"
    }
   ],
   "source": [
    "ut100, s100, vt100 = svd(URM,100)\n",
    "plt.plot(list(s100))\n",
    "plt.show()"
   ]
  },
  {
   "cell_type": "code",
   "execution_count": 5,
   "metadata": {},
   "outputs": [
    {
     "data": {
      "text/plain": [
       "(100, 45649)"
      ]
     },
     "execution_count": 5,
     "metadata": {},
     "output_type": "execute_result"
    }
   ],
   "source": [
    "ut100.shape"
   ]
  },
  {
   "cell_type": "code",
   "execution_count": 6,
   "metadata": {},
   "outputs": [
    {
     "data": {
      "text/plain": [
       "(100, 100000)"
      ]
     },
     "execution_count": 6,
     "metadata": {},
     "output_type": "execute_result"
    }
   ],
   "source": [
    "vt100.shape"
   ]
  },
  {
   "cell_type": "code",
   "execution_count": 7,
   "metadata": {},
   "outputs": [
    {
     "data": {
      "text/plain": [
       "(100, 100)"
      ]
     },
     "execution_count": 7,
     "metadata": {},
     "output_type": "execute_result"
    }
   ],
   "source": [
    "S=diags(s100)\n",
    "S.shape"
   ]
  },
  {
   "cell_type": "code",
   "execution_count": 8,
   "metadata": {},
   "outputs": [
    {
     "data": {
      "text/plain": [
       "<10000x100 sparse matrix of type '<class 'numpy.float64'>'\n",
       "\twith 1000000 stored elements in LInked List format>"
      ]
     },
     "execution_count": 8,
     "metadata": {},
     "output_type": "execute_result"
    }
   ],
   "source": [
    "U=lil_matrix(ut100).T\n",
    "U=filterPLrow(U)\n",
    "U"
   ]
  },
  {
   "cell_type": "code",
   "execution_count": 9,
   "metadata": {},
   "outputs": [
    {
     "data": {
      "text/plain": [
       "<100x32195 sparse matrix of type '<class 'numpy.float64'>'\n",
       "\twith 3219400 stored elements in LInked List format>"
      ]
     },
     "execution_count": 9,
     "metadata": {},
     "output_type": "execute_result"
    }
   ],
   "source": [
    "VT=lil_matrix(vt100)\n",
    "VT=filterTcol(VT)\n",
    "VT"
   ]
  },
  {
   "cell_type": "code",
   "execution_count": 10,
   "metadata": {},
   "outputs": [
    {
     "data": {
      "text/plain": [
       "<10000x100 sparse matrix of type '<class 'numpy.float64'>'\n",
       "\twith 1000000 stored elements in Compressed Sparse Row format>"
      ]
     },
     "execution_count": 10,
     "metadata": {},
     "output_type": "execute_result"
    }
   ],
   "source": [
    "A=U*S.power(1/2)\n",
    "A"
   ]
  },
  {
   "cell_type": "code",
   "execution_count": 11,
   "metadata": {},
   "outputs": [
    {
     "data": {
      "text/plain": [
       "<100x32195 sparse matrix of type '<class 'numpy.float64'>'\n",
       "\twith 3219400 stored elements in Compressed Sparse Row format>"
      ]
     },
     "execution_count": 11,
     "metadata": {},
     "output_type": "execute_result"
    }
   ],
   "source": [
    "B=S.power(1/2)*VT\n",
    "B"
   ]
  },
  {
   "cell_type": "code",
   "execution_count": 12,
   "metadata": {},
   "outputs": [
    {
     "data": {
      "text/plain": [
       "<10000x32195 sparse matrix of type '<class 'numpy.float64'>'\n",
       "\twith 321940000 stored elements in Compressed Sparse Row format>"
      ]
     },
     "execution_count": 12,
     "metadata": {},
     "output_type": "execute_result"
    }
   ],
   "source": [
    "RR=A*B\n",
    "RR"
   ]
  },
  {
   "cell_type": "code",
   "execution_count": 13,
   "metadata": {},
   "outputs": [
    {
     "data": {
      "text/plain": [
       "<10000x32195 sparse matrix of type '<class 'numpy.int32'>'\n",
       "\twith 198708 stored elements in Compressed Sparse Column format>"
      ]
     },
     "execution_count": 13,
     "metadata": {},
     "output_type": "execute_result"
    }
   ],
   "source": [
    "URM_target=filterTarget(URM)\n",
    "URM_target"
   ]
  },
  {
   "cell_type": "code",
   "execution_count": 14,
   "metadata": {},
   "outputs": [],
   "source": [
    "RR=RR-URM_target"
   ]
  },
  {
   "cell_type": "code",
   "execution_count": 36,
   "metadata": {},
   "outputs": [
    {
     "name": "stdout",
     "output_type": "stream",
     "text": [
      "Wall time: 1min 1s===========================================] 100.0% ...done\n"
     ]
    }
   ],
   "source": [
    "%time compute(\"prova2.csv\", RR)"
   ]
  },
  {
   "cell_type": "code",
   "execution_count": 18,
   "metadata": {},
   "outputs": [
    {
     "data": {
      "text/plain": [
       "<10000x32195 sparse matrix of type '<class 'numpy.float64'>'\n",
       "\twith 321940000 stored elements in Compressed Sparse Row format>"
      ]
     },
     "execution_count": 18,
     "metadata": {},
     "output_type": "execute_result"
    }
   ],
   "source": [
    "RR"
   ]
  },
  {
   "cell_type": "code",
   "execution_count": 24,
   "metadata": {},
   "outputs": [
    {
     "data": {
      "text/plain": [
       "False"
      ]
     },
     "execution_count": 24,
     "metadata": {},
     "output_type": "execute_result"
    }
   ],
   "source": [
    "ravel(RR.getrow(0).todense()) is RR.getrow(0).data"
   ]
  },
  {
   "cell_type": "code",
   "execution_count": null,
   "metadata": {
    "collapsed": true
   },
   "outputs": [],
   "source": []
  }
 ],
 "metadata": {
  "kernelspec": {
   "display_name": "Python 3",
   "language": "python",
   "name": "python3"
  },
  "language_info": {
   "codemirror_mode": {
    "name": "ipython",
    "version": 3
   },
   "file_extension": ".py",
   "mimetype": "text/x-python",
   "name": "python",
   "nbconvert_exporter": "python",
   "pygments_lexer": "ipython3",
   "version": "3.6.3"
  }
 },
 "nbformat": 4,
 "nbformat_minor": 2
}
